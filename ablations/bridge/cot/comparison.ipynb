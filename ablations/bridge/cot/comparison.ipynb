{
 "cells": [
  {
   "cell_type": "code",
   "execution_count": 1,
   "id": "e977cd38-1947-4e2c-a112-709abc87dd0b",
   "metadata": {},
   "outputs": [],
   "source": [
    "import pandas as pd"
   ]
  },
  {
   "cell_type": "code",
   "execution_count": 2,
   "id": "11494cf8-bbd8-40f6-9901-ab325577df56",
   "metadata": {},
   "outputs": [],
   "source": [
    "mini = pd.read_csv('cot-phimini-bridge.csv')\n",
    "med = pd.read_csv('cot-phimedium-bridge.csv')\n",
    "two = pd.read_csv('cot-gemma2b-bridge.csv')\n",
    "nine = pd.read_csv('cot-gemma9b-bridge.csv')\n",
    "llama = pd.read_csv('cot-llama3-bridge.csv')"
   ]
  },
  {
   "cell_type": "code",
   "execution_count": 2,
   "id": "56c5de72-0865-497a-a1eb-4e9348aedf75",
   "metadata": {},
   "outputs": [],
   "source": [
    "pec_mini = pd.read_csv('PEC-phimini-cot-bridge.csv')\n",
    "pec_med = pd.read_csv('PEC-phimedium-cot-bridge.csv')\n",
    "pec_llama = pd.read_csv('PEC-llama3-cot-bridge.csv')"
   ]
  },
  {
   "cell_type": "code",
   "execution_count": 3,
   "id": "a6072b37-bdb9-45fd-b7b5-3cdfcc8e1850",
   "metadata": {},
   "outputs": [],
   "source": [
    "def clean_text_final(text):\n",
    "    text = re.sub(r'[^\\w\\s.,!?\\'\"\\-:;()]+', '', text)  # Rimuove i caratteri speciali\n",
    "    text = re.sub(r\"['\\\"-]\", '', text)  # Rimuove apostrofi, virgolette e trattini\n",
    "    text = text.lower()  # Converte in minuscolo\n",
    "    return text"
   ]
  },
  {
   "cell_type": "code",
   "execution_count": 4,
   "id": "2960b656-2d37-4a68-87da-60dcee034b6a",
   "metadata": {},
   "outputs": [],
   "source": [
    "def evaluation(correct_answer, candidate):\n",
    "    matches = 0\n",
    "    total = len(correct_answer)\n",
    "\n",
    "    for i in range(total):\n",
    "        \n",
    "        if correct_answer[i] == candidate[i]:\n",
    "            matches += 1\n",
    "\n",
    "    return round(matches/total*100, 2)"
   ]
  },
  {
   "cell_type": "markdown",
   "id": "0bc04b04-4d88-4fb3-ada7-0a88b7b5711a",
   "metadata": {},
   "source": [
    "## `phi-mini`"
   ]
  },
  {
   "cell_type": "code",
   "execution_count": 6,
   "id": "f424a54a-c8d7-435f-9dee-b5383f500fc5",
   "metadata": {},
   "outputs": [
    {
     "data": {
      "text/plain": [
       "52.1"
      ]
     },
     "execution_count": 6,
     "metadata": {},
     "output_type": "execute_result"
    }
   ],
   "source": [
    "evaluation(mini['correct'], mini['thesis'])"
   ]
  },
  {
   "cell_type": "code",
   "execution_count": 7,
   "id": "ab325a1f-1748-492e-8f1f-9500582053f9",
   "metadata": {},
   "outputs": [
    {
     "data": {
      "text/plain": [
       "92.5"
      ]
     },
     "execution_count": 7,
     "metadata": {},
     "output_type": "execute_result"
    }
   ],
   "source": [
    "evaluation(mini['correct'], mini['antithesis'])"
   ]
  },
  {
   "cell_type": "code",
   "execution_count": 8,
   "id": "ef41bbaf-6323-4fbb-8fff-b0235c0b08ac",
   "metadata": {},
   "outputs": [
    {
     "data": {
      "text/plain": [
       "90.2"
      ]
     },
     "execution_count": 8,
     "metadata": {},
     "output_type": "execute_result"
    }
   ],
   "source": [
    "evaluation(mini['correct'], mini['synthesis'])"
   ]
  },
  {
   "cell_type": "markdown",
   "id": "0d91dc92-84f3-4777-8812-c4aa0d4ac1e0",
   "metadata": {},
   "source": [
    "## `pecore: phi-mini`"
   ]
  },
  {
   "cell_type": "code",
   "execution_count": 7,
   "id": "2f60a214-abc6-4415-86fc-31e9ac10ab77",
   "metadata": {},
   "outputs": [
    {
     "data": {
      "text/plain": [
       "9.68"
      ]
     },
     "execution_count": 7,
     "metadata": {},
     "output_type": "execute_result"
    }
   ],
   "source": [
    "evaluation(pec_mini['correct'], pec_mini['thesis'])"
   ]
  },
  {
   "cell_type": "code",
   "execution_count": 8,
   "id": "f30c988a-f2f8-4be4-bc45-0ab106716c92",
   "metadata": {},
   "outputs": [
    {
     "data": {
      "text/plain": [
       "90.32"
      ]
     },
     "execution_count": 8,
     "metadata": {},
     "output_type": "execute_result"
    }
   ],
   "source": [
    "evaluation(pec_mini['correct'], pec_mini['antithesis'])"
   ]
  },
  {
   "cell_type": "code",
   "execution_count": 9,
   "id": "904b6f1a-870c-4aec-bcda-8904757064a3",
   "metadata": {},
   "outputs": [
    {
     "data": {
      "text/plain": [
       "91.01"
      ]
     },
     "execution_count": 9,
     "metadata": {},
     "output_type": "execute_result"
    }
   ],
   "source": [
    "evaluation(pec_mini['correct'], pec_mini['synthesis'])"
   ]
  },
  {
   "cell_type": "markdown",
   "id": "8afdb9d5-5118-4818-84c2-a21b6be22ef2",
   "metadata": {},
   "source": [
    "## `phi-medium`"
   ]
  },
  {
   "cell_type": "code",
   "execution_count": 9,
   "id": "c270d910-cb62-4dc8-8ca3-38825fff88ba",
   "metadata": {},
   "outputs": [
    {
     "data": {
      "text/plain": [
       "56.0"
      ]
     },
     "execution_count": 9,
     "metadata": {},
     "output_type": "execute_result"
    }
   ],
   "source": [
    "evaluation(mini['correct'], med['thesis'])"
   ]
  },
  {
   "cell_type": "code",
   "execution_count": 10,
   "id": "d597b435-d42b-49b5-bf59-464bada38fc0",
   "metadata": {},
   "outputs": [
    {
     "data": {
      "text/plain": [
       "90.4"
      ]
     },
     "execution_count": 10,
     "metadata": {},
     "output_type": "execute_result"
    }
   ],
   "source": [
    "evaluation(mini['correct'], med['antithesis'])"
   ]
  },
  {
   "cell_type": "code",
   "execution_count": 11,
   "id": "35ab7e31-7ba7-44da-ad1f-44b947a81de0",
   "metadata": {},
   "outputs": [
    {
     "data": {
      "text/plain": [
       "91.1"
      ]
     },
     "execution_count": 11,
     "metadata": {},
     "output_type": "execute_result"
    }
   ],
   "source": [
    "evaluation(mini['correct'], med['synthesis'])"
   ]
  },
  {
   "cell_type": "markdown",
   "id": "6cb48968-adec-4a56-bac2-1b3e742b091f",
   "metadata": {},
   "source": [
    "## `pecore: phi-medium`"
   ]
  },
  {
   "cell_type": "code",
   "execution_count": 10,
   "id": "ec56f666-2ef6-4f14-8e22-7c13fb164fcd",
   "metadata": {},
   "outputs": [
    {
     "data": {
      "text/plain": [
       "10.14"
      ]
     },
     "execution_count": 10,
     "metadata": {},
     "output_type": "execute_result"
    }
   ],
   "source": [
    "evaluation(pec_mini['correct'], pec_med['thesis'])"
   ]
  },
  {
   "cell_type": "code",
   "execution_count": 11,
   "id": "9d5eb166-79f3-4399-ba59-f2fac5cb8492",
   "metadata": {},
   "outputs": [
    {
     "data": {
      "text/plain": [
       "93.32"
      ]
     },
     "execution_count": 11,
     "metadata": {},
     "output_type": "execute_result"
    }
   ],
   "source": [
    "evaluation(pec_mini['correct'], pec_med['antithesis'])"
   ]
  },
  {
   "cell_type": "code",
   "execution_count": 12,
   "id": "efcf91ff-6cc0-4e42-864a-c1cd10b0db55",
   "metadata": {},
   "outputs": [
    {
     "data": {
      "text/plain": [
       "94.47"
      ]
     },
     "execution_count": 12,
     "metadata": {},
     "output_type": "execute_result"
    }
   ],
   "source": [
    "evaluation(pec_mini['correct'], pec_med['synthesis'])"
   ]
  },
  {
   "cell_type": "markdown",
   "id": "cb376996-eb01-4f90-9abf-77ad6529b370",
   "metadata": {},
   "source": [
    "## `gemma-2b`"
   ]
  },
  {
   "cell_type": "code",
   "execution_count": 12,
   "id": "5ba4e659-5176-4bcc-bd66-ea193831cede",
   "metadata": {},
   "outputs": [
    {
     "data": {
      "text/plain": [
       "55.7"
      ]
     },
     "execution_count": 12,
     "metadata": {},
     "output_type": "execute_result"
    }
   ],
   "source": [
    "evaluation(mini['correct'], two['thesis'])"
   ]
  },
  {
   "cell_type": "code",
   "execution_count": 13,
   "id": "af9e2013-636d-4252-bb12-077cccf0a0e6",
   "metadata": {},
   "outputs": [
    {
     "data": {
      "text/plain": [
       "86.2"
      ]
     },
     "execution_count": 13,
     "metadata": {},
     "output_type": "execute_result"
    }
   ],
   "source": [
    "evaluation(mini['correct'], two['antithesis'])"
   ]
  },
  {
   "cell_type": "code",
   "execution_count": 14,
   "id": "36a7443d-fc16-4e0b-94f1-c4b40a168624",
   "metadata": {},
   "outputs": [
    {
     "data": {
      "text/plain": [
       "84.5"
      ]
     },
     "execution_count": 14,
     "metadata": {},
     "output_type": "execute_result"
    }
   ],
   "source": [
    "evaluation(mini['correct'], two['synthesis'])"
   ]
  },
  {
   "cell_type": "markdown",
   "id": "db485d53-f5c3-4ba8-b20f-4b599454fba9",
   "metadata": {},
   "source": [
    "## `gemma-9b`"
   ]
  },
  {
   "cell_type": "code",
   "execution_count": 15,
   "id": "a1bcdd53-0dfb-49ab-9c6f-8daa3361cdf9",
   "metadata": {},
   "outputs": [
    {
     "data": {
      "text/plain": [
       "66.5"
      ]
     },
     "execution_count": 15,
     "metadata": {},
     "output_type": "execute_result"
    }
   ],
   "source": [
    "evaluation(mini['correct'], nine['thesis']) "
   ]
  },
  {
   "cell_type": "code",
   "execution_count": 16,
   "id": "cdf4abad-ea21-4711-a802-e2732876a190",
   "metadata": {},
   "outputs": [
    {
     "data": {
      "text/plain": [
       "88.3"
      ]
     },
     "execution_count": 16,
     "metadata": {},
     "output_type": "execute_result"
    }
   ],
   "source": [
    "evaluation(mini['correct'], nine['antithesis']) # migliore"
   ]
  },
  {
   "cell_type": "code",
   "execution_count": 17,
   "id": "35a192fc-8250-4ede-b961-700cdae7e9ac",
   "metadata": {},
   "outputs": [
    {
     "data": {
      "text/plain": [
       "87.4"
      ]
     },
     "execution_count": 17,
     "metadata": {},
     "output_type": "execute_result"
    }
   ],
   "source": [
    "evaluation(mini['correct'], nine['synthesis']) "
   ]
  },
  {
   "cell_type": "markdown",
   "id": "0c43153d-eab1-4e97-aea9-cf9cf7ab6382",
   "metadata": {},
   "source": [
    "## `llama3.1-8b`"
   ]
  },
  {
   "cell_type": "code",
   "execution_count": 18,
   "id": "e177099d-c37b-499b-a0e0-06dff1313e5e",
   "metadata": {},
   "outputs": [
    {
     "data": {
      "text/plain": [
       "49.8"
      ]
     },
     "execution_count": 18,
     "metadata": {},
     "output_type": "execute_result"
    }
   ],
   "source": [
    "evaluation(mini['correct'], llama['thesis']) "
   ]
  },
  {
   "cell_type": "code",
   "execution_count": 19,
   "id": "517f8864-9b04-45f7-933e-833a9fa42b45",
   "metadata": {},
   "outputs": [
    {
     "data": {
      "text/plain": [
       "89.8"
      ]
     },
     "execution_count": 19,
     "metadata": {},
     "output_type": "execute_result"
    }
   ],
   "source": [
    "evaluation(mini['correct'], llama['antithesis']) "
   ]
  },
  {
   "cell_type": "code",
   "execution_count": 20,
   "id": "4fd93a47-1438-4a89-af1c-2db9e83d54d4",
   "metadata": {},
   "outputs": [
    {
     "data": {
      "text/plain": [
       "90.7"
      ]
     },
     "execution_count": 20,
     "metadata": {},
     "output_type": "execute_result"
    }
   ],
   "source": [
    "evaluation(mini['correct'], llama['synthesis']) "
   ]
  },
  {
   "cell_type": "markdown",
   "id": "8afa8319-9d37-4743-9e8d-659e0b9e5d83",
   "metadata": {},
   "source": [
    "## `pecore: llama-3.1`"
   ]
  },
  {
   "cell_type": "code",
   "execution_count": 5,
   "id": "7915e4a6-c9f8-42a1-ab31-a35acb4ae73b",
   "metadata": {},
   "outputs": [
    {
     "data": {
      "text/plain": [
       "7.37"
      ]
     },
     "execution_count": 5,
     "metadata": {},
     "output_type": "execute_result"
    }
   ],
   "source": [
    "evaluation(pec_mini['correct'], pec_llama['thesis']) "
   ]
  },
  {
   "cell_type": "code",
   "execution_count": 6,
   "id": "53a02e25-318a-403c-bbbb-5f8f306615b0",
   "metadata": {},
   "outputs": [
    {
     "data": {
      "text/plain": [
       "93.78"
      ]
     },
     "execution_count": 6,
     "metadata": {},
     "output_type": "execute_result"
    }
   ],
   "source": [
    "evaluation(pec_mini['correct'], pec_llama['antithesis']) "
   ]
  },
  {
   "cell_type": "code",
   "execution_count": 7,
   "id": "1dbbfbdd-562a-487d-b687-b9e924f7a04d",
   "metadata": {},
   "outputs": [
    {
     "data": {
      "text/plain": [
       "93.55"
      ]
     },
     "execution_count": 7,
     "metadata": {},
     "output_type": "execute_result"
    }
   ],
   "source": [
    "evaluation(pec_mini['correct'], pec_llama['synthesis']) "
   ]
  },
  {
   "cell_type": "code",
   "execution_count": null,
   "id": "ae064af6-7ddd-495c-a85b-b15a30fd545c",
   "metadata": {},
   "outputs": [],
   "source": []
  }
 ],
 "metadata": {
  "kernelspec": {
   "display_name": "Python 3 (ipykernel)",
   "language": "python",
   "name": "python3"
  },
  "language_info": {
   "codemirror_mode": {
    "name": "ipython",
    "version": 3
   },
   "file_extension": ".py",
   "mimetype": "text/x-python",
   "name": "python",
   "nbconvert_exporter": "python",
   "pygments_lexer": "ipython3",
   "version": "3.9.18"
  }
 },
 "nbformat": 4,
 "nbformat_minor": 5
}
