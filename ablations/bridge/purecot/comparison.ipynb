{
 "cells": [
  {
   "cell_type": "code",
   "execution_count": 1,
   "id": "e977cd38-1947-4e2c-a112-709abc87dd0b",
   "metadata": {},
   "outputs": [],
   "source": [
    "import pandas as pd"
   ]
  },
  {
   "cell_type": "code",
   "execution_count": 2,
   "id": "11494cf8-bbd8-40f6-9901-ab325577df56",
   "metadata": {},
   "outputs": [],
   "source": [
    "mini = pd.read_csv('purecot-phimini-bridge.csv')\n",
    "med = pd.read_csv('purecot-phimedium-bridge.csv')\n",
    "two = pd.read_csv('purecot-gemma2b-bridge.csv')\n",
    "nine = pd.read_csv('purecot-gemma9b-bridge.csv')\n",
    "llama = pd.read_csv('purecot-llama3-bridge.csv')"
   ]
  },
  {
   "cell_type": "code",
   "execution_count": 2,
   "id": "01a354b3-fb45-4009-a063-e0e27f2eac7e",
   "metadata": {},
   "outputs": [],
   "source": [
    "pec_mini = pd.read_csv('PEC-phimini-purecot-bridge.csv')\n",
    "pec_med = pd.read_csv('PEC-phimedium-purecot-bridge.csv')\n",
    "pec_llama = pd.read_csv('PEC-llama3-purecot-bridge.csv')"
   ]
  },
  {
   "cell_type": "code",
   "execution_count": 3,
   "id": "a6072b37-bdb9-45fd-b7b5-3cdfcc8e1850",
   "metadata": {},
   "outputs": [],
   "source": [
    "def clean_text_final(text):\n",
    "    text = re.sub(r'[^\\w\\s.,!?\\'\"\\-:;()]+', '', text)  # Rimuove i caratteri speciali\n",
    "    text = re.sub(r\"['\\\"-]\", '', text)  # Rimuove apostrofi, virgolette e trattini\n",
    "    text = text.lower()  # Converte in minuscolo\n",
    "    return text"
   ]
  },
  {
   "cell_type": "code",
   "execution_count": 4,
   "id": "2960b656-2d37-4a68-87da-60dcee034b6a",
   "metadata": {},
   "outputs": [],
   "source": [
    "def evaluation(correct_answer, candidate):\n",
    "    matches = 0\n",
    "    total = len(correct_answer)\n",
    "\n",
    "    for i in range(total):\n",
    "        \n",
    "        if correct_answer[i] == candidate[i]:\n",
    "            matches += 1\n",
    "\n",
    "    return round(matches/total*100, 2)"
   ]
  },
  {
   "cell_type": "markdown",
   "id": "0bc04b04-4d88-4fb3-ada7-0a88b7b5711a",
   "metadata": {},
   "source": [
    "## `phi-mini`"
   ]
  },
  {
   "cell_type": "code",
   "execution_count": 7,
   "id": "ef41bbaf-6323-4fbb-8fff-b0235c0b08ac",
   "metadata": {},
   "outputs": [
    {
     "data": {
      "text/plain": [
       "91.6"
      ]
     },
     "execution_count": 7,
     "metadata": {},
     "output_type": "execute_result"
    }
   ],
   "source": [
    "evaluation(mini['correct'], mini['synthesis'])"
   ]
  },
  {
   "cell_type": "markdown",
   "id": "b2b772e1-711e-4ea4-9e0d-bbcae8531b2d",
   "metadata": {},
   "source": [
    "## `pecore: phi-mini`"
   ]
  },
  {
   "cell_type": "code",
   "execution_count": 5,
   "id": "9a9bb32b-cdf2-4f4c-a980-80fcd0c2e5c1",
   "metadata": {},
   "outputs": [
    {
     "data": {
      "text/plain": [
       "93.09"
      ]
     },
     "execution_count": 5,
     "metadata": {},
     "output_type": "execute_result"
    }
   ],
   "source": [
    "evaluation(pec_mini['correct'], pec_mini['synthesis'])"
   ]
  },
  {
   "cell_type": "markdown",
   "id": "8afdb9d5-5118-4818-84c2-a21b6be22ef2",
   "metadata": {},
   "source": [
    "## `phi-medium`"
   ]
  },
  {
   "cell_type": "code",
   "execution_count": 10,
   "id": "35ab7e31-7ba7-44da-ad1f-44b947a81de0",
   "metadata": {},
   "outputs": [
    {
     "data": {
      "text/plain": [
       "92.6"
      ]
     },
     "execution_count": 10,
     "metadata": {},
     "output_type": "execute_result"
    }
   ],
   "source": [
    "evaluation(mini['correct'], med['synthesis'])"
   ]
  },
  {
   "cell_type": "markdown",
   "id": "ce264c45-f503-4854-a84d-9716b2587c59",
   "metadata": {},
   "source": [
    "## `pecore: phi-medium`"
   ]
  },
  {
   "cell_type": "code",
   "execution_count": 6,
   "id": "590ed41e-6e7a-4a14-8ebe-611bf815b190",
   "metadata": {},
   "outputs": [
    {
     "data": {
      "text/plain": [
       "94.47"
      ]
     },
     "execution_count": 6,
     "metadata": {},
     "output_type": "execute_result"
    }
   ],
   "source": [
    "evaluation(pec_mini['correct'], pec_med['synthesis'])"
   ]
  },
  {
   "cell_type": "markdown",
   "id": "cb376996-eb01-4f90-9abf-77ad6529b370",
   "metadata": {},
   "source": [
    "## `gemma-2b`"
   ]
  },
  {
   "cell_type": "code",
   "execution_count": 11,
   "id": "36a7443d-fc16-4e0b-94f1-c4b40a168624",
   "metadata": {},
   "outputs": [
    {
     "data": {
      "text/plain": [
       "86.4"
      ]
     },
     "execution_count": 11,
     "metadata": {},
     "output_type": "execute_result"
    }
   ],
   "source": [
    "evaluation(mini['correct'], two['synthesis'])"
   ]
  },
  {
   "cell_type": "markdown",
   "id": "db485d53-f5c3-4ba8-b20f-4b599454fba9",
   "metadata": {},
   "source": [
    "## `gemma-9b`"
   ]
  },
  {
   "cell_type": "code",
   "execution_count": 12,
   "id": "35a192fc-8250-4ede-b961-700cdae7e9ac",
   "metadata": {},
   "outputs": [
    {
     "data": {
      "text/plain": [
       "88.8"
      ]
     },
     "execution_count": 12,
     "metadata": {},
     "output_type": "execute_result"
    }
   ],
   "source": [
    "evaluation(mini['correct'], nine['synthesis']) "
   ]
  },
  {
   "cell_type": "markdown",
   "id": "0c43153d-eab1-4e97-aea9-cf9cf7ab6382",
   "metadata": {},
   "source": [
    "## `llama3.1-8b`"
   ]
  },
  {
   "cell_type": "code",
   "execution_count": 7,
   "id": "4fd93a47-1438-4a89-af1c-2db9e83d54d4",
   "metadata": {},
   "outputs": [
    {
     "data": {
      "text/plain": [
       "90.4"
      ]
     },
     "execution_count": 7,
     "metadata": {},
     "output_type": "execute_result"
    }
   ],
   "source": [
    "evaluation(mini['correct'], llama['synthesis']) "
   ]
  },
  {
   "cell_type": "markdown",
   "id": "e94c3f00-4768-4719-9ed7-e546e04a1aff",
   "metadata": {},
   "source": [
    "## `pecore: llama-3.1`"
   ]
  },
  {
   "cell_type": "code",
   "execution_count": 7,
   "id": "4b957c76-83d8-4748-86b8-32d82ac2ccae",
   "metadata": {},
   "outputs": [
    {
     "data": {
      "text/plain": [
       "94.93"
      ]
     },
     "execution_count": 7,
     "metadata": {},
     "output_type": "execute_result"
    }
   ],
   "source": [
    "evaluation(pec_mini['correct'], pec_llama['synthesis']) "
   ]
  },
  {
   "cell_type": "code",
   "execution_count": null,
   "id": "51541cef-1957-4c97-a557-3c26d9ab814d",
   "metadata": {},
   "outputs": [],
   "source": []
  }
 ],
 "metadata": {
  "kernelspec": {
   "display_name": "Python 3 (ipykernel)",
   "language": "python",
   "name": "python3"
  },
  "language_info": {
   "codemirror_mode": {
    "name": "ipython",
    "version": 3
   },
   "file_extension": ".py",
   "mimetype": "text/x-python",
   "name": "python",
   "nbconvert_exporter": "python",
   "pygments_lexer": "ipython3",
   "version": "3.9.18"
  }
 },
 "nbformat": 4,
 "nbformat_minor": 5
}
