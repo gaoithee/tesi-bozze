{
 "cells": [
  {
   "cell_type": "code",
   "execution_count": 1,
   "id": "e977cd38-1947-4e2c-a112-709abc87dd0b",
   "metadata": {},
   "outputs": [],
   "source": [
    "import pandas as pd"
   ]
  },
  {
   "cell_type": "code",
   "execution_count": 2,
   "id": "11494cf8-bbd8-40f6-9901-ab325577df56",
   "metadata": {},
   "outputs": [],
   "source": [
    "mini = pd.read_csv('base-phimini-bridge.csv')\n",
    "med = pd.read_csv('base-phimedium-bridge.csv')\n",
    "two = pd.read_csv('partial-base-gemma2b-bridge.csv')\n",
    "nine = pd.read_csv('partial-base-gemma9b-bridge.csv')\n",
    "llama = pd.read_csv('base-llama3-bridge.csv')"
   ]
  },
  {
   "cell_type": "code",
   "execution_count": 2,
   "id": "32a83ff7-c5bf-4377-9541-e4cf1fdaa5a4",
   "metadata": {},
   "outputs": [],
   "source": [
    "pec_mini = pd.read_csv('PEC-phimini-base-bridge.csv')\n",
    "pec_medium = pd.read_csv('PEC-phimedium-base-bridge.csv')\n",
    "pec_llama = pd.read_csv('PEC-llama3-base-bridge.csv')"
   ]
  },
  {
   "cell_type": "code",
   "execution_count": 3,
   "id": "a6072b37-bdb9-45fd-b7b5-3cdfcc8e1850",
   "metadata": {},
   "outputs": [],
   "source": [
    "def clean_text_final(text):\n",
    "    text = re.sub(r'[^\\w\\s.,!?\\'\"\\-:;()]+', '', text)  # Rimuove i caratteri speciali\n",
    "    text = re.sub(r\"['\\\"-]\", '', text)  # Rimuove apostrofi, virgolette e trattini\n",
    "    text = text.lower()  # Converte in minuscolo\n",
    "    return text"
   ]
  },
  {
   "cell_type": "code",
   "execution_count": 4,
   "id": "2960b656-2d37-4a68-87da-60dcee034b6a",
   "metadata": {},
   "outputs": [],
   "source": [
    "def evaluation(correct_answer, candidate):\n",
    "    matches = 0\n",
    "    total = len(correct_answer)\n",
    "\n",
    "    for i in range(total):\n",
    "        \n",
    "        if correct_answer[i] == candidate[i]:\n",
    "            matches += 1\n",
    "\n",
    "    return round(matches/total*100, 2)"
   ]
  },
  {
   "cell_type": "markdown",
   "id": "0bc04b04-4d88-4fb3-ada7-0a88b7b5711a",
   "metadata": {},
   "source": [
    "## `phi-mini`"
   ]
  },
  {
   "cell_type": "code",
   "execution_count": 6,
   "id": "f424a54a-c8d7-435f-9dee-b5383f500fc5",
   "metadata": {},
   "outputs": [
    {
     "data": {
      "text/plain": [
       "52.1"
      ]
     },
     "execution_count": 6,
     "metadata": {},
     "output_type": "execute_result"
    }
   ],
   "source": [
    "evaluation(mini['correct'], mini['thesis'])"
   ]
  },
  {
   "cell_type": "code",
   "execution_count": 7,
   "id": "ab325a1f-1748-492e-8f1f-9500582053f9",
   "metadata": {},
   "outputs": [
    {
     "data": {
      "text/plain": [
       "87.4"
      ]
     },
     "execution_count": 7,
     "metadata": {},
     "output_type": "execute_result"
    }
   ],
   "source": [
    "evaluation(mini['correct'], mini['antithesis'])"
   ]
  },
  {
   "cell_type": "code",
   "execution_count": 8,
   "id": "ef41bbaf-6323-4fbb-8fff-b0235c0b08ac",
   "metadata": {},
   "outputs": [
    {
     "data": {
      "text/plain": [
       "87.9"
      ]
     },
     "execution_count": 8,
     "metadata": {},
     "output_type": "execute_result"
    }
   ],
   "source": [
    "evaluation(mini['correct'], mini['synthesis'])"
   ]
  },
  {
   "cell_type": "markdown",
   "id": "cb89ddc1-0443-44c8-b4a9-2d1073fd33c5",
   "metadata": {},
   "source": [
    "## `pecore: phi-mini`"
   ]
  },
  {
   "cell_type": "code",
   "execution_count": 9,
   "id": "c1990fc8-73cb-4685-abce-b61166d9304b",
   "metadata": {},
   "outputs": [
    {
     "data": {
      "text/plain": [
       "9.68"
      ]
     },
     "execution_count": 9,
     "metadata": {},
     "output_type": "execute_result"
    }
   ],
   "source": [
    "evaluation(pec_mini['correct'], pec_mini['thesis'])"
   ]
  },
  {
   "cell_type": "code",
   "execution_count": 12,
   "id": "dd778f20-424a-455b-a940-81ed4983f8b9",
   "metadata": {},
   "outputs": [
    {
     "data": {
      "text/plain": [
       "94.93"
      ]
     },
     "execution_count": 12,
     "metadata": {},
     "output_type": "execute_result"
    }
   ],
   "source": [
    "evaluation(pec_mini['correct'], pec_mini['antithesis'])"
   ]
  },
  {
   "cell_type": "code",
   "execution_count": 13,
   "id": "5ece4b87-4c43-43f1-947b-251f4b377e3b",
   "metadata": {},
   "outputs": [
    {
     "data": {
      "text/plain": [
       "96.08"
      ]
     },
     "execution_count": 13,
     "metadata": {},
     "output_type": "execute_result"
    }
   ],
   "source": [
    "evaluation(pec_mini['correct'], pec_mini['synthesis'])"
   ]
  },
  {
   "cell_type": "markdown",
   "id": "8afdb9d5-5118-4818-84c2-a21b6be22ef2",
   "metadata": {},
   "source": [
    "## `phi-medium`"
   ]
  },
  {
   "cell_type": "code",
   "execution_count": 10,
   "id": "c270d910-cb62-4dc8-8ca3-38825fff88ba",
   "metadata": {},
   "outputs": [
    {
     "data": {
      "text/plain": [
       "56.0"
      ]
     },
     "execution_count": 10,
     "metadata": {},
     "output_type": "execute_result"
    }
   ],
   "source": [
    "evaluation(mini['correct'], med['thesis'])"
   ]
  },
  {
   "cell_type": "code",
   "execution_count": 11,
   "id": "d597b435-d42b-49b5-bf59-464bada38fc0",
   "metadata": {},
   "outputs": [
    {
     "data": {
      "text/plain": [
       "89.7"
      ]
     },
     "execution_count": 11,
     "metadata": {},
     "output_type": "execute_result"
    }
   ],
   "source": [
    "evaluation(mini['correct'], med['antithesis'])"
   ]
  },
  {
   "cell_type": "code",
   "execution_count": 12,
   "id": "35ab7e31-7ba7-44da-ad1f-44b947a81de0",
   "metadata": {},
   "outputs": [
    {
     "data": {
      "text/plain": [
       "90.2"
      ]
     },
     "execution_count": 12,
     "metadata": {},
     "output_type": "execute_result"
    }
   ],
   "source": [
    "evaluation(mini['correct'], med['synthesis'])"
   ]
  },
  {
   "cell_type": "markdown",
   "id": "dcae1279-dd4e-42f3-947d-d557db609f95",
   "metadata": {},
   "source": [
    "## `pecore: phi-medium`"
   ]
  },
  {
   "cell_type": "code",
   "execution_count": 14,
   "id": "cb7798b4-1e97-422c-804e-10e9d912b566",
   "metadata": {},
   "outputs": [
    {
     "data": {
      "text/plain": [
       "10.14"
      ]
     },
     "execution_count": 14,
     "metadata": {},
     "output_type": "execute_result"
    }
   ],
   "source": [
    "evaluation(pec_mini['correct'], pec_medium['thesis'])"
   ]
  },
  {
   "cell_type": "code",
   "execution_count": 15,
   "id": "5961923f-ca40-4764-bf67-026648024696",
   "metadata": {},
   "outputs": [
    {
     "data": {
      "text/plain": [
       "94.01"
      ]
     },
     "execution_count": 15,
     "metadata": {},
     "output_type": "execute_result"
    }
   ],
   "source": [
    "evaluation(pec_mini['correct'], pec_medium['antithesis'])"
   ]
  },
  {
   "cell_type": "code",
   "execution_count": 16,
   "id": "f951652b-8a95-4cbb-a355-f87eb48e231e",
   "metadata": {},
   "outputs": [
    {
     "data": {
      "text/plain": [
       "94.7"
      ]
     },
     "execution_count": 16,
     "metadata": {},
     "output_type": "execute_result"
    }
   ],
   "source": [
    "evaluation(pec_mini['correct'], pec_medium['synthesis'])"
   ]
  },
  {
   "cell_type": "markdown",
   "id": "cb376996-eb01-4f90-9abf-77ad6529b370",
   "metadata": {},
   "source": [
    "## `gemma-2b`"
   ]
  },
  {
   "cell_type": "code",
   "execution_count": 13,
   "id": "5ba4e659-5176-4bcc-bd66-ea193831cede",
   "metadata": {},
   "outputs": [
    {
     "data": {
      "text/plain": [
       "0.0"
      ]
     },
     "execution_count": 13,
     "metadata": {},
     "output_type": "execute_result"
    }
   ],
   "source": [
    "evaluation(mini['correct'], two['thesis'])"
   ]
  },
  {
   "cell_type": "code",
   "execution_count": 14,
   "id": "af9e2013-636d-4252-bb12-077cccf0a0e6",
   "metadata": {},
   "outputs": [
    {
     "data": {
      "text/plain": [
       "83.1"
      ]
     },
     "execution_count": 14,
     "metadata": {},
     "output_type": "execute_result"
    }
   ],
   "source": [
    "evaluation(mini['correct'], two['antithesis'])"
   ]
  },
  {
   "cell_type": "code",
   "execution_count": 15,
   "id": "36a7443d-fc16-4e0b-94f1-c4b40a168624",
   "metadata": {},
   "outputs": [
    {
     "data": {
      "text/plain": [
       "81.3"
      ]
     },
     "execution_count": 15,
     "metadata": {},
     "output_type": "execute_result"
    }
   ],
   "source": [
    "evaluation(mini['correct'], two['synthesis'])"
   ]
  },
  {
   "cell_type": "markdown",
   "id": "db485d53-f5c3-4ba8-b20f-4b599454fba9",
   "metadata": {},
   "source": [
    "## `gemma-9b`"
   ]
  },
  {
   "cell_type": "code",
   "execution_count": 16,
   "id": "a1bcdd53-0dfb-49ab-9c6f-8daa3361cdf9",
   "metadata": {},
   "outputs": [
    {
     "data": {
      "text/plain": [
       "0.0"
      ]
     },
     "execution_count": 16,
     "metadata": {},
     "output_type": "execute_result"
    }
   ],
   "source": [
    "evaluation(mini['correct'], nine['thesis']) "
   ]
  },
  {
   "cell_type": "code",
   "execution_count": 17,
   "id": "cdf4abad-ea21-4711-a802-e2732876a190",
   "metadata": {},
   "outputs": [
    {
     "data": {
      "text/plain": [
       "88.7"
      ]
     },
     "execution_count": 17,
     "metadata": {},
     "output_type": "execute_result"
    }
   ],
   "source": [
    "evaluation(mini['correct'], nine['antithesis']) # migliore"
   ]
  },
  {
   "cell_type": "code",
   "execution_count": 18,
   "id": "35a192fc-8250-4ede-b961-700cdae7e9ac",
   "metadata": {},
   "outputs": [
    {
     "data": {
      "text/plain": [
       "88.9"
      ]
     },
     "execution_count": 18,
     "metadata": {},
     "output_type": "execute_result"
    }
   ],
   "source": [
    "evaluation(mini['correct'], nine['synthesis']) "
   ]
  },
  {
   "cell_type": "markdown",
   "id": "0c43153d-eab1-4e97-aea9-cf9cf7ab6382",
   "metadata": {},
   "source": [
    "## `llama3.1-8b`"
   ]
  },
  {
   "cell_type": "code",
   "execution_count": 19,
   "id": "e177099d-c37b-499b-a0e0-06dff1313e5e",
   "metadata": {},
   "outputs": [
    {
     "data": {
      "text/plain": [
       "49.8"
      ]
     },
     "execution_count": 19,
     "metadata": {},
     "output_type": "execute_result"
    }
   ],
   "source": [
    "evaluation(mini['correct'], llama['thesis']) "
   ]
  },
  {
   "cell_type": "code",
   "execution_count": 20,
   "id": "517f8864-9b04-45f7-933e-833a9fa42b45",
   "metadata": {},
   "outputs": [
    {
     "data": {
      "text/plain": [
       "91.7"
      ]
     },
     "execution_count": 20,
     "metadata": {},
     "output_type": "execute_result"
    }
   ],
   "source": [
    "evaluation(mini['correct'], llama['antithesis']) "
   ]
  },
  {
   "cell_type": "code",
   "execution_count": 21,
   "id": "4fd93a47-1438-4a89-af1c-2db9e83d54d4",
   "metadata": {},
   "outputs": [
    {
     "data": {
      "text/plain": [
       "91.9"
      ]
     },
     "execution_count": 21,
     "metadata": {},
     "output_type": "execute_result"
    }
   ],
   "source": [
    "evaluation(mini['correct'], llama['synthesis']) "
   ]
  },
  {
   "cell_type": "markdown",
   "id": "aafd898e-bc58-47ac-99c8-4e1b8f95bfeb",
   "metadata": {},
   "source": [
    "## `pecore: llama-3.1`"
   ]
  },
  {
   "cell_type": "code",
   "execution_count": 5,
   "id": "bcb8c70e-ea61-493e-8835-11f1eb65937a",
   "metadata": {},
   "outputs": [
    {
     "data": {
      "text/plain": [
       "7.37"
      ]
     },
     "execution_count": 5,
     "metadata": {},
     "output_type": "execute_result"
    }
   ],
   "source": [
    "evaluation(pec_mini['correct'], pec_llama['thesis']) "
   ]
  },
  {
   "cell_type": "code",
   "execution_count": 6,
   "id": "dc559dc3-737e-4f36-b423-0e892f8fb38c",
   "metadata": {},
   "outputs": [
    {
     "data": {
      "text/plain": [
       "95.39"
      ]
     },
     "execution_count": 6,
     "metadata": {},
     "output_type": "execute_result"
    }
   ],
   "source": [
    "evaluation(pec_mini['correct'], pec_llama['antithesis']) "
   ]
  },
  {
   "cell_type": "code",
   "execution_count": 7,
   "id": "77d424af-4b44-48c3-a019-df31e16b76b0",
   "metadata": {},
   "outputs": [
    {
     "data": {
      "text/plain": [
       "93.78"
      ]
     },
     "execution_count": 7,
     "metadata": {},
     "output_type": "execute_result"
    }
   ],
   "source": [
    "evaluation(pec_mini['correct'], pec_llama['synthesis']) "
   ]
  },
  {
   "cell_type": "code",
   "execution_count": null,
   "id": "42ed066f-6757-4129-9829-6798b186a8a4",
   "metadata": {},
   "outputs": [],
   "source": []
  }
 ],
 "metadata": {
  "kernelspec": {
   "display_name": "Python 3 (ipykernel)",
   "language": "python",
   "name": "python3"
  },
  "language_info": {
   "codemirror_mode": {
    "name": "ipython",
    "version": 3
   },
   "file_extension": ".py",
   "mimetype": "text/x-python",
   "name": "python",
   "nbconvert_exporter": "python",
   "pygments_lexer": "ipython3",
   "version": "3.9.18"
  }
 },
 "nbformat": 4,
 "nbformat_minor": 5
}
