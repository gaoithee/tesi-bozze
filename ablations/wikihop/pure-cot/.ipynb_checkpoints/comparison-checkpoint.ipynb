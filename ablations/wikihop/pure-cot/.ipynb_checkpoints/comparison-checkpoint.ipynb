{
 "cells": [
  {
   "cell_type": "code",
   "execution_count": 3,
   "id": "e977cd38-1947-4e2c-a112-709abc87dd0b",
   "metadata": {},
   "outputs": [],
   "source": [
    "import pandas as pd\n",
    "import re"
   ]
  },
  {
   "cell_type": "code",
   "execution_count": 4,
   "id": "11494cf8-bbd8-40f6-9901-ab325577df56",
   "metadata": {},
   "outputs": [],
   "source": [
    "mini = pd.read_csv('purecot-phimini-wikihop-v2.csv')\n",
    "med = pd.read_csv('purecot-phimedium-wikihop-v2.csv')\n",
    "two = pd.read_csv('purecot-gemma2b-wikihop.csv')\n",
    "nine = pd.read_csv('purecot-gemma9b-wikihop.csv')\n",
    "llama = pd.read_csv('purecot-llama3-wikihop.csv')"
   ]
  },
  {
   "cell_type": "code",
   "execution_count": 5,
   "id": "a6072b37-bdb9-45fd-b7b5-3cdfcc8e1850",
   "metadata": {},
   "outputs": [],
   "source": [
    "def clean_text_final(text):\n",
    "    text = re.sub(r'[^\\w\\s.,!?\\'\"\\-:;()]+', '', text)  # Rimuove i caratteri speciali\n",
    "    text = re.sub(r\"['\\\"-]\", '', text)  # Rimuove apostrofi, virgolette e trattini\n",
    "    text = text.lower()  # Converte in minuscolo\n",
    "    return text"
   ]
  },
  {
   "cell_type": "code",
   "execution_count": 6,
   "id": "2960b656-2d37-4a68-87da-60dcee034b6a",
   "metadata": {},
   "outputs": [],
   "source": [
    "def evaluation(correct_answer, candidate):\n",
    "    matches = 0\n",
    "    total = len(correct_answer)\n",
    "\n",
    "    for i in range(total):\n",
    "        \n",
    "        if correct_answer[i] == candidate[i]:\n",
    "            matches += 1\n",
    "\n",
    "    return round(matches/total*100, 2)"
   ]
  },
  {
   "cell_type": "markdown",
   "id": "0bc04b04-4d88-4fb3-ada7-0a88b7b5711a",
   "metadata": {},
   "source": [
    "## `phi-mini`"
   ]
  },
  {
   "cell_type": "code",
   "execution_count": 8,
   "id": "f424a54a-c8d7-435f-9dee-b5383f500fc5",
   "metadata": {},
   "outputs": [
    {
     "data": {
      "text/plain": [
       "21.39"
      ]
     },
     "execution_count": 8,
     "metadata": {},
     "output_type": "execute_result"
    }
   ],
   "source": [
    "evaluation(mini['correct'], mini['synthesis'])"
   ]
  },
  {
   "cell_type": "markdown",
   "id": "8afdb9d5-5118-4818-84c2-a21b6be22ef2",
   "metadata": {},
   "source": [
    "## `phi-medium`"
   ]
  },
  {
   "cell_type": "code",
   "execution_count": 10,
   "id": "c270d910-cb62-4dc8-8ca3-38825fff88ba",
   "metadata": {},
   "outputs": [
    {
     "data": {
      "text/plain": [
       "30.12"
      ]
     },
     "execution_count": 10,
     "metadata": {},
     "output_type": "execute_result"
    }
   ],
   "source": [
    "evaluation(med['correct'], med['synthesis'])"
   ]
  },
  {
   "cell_type": "markdown",
   "id": "cb376996-eb01-4f90-9abf-77ad6529b370",
   "metadata": {},
   "source": [
    "## `gemma-2b`"
   ]
  },
  {
   "cell_type": "code",
   "execution_count": 11,
   "id": "5ba4e659-5176-4bcc-bd66-ea193831cede",
   "metadata": {},
   "outputs": [
    {
     "data": {
      "text/plain": [
       "12.65"
      ]
     },
     "execution_count": 11,
     "metadata": {},
     "output_type": "execute_result"
    }
   ],
   "source": [
    "evaluation(two['correct'], two['synthesis'])"
   ]
  },
  {
   "cell_type": "markdown",
   "id": "db485d53-f5c3-4ba8-b20f-4b599454fba9",
   "metadata": {},
   "source": [
    "## `gemma-9b`"
   ]
  },
  {
   "cell_type": "code",
   "execution_count": 5,
   "id": "3e99e682-699b-4420-941f-516bc7292e72",
   "metadata": {},
   "outputs": [
    {
     "data": {
      "text/plain": [
       "16.27"
      ]
     },
     "execution_count": 5,
     "metadata": {},
     "output_type": "execute_result"
    }
   ],
   "source": [
    "evaluation(nine['correct'], nine['synthesis'])"
   ]
  },
  {
   "cell_type": "markdown",
   "id": "328f21fb-5806-45c5-8d57-dd10e35c1f33",
   "metadata": {},
   "source": [
    "## `llama3.1-8b-instruct`"
   ]
  },
  {
   "cell_type": "code",
   "execution_count": 7,
   "id": "9cd1d6ce-016c-4ca7-a67f-cc0d33e087be",
   "metadata": {},
   "outputs": [
    {
     "data": {
      "text/plain": [
       "35.84"
      ]
     },
     "execution_count": 7,
     "metadata": {},
     "output_type": "execute_result"
    }
   ],
   "source": [
    "evaluation(llama['correct'], llama['synthesis'])"
   ]
  },
  {
   "cell_type": "code",
   "execution_count": null,
   "id": "32338aa3-1f16-4a89-a216-ce39a5a5944b",
   "metadata": {},
   "outputs": [],
   "source": []
  }
 ],
 "metadata": {
  "kernelspec": {
   "display_name": "Python 3 (ipykernel)",
   "language": "python",
   "name": "python3"
  },
  "language_info": {
   "codemirror_mode": {
    "name": "ipython",
    "version": 3
   },
   "file_extension": ".py",
   "mimetype": "text/x-python",
   "name": "python",
   "nbconvert_exporter": "python",
   "pygments_lexer": "ipython3",
   "version": "3.9.18"
  }
 },
 "nbformat": 4,
 "nbformat_minor": 5
}
