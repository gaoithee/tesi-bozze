{
 "cells": [
  {
   "cell_type": "code",
   "execution_count": 1,
   "id": "e977cd38-1947-4e2c-a112-709abc87dd0b",
   "metadata": {},
   "outputs": [],
   "source": [
    "import pandas as pd\n",
    "import re"
   ]
  },
  {
   "cell_type": "code",
   "execution_count": 2,
   "id": "11494cf8-bbd8-40f6-9901-ab325577df56",
   "metadata": {},
   "outputs": [],
   "source": [
    "# mini = pd.read_csv('base-phimini-ctx-wikihop.csv')\n",
    "mini_2 = pd.read_csv('base-phimini-wikihop-ctx-v2.csv')\n",
    "# med = pd.read_csv('base-phimed-ctx-wikihop.csv')\n",
    "med_2 = pd.read_csv('ctx-phimedium-wikihop.csv')\n",
    "two = pd.read_csv('base-ctx-gemma2b-wikihop-v2.csv')\n",
    "nine = pd.read_csv('base-ctx-gemma9b-wikihop-v2.csv')\n",
    "llama = pd.read_csv('base-ctx-llama3-wikihop-v2.csv')"
   ]
  },
  {
   "cell_type": "code",
   "execution_count": 3,
   "id": "a6072b37-bdb9-45fd-b7b5-3cdfcc8e1850",
   "metadata": {},
   "outputs": [],
   "source": [
    "def clean_text_final(text):\n",
    "    text = re.sub(r'[^\\w\\s.,!?\\'\"\\-:;()]+', '', text)  # Rimuove i caratteri speciali\n",
    "    text = re.sub(r\"['\\\"-]\", '', text)  # Rimuove apostrofi, virgolette e trattini\n",
    "    text = text.lower()  # Converte in minuscolo\n",
    "    return text"
   ]
  },
  {
   "cell_type": "code",
   "execution_count": 4,
   "id": "2960b656-2d37-4a68-87da-60dcee034b6a",
   "metadata": {},
   "outputs": [],
   "source": [
    "def evaluation(correct_answer, candidate):\n",
    "    matches = 0\n",
    "    total = len(correct_answer)\n",
    "\n",
    "    for i in range(total):\n",
    "        \n",
    "        if correct_answer[i] == candidate[i]:\n",
    "            matches += 1\n",
    "\n",
    "    return round(matches/total*100, 2)"
   ]
  },
  {
   "cell_type": "markdown",
   "id": "0bc04b04-4d88-4fb3-ada7-0a88b7b5711a",
   "metadata": {},
   "source": [
    "## `phi-mini`"
   ]
  },
  {
   "cell_type": "code",
   "execution_count": 6,
   "id": "f424a54a-c8d7-435f-9dee-b5383f500fc5",
   "metadata": {},
   "outputs": [
    {
     "data": {
      "text/plain": [
       "12.65"
      ]
     },
     "execution_count": 6,
     "metadata": {},
     "output_type": "execute_result"
    }
   ],
   "source": [
    "evaluation(mini_2['correct'], mini_2['thesis'])"
   ]
  },
  {
   "cell_type": "code",
   "execution_count": 7,
   "id": "ab325a1f-1748-492e-8f1f-9500582053f9",
   "metadata": {},
   "outputs": [
    {
     "data": {
      "text/plain": [
       "16.87"
      ]
     },
     "execution_count": 7,
     "metadata": {},
     "output_type": "execute_result"
    }
   ],
   "source": [
    "evaluation(mini_2['correct'], mini_2['antithesis']) # uguale"
   ]
  },
  {
   "cell_type": "code",
   "execution_count": 8,
   "id": "ef41bbaf-6323-4fbb-8fff-b0235c0b08ac",
   "metadata": {},
   "outputs": [
    {
     "data": {
      "text/plain": [
       "17.17"
      ]
     },
     "execution_count": 8,
     "metadata": {},
     "output_type": "execute_result"
    }
   ],
   "source": [
    "evaluation(mini_2['correct'], mini_2['synthesis'])"
   ]
  },
  {
   "cell_type": "markdown",
   "id": "8afdb9d5-5118-4818-84c2-a21b6be22ef2",
   "metadata": {},
   "source": [
    "## `phi-medium`"
   ]
  },
  {
   "cell_type": "code",
   "execution_count": 9,
   "id": "c270d910-cb62-4dc8-8ca3-38825fff88ba",
   "metadata": {},
   "outputs": [
    {
     "data": {
      "text/plain": [
       "13.55"
      ]
     },
     "execution_count": 9,
     "metadata": {},
     "output_type": "execute_result"
    }
   ],
   "source": [
    "evaluation(mini_2['correct'], med_2['thesis'])"
   ]
  },
  {
   "cell_type": "code",
   "execution_count": 10,
   "id": "d597b435-d42b-49b5-bf59-464bada38fc0",
   "metadata": {},
   "outputs": [
    {
     "data": {
      "text/plain": [
       "29.22"
      ]
     },
     "execution_count": 10,
     "metadata": {},
     "output_type": "execute_result"
    }
   ],
   "source": [
    "evaluation(mini_2['correct'], med_2['antithesis']) # migliore"
   ]
  },
  {
   "cell_type": "code",
   "execution_count": 11,
   "id": "35ab7e31-7ba7-44da-ad1f-44b947a81de0",
   "metadata": {},
   "outputs": [
    {
     "data": {
      "text/plain": [
       "30.72"
      ]
     },
     "execution_count": 11,
     "metadata": {},
     "output_type": "execute_result"
    }
   ],
   "source": [
    "evaluation(mini_2['correct'], med_2['synthesis'])"
   ]
  },
  {
   "cell_type": "markdown",
   "id": "cb376996-eb01-4f90-9abf-77ad6529b370",
   "metadata": {},
   "source": [
    "## `gemma-2b`"
   ]
  },
  {
   "cell_type": "code",
   "execution_count": 12,
   "id": "5ba4e659-5176-4bcc-bd66-ea193831cede",
   "metadata": {},
   "outputs": [
    {
     "data": {
      "text/plain": [
       "0.0"
      ]
     },
     "execution_count": 12,
     "metadata": {},
     "output_type": "execute_result"
    }
   ],
   "source": [
    "evaluation(mini_2['correct'], two['thesis'])"
   ]
  },
  {
   "cell_type": "code",
   "execution_count": 13,
   "id": "af9e2013-636d-4252-bb12-077cccf0a0e6",
   "metadata": {},
   "outputs": [
    {
     "data": {
      "text/plain": [
       "23.19"
      ]
     },
     "execution_count": 13,
     "metadata": {},
     "output_type": "execute_result"
    }
   ],
   "source": [
    "evaluation(mini_2['correct'], two['antithesis'])"
   ]
  },
  {
   "cell_type": "code",
   "execution_count": 14,
   "id": "36a7443d-fc16-4e0b-94f1-c4b40a168624",
   "metadata": {},
   "outputs": [
    {
     "data": {
      "text/plain": [
       "18.98"
      ]
     },
     "execution_count": 14,
     "metadata": {},
     "output_type": "execute_result"
    }
   ],
   "source": [
    "evaluation(mini_2['correct'], two['synthesis'])"
   ]
  },
  {
   "cell_type": "markdown",
   "id": "db485d53-f5c3-4ba8-b20f-4b599454fba9",
   "metadata": {},
   "source": [
    "## `gemma-9b`"
   ]
  },
  {
   "cell_type": "code",
   "execution_count": 15,
   "id": "a1bcdd53-0dfb-49ab-9c6f-8daa3361cdf9",
   "metadata": {},
   "outputs": [
    {
     "data": {
      "text/plain": [
       "0.0"
      ]
     },
     "execution_count": 15,
     "metadata": {},
     "output_type": "execute_result"
    }
   ],
   "source": [
    "evaluation(mini_2['correct'], nine['thesis']) "
   ]
  },
  {
   "cell_type": "code",
   "execution_count": 16,
   "id": "cdf4abad-ea21-4711-a802-e2732876a190",
   "metadata": {},
   "outputs": [
    {
     "data": {
      "text/plain": [
       "25.6"
      ]
     },
     "execution_count": 16,
     "metadata": {},
     "output_type": "execute_result"
    }
   ],
   "source": [
    "evaluation(mini_2['correct'], nine['antithesis']) # migliore"
   ]
  },
  {
   "cell_type": "code",
   "execution_count": 17,
   "id": "35a192fc-8250-4ede-b961-700cdae7e9ac",
   "metadata": {},
   "outputs": [
    {
     "data": {
      "text/plain": [
       "22.29"
      ]
     },
     "execution_count": 17,
     "metadata": {},
     "output_type": "execute_result"
    }
   ],
   "source": [
    "evaluation(mini_2['correct'], nine['synthesis']) "
   ]
  },
  {
   "cell_type": "markdown",
   "id": "d01cdd42-07e9-4f80-b620-297cbfc91eef",
   "metadata": {},
   "source": [
    "## `llama-3.1-8b-instruct`"
   ]
  },
  {
   "cell_type": "code",
   "execution_count": 5,
   "id": "a9db37eb-9465-420e-aac7-1f3fae26d22b",
   "metadata": {},
   "outputs": [
    {
     "data": {
      "text/plain": [
       "12.35"
      ]
     },
     "execution_count": 5,
     "metadata": {},
     "output_type": "execute_result"
    }
   ],
   "source": [
    "evaluation(llama['correct'], llama['thesis']) "
   ]
  },
  {
   "cell_type": "code",
   "execution_count": 6,
   "id": "1d09aec4-aae8-4c62-a101-809e7ea4a833",
   "metadata": {},
   "outputs": [
    {
     "data": {
      "text/plain": [
       "40.36"
      ]
     },
     "execution_count": 6,
     "metadata": {},
     "output_type": "execute_result"
    }
   ],
   "source": [
    "evaluation(llama['correct'], llama['antithesis'])"
   ]
  },
  {
   "cell_type": "code",
   "execution_count": 7,
   "id": "88553aff-fedc-442b-8cec-f99ac1e7ba3d",
   "metadata": {},
   "outputs": [
    {
     "data": {
      "text/plain": [
       "36.45"
      ]
     },
     "execution_count": 7,
     "metadata": {},
     "output_type": "execute_result"
    }
   ],
   "source": [
    "evaluation(llama['correct'], llama['synthesis']) "
   ]
  },
  {
   "cell_type": "code",
   "execution_count": null,
   "id": "39a3f18c-a4d9-40d1-8c7c-7275926f14d8",
   "metadata": {},
   "outputs": [],
   "source": []
  }
 ],
 "metadata": {
  "kernelspec": {
   "display_name": "Python 3 (ipykernel)",
   "language": "python",
   "name": "python3"
  },
  "language_info": {
   "codemirror_mode": {
    "name": "ipython",
    "version": 3
   },
   "file_extension": ".py",
   "mimetype": "text/x-python",
   "name": "python",
   "nbconvert_exporter": "python",
   "pygments_lexer": "ipython3",
   "version": "3.9.18"
  }
 },
 "nbformat": 4,
 "nbformat_minor": 5
}
