{
 "cells": [
  {
   "cell_type": "code",
   "execution_count": 1,
   "id": "e977cd38-1947-4e2c-a112-709abc87dd0b",
   "metadata": {},
   "outputs": [],
   "source": [
    "import pandas as pd\n",
    "import re"
   ]
  },
  {
   "cell_type": "code",
   "execution_count": 2,
   "id": "11494cf8-bbd8-40f6-9901-ab325577df56",
   "metadata": {},
   "outputs": [],
   "source": [
    "mini = pd.read_csv('base-phimini-wikihop.csv')\n",
    "med = pd.read_csv('base-phimedium-wikihop.csv')\n",
    "two = pd.read_csv('base-gemma2b-wikihop.csv')\n",
    "nine = pd.read_csv('base-gemma9b-wikihop.csv')\n",
    "llama = pd.read_csv('base-llama3-wikihop.csv')"
   ]
  },
  {
   "cell_type": "code",
   "execution_count": 3,
   "id": "797feab1-4724-4441-93be-01250fc4f2e3",
   "metadata": {},
   "outputs": [],
   "source": [
    "pec_mini = pd.read_csv('PEC-phimini-base-wikihop.csv')\n",
    "pec_med = pd.read_csv('PEC-phimedium-base-wikihop.csv')\n",
    "pec_llama = pd.read_csv('PEC-llama3-base-wikihop.csv')"
   ]
  },
  {
   "cell_type": "code",
   "execution_count": 29,
   "id": "73a13098-aacf-4f75-8cd0-10e71cbb14d3",
   "metadata": {},
   "outputs": [],
   "source": [
    "orig_mini = pd.read_csv('ORIGINAL-phimini-base-wikihop.csv')\n",
    "orig_med = pd.read_csv('ORIGINAL-phimedium-base-wikihop.csv')\n",
    "orig_llama = pd.read_csv('ORIGINAL-llama3-base-wikihop.csv')"
   ]
  },
  {
   "cell_type": "code",
   "execution_count": 24,
   "id": "1b2ce567-bac9-40e3-82d8-a834361064e7",
   "metadata": {},
   "outputs": [],
   "source": [
    "subset_mini = pd.read_csv('SUMM-phimini-base-wikihop.csv')\n",
    "subset_med = pd.read_csv('SUMM-phimedium-base-wikihop.csv')\n",
    "subset_llama = pd.read_csv('SUMM-llama3-base-wikihop.csv')"
   ]
  },
  {
   "cell_type": "code",
   "execution_count": 4,
   "id": "a6072b37-bdb9-45fd-b7b5-3cdfcc8e1850",
   "metadata": {},
   "outputs": [],
   "source": [
    "def clean_text_final(text):\n",
    "    text = re.sub(r'[^\\w\\s.,!?\\'\"\\-:;()]+', '', text)  # Rimuove i caratteri speciali\n",
    "    text = re.sub(r\"['\\\"-]\", '', text)  # Rimuove apostrofi, virgolette e trattini\n",
    "    text = text.lower()  # Converte in minuscolo\n",
    "    return text"
   ]
  },
  {
   "cell_type": "code",
   "execution_count": 5,
   "id": "2960b656-2d37-4a68-87da-60dcee034b6a",
   "metadata": {},
   "outputs": [],
   "source": [
    "def evaluation(correct_answer, candidate):\n",
    "    matches = 0\n",
    "    total = len(correct_answer)\n",
    "\n",
    "    for i in range(total):\n",
    "        \n",
    "        if correct_answer[i] == candidate[i]:\n",
    "            matches += 1\n",
    "\n",
    "    return round(matches/total*100, 2)"
   ]
  },
  {
   "cell_type": "markdown",
   "id": "0bc04b04-4d88-4fb3-ada7-0a88b7b5711a",
   "metadata": {},
   "source": [
    "# `phi-mini`"
   ]
  },
  {
   "cell_type": "markdown",
   "id": "b511db7d-8a74-41c5-b749-1f114d7e0590",
   "metadata": {},
   "source": [
    "## `summarization`:"
   ]
  },
  {
   "cell_type": "code",
   "execution_count": 5,
   "id": "f424a54a-c8d7-435f-9dee-b5383f500fc5",
   "metadata": {},
   "outputs": [
    {
     "data": {
      "text/plain": [
       "12.65"
      ]
     },
     "execution_count": 5,
     "metadata": {},
     "output_type": "execute_result"
    }
   ],
   "source": [
    "evaluation(mini['correct'], mini['thesis'])"
   ]
  },
  {
   "cell_type": "code",
   "execution_count": 6,
   "id": "ab325a1f-1748-492e-8f1f-9500582053f9",
   "metadata": {},
   "outputs": [
    {
     "data": {
      "text/plain": [
       "34.04"
      ]
     },
     "execution_count": 6,
     "metadata": {},
     "output_type": "execute_result"
    }
   ],
   "source": [
    "evaluation(mini['correct'], mini['antithesis']) # uguale"
   ]
  },
  {
   "cell_type": "code",
   "execution_count": 7,
   "id": "ef41bbaf-6323-4fbb-8fff-b0235c0b08ac",
   "metadata": {
    "scrolled": true
   },
   "outputs": [
    {
     "data": {
      "text/plain": [
       "34.94"
      ]
     },
     "execution_count": 7,
     "metadata": {},
     "output_type": "execute_result"
    }
   ],
   "source": [
    "evaluation(mini['correct'], mini['synthesis'])"
   ]
  },
  {
   "cell_type": "markdown",
   "id": "cddf6586-d33b-4f4d-80f8-aab63f79ef14",
   "metadata": {},
   "source": [
    "## `pecore` (on the subset):"
   ]
  },
  {
   "cell_type": "code",
   "execution_count": 22,
   "id": "fe2d4fc3-54a7-423d-a714-911cc7a05aa6",
   "metadata": {},
   "outputs": [
    {
     "data": {
      "text/plain": [
       "24.73"
      ]
     },
     "execution_count": 22,
     "metadata": {},
     "output_type": "execute_result"
    }
   ],
   "source": [
    "evaluation(pec_mini['correct'], pec_mini['thesis'])"
   ]
  },
  {
   "cell_type": "code",
   "execution_count": 23,
   "id": "8901c199-bdcf-4d49-948c-4a0d3bdecd9f",
   "metadata": {},
   "outputs": [
    {
     "data": {
      "text/plain": [
       "56.99"
      ]
     },
     "execution_count": 23,
     "metadata": {},
     "output_type": "execute_result"
    }
   ],
   "source": [
    "evaluation(pec_mini['correct'], pec_mini['antithesis'])"
   ]
  },
  {
   "cell_type": "code",
   "execution_count": 24,
   "id": "70c03b68-d0ac-464a-a2d2-ca34cb22cb2d",
   "metadata": {},
   "outputs": [
    {
     "data": {
      "text/plain": [
       "55.91"
      ]
     },
     "execution_count": 24,
     "metadata": {},
     "output_type": "execute_result"
    }
   ],
   "source": [
    "evaluation(pec_mini['correct'], pec_mini['synthesis'])"
   ]
  },
  {
   "cell_type": "markdown",
   "id": "2d119606-3527-42c4-8929-a0a82f87f255",
   "metadata": {},
   "source": [
    "## `original` (on the subset):"
   ]
  },
  {
   "cell_type": "code",
   "execution_count": 26,
   "id": "126aa901-c6d1-4808-a373-02c538b5ee0f",
   "metadata": {},
   "outputs": [
    {
     "data": {
      "text/plain": [
       "23.66"
      ]
     },
     "execution_count": 26,
     "metadata": {},
     "output_type": "execute_result"
    }
   ],
   "source": [
    "evaluation(orig_mini['correct'], orig_mini['thesis'])"
   ]
  },
  {
   "cell_type": "code",
   "execution_count": 27,
   "id": "35679c3e-f674-4ba5-902b-7234580d9203",
   "metadata": {},
   "outputs": [
    {
     "data": {
      "text/plain": [
       "55.91"
      ]
     },
     "execution_count": 27,
     "metadata": {},
     "output_type": "execute_result"
    }
   ],
   "source": [
    "evaluation(orig_mini['correct'], orig_mini['antithesis'])"
   ]
  },
  {
   "cell_type": "code",
   "execution_count": 28,
   "id": "9cfc4c56-90e6-4c93-be2e-3383ce07c45b",
   "metadata": {},
   "outputs": [
    {
     "data": {
      "text/plain": [
       "55.91"
      ]
     },
     "execution_count": 28,
     "metadata": {},
     "output_type": "execute_result"
    }
   ],
   "source": [
    "evaluation(orig_mini['correct'], orig_mini['synthesis']) # è un caso"
   ]
  },
  {
   "cell_type": "markdown",
   "id": "ddccd81f-3596-4a39-833c-c5290e74a8c3",
   "metadata": {},
   "source": [
    "## `summarized` (on the subset):"
   ]
  },
  {
   "cell_type": "code",
   "execution_count": 17,
   "id": "115fd54d-94cd-4720-b35b-cb267d8dddb1",
   "metadata": {},
   "outputs": [
    {
     "data": {
      "text/plain": [
       "22.58"
      ]
     },
     "execution_count": 17,
     "metadata": {},
     "output_type": "execute_result"
    }
   ],
   "source": [
    "evaluation(subset_mini['correct'], subset_mini['thesis'])"
   ]
  },
  {
   "cell_type": "code",
   "execution_count": 18,
   "id": "0c2e5e8e-8368-46b6-90fb-37486b2d0728",
   "metadata": {},
   "outputs": [
    {
     "data": {
      "text/plain": [
       "47.31"
      ]
     },
     "execution_count": 18,
     "metadata": {},
     "output_type": "execute_result"
    }
   ],
   "source": [
    "evaluation(subset_mini['correct'], subset_mini['antithesis'])"
   ]
  },
  {
   "cell_type": "code",
   "execution_count": 19,
   "id": "6be1f616-6634-4fbb-ba22-918be7ccf2e9",
   "metadata": {},
   "outputs": [
    {
     "data": {
      "text/plain": [
       "51.61"
      ]
     },
     "execution_count": 19,
     "metadata": {},
     "output_type": "execute_result"
    }
   ],
   "source": [
    "evaluation(subset_mini['correct'], subset_mini['synthesis'])"
   ]
  },
  {
   "cell_type": "markdown",
   "id": "8afdb9d5-5118-4818-84c2-a21b6be22ef2",
   "metadata": {
    "jp-MarkdownHeadingCollapsed": true
   },
   "source": [
    "# `phi-medium`"
   ]
  },
  {
   "cell_type": "code",
   "execution_count": 8,
   "id": "c270d910-cb62-4dc8-8ca3-38825fff88ba",
   "metadata": {},
   "outputs": [
    {
     "data": {
      "text/plain": [
       "13.55"
      ]
     },
     "execution_count": 8,
     "metadata": {},
     "output_type": "execute_result"
    }
   ],
   "source": [
    "evaluation(mini['correct'], med['thesis'])"
   ]
  },
  {
   "cell_type": "code",
   "execution_count": 10,
   "id": "d597b435-d42b-49b5-bf59-464bada38fc0",
   "metadata": {},
   "outputs": [
    {
     "data": {
      "text/plain": [
       "39.16"
      ]
     },
     "execution_count": 10,
     "metadata": {},
     "output_type": "execute_result"
    }
   ],
   "source": [
    "evaluation(mini['correct'], med['antithesis'])"
   ]
  },
  {
   "cell_type": "code",
   "execution_count": 11,
   "id": "35ab7e31-7ba7-44da-ad1f-44b947a81de0",
   "metadata": {},
   "outputs": [
    {
     "data": {
      "text/plain": [
       "40.66"
      ]
     },
     "execution_count": 11,
     "metadata": {},
     "output_type": "execute_result"
    }
   ],
   "source": [
    "evaluation(mini['correct'], med['synthesis'])"
   ]
  },
  {
   "cell_type": "markdown",
   "id": "43022aaf-3b89-4a18-becc-0b165ac1b03d",
   "metadata": {
    "jp-MarkdownHeadingCollapsed": true
   },
   "source": [
    "## `pecore` (on the subset):"
   ]
  },
  {
   "cell_type": "code",
   "execution_count": 25,
   "id": "f4c0ca40-0310-4de2-9472-6082a0df5028",
   "metadata": {},
   "outputs": [
    {
     "data": {
      "text/plain": [
       "22.58"
      ]
     },
     "execution_count": 25,
     "metadata": {},
     "output_type": "execute_result"
    }
   ],
   "source": [
    "evaluation(pec_mini['correct'], pec_med['thesis'])"
   ]
  },
  {
   "cell_type": "code",
   "execution_count": 26,
   "id": "c7291976-595f-441f-88dc-f89620798f33",
   "metadata": {},
   "outputs": [
    {
     "data": {
      "text/plain": [
       "64.52"
      ]
     },
     "execution_count": 26,
     "metadata": {},
     "output_type": "execute_result"
    }
   ],
   "source": [
    "evaluation(pec_mini['correct'], pec_med['antithesis'])"
   ]
  },
  {
   "cell_type": "code",
   "execution_count": 27,
   "id": "5ddecda0-7b0b-49ed-8cef-14ca2e4fae2d",
   "metadata": {},
   "outputs": [
    {
     "data": {
      "text/plain": [
       "66.67"
      ]
     },
     "execution_count": 27,
     "metadata": {},
     "output_type": "execute_result"
    }
   ],
   "source": [
    "evaluation(pec_mini['correct'], pec_med['synthesis'])"
   ]
  },
  {
   "cell_type": "markdown",
   "id": "4143346f-efdd-49e5-9522-1ac1e8380925",
   "metadata": {
    "jp-MarkdownHeadingCollapsed": true
   },
   "source": [
    "## `original` (on the subset):"
   ]
  },
  {
   "cell_type": "code",
   "execution_count": 30,
   "id": "abaaf26e-cd9e-4cc8-9f02-39066b7c3f1d",
   "metadata": {},
   "outputs": [
    {
     "data": {
      "text/plain": [
       "24.73"
      ]
     },
     "execution_count": 30,
     "metadata": {},
     "output_type": "execute_result"
    }
   ],
   "source": [
    "evaluation(orig_mini['correct'], orig_med['thesis'])"
   ]
  },
  {
   "cell_type": "code",
   "execution_count": 31,
   "id": "b5b186a8-ada4-4eef-8e0a-a2843e4779ab",
   "metadata": {},
   "outputs": [
    {
     "data": {
      "text/plain": [
       "60.22"
      ]
     },
     "execution_count": 31,
     "metadata": {},
     "output_type": "execute_result"
    }
   ],
   "source": [
    "evaluation(orig_mini['correct'], orig_med['antithesis'])"
   ]
  },
  {
   "cell_type": "code",
   "execution_count": 32,
   "id": "e8016814-1c90-48f9-887f-d156ce00fa3f",
   "metadata": {},
   "outputs": [
    {
     "data": {
      "text/plain": [
       "60.22"
      ]
     },
     "execution_count": 32,
     "metadata": {},
     "output_type": "execute_result"
    }
   ],
   "source": [
    "evaluation(orig_mini['correct'], orig_med['synthesis']) # è un caso"
   ]
  },
  {
   "cell_type": "markdown",
   "id": "a70bf67d-a11b-4f07-bf73-394132e0cbff",
   "metadata": {
    "jp-MarkdownHeadingCollapsed": true
   },
   "source": [
    "## `summarized` (on the subset):"
   ]
  },
  {
   "cell_type": "code",
   "execution_count": 34,
   "id": "8a006911-66be-40d2-9d2a-b774d09d3c09",
   "metadata": {},
   "outputs": [
    {
     "data": {
      "text/plain": [
       "22.58"
      ]
     },
     "execution_count": 34,
     "metadata": {},
     "output_type": "execute_result"
    }
   ],
   "source": [
    "evaluation(subset_med['correct'], subset_med['thesis'])"
   ]
  },
  {
   "cell_type": "code",
   "execution_count": 35,
   "id": "9922c98b-c462-4326-83e5-268cafa58900",
   "metadata": {},
   "outputs": [
    {
     "data": {
      "text/plain": [
       "47.31"
      ]
     },
     "execution_count": 35,
     "metadata": {},
     "output_type": "execute_result"
    }
   ],
   "source": [
    "evaluation(subset_med['correct'], subset_med['antithesis'])"
   ]
  },
  {
   "cell_type": "code",
   "execution_count": 36,
   "id": "3168767a-3a7c-443c-a365-62e03b8f98df",
   "metadata": {},
   "outputs": [
    {
     "data": {
      "text/plain": [
       "51.61"
      ]
     },
     "execution_count": 36,
     "metadata": {},
     "output_type": "execute_result"
    }
   ],
   "source": [
    "evaluation(subset_med['correct'], subset_med['synthesis'])"
   ]
  },
  {
   "cell_type": "markdown",
   "id": "cb376996-eb01-4f90-9abf-77ad6529b370",
   "metadata": {
    "jp-MarkdownHeadingCollapsed": true
   },
   "source": [
    "# `gemma-2b`"
   ]
  },
  {
   "cell_type": "code",
   "execution_count": 12,
   "id": "5ba4e659-5176-4bcc-bd66-ea193831cede",
   "metadata": {},
   "outputs": [
    {
     "data": {
      "text/plain": [
       "17.77"
      ]
     },
     "execution_count": 12,
     "metadata": {},
     "output_type": "execute_result"
    }
   ],
   "source": [
    "evaluation(mini['correct'], two['thesis'])"
   ]
  },
  {
   "cell_type": "code",
   "execution_count": 13,
   "id": "af9e2013-636d-4252-bb12-077cccf0a0e6",
   "metadata": {},
   "outputs": [
    {
     "data": {
      "text/plain": [
       "34.34"
      ]
     },
     "execution_count": 13,
     "metadata": {},
     "output_type": "execute_result"
    }
   ],
   "source": [
    "evaluation(mini['correct'], two['antithesis'])"
   ]
  },
  {
   "cell_type": "code",
   "execution_count": 14,
   "id": "36a7443d-fc16-4e0b-94f1-c4b40a168624",
   "metadata": {},
   "outputs": [
    {
     "data": {
      "text/plain": [
       "28.31"
      ]
     },
     "execution_count": 14,
     "metadata": {},
     "output_type": "execute_result"
    }
   ],
   "source": [
    "evaluation(mini['correct'], two['synthesis'])"
   ]
  },
  {
   "cell_type": "markdown",
   "id": "db485d53-f5c3-4ba8-b20f-4b599454fba9",
   "metadata": {
    "jp-MarkdownHeadingCollapsed": true
   },
   "source": [
    "# `gemma-9b`"
   ]
  },
  {
   "cell_type": "code",
   "execution_count": 15,
   "id": "a1bcdd53-0dfb-49ab-9c6f-8daa3361cdf9",
   "metadata": {},
   "outputs": [
    {
     "data": {
      "text/plain": [
       "16.87"
      ]
     },
     "execution_count": 15,
     "metadata": {},
     "output_type": "execute_result"
    }
   ],
   "source": [
    "evaluation(nine['correct'], nine['thesis']) "
   ]
  },
  {
   "cell_type": "code",
   "execution_count": 16,
   "id": "cdf4abad-ea21-4711-a802-e2732876a190",
   "metadata": {},
   "outputs": [
    {
     "data": {
      "text/plain": [
       "21.99"
      ]
     },
     "execution_count": 16,
     "metadata": {},
     "output_type": "execute_result"
    }
   ],
   "source": [
    "evaluation(nine['correct'], nine['antithesis']) "
   ]
  },
  {
   "cell_type": "code",
   "execution_count": 17,
   "id": "35a192fc-8250-4ede-b961-700cdae7e9ac",
   "metadata": {},
   "outputs": [
    {
     "data": {
      "text/plain": [
       "21.08"
      ]
     },
     "execution_count": 17,
     "metadata": {},
     "output_type": "execute_result"
    }
   ],
   "source": [
    "evaluation(nine['correct'], nine['synthesis']) "
   ]
  },
  {
   "cell_type": "markdown",
   "id": "d8b6be14-a50b-4db1-8ba2-803b5c7a2439",
   "metadata": {},
   "source": [
    "# `llama-3.1-8b-instruct`"
   ]
  },
  {
   "cell_type": "code",
   "execution_count": 24,
   "id": "6b2209b7-92f5-4c23-810e-5a7fb59ba519",
   "metadata": {},
   "outputs": [
    {
     "data": {
      "text/plain": [
       "12.35"
      ]
     },
     "execution_count": 24,
     "metadata": {},
     "output_type": "execute_result"
    }
   ],
   "source": [
    "evaluation(llama['correct'], llama['thesis']) "
   ]
  },
  {
   "cell_type": "code",
   "execution_count": 25,
   "id": "b207f365-90e0-44b7-b7d2-1065dc31aa35",
   "metadata": {},
   "outputs": [
    {
     "data": {
      "text/plain": [
       "38.25"
      ]
     },
     "execution_count": 25,
     "metadata": {},
     "output_type": "execute_result"
    }
   ],
   "source": [
    "evaluation(llama['correct'], llama['antithesis']) "
   ]
  },
  {
   "cell_type": "code",
   "execution_count": 26,
   "id": "199cb081-1eab-4094-a44f-f4a49da9dae2",
   "metadata": {
    "scrolled": true
   },
   "outputs": [
    {
     "data": {
      "text/plain": [
       "37.65"
      ]
     },
     "execution_count": 26,
     "metadata": {},
     "output_type": "execute_result"
    }
   ],
   "source": [
    "evaluation(llama['correct'], llama['synthesis']) "
   ]
  },
  {
   "cell_type": "code",
   "execution_count": null,
   "id": "dc044d9b-a313-4bde-a20e-ee7b1bbc2511",
   "metadata": {},
   "outputs": [],
   "source": []
  }
 ],
 "metadata": {
  "kernelspec": {
   "display_name": "Python 3 (ipykernel)",
   "language": "python",
   "name": "python3"
  },
  "language_info": {
   "codemirror_mode": {
    "name": "ipython",
    "version": 3
   },
   "file_extension": ".py",
   "mimetype": "text/x-python",
   "name": "python",
   "nbconvert_exporter": "python",
   "pygments_lexer": "ipython3",
   "version": "3.9.18"
  }
 },
 "nbformat": 4,
 "nbformat_minor": 5
}
