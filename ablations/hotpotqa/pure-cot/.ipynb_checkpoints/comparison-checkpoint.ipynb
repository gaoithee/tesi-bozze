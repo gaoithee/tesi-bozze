{
 "cells": [
  {
   "cell_type": "code",
   "execution_count": 1,
   "id": "e977cd38-1947-4e2c-a112-709abc87dd0b",
   "metadata": {},
   "outputs": [],
   "source": [
    "import pandas as pd"
   ]
  },
  {
   "cell_type": "code",
   "execution_count": 2,
   "id": "11494cf8-bbd8-40f6-9901-ab325577df56",
   "metadata": {},
   "outputs": [],
   "source": [
    "mini = pd.read_csv('purecot-phimini-hotpotqa.csv')\n",
    "med = pd.read_csv('purecot-phimedium-hotpotqa.csv')\n",
    "two = pd.read_csv('purecot-gemma-2b-hotpotqa.csv')\n",
    "nine = pd.read_csv('purecot-gemma-9b-hotpotqa.csv')\n",
    "llama = pd.read_csv('purecot-llama3-hotpotqa.csv')"
   ]
  },
  {
   "cell_type": "code",
   "execution_count": 2,
   "id": "863d5793-6823-4529-8833-4341a4c39621",
   "metadata": {},
   "outputs": [],
   "source": [
    "pec_mini = pd.read_csv('PEC-phimini-purecot-hotpotqa.csv')\n",
    "pec_medium = pd.read_csv('PEC-phimedium-purecot-hotpotqa.csv')\n",
    "pec_llama = pd.read_csv('PEC-llama3-purecot-hotpotqa.csv')"
   ]
  },
  {
   "cell_type": "code",
   "execution_count": 3,
   "id": "a6072b37-bdb9-45fd-b7b5-3cdfcc8e1850",
   "metadata": {},
   "outputs": [],
   "source": [
    "def clean_text_final(text):\n",
    "    text = re.sub(r'[^\\w\\s.,!?\\'\"\\-:;()]+', '', text)  # Rimuove i caratteri speciali\n",
    "    text = re.sub(r\"['\\\"-]\", '', text)  # Rimuove apostrofi, virgolette e trattini\n",
    "    text = text.lower()  # Converte in minuscolo\n",
    "    return text"
   ]
  },
  {
   "cell_type": "code",
   "execution_count": 4,
   "id": "2960b656-2d37-4a68-87da-60dcee034b6a",
   "metadata": {},
   "outputs": [],
   "source": [
    "def evaluation(correct_answer, candidate):\n",
    "    matches = 0\n",
    "    total = len(correct_answer)\n",
    "\n",
    "    for i in range(total):\n",
    "        \n",
    "        if correct_answer[i] == candidate[i]:\n",
    "            matches += 1\n",
    "\n",
    "    return round(matches/total*100, 2)"
   ]
  },
  {
   "cell_type": "markdown",
   "id": "0bc04b04-4d88-4fb3-ada7-0a88b7b5711a",
   "metadata": {},
   "source": [
    "## `phi-mini`"
   ]
  },
  {
   "cell_type": "code",
   "execution_count": 12,
   "id": "ab325a1f-1748-492e-8f1f-9500582053f9",
   "metadata": {},
   "outputs": [
    {
     "data": {
      "text/plain": [
       "88.92"
      ]
     },
     "execution_count": 12,
     "metadata": {},
     "output_type": "execute_result"
    }
   ],
   "source": [
    "evaluation(mini['correct'], mini['answer']) "
   ]
  },
  {
   "cell_type": "markdown",
   "id": "40f24937-0385-44af-85d2-d6189d063748",
   "metadata": {},
   "source": [
    "## `pecore: phi-mini`"
   ]
  },
  {
   "cell_type": "code",
   "execution_count": 7,
   "id": "b4264ba2-0c2f-4590-b605-c8675be22d26",
   "metadata": {},
   "outputs": [
    {
     "data": {
      "text/plain": [
       "59.09"
      ]
     },
     "execution_count": 7,
     "metadata": {},
     "output_type": "execute_result"
    }
   ],
   "source": [
    "evaluation(pec_mini['correct'], pec_mini['synthesis']) "
   ]
  },
  {
   "cell_type": "markdown",
   "id": "8afdb9d5-5118-4818-84c2-a21b6be22ef2",
   "metadata": {},
   "source": [
    "## `phi-medium`"
   ]
  },
  {
   "cell_type": "code",
   "execution_count": 13,
   "id": "c270d910-cb62-4dc8-8ca3-38825fff88ba",
   "metadata": {},
   "outputs": [
    {
     "data": {
      "text/plain": [
       "90.62"
      ]
     },
     "execution_count": 13,
     "metadata": {},
     "output_type": "execute_result"
    }
   ],
   "source": [
    "evaluation(mini['correct'], med['answer']) # baseline"
   ]
  },
  {
   "cell_type": "markdown",
   "id": "65ac7045-2c83-48a9-88b0-af762acfbf5b",
   "metadata": {},
   "source": [
    "## `pecore: phi-medium`"
   ]
  },
  {
   "cell_type": "code",
   "execution_count": 11,
   "id": "d597b435-d42b-49b5-bf59-464bada38fc0",
   "metadata": {},
   "outputs": [
    {
     "data": {
      "text/plain": [
       "67.58"
      ]
     },
     "execution_count": 11,
     "metadata": {},
     "output_type": "execute_result"
    }
   ],
   "source": [
    "evaluation(pec_mini['correct'], pec_medium['synthesis']) "
   ]
  },
  {
   "cell_type": "markdown",
   "id": "cb376996-eb01-4f90-9abf-77ad6529b370",
   "metadata": {},
   "source": [
    "## `gemma-2b`"
   ]
  },
  {
   "cell_type": "code",
   "execution_count": 8,
   "id": "af9e2013-636d-4252-bb12-077cccf0a0e6",
   "metadata": {},
   "outputs": [
    {
     "data": {
      "text/plain": [
       "80.11"
      ]
     },
     "execution_count": 8,
     "metadata": {},
     "output_type": "execute_result"
    }
   ],
   "source": [
    "evaluation(mini['correct'], two['answer'])"
   ]
  },
  {
   "cell_type": "markdown",
   "id": "db485d53-f5c3-4ba8-b20f-4b599454fba9",
   "metadata": {},
   "source": [
    "## `gemma-9b`"
   ]
  },
  {
   "cell_type": "code",
   "execution_count": 10,
   "id": "cdf4abad-ea21-4711-a802-e2732876a190",
   "metadata": {
    "scrolled": true
   },
   "outputs": [
    {
     "data": {
      "text/plain": [
       "88.35"
      ]
     },
     "execution_count": 10,
     "metadata": {},
     "output_type": "execute_result"
    }
   ],
   "source": [
    "evaluation(mini['correct'], nine['answer']) "
   ]
  },
  {
   "cell_type": "markdown",
   "id": "e6d67d6d-7cf4-45c8-b1c8-acaaedf21be0",
   "metadata": {},
   "source": [
    "## `llama3.1-8b`"
   ]
  },
  {
   "cell_type": "code",
   "execution_count": 7,
   "id": "59e5d2cf-046b-4913-8b2f-7d2bb5ddafea",
   "metadata": {
    "scrolled": true
   },
   "outputs": [
    {
     "data": {
      "text/plain": [
       "87.5"
      ]
     },
     "execution_count": 7,
     "metadata": {},
     "output_type": "execute_result"
    }
   ],
   "source": [
    "evaluation(mini['correct'], llama['synthesis']) "
   ]
  },
  {
   "cell_type": "markdown",
   "id": "4c3f21d2-ee0d-4118-9289-6faa4ca8f63b",
   "metadata": {},
   "source": [
    "## `pecore: llama-3.1`"
   ]
  },
  {
   "cell_type": "code",
   "execution_count": 5,
   "id": "a26a3968-e070-4c2d-9d90-6d0b319d1cf9",
   "metadata": {},
   "outputs": [
    {
     "data": {
      "text/plain": [
       "73.94"
      ]
     },
     "execution_count": 5,
     "metadata": {},
     "output_type": "execute_result"
    }
   ],
   "source": [
    "evaluation(pec_mini['correct'], pec_llama['synthesis']) "
   ]
  },
  {
   "cell_type": "code",
   "execution_count": null,
   "id": "1eeedeb1-de30-46ec-9da1-c838fae3547c",
   "metadata": {},
   "outputs": [],
   "source": []
  }
 ],
 "metadata": {
  "kernelspec": {
   "display_name": "Python 3 (ipykernel)",
   "language": "python",
   "name": "python3"
  },
  "language_info": {
   "codemirror_mode": {
    "name": "ipython",
    "version": 3
   },
   "file_extension": ".py",
   "mimetype": "text/x-python",
   "name": "python",
   "nbconvert_exporter": "python",
   "pygments_lexer": "ipython3",
   "version": "3.9.18"
  }
 },
 "nbformat": 4,
 "nbformat_minor": 5
}
