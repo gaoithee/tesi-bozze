{
 "cells": [
  {
   "cell_type": "code",
   "execution_count": 1,
   "id": "e977cd38-1947-4e2c-a112-709abc87dd0b",
   "metadata": {},
   "outputs": [],
   "source": [
    "import pandas as pd"
   ]
  },
  {
   "cell_type": "code",
   "execution_count": 2,
   "id": "11494cf8-bbd8-40f6-9901-ab325577df56",
   "metadata": {},
   "outputs": [],
   "source": [
    "mini = pd.read_csv('cot-phimini-hotpotqa.csv')\n",
    "med = pd.read_csv('cot-phimedium-hotpotqa.csv')\n",
    "two = pd.read_csv('cot-gemma-2b-hotpotqa.csv')\n",
    "nine = pd.read_csv('cot-gemma-9b-hotpotqa.csv')\n",
    "llama = pd.read_csv('cot-llama3-hotpotqa.csv')"
   ]
  },
  {
   "cell_type": "code",
   "execution_count": 3,
   "id": "3ed687e4-1bad-43de-a08e-5d408a77b16b",
   "metadata": {},
   "outputs": [],
   "source": [
    "pec_mini = pd.read_csv('PEC-phimini-cot-hotpotqa.csv')"
   ]
  },
  {
   "cell_type": "code",
   "execution_count": 4,
   "id": "a6072b37-bdb9-45fd-b7b5-3cdfcc8e1850",
   "metadata": {},
   "outputs": [],
   "source": [
    "def clean_text_final(text):\n",
    "    text = re.sub(r'[^\\w\\s.,!?\\'\"\\-:;()]+', '', text)  # Rimuove i caratteri speciali\n",
    "    text = re.sub(r\"['\\\"-]\", '', text)  # Rimuove apostrofi, virgolette e trattini\n",
    "    text = text.lower()  # Converte in minuscolo\n",
    "    return text"
   ]
  },
  {
   "cell_type": "code",
   "execution_count": 5,
   "id": "2960b656-2d37-4a68-87da-60dcee034b6a",
   "metadata": {},
   "outputs": [],
   "source": [
    "def evaluation(correct_answer, candidate):\n",
    "    matches = 0\n",
    "    total = len(correct_answer)\n",
    "\n",
    "    for i in range(total):\n",
    "        \n",
    "        if correct_answer[i] == candidate[i]:\n",
    "            matches += 1\n",
    "\n",
    "    return round(matches/total*100, 2)"
   ]
  },
  {
   "cell_type": "markdown",
   "id": "0bc04b04-4d88-4fb3-ada7-0a88b7b5711a",
   "metadata": {},
   "source": [
    "## `phi-mini`"
   ]
  },
  {
   "cell_type": "code",
   "execution_count": 6,
   "id": "f424a54a-c8d7-435f-9dee-b5383f500fc5",
   "metadata": {},
   "outputs": [
    {
     "data": {
      "text/plain": [
       "53.41"
      ]
     },
     "execution_count": 6,
     "metadata": {},
     "output_type": "execute_result"
    }
   ],
   "source": [
    "evaluation(mini['correct'], mini['thesis']) # baseline"
   ]
  },
  {
   "cell_type": "code",
   "execution_count": 7,
   "id": "ab325a1f-1748-492e-8f1f-9500582053f9",
   "metadata": {},
   "outputs": [
    {
     "data": {
      "text/plain": [
       "88.07"
      ]
     },
     "execution_count": 7,
     "metadata": {},
     "output_type": "execute_result"
    }
   ],
   "source": [
    "evaluation(mini['correct'], mini['antithesis']) "
   ]
  },
  {
   "cell_type": "code",
   "execution_count": 8,
   "id": "7a040638-60d4-4381-81cf-b53daf0a4e4c",
   "metadata": {},
   "outputs": [
    {
     "data": {
      "text/plain": [
       "87.22"
      ]
     },
     "execution_count": 8,
     "metadata": {},
     "output_type": "execute_result"
    }
   ],
   "source": [
    "evaluation(mini['correct'], mini['synthesis']) "
   ]
  },
  {
   "cell_type": "code",
   "execution_count": 9,
   "id": "ec268443-5c73-40a7-a2ef-484b5089bd1f",
   "metadata": {},
   "outputs": [
    {
     "data": {
      "text/plain": [
       "54.85"
      ]
     },
     "execution_count": 9,
     "metadata": {},
     "output_type": "execute_result"
    }
   ],
   "source": [
    "evaluation(pec_mini['correct'], pec_mini['thesis']) # baseline"
   ]
  },
  {
   "cell_type": "code",
   "execution_count": 10,
   "id": "6057c6e4-0d85-4406-944c-c6f69de3d8b5",
   "metadata": {},
   "outputs": [
    {
     "data": {
      "text/plain": [
       "55.76"
      ]
     },
     "execution_count": 10,
     "metadata": {},
     "output_type": "execute_result"
    }
   ],
   "source": [
    "evaluation(pec_mini['correct'], pec_mini['antithesis']) # baseline"
   ]
  },
  {
   "cell_type": "code",
   "execution_count": 11,
   "id": "ba34b09d-9cc0-4586-97a1-fbc393abc41d",
   "metadata": {},
   "outputs": [
    {
     "data": {
      "text/plain": [
       "58.18"
      ]
     },
     "execution_count": 11,
     "metadata": {},
     "output_type": "execute_result"
    }
   ],
   "source": [
    "evaluation(pec_mini['correct'], pec_mini['synthesis']) # baseline"
   ]
  },
  {
   "cell_type": "markdown",
   "id": "8afdb9d5-5118-4818-84c2-a21b6be22ef2",
   "metadata": {},
   "source": [
    "## `phi-medium`"
   ]
  },
  {
   "cell_type": "code",
   "execution_count": 8,
   "id": "c270d910-cb62-4dc8-8ca3-38825fff88ba",
   "metadata": {},
   "outputs": [
    {
     "data": {
      "text/plain": [
       "50.0"
      ]
     },
     "execution_count": 8,
     "metadata": {},
     "output_type": "execute_result"
    }
   ],
   "source": [
    "evaluation(mini['correct'], med['thesis']) # baseline"
   ]
  },
  {
   "cell_type": "code",
   "execution_count": 9,
   "id": "d597b435-d42b-49b5-bf59-464bada38fc0",
   "metadata": {},
   "outputs": [
    {
     "data": {
      "text/plain": [
       "90.91"
      ]
     },
     "execution_count": 9,
     "metadata": {},
     "output_type": "execute_result"
    }
   ],
   "source": [
    "evaluation(mini['correct'], med['antithesis']) "
   ]
  },
  {
   "cell_type": "code",
   "execution_count": 10,
   "id": "742e0a37-0ce8-48eb-b55b-8f0acca80e7f",
   "metadata": {},
   "outputs": [
    {
     "data": {
      "text/plain": [
       "92.05"
      ]
     },
     "execution_count": 10,
     "metadata": {},
     "output_type": "execute_result"
    }
   ],
   "source": [
    "evaluation(mini['correct'], med['synthesis']) "
   ]
  },
  {
   "cell_type": "markdown",
   "id": "cb376996-eb01-4f90-9abf-77ad6529b370",
   "metadata": {},
   "source": [
    "## `gemma-2b`"
   ]
  },
  {
   "cell_type": "code",
   "execution_count": 11,
   "id": "5ba4e659-5176-4bcc-bd66-ea193831cede",
   "metadata": {},
   "outputs": [
    {
     "data": {
      "text/plain": [
       "52.84"
      ]
     },
     "execution_count": 11,
     "metadata": {},
     "output_type": "execute_result"
    }
   ],
   "source": [
    "evaluation(mini['correct'], two['thesis']) # baseline"
   ]
  },
  {
   "cell_type": "code",
   "execution_count": 12,
   "id": "af9e2013-636d-4252-bb12-077cccf0a0e6",
   "metadata": {},
   "outputs": [
    {
     "data": {
      "text/plain": [
       "78.41"
      ]
     },
     "execution_count": 12,
     "metadata": {},
     "output_type": "execute_result"
    }
   ],
   "source": [
    "evaluation(mini['correct'], two['antithesis'])"
   ]
  },
  {
   "cell_type": "code",
   "execution_count": 13,
   "id": "5826ff95-0a32-4cc6-819c-1efe02bd06b3",
   "metadata": {},
   "outputs": [
    {
     "data": {
      "text/plain": [
       "78.98"
      ]
     },
     "execution_count": 13,
     "metadata": {},
     "output_type": "execute_result"
    }
   ],
   "source": [
    "evaluation(mini['correct'], two['synthesis'])"
   ]
  },
  {
   "cell_type": "markdown",
   "id": "db485d53-f5c3-4ba8-b20f-4b599454fba9",
   "metadata": {},
   "source": [
    "## `gemma-9b`"
   ]
  },
  {
   "cell_type": "code",
   "execution_count": 14,
   "id": "f9708132-3e67-41ef-ace3-02724cc15a68",
   "metadata": {},
   "outputs": [
    {
     "data": {
      "text/plain": [
       "59.66"
      ]
     },
     "execution_count": 14,
     "metadata": {},
     "output_type": "execute_result"
    }
   ],
   "source": [
    "evaluation(mini['correct'], nine['thesis']) # baseline"
   ]
  },
  {
   "cell_type": "code",
   "execution_count": 15,
   "id": "cdf4abad-ea21-4711-a802-e2732876a190",
   "metadata": {
    "scrolled": true
   },
   "outputs": [
    {
     "data": {
      "text/plain": [
       "88.92"
      ]
     },
     "execution_count": 15,
     "metadata": {},
     "output_type": "execute_result"
    }
   ],
   "source": [
    "evaluation(mini['correct'], nine['antithesis']) "
   ]
  },
  {
   "cell_type": "code",
   "execution_count": 16,
   "id": "56b0544b-311d-4622-8e69-9b7cad52bea7",
   "metadata": {},
   "outputs": [
    {
     "data": {
      "text/plain": [
       "90.06"
      ]
     },
     "execution_count": 16,
     "metadata": {},
     "output_type": "execute_result"
    }
   ],
   "source": [
    "evaluation(mini['correct'], nine['synthesis']) "
   ]
  },
  {
   "cell_type": "markdown",
   "id": "1e7bc86d-3aa3-4a5b-a551-ff935c180967",
   "metadata": {},
   "source": [
    "## `llama3.1-8b-instruct`"
   ]
  },
  {
   "cell_type": "code",
   "execution_count": 5,
   "id": "3f6e44de-db4d-4247-9cad-6b752f7d855a",
   "metadata": {},
   "outputs": [
    {
     "data": {
      "text/plain": [
       "48.3"
      ]
     },
     "execution_count": 5,
     "metadata": {},
     "output_type": "execute_result"
    }
   ],
   "source": [
    "evaluation(mini['correct'], llama['thesis']) # baseline"
   ]
  },
  {
   "cell_type": "code",
   "execution_count": 6,
   "id": "d3defa5d-f58d-4682-9e23-6a9f037c7f29",
   "metadata": {},
   "outputs": [
    {
     "data": {
      "text/plain": [
       "89.77"
      ]
     },
     "execution_count": 6,
     "metadata": {},
     "output_type": "execute_result"
    }
   ],
   "source": [
    "evaluation(mini['correct'], llama['antithesis']) "
   ]
  },
  {
   "cell_type": "code",
   "execution_count": 7,
   "id": "9ae1410b-a094-48bb-b1dd-47787cdc14f6",
   "metadata": {},
   "outputs": [
    {
     "data": {
      "text/plain": [
       "90.62"
      ]
     },
     "execution_count": 7,
     "metadata": {},
     "output_type": "execute_result"
    }
   ],
   "source": [
    "evaluation(mini['correct'], llama['synthesis']) "
   ]
  },
  {
   "cell_type": "code",
   "execution_count": null,
   "id": "ccf999b7-377d-451e-bd8c-ba53601432de",
   "metadata": {},
   "outputs": [],
   "source": []
  }
 ],
 "metadata": {
  "kernelspec": {
   "display_name": "Python 3 (ipykernel)",
   "language": "python",
   "name": "python3"
  },
  "language_info": {
   "codemirror_mode": {
    "name": "ipython",
    "version": 3
   },
   "file_extension": ".py",
   "mimetype": "text/x-python",
   "name": "python",
   "nbconvert_exporter": "python",
   "pygments_lexer": "ipython3",
   "version": "3.9.18"
  }
 },
 "nbformat": 4,
 "nbformat_minor": 5
}
