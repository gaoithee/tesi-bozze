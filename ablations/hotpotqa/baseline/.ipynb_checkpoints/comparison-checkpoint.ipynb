{
 "cells": [
  {
   "cell_type": "code",
   "execution_count": 1,
   "id": "e977cd38-1947-4e2c-a112-709abc87dd0b",
   "metadata": {},
   "outputs": [],
   "source": [
    "import pandas as pd"
   ]
  },
  {
   "cell_type": "code",
   "execution_count": 2,
   "id": "11494cf8-bbd8-40f6-9901-ab325577df56",
   "metadata": {},
   "outputs": [],
   "source": [
    "mini = pd.read_csv('baseline-phimini-hotpotqa.csv')\n",
    "med = pd.read_csv('baseline-phimedium-hotpotqa.csv')\n",
    "two = pd.read_csv('baseline-gemma-2b-hotpotqa.csv')\n",
    "nine = pd.read_csv('baseline-gemma-9b-hotpotqa.csv')\n",
    "llama = pd.read_csv('base-llama3-hotpotqa.csv')"
   ]
  },
  {
   "cell_type": "code",
   "execution_count": 6,
   "id": "448f75ca-da21-4725-b2cc-8a548b0b0644",
   "metadata": {},
   "outputs": [],
   "source": [
    "pec_mini = pd.read_csv('PEC-phimini-base-hotpotqa.csv')\n",
    "pec_medium = pd.read_csv('PEC-phimedium-base-hotpotqa.csv')\n",
    "pec_llama = pd.read_csv('PEC-llama3-base-hotpotqa.csv')"
   ]
  },
  {
   "cell_type": "code",
   "execution_count": 3,
   "id": "a6072b37-bdb9-45fd-b7b5-3cdfcc8e1850",
   "metadata": {},
   "outputs": [],
   "source": [
    "def clean_text_final(text):\n",
    "    text = re.sub(r'[^\\w\\s.,!?\\'\"\\-:;()]+', '', text)  # Rimuove i caratteri speciali\n",
    "    text = re.sub(r\"['\\\"-]\", '', text)  # Rimuove apostrofi, virgolette e trattini\n",
    "    text = text.lower()  # Converte in minuscolo\n",
    "    return text"
   ]
  },
  {
   "cell_type": "code",
   "execution_count": 4,
   "id": "2960b656-2d37-4a68-87da-60dcee034b6a",
   "metadata": {},
   "outputs": [],
   "source": [
    "def evaluation(correct_answer, candidate):\n",
    "    matches = 0\n",
    "    total = len(correct_answer)\n",
    "\n",
    "    for i in range(total):\n",
    "        \n",
    "        if correct_answer[i] == candidate[i]:\n",
    "            matches += 1\n",
    "\n",
    "    return round(matches/total*100, 2)"
   ]
  },
  {
   "cell_type": "markdown",
   "id": "0bc04b04-4d88-4fb3-ada7-0a88b7b5711a",
   "metadata": {},
   "source": [
    "## `phi-mini`"
   ]
  },
  {
   "cell_type": "code",
   "execution_count": 6,
   "id": "f424a54a-c8d7-435f-9dee-b5383f500fc5",
   "metadata": {},
   "outputs": [
    {
     "data": {
      "text/plain": [
       "53.41"
      ]
     },
     "execution_count": 6,
     "metadata": {},
     "output_type": "execute_result"
    }
   ],
   "source": [
    "evaluation(mini['correct'], mini['thesis'])"
   ]
  },
  {
   "cell_type": "code",
   "execution_count": 7,
   "id": "ab325a1f-1748-492e-8f1f-9500582053f9",
   "metadata": {},
   "outputs": [
    {
     "data": {
      "text/plain": [
       "78.98"
      ]
     },
     "execution_count": 7,
     "metadata": {},
     "output_type": "execute_result"
    }
   ],
   "source": [
    "evaluation(mini['correct'], mini['antithesis']) # uguale"
   ]
  },
  {
   "cell_type": "code",
   "execution_count": 8,
   "id": "ef41bbaf-6323-4fbb-8fff-b0235c0b08ac",
   "metadata": {},
   "outputs": [
    {
     "data": {
      "text/plain": [
       "80.68"
      ]
     },
     "execution_count": 8,
     "metadata": {},
     "output_type": "execute_result"
    }
   ],
   "source": [
    "evaluation(mini['correct'], mini['synthesis'])"
   ]
  },
  {
   "cell_type": "markdown",
   "id": "97421a94-8f28-4c66-924f-1a9b0211ceb2",
   "metadata": {},
   "source": [
    "## `pecore: phi-mini`"
   ]
  },
  {
   "cell_type": "code",
   "execution_count": 9,
   "id": "2c1eba43-b1e2-43aa-8ede-ee4d9b715b96",
   "metadata": {},
   "outputs": [
    {
     "data": {
      "text/plain": [
       "54.85"
      ]
     },
     "execution_count": 9,
     "metadata": {},
     "output_type": "execute_result"
    }
   ],
   "source": [
    "evaluation(pec_mini['correct'], pec_mini['thesis'])"
   ]
  },
  {
   "cell_type": "code",
   "execution_count": 10,
   "id": "e221dc0f-8f24-445e-8bc5-7a337b6bbfa1",
   "metadata": {},
   "outputs": [
    {
     "data": {
      "text/plain": [
       "64.24"
      ]
     },
     "execution_count": 10,
     "metadata": {},
     "output_type": "execute_result"
    }
   ],
   "source": [
    "evaluation(pec_mini['correct'], pec_mini['antithesis'])"
   ]
  },
  {
   "cell_type": "code",
   "execution_count": 11,
   "id": "71a7e383-92c1-4213-b62f-38762f6a5125",
   "metadata": {},
   "outputs": [
    {
     "data": {
      "text/plain": [
       "66.97"
      ]
     },
     "execution_count": 11,
     "metadata": {},
     "output_type": "execute_result"
    }
   ],
   "source": [
    "evaluation(pec_mini['correct'], pec_mini['synthesis'])"
   ]
  },
  {
   "cell_type": "markdown",
   "id": "8afdb9d5-5118-4818-84c2-a21b6be22ef2",
   "metadata": {},
   "source": [
    "## `phi-medium`"
   ]
  },
  {
   "cell_type": "code",
   "execution_count": 8,
   "id": "c270d910-cb62-4dc8-8ca3-38825fff88ba",
   "metadata": {},
   "outputs": [
    {
     "data": {
      "text/plain": [
       "50.0"
      ]
     },
     "execution_count": 8,
     "metadata": {},
     "output_type": "execute_result"
    }
   ],
   "source": [
    "evaluation(mini['correct'], med['thesis'])"
   ]
  },
  {
   "cell_type": "code",
   "execution_count": 9,
   "id": "d597b435-d42b-49b5-bf59-464bada38fc0",
   "metadata": {},
   "outputs": [
    {
     "data": {
      "text/plain": [
       "88.92"
      ]
     },
     "execution_count": 9,
     "metadata": {},
     "output_type": "execute_result"
    }
   ],
   "source": [
    "evaluation(mini['correct'], med['antithesis']) # migliore"
   ]
  },
  {
   "cell_type": "code",
   "execution_count": 10,
   "id": "35ab7e31-7ba7-44da-ad1f-44b947a81de0",
   "metadata": {},
   "outputs": [
    {
     "data": {
      "text/plain": [
       "89.49"
      ]
     },
     "execution_count": 10,
     "metadata": {},
     "output_type": "execute_result"
    }
   ],
   "source": [
    "evaluation(mini['correct'], med['synthesis'])"
   ]
  },
  {
   "cell_type": "markdown",
   "id": "9682708f-e39b-488c-999f-3d95ce0b6082",
   "metadata": {},
   "source": [
    "## `pecore: phi-medium`"
   ]
  },
  {
   "cell_type": "code",
   "execution_count": 13,
   "id": "cbbdc8c0-b8a2-4631-a7ff-2e80545db0df",
   "metadata": {},
   "outputs": [
    {
     "data": {
      "text/plain": [
       "46.36"
      ]
     },
     "execution_count": 13,
     "metadata": {},
     "output_type": "execute_result"
    }
   ],
   "source": [
    "evaluation(pec_mini['correct'], pec_medium['thesis'])"
   ]
  },
  {
   "cell_type": "code",
   "execution_count": 14,
   "id": "4ceb1677-c869-4c7a-bd91-e89ffacaf6a2",
   "metadata": {},
   "outputs": [
    {
     "data": {
      "text/plain": [
       "81.82"
      ]
     },
     "execution_count": 14,
     "metadata": {},
     "output_type": "execute_result"
    }
   ],
   "source": [
    "evaluation(pec_mini['correct'], pec_medium['antithesis'])"
   ]
  },
  {
   "cell_type": "code",
   "execution_count": 15,
   "id": "55f3ef56-7190-4c7e-b0b7-9c191575afbc",
   "metadata": {},
   "outputs": [
    {
     "data": {
      "text/plain": [
       "83.03"
      ]
     },
     "execution_count": 15,
     "metadata": {},
     "output_type": "execute_result"
    }
   ],
   "source": [
    "evaluation(pec_mini['correct'], pec_medium['synthesis'])"
   ]
  },
  {
   "cell_type": "markdown",
   "id": "cb376996-eb01-4f90-9abf-77ad6529b370",
   "metadata": {},
   "source": [
    "## `gemma-2b`"
   ]
  },
  {
   "cell_type": "code",
   "execution_count": 11,
   "id": "5ba4e659-5176-4bcc-bd66-ea193831cede",
   "metadata": {},
   "outputs": [
    {
     "data": {
      "text/plain": [
       "52.84"
      ]
     },
     "execution_count": 11,
     "metadata": {},
     "output_type": "execute_result"
    }
   ],
   "source": [
    "evaluation(mini['correct'], two['thesis'])"
   ]
  },
  {
   "cell_type": "code",
   "execution_count": 12,
   "id": "af9e2013-636d-4252-bb12-077cccf0a0e6",
   "metadata": {},
   "outputs": [
    {
     "data": {
      "text/plain": [
       "78.41"
      ]
     },
     "execution_count": 12,
     "metadata": {},
     "output_type": "execute_result"
    }
   ],
   "source": [
    "evaluation(mini['correct'], two['antithesis'])"
   ]
  },
  {
   "cell_type": "code",
   "execution_count": 13,
   "id": "36a7443d-fc16-4e0b-94f1-c4b40a168624",
   "metadata": {},
   "outputs": [
    {
     "data": {
      "text/plain": [
       "81.82"
      ]
     },
     "execution_count": 13,
     "metadata": {},
     "output_type": "execute_result"
    }
   ],
   "source": [
    "evaluation(mini['correct'], two['synthesis'])"
   ]
  },
  {
   "cell_type": "markdown",
   "id": "db485d53-f5c3-4ba8-b20f-4b599454fba9",
   "metadata": {},
   "source": [
    "## `gemma-9b`"
   ]
  },
  {
   "cell_type": "code",
   "execution_count": 15,
   "id": "a1bcdd53-0dfb-49ab-9c6f-8daa3361cdf9",
   "metadata": {},
   "outputs": [
    {
     "data": {
      "text/plain": [
       "59.66"
      ]
     },
     "execution_count": 15,
     "metadata": {},
     "output_type": "execute_result"
    }
   ],
   "source": [
    "evaluation(mini['correct'], nine['thesis']) "
   ]
  },
  {
   "cell_type": "code",
   "execution_count": 16,
   "id": "cdf4abad-ea21-4711-a802-e2732876a190",
   "metadata": {},
   "outputs": [
    {
     "data": {
      "text/plain": [
       "87.5"
      ]
     },
     "execution_count": 16,
     "metadata": {},
     "output_type": "execute_result"
    }
   ],
   "source": [
    "evaluation(mini['correct'], nine['antithesis']) # migliore"
   ]
  },
  {
   "cell_type": "code",
   "execution_count": 17,
   "id": "35a192fc-8250-4ede-b961-700cdae7e9ac",
   "metadata": {},
   "outputs": [
    {
     "data": {
      "text/plain": [
       "88.07"
      ]
     },
     "execution_count": 17,
     "metadata": {},
     "output_type": "execute_result"
    }
   ],
   "source": [
    "evaluation(mini['correct'], nine['synthesis']) "
   ]
  },
  {
   "cell_type": "markdown",
   "id": "0c43153d-eab1-4e97-aea9-cf9cf7ab6382",
   "metadata": {},
   "source": [
    "## `llama3.1-8b`"
   ]
  },
  {
   "cell_type": "code",
   "execution_count": 5,
   "id": "e177099d-c37b-499b-a0e0-06dff1313e5e",
   "metadata": {},
   "outputs": [
    {
     "data": {
      "text/plain": [
       "48.3"
      ]
     },
     "execution_count": 5,
     "metadata": {},
     "output_type": "execute_result"
    }
   ],
   "source": [
    "evaluation(mini['correct'], llama['thesis']) "
   ]
  },
  {
   "cell_type": "code",
   "execution_count": 6,
   "id": "517f8864-9b04-45f7-933e-833a9fa42b45",
   "metadata": {},
   "outputs": [
    {
     "data": {
      "text/plain": [
       "86.65"
      ]
     },
     "execution_count": 6,
     "metadata": {},
     "output_type": "execute_result"
    }
   ],
   "source": [
    "evaluation(mini['correct'], llama['antithesis']) "
   ]
  },
  {
   "cell_type": "code",
   "execution_count": 7,
   "id": "4fd93a47-1438-4a89-af1c-2db9e83d54d4",
   "metadata": {},
   "outputs": [
    {
     "data": {
      "text/plain": [
       "87.22"
      ]
     },
     "execution_count": 7,
     "metadata": {},
     "output_type": "execute_result"
    }
   ],
   "source": [
    "evaluation(mini['correct'], llama['synthesis']) "
   ]
  },
  {
   "cell_type": "markdown",
   "id": "54ba352e-9837-4d52-977e-65472632818b",
   "metadata": {},
   "source": [
    "## `pecore: llama-3.1`"
   ]
  },
  {
   "cell_type": "code",
   "execution_count": 7,
   "id": "2f4f7624-51e9-431a-ba9c-56db092d0698",
   "metadata": {},
   "outputs": [
    {
     "data": {
      "text/plain": [
       "48.18"
      ]
     },
     "execution_count": 7,
     "metadata": {},
     "output_type": "execute_result"
    }
   ],
   "source": [
    "evaluation(pec_mini['correct'], pec_llama['thesis']) "
   ]
  },
  {
   "cell_type": "code",
   "execution_count": 8,
   "id": "ac2e577e-5de6-4709-9301-357fed99b6cb",
   "metadata": {},
   "outputs": [
    {
     "data": {
      "text/plain": [
       "78.18"
      ]
     },
     "execution_count": 8,
     "metadata": {},
     "output_type": "execute_result"
    }
   ],
   "source": [
    "evaluation(pec_mini['correct'], pec_llama['antithesis']) "
   ]
  },
  {
   "cell_type": "code",
   "execution_count": 9,
   "id": "c643b68b-c452-4f0d-8744-13b21fcf86a5",
   "metadata": {},
   "outputs": [
    {
     "data": {
      "text/plain": [
       "78.48"
      ]
     },
     "execution_count": 9,
     "metadata": {},
     "output_type": "execute_result"
    }
   ],
   "source": [
    "evaluation(pec_mini['correct'], pec_llama['synthesis']) "
   ]
  },
  {
   "cell_type": "code",
   "execution_count": null,
   "id": "812e7883-8d4c-49ee-bc3b-b184f8c33522",
   "metadata": {},
   "outputs": [],
   "source": []
  }
 ],
 "metadata": {
  "kernelspec": {
   "display_name": "Python 3 (ipykernel)",
   "language": "python",
   "name": "python3"
  },
  "language_info": {
   "codemirror_mode": {
    "name": "ipython",
    "version": 3
   },
   "file_extension": ".py",
   "mimetype": "text/x-python",
   "name": "python",
   "nbconvert_exporter": "python",
   "pygments_lexer": "ipython3",
   "version": "3.9.18"
  }
 },
 "nbformat": 4,
 "nbformat_minor": 5
}
