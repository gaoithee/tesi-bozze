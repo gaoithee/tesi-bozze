{
 "cells": [
  {
   "cell_type": "code",
   "execution_count": 3,
   "id": "2b047866-030c-4462-aff5-a456a48cf503",
   "metadata": {},
   "outputs": [
    {
     "data": {
      "application/vnd.jupyter.widget-view+json": {
       "model_id": "559345d1aa204fff950dde83dcc75263",
       "version_major": 2,
       "version_minor": 0
      },
      "text/plain": [
       "Resolving data files:   0%|          | 0/24 [00:00<?, ?it/s]"
      ]
     },
     "metadata": {},
     "output_type": "display_data"
    },
    {
     "data": {
      "application/vnd.jupyter.widget-view+json": {
       "model_id": "e2c4bc0a0a024cea98397d87e7cbdc22",
       "version_major": 2,
       "version_minor": 0
      },
      "text/plain": [
       "Resolving data files:   0%|          | 0/24 [00:00<?, ?it/s]"
      ]
     },
     "metadata": {},
     "output_type": "display_data"
    },
    {
     "data": {
      "text/plain": [
       "Dataset({\n",
       "    features: ['document', 'question', 'answers'],\n",
       "    num_rows: 3461\n",
       "})"
      ]
     },
     "execution_count": 3,
     "metadata": {},
     "output_type": "execute_result"
    }
   ],
   "source": [
    "from datasets import load_dataset\n",
    "\n",
    "ds = load_dataset('deepmind/narrativeqa', split='validation')\n",
    "ds"
   ]
  },
  {
   "cell_type": "code",
   "execution_count": null,
   "id": "59175550-5be1-43b0-8fd6-3b89c50003b3",
   "metadata": {},
   "outputs": [],
   "source": [
    "sources = []\n",
    "\n",
    "for i in range(100):\n",
    "    sources.append(ds['document'][i]['summary']['text'])"
   ]
  },
  {
   "cell_type": "code",
   "execution_count": null,
   "id": "6aff1dee-af9b-4de0-aa1b-efbb7c794348",
   "metadata": {},
   "outputs": [],
   "source": [
    "query = []\n",
    "\n",
    "for i in range(100):\n",
    "    query.append(ds['question'][i]['text'])"
   ]
  },
  {
   "cell_type": "code",
   "execution_count": null,
   "id": "d7287028-fb58-4486-a0c9-f43305a726bc",
   "metadata": {},
   "outputs": [],
   "source": [
    "answer = []\n",
    "\n",
    "for i in range(100):\n",
    "    answer.append(ds['answers'][i][0]['text'])"
   ]
  },
  {
   "cell_type": "code",
   "execution_count": null,
   "id": "c4181013-33dd-4a24-b1c8-89122326e2c3",
   "metadata": {},
   "outputs": [],
   "source": []
  }
 ],
 "metadata": {
  "kernelspec": {
   "display_name": "Python 3 (ipykernel)",
   "language": "python",
   "name": "python3"
  },
  "language_info": {
   "codemirror_mode": {
    "name": "ipython",
    "version": 3
   },
   "file_extension": ".py",
   "mimetype": "text/x-python",
   "name": "python",
   "nbconvert_exporter": "python",
   "pygments_lexer": "ipython3",
   "version": "3.9.18"
  }
 },
 "nbformat": 4,
 "nbformat_minor": 5
}
