{
 "cells": [
  {
   "cell_type": "markdown",
   "id": "a268f4e1-3a6d-464d-885b-2053e3143a2f",
   "metadata": {},
   "source": [
    "# Dataset, documents, FAISS; retriever"
   ]
  },
  {
   "cell_type": "markdown",
   "id": "96db4863-a54b-4d3a-87e2-74c645fcc018",
   "metadata": {
    "jp-MarkdownHeadingCollapsed": true
   },
   "source": [
    "## 🔹 Load the dataset containing the tuples `(query, correct_answer, distractor_1, distractor_2)` and the one containing the documents"
   ]
  },
  {
   "cell_type": "code",
   "execution_count": 1,
   "id": "094ab87a-0ba8-4878-991e-01515de302e1",
   "metadata": {
    "scrolled": true
   },
   "outputs": [
    {
     "data": {
      "text/plain": [
       "Dataset({\n",
       "    features: ['question', 'options', 'answer', 'type', 'level', 'selected_passages'],\n",
       "    num_rows: 352\n",
       "})"
      ]
     },
     "execution_count": 1,
     "metadata": {},
     "output_type": "execute_result"
    }
   ],
   "source": [
    "from datasets import load_dataset\n",
    "import ast\n",
    "\n",
    "dataset = load_dataset('saracandu/filtered_hotpotQA', split=\"train\", trust_remote_code=True)\n",
    "dataset"
   ]
  },
  {
   "cell_type": "code",
   "execution_count": 201,
   "id": "be68b882-9fee-4ecb-b966-f64fd47f31da",
   "metadata": {},
   "outputs": [
    {
     "data": {
      "application/vnd.jupyter.widget-view+json": {
       "model_id": "32c1d6d965054a5da2398d22b34bc4f8",
       "version_major": 2,
       "version_minor": 0
      },
      "text/plain": [
       "Filter:   0%|          | 0/352 [00:00<?, ? examples/s]"
      ]
     },
     "metadata": {},
     "output_type": "display_data"
    },
    {
     "data": {
      "text/plain": [
       "Dataset({\n",
       "    features: ['question', 'options', 'answer', 'type', 'level', 'selected_passages'],\n",
       "    num_rows: 237\n",
       "})"
      ]
     },
     "execution_count": 201,
     "metadata": {},
     "output_type": "execute_result"
    }
   ],
   "source": [
    "# Definisci la funzione di filtro\n",
    "def filter_function(example):\n",
    "    return example['answer'] not in ['yes', 'no']\n",
    "\n",
    "# Applica il filtro al dataset\n",
    "filtered_dataset = dataset.filter(filter_function)\n",
    "filtered_dataset"
   ]
  },
  {
   "cell_type": "code",
   "execution_count": 203,
   "id": "c3232ca1-3306-450e-9654-a9a47738f61c",
   "metadata": {},
   "outputs": [
    {
     "data": {
      "text/plain": [
       "{'question': 'Who was inducted into the Rock and Roll Hall of Fame, David Lee Roth or Cia Berg?',\n",
       " 'options': \"['Cia Berg', 'David Lee Roth']\",\n",
       " 'answer': 'David Lee Roth',\n",
       " 'type': 'comparison',\n",
       " 'level': 'medium',\n",
       " 'selected_passages': 'Cia Berg (born 2 December 1963), now known as Cia Soro, is a Swedish television presenter and singer. She was at one time the lead singer of the Swedish rock band Whale, who released the single \"Hobo Humpin\\' Slobo Babe\". David Lee Roth (born October 10, 1954) is an American rock vocalist, musician, songwriter, actor, author, and former radio personality. In 2007, he was inducted into the Rock and Roll Hall of Fame.'}"
      ]
     },
     "execution_count": 203,
     "metadata": {},
     "output_type": "execute_result"
    }
   ],
   "source": [
    "dataset[10]"
   ]
  },
  {
   "cell_type": "markdown",
   "id": "926bb532-fa37-4cfe-89fa-731ad140276d",
   "metadata": {},
   "source": [
    "# Model loading and dataset selection (for testing purposes)"
   ]
  },
  {
   "cell_type": "markdown",
   "id": "86132ec0-f0d0-4316-b71e-92af9861cda2",
   "metadata": {
    "jp-MarkdownHeadingCollapsed": true
   },
   "source": [
    "## ▪️ Upload the model: "
   ]
  },
  {
   "cell_type": "code",
   "execution_count": null,
   "id": "7ce89a37-b6e1-48ff-b8fb-621e456392c1",
   "metadata": {},
   "outputs": [],
   "source": [
    "# do not run this unless necessary!\n",
    "\n",
    "from huggingface_hub import login\n",
    "login()"
   ]
  },
  {
   "cell_type": "code",
   "execution_count": 3,
   "id": "cc6eb0bf-fb11-4952-b14e-809b77898a19",
   "metadata": {},
   "outputs": [
    {
     "name": "stderr",
     "output_type": "stream",
     "text": [
      "Special tokens have been added in the vocabulary, make sure the associated word embeddings are fine-tuned or trained.\n",
      "`low_cpu_mem_usage` was None, now set to True since model is quantized.\n"
     ]
    },
    {
     "data": {
      "application/vnd.jupyter.widget-view+json": {
       "model_id": "2fa28265f1474117bd87a099500f5e17",
       "version_major": 2,
       "version_minor": 0
      },
      "text/plain": [
       "Loading checkpoint shards:   0%|          | 0/2 [00:00<?, ?it/s]"
      ]
     },
     "metadata": {},
     "output_type": "display_data"
    }
   ],
   "source": [
    "import torch\n",
    "from transformers import (\n",
    "    AutoModelForCausalLM,\n",
    "    AutoTokenizer,\n",
    "    BitsAndBytesConfig,\n",
    "    HfArgumentParser,\n",
    "    pipeline,\n",
    "    logging,\n",
    ")\n",
    "from peft import LoraConfig, PeftModel\n",
    "\n",
    "#################################################################\n",
    "# Tokenizer\n",
    "#################################################################\n",
    "\n",
    "model_name=\"nvidia/Llama3-ChatQA-1.5-8B\"\n",
    "\n",
    "tokenizer = AutoTokenizer.from_pretrained(model_name, trust_remote_code=True)\n",
    "tokenizer.pad_token = tokenizer.eos_token\n",
    "tokenizer.padding_side = \"right\"\n",
    "\n",
    "#################################################################\n",
    "# bitsandbytes parameters\n",
    "#################################################################\n",
    "\n",
    "# Activate 4-bit precision base model loading\n",
    "use_4bit = True\n",
    "\n",
    "# Compute dtype for 4-bit base models\n",
    "bnb_4bit_compute_dtype = \"float16\"\n",
    "\n",
    "# Quantization type (fp4 or nf4)\n",
    "bnb_4bit_quant_type = \"nf4\"\n",
    "\n",
    "# Activate nested quantization for 4-bit base models (double quantization)\n",
    "use_nested_quant = False\n",
    "\n",
    "#################################################################\n",
    "# Set up quantization config\n",
    "#################################################################\n",
    "compute_dtype = getattr(torch, bnb_4bit_compute_dtype)\n",
    "\n",
    "bnb_config = BitsAndBytesConfig(\n",
    "    load_in_4bit=use_4bit,\n",
    "    bnb_4bit_quant_type=bnb_4bit_quant_type,\n",
    "    bnb_4bit_compute_dtype=compute_dtype,\n",
    "    bnb_4bit_use_double_quant=use_nested_quant,\n",
    ")\n",
    "\n",
    "# Check GPU compatibility with bfloat16\n",
    "if compute_dtype == torch.float16 and use_4bit:\n",
    "    major, _ = torch.cuda.get_device_capability()\n",
    "    if major >= 8:\n",
    "        print(\"=\" * 80)\n",
    "        print(\"Your GPU supports bfloat16: accelerate training with bf16=True\")\n",
    "        print(\"=\" * 80)\n",
    "\n",
    "#################################################################\n",
    "# Load pre-trained config\n",
    "#################################################################\n",
    "model = AutoModelForCausalLM.from_pretrained(\n",
    "    model_name,\n",
    "    quantization_config=bnb_config\n",
    ")"
   ]
  },
  {
   "cell_type": "code",
   "execution_count": 4,
   "id": "2d17128d-7b94-4e6a-9ba2-95a8dc2d4107",
   "metadata": {},
   "outputs": [
    {
     "data": {
      "text/html": [
       "<pre style='margin: 0px; padding: 0px; vertical-align: middle; padding-left: 8px; margin-left: -8px; border-radius: 0px; border-left: 1px solid rgba(127, 127, 127, 0.2); white-space: pre-wrap; font-family: ColfaxAI, Arial; font-size: 15px; line-height: 23px;'>Do you want a joke or a poem? A <span style='background-color: rgba(0.0, 165.0, 0, 0.15); border-radius: 3px;' title='1.0'>poem</span></pre>"
      ],
      "text/plain": [
       "<guidance.models.transformers._transformers.Transformers at 0x7f79209f1d30>"
      ]
     },
     "execution_count": 4,
     "metadata": {},
     "output_type": "execute_result"
    }
   ],
   "source": [
    "from guidance import models, select\n",
    "\n",
    "new_model = models.Transformers(model, tokenizer)\n",
    "\n",
    "new_model + f'Do you want a joke or a poem? A ' + select(['joke', 'poem'])"
   ]
  },
  {
   "cell_type": "markdown",
   "id": "b3df2428-4a0c-4d13-9455-05cc97aaf45e",
   "metadata": {
    "jp-MarkdownHeadingCollapsed": true
   },
   "source": [
    "## ▪️ Test with `guidance`: "
   ]
  },
  {
   "cell_type": "code",
   "execution_count": 5,
   "id": "0545fee1-7acd-4c85-8f01-5cff7fdc7556",
   "metadata": {},
   "outputs": [
    {
     "data": {
      "text/html": [
       "<pre style='margin: 0px; padding: 0px; vertical-align: middle; padding-left: 8px; margin-left: -8px; border-radius: 0px; border-left: 1px solid rgba(127, 127, 127, 0.2); white-space: pre-wrap; font-family: ColfaxAI, Arial; font-size: 15px; line-height: 23px;'>You are a multiple-choice question answering assistant.\n",
       "Choose which of the following options: a star, a planet, a galaxy is the object below.\n",
       "\n",
       "Object: the sun\n",
       "a<span style='background-color: rgba(0.0, 165.0, 0, 0.15); border-radius: 3px;' title='1.0'> star</span></pre>"
      ],
      "text/plain": [
       "<guidance.models.transformers._transformers.Transformers at 0x7fac25beb040>"
      ]
     },
     "execution_count": 5,
     "metadata": {},
     "output_type": "execute_result"
    }
   ],
   "source": [
    "system_message = \"\"\"You are a multiple-choice question answering assistant.\n",
    "Choose which of the following options: a star, a planet, a galaxy is the object below.\n",
    "\n",
    "Object: the sun\n",
    "\"\"\"\n",
    "\n",
    "new_model + system_message + select([\"a planet\", \"a galaxy\", \"a star\"])"
   ]
  },
  {
   "cell_type": "code",
   "execution_count": 6,
   "id": "580d12a6-e140-4675-8721-6577a8e5939f",
   "metadata": {},
   "outputs": [],
   "source": [
    "from langchain import PromptTemplate\n",
    "from langchain_core.runnables import RunnablePassthrough, RunnableParallel\n",
    "from operator import itemgetter\n",
    "\n",
    "prompt_template = PromptTemplate.from_template(\n",
    "\"\"\"You are a multiple-choice question answering assistant.\n",
    "You have a suggestion on which answer is the most appropriate, that is treated as context. Use the suggestion to choose the most proper option.\n",
    "You also have an attempt of answer that you are suggested to neglect. \n",
    "\n",
    "Question: {question}\n",
    "Attempt: {candidate_answer}\n",
    "Context: {critique}\n",
    "\n",
    "The most proper option between {options} is:\n",
    "\"\"\"\n",
    ")\n",
    "\n",
    "augmentation = {\"question\": itemgetter(\"question\"),\n",
    "                \"options\": itemgetter(\"options\"), \n",
    "                \"candidate_answer\": itemgetter(\"candidate_answer\"),\n",
    "                \"critique\": itemgetter(\"critique\"),\n",
    "                \"context\": itemgetter(\"context\"), }\n",
    "\n",
    "synthesis_chain = augmentation | prompt_template "
   ]
  },
  {
   "cell_type": "code",
   "execution_count": 7,
   "id": "25fe594c-9c67-43cf-81ba-a4a26636b77b",
   "metadata": {},
   "outputs": [],
   "source": [
    "# shuffles the order of the vector containing the correct answer and the two distractors\n",
    "# returns another vector, shuffled\n",
    "import re\n",
    "import random\n",
    "\n",
    "# Definisci una funzione di pulizia per rimuovere caratteri non validi\n",
    "def clean_text(text):\n",
    "    return re.sub(r\"[^\\w\\s.,!?\\-:;()]+\", '', text)"
   ]
  },
  {
   "cell_type": "code",
   "execution_count": 8,
   "id": "e54e88d4-401d-46f4-92a4-a8c55fc6984b",
   "metadata": {},
   "outputs": [],
   "source": [
    "def synthesisGeneration(query, prompt_template, merged, candidate_answer, critique, sources):\n",
    "    # merged = ast.literal_eval(merged)\n",
    "    augmented_prompt = synthesis_chain.invoke({'question': query, \n",
    "                                            'options': merged,\n",
    "                                            'candidate_answer': candidate_answer,\n",
    "                                            'critique': critique,\n",
    "                                            'context': sources})\n",
    "\n",
    "    normal_string = clean_text(augmented_prompt.text)\n",
    "    new_model + normal_string + select(merged)"
   ]
  },
  {
   "cell_type": "code",
   "execution_count": 9,
   "id": "0ae4f975-7901-4eb9-9874-74d14f5b36f4",
   "metadata": {},
   "outputs": [
    {
     "data": {
      "text/html": [
       "<pre style='margin: 0px; padding: 0px; vertical-align: middle; padding-left: 8px; margin-left: -8px; border-radius: 0px; border-left: 1px solid rgba(127, 127, 127, 0.2); white-space: pre-wrap; font-family: ColfaxAI, Arial; font-size: 15px; line-height: 23px;'>You are a multiple-choice question answering assistant.\n",
       "You have a suggestion on which answer is the most appropriate, that is treated as context. Use the suggestion to choose the most proper option.\n",
       "You also have an attempt of answer that you are suggested to neglect. \n",
       "\n",
       "Question: what is the sun\n",
       "Attempt: planet\n",
       "Context: the correct answer is: a star since bot an asteroid and a planet are inadequate and not supported by the context\n",
       "\n",
       "The most proper option between star, planet is:\n",
       "<span style='background-color: rgba(0.0, 165.0, 0, 0.15); border-radius: 3px;' title='1.0'>star</span></pre>"
      ],
      "text/plain": [
       "<IPython.core.display.HTML object>"
      ]
     },
     "metadata": {},
     "output_type": "display_data"
    }
   ],
   "source": [
    "synthesisGeneration('what is the sun', prompt_template, ['star', 'planet'], 'planet', \n",
    "                    'the correct answer is: a star since bot an asteroid and a planet are inadequate and not supported by the context', \n",
    "                    'The Sun is the star at the center of the Solar System. It is a massive, nearly perfect sphere of hot plasma, heated to incandescence by nuclear fusion reactions in its core, radiating the energy from its surface mainly as visible light and infrared radiation with 10% at ultraviolet energies.')"
   ]
  },
  {
   "cell_type": "code",
   "execution_count": 10,
   "id": "c952a714-1f7c-48d0-8538-10bc2717091e",
   "metadata": {},
   "outputs": [
    {
     "data": {
      "text/html": [
       "<pre style='margin: 0px; padding: 0px; vertical-align: middle; padding-left: 8px; margin-left: -8px; border-radius: 0px; border-left: 1px solid rgba(127, 127, 127, 0.2); white-space: pre-wrap; font-family: ColfaxAI, Arial; font-size: 15px; line-height: 23px;'>You are a multiple-choice question answering assistant.\n",
       "You have a suggestion on which answer is the most appropriate, that is treated as context. Use the suggestion to choose the most proper option.\n",
       "You also have an attempt of answer that you are suggested to neglect. \n",
       "\n",
       "Question: Which magazine was started first Arthurs Magazine or First for Women?\n",
       "Attempt: First for Women\n",
       "Context: the correct answer is Arthurs Magazine and the context agrees\n",
       "\n",
       "The most proper option between First for Women, Arthurs Magazine is:\n",
       "<span style='background-color: rgba(0.0, 165.0, 0, 0.15); border-radius: 3px;' title='1.0'>A</span>rthur&#x27;s Magazine</pre>"
      ],
      "text/plain": [
       "<IPython.core.display.HTML object>"
      ]
     },
     "metadata": {},
     "output_type": "display_data"
    }
   ],
   "source": [
    "source = \"\"\" Arthur\\'s Magazine (1844–1846) was an American literary periodical published in Philadelphia in the 19th century. \n",
    "Edited by T.S. Arthur, it featured work by Edgar A. Poe, J.H. Ingraham, Sarah Josepha Hale, Thomas G. Spear, and others. \n",
    "In May 1846 it was merged into \"Godey\\'s Lady\\'s Book. First for Women is a woman\\'s magazine published by Bauer Media Group in the USA.  \n",
    "The magazine was started in 1989. It is based in Englewood Cliffs, New Jersey. In 2011 the circulation of the magazine was 1,310,696 copies.\n",
    "    \"\"\"\n",
    "\n",
    "synthesisGeneration('Which magazine was started first Arthur\\'s Magazine or First for Women?', \n",
    "                    prompt_template, ['First for Women', 'Arthur\\'s Magazine'], 'First for Women', \n",
    "                    'the correct answer is Arthur\\'s Magazine and the context agrees', \n",
    "                    source)"
   ]
  },
  {
   "cell_type": "code",
   "execution_count": 11,
   "id": "5a80b5f8-3ff3-4531-a8e8-bdaf5f167c38",
   "metadata": {},
   "outputs": [
    {
     "data": {
      "text/html": [
       "<pre style='margin: 0px; padding: 0px; vertical-align: middle; padding-left: 8px; margin-left: -8px; border-radius: 0px; border-left: 1px solid rgba(127, 127, 127, 0.2); white-space: pre-wrap; font-family: ColfaxAI, Arial; font-size: 15px; line-height: 23px;'>You are a multiple-choice question answering assistant.\n",
       "You have a suggestion on which answer is the most appropriate, that is treated as context. Use the suggestion to choose the most proper option.\n",
       "You also have an attempt of answer that you are suggested to neglect. \n",
       "\n",
       "Question: The Oberoi family is part of a hotel company that has a head office in what city?\n",
       "Attempt: Sammardenchia\n",
       "Context: Delhi is correct\n",
       "\n",
       "The most proper option between Delhi, Sammardenchia is:\n",
       "<span style='background-color: rgba(0.0, 165.0, 0, 0.15); border-radius: 3px;' title='1.0'>Del</span>hi</pre>"
      ],
      "text/plain": [
       "<IPython.core.display.HTML object>"
      ]
     },
     "metadata": {},
     "output_type": "display_data"
    }
   ],
   "source": [
    "source = \"\"\" \"The Oberoi family is an Indian family that is famous for its involvement in hotels, namely through The Oberoi Group. \n",
    "The Oberoi Group is a hotel company with its head office in Delhi. \n",
    "Founded in 1934, the company owns and/or operates 30+ luxury hotels and two river cruise ships in six countries, primarily under its Oberoi Hotels & Resorts and Trident Hotels brands.\".\n",
    "    \"\"\"\n",
    "\n",
    "synthesisGeneration('The Oberoi family is part of a hotel company that has a head office in what city?', \n",
    "                    prompt_template, ['Delhi', 'Sammardenchia'], 'Sammardenchia', \n",
    "                    'Delhi is correct', \n",
    "                    source)"
   ]
  },
  {
   "cell_type": "code",
   "execution_count": 12,
   "id": "e819edc2-c138-472e-bd94-31559555e63b",
   "metadata": {},
   "outputs": [
    {
     "data": {
      "text/html": [
       "<pre style='margin: 0px; padding: 0px; vertical-align: middle; padding-left: 8px; margin-left: -8px; border-radius: 0px; border-left: 1px solid rgba(127, 127, 127, 0.2); white-space: pre-wrap; font-family: ColfaxAI, Arial; font-size: 15px; line-height: 23px;'>You are a multiple-choice question answering assistant.\n",
       "You have a suggestion on which answer is the most appropriate, that is treated as context. Use the suggestion to choose the most proper option.\n",
       "You also have an attempt of answer that you are suggested to neglect. \n",
       "\n",
       "Question: Musician and satirist Allie Goertz wrote a song about the The Simpsons character Milhouse, who Matt Groening named after who?\n",
       "Attempt: Obama\n",
       "Context: the correct answer is Nixon\n",
       "\n",
       "The most proper option between Nixon, Obama is:\n",
       "<span style='background-color: rgba(0.0, 165.0, 0, 0.15); border-radius: 3px;' title='1.0'>N</span>ixon</pre>"
      ],
      "text/plain": [
       "<IPython.core.display.HTML object>"
      ]
     },
     "metadata": {},
     "output_type": "display_data"
    }
   ],
   "source": [
    "source = \"\"\" Allison Beth Allie Goertz (born March 2, 1991) is an American musician. \n",
    "Goertz is known for her satirical songs based on various pop culture topics. Her videos are posted on YouTube under the name of Cossbysweater. \n",
    "Subjects of her songs have included the film The Room, the character Milhouse from the television show The Simpsons, and the game Dungeons & Dragons. \n",
    "Her style has been compared to that of Bo Burnham. In December 2015, Goertz released a concept album based on the Adult Swim series Rick and Morty, Sad Dance Songs, \n",
    "with the album\\'s cover emulating the animation and logo of the series.  The album was made possible through Kickstarter. \n",
    "She is co-host of Everything's Coming Up Podcast, a Simpsons-focused podcast along with Julia Prescott. \n",
    "Milhouse Mussolini van Houten is a fictional character featured in the animated television series The Simpsons, voiced by Pamela Hayden, and created by Matt Groening \n",
    "who named the character after President Richard Nixon\\'s middle name. Later in the series, it is revealed that Milhouse\\'s middle name is Mussolini. \"\n",
    "    \"\"\"\n",
    "\n",
    "synthesisGeneration('Musician and satirist Allie Goertz wrote a song about the \"The Simpsons\" character Milhouse, who Matt Groening named after who?', \n",
    "                    prompt_template, ['Nixon', 'Obama'], 'Obama', \n",
    "                    'the correct answer is Nixon', \n",
    "                    source)"
   ]
  },
  {
   "cell_type": "code",
   "execution_count": 14,
   "id": "84b184cf-41a6-4f5a-9fa5-d9f547fe8243",
   "metadata": {},
   "outputs": [
    {
     "data": {
      "text/html": [
       "<pre style='margin: 0px; padding: 0px; vertical-align: middle; padding-left: 8px; margin-left: -8px; border-radius: 0px; border-left: 1px solid rgba(127, 127, 127, 0.2); white-space: pre-wrap; font-family: ColfaxAI, Arial; font-size: 15px; line-height: 23px;'>You are a multiple-choice question answering assistant.\n",
       "You have a suggestion on which answer is the most appropriate, that is treated as context. Use the suggestion to choose the most proper option.\n",
       "You also have an attempt of answer that you are suggested to neglect. \n",
       "\n",
       "Question: What profession does Nicholas Ray and Elia Kazan have in common?\n",
       "Attempt: director\n",
       "Context: the correct answer is writer\n",
       "\n",
       "The most proper option between director, writer is:\n",
       "<span style='background-color: rgba(0.0, 165.0, 0, 0.15); border-radius: 3px;' title='1.0'>writer</span></pre>"
      ],
      "text/plain": [
       "<IPython.core.display.HTML object>"
      ]
     },
     "metadata": {},
     "output_type": "display_data"
    }
   ],
   "source": [
    "source = \"\"\" \n",
    "Nicholas Ray (born Raymond Nicholas Kienzle Jr., August 7, 1911 – June 16, 1979) was an American film director best known for the movie Rebel Without a Cause. \n",
    "Elia Kazan (born Elias Kazantzoglou September 7, 1909 – September 28, 2003) was a Greek-American director, producer, writer and actor, described by The New York Times as one of the most honored and influential directors in Broadway and Hollywood history.\n",
    "    \"\"\"\n",
    "\n",
    "synthesisGeneration('What profession does Nicholas Ray and Elia Kazan have in common?', \n",
    "                    prompt_template, ['director', 'writer'], 'director', \n",
    "                    'the correct answer is writer', \n",
    "                    source)"
   ]
  },
  {
   "cell_type": "markdown",
   "id": "702cc29e-5f6a-440e-a5fd-8a5bee3050f6",
   "metadata": {
    "jp-MarkdownHeadingCollapsed": true
   },
   "source": [
    "## ▪️ Select a subset of the true dataset as a test"
   ]
  },
  {
   "cell_type": "code",
   "execution_count": 204,
   "id": "dccbd160-6698-430a-b1db-feafcd5799d0",
   "metadata": {},
   "outputs": [],
   "source": [
    "# shuffles the order of the vector containing the correct answer and the two distractors\n",
    "# returns another vector, shuffled\n",
    "import re\n",
    "import random\n",
    "\n",
    "# Definisci una funzione di pulizia per rimuovere caratteri non validi\n",
    "def clean_text(text):\n",
    "    return re.sub(r\"[^\\w\\s.,!?\\-:;()]+\", '', text)"
   ]
  },
  {
   "cell_type": "code",
   "execution_count": 205,
   "id": "bd1087d9-3e1d-444a-a250-b57fca3862d2",
   "metadata": {},
   "outputs": [],
   "source": [
    "N_examples = 237"
   ]
  },
  {
   "cell_type": "code",
   "execution_count": 206,
   "id": "2e058aac-3fa5-42b7-95db-809669ac8524",
   "metadata": {},
   "outputs": [],
   "source": [
    "# select a subset of the queries, just for test:\n",
    "first_queries = filtered_dataset['question'][:N_examples]\n",
    "\n",
    "# same for correct answers and distractors:\n",
    "correct_answers = filtered_dataset['answer'][:N_examples]\n",
    "possibilities = filtered_dataset['options'][:N_examples]\n",
    "# and for the sources:\n",
    "sources = filtered_dataset['selected_passages'][:N_examples]"
   ]
  },
  {
   "cell_type": "markdown",
   "id": "b312ecad-c2c4-4791-bc82-bfaae5f5fa04",
   "metadata": {},
   "source": [
    "# Thesis"
   ]
  },
  {
   "cell_type": "markdown",
   "id": "f722aa12-2d2a-4868-83ef-96f01617d4d7",
   "metadata": {},
   "source": [
    "## 🔹 PromptTemplate definition and a LLMChain for the **thesis** "
   ]
  },
  {
   "cell_type": "code",
   "execution_count": 207,
   "id": "34445f5e-870a-4cbc-a1f6-1b004027426a",
   "metadata": {},
   "outputs": [],
   "source": [
    "# prompt template definition\n",
    "# requires question, options (a string containing the possible options) and the context as input variables!\n",
    "\n",
    "from langchain import PromptTemplate\n",
    "prompt_template = PromptTemplate.from_template(\n",
    "\"\"\"\n",
    "    System: This is a chat between a user and an AI assistant. The assistant gives helpful, detailed, and polite answers to the user’s questions based on the context. \n",
    "    {context}\n",
    "    User: {question}\n",
    "    Possible options: {options}.\n",
    "    Assistant:\n",
    "\"\"\"\n",
    ")"
   ]
  },
  {
   "cell_type": "markdown",
   "id": "0bcc84e0-fa8c-404d-85b4-96be5448a81d",
   "metadata": {},
   "source": [
    "## 🔹 Function that generates the output given the prompt, the question and the set of options"
   ]
  },
  {
   "cell_type": "code",
   "execution_count": 208,
   "id": "07b5e395-05a8-4ba7-a960-07e6b496aafe",
   "metadata": {},
   "outputs": [],
   "source": [
    "# LLM chain definition\n",
    "from operator import itemgetter\n",
    "\n",
    "augmentation = {\"question\": itemgetter(\"question\"),\n",
    "                \"options\": itemgetter(\"options\"),\n",
    "                \"context\": itemgetter(\"context\"), }\n",
    "\n",
    "thesis_chain = augmentation | prompt_template "
   ]
  },
  {
   "cell_type": "code",
   "execution_count": 209,
   "id": "18ca079d-d85c-491f-87ab-2a0dfd626894",
   "metadata": {},
   "outputs": [],
   "source": [
    "def thesisGeneration(query, merged, sources):\n",
    "    merged = ast.literal_eval(merged)\n",
    "    augmented_prompt = thesis_chain.invoke({'question': query, 'options': merged, 'context': sources})\n",
    "    normal_string = clean_text(augmented_prompt.text)\n",
    "    ans = new_model + normal_string + select([clean_text(merged[0]), clean_text(merged[1])])\n",
    "    return str(ans)"
   ]
  },
  {
   "cell_type": "code",
   "execution_count": 210,
   "id": "dc34eb1d-d402-4373-b8c5-e21cd51902b1",
   "metadata": {},
   "outputs": [],
   "source": [
    "def extract_answer(text):\n",
    "    # Trova l'indice in cui inizia il testo \"Why or why not the answer is correct:\"\n",
    "    start_index = text.find(\"Assistant:\\n\")\n",
    "\n",
    "    \n",
    "    # Se l'indice è stato trovato, estrai la risposta corretta\n",
    "    if start_index != -1:\n",
    "        start_index += len(\"Assistant:\\n\")\n",
    "        # Estrai il testo dopo \"Why or why not the answer is correct:\"\n",
    "        correct_answer_text = text[start_index:].strip()\n",
    "        return correct_answer_text\n",
    "    else:\n",
    "        return \"The correct answer could not be found.\""
   ]
  },
  {
   "cell_type": "markdown",
   "id": "3ecf177e-3d1d-4e08-96d3-c9bf9144c986",
   "metadata": {},
   "source": [
    "## 🔹 Test: how well the thesis alone is able to perform?"
   ]
  },
  {
   "cell_type": "code",
   "execution_count": 211,
   "id": "b4cf535d-2517-452e-8ef3-821dc8524cf4",
   "metadata": {},
   "outputs": [
    {
     "data": {
      "text/html": [
       "<pre style='margin: 0px; padding: 0px; vertical-align: middle; padding-left: 8px; margin-left: -8px; border-radius: 0px; border-left: 1px solid rgba(127, 127, 127, 0.2); white-space: pre-wrap; font-family: ColfaxAI, Arial; font-size: 15px; line-height: 23px;'>\n",
       "    System: This is a chat between a user and an AI assistant. The assistant gives helpful, detailed, and polite answers to the users questions based on the context. \n",
       "    Dragonslayer is a 1981 American fantasy film directed by Matthew Robbins, from a screenplay he co-wrote with Hal Barwood. It stars Peter MacNicol, Ralph Richardson, John Hallam and Caitlin Clarke. The story, set in a fictional medieval kingdom, follows a young wizard who experiences danger and opposition as he attempts to defeat a dragon. Swiss Family Robinson is a 1960 American Adventure film starring John Mills, Dorothy McGuire, James MacArthur, Janet Munro, Tommy Kirk and Kevin Corcoran in a tale of a shipwrecked family building an island home, loosely based on the 1812 novel Der Schweizerische Robinson (literally, The Swiss Robinson) by Johann David Wyss. The film was directed by Ken Annakin and shot in Tobago and Pinewood Studios outside London. It was the second feature film version of the story (the first film version was released by RKO in 1940) and was a commercial success.\n",
       "    User: Which American film, Dragonslayer or Swiss Family Robinson, was shot outside London?\n",
       "    Possible options: Dragonslayer, Swiss Family Robinson.\n",
       "    Assistant:\n",
       "<span style='background-color: rgba(0.0, 165.0, 0, 0.15); border-radius: 3px;' title='1.0'>Sw</span>iss Family Robinson</pre>"
      ],
      "text/plain": [
       "<IPython.core.display.HTML object>"
      ]
     },
     "metadata": {},
     "output_type": "display_data"
    }
   ],
   "source": [
    "answers = []\n",
    "for i in range(N_examples):\n",
    "    answers.append(extract_answer(thesisGeneration(first_queries[i], possibilities[i], sources[i])))"
   ]
  },
  {
   "cell_type": "code",
   "execution_count": 212,
   "id": "4815bcc6-48ba-40de-b2a4-a9510da209fe",
   "metadata": {},
   "outputs": [
    {
     "data": {
      "text/plain": [
       "['First for Women',\n",
       " 'Jonathan Stark',\n",
       " 'The Wolfhounds',\n",
       " 'New York City',\n",
       " 'Aleksander Ford']"
      ]
     },
     "execution_count": 212,
     "metadata": {},
     "output_type": "execute_result"
    }
   ],
   "source": [
    "answers[:5]"
   ]
  },
  {
   "cell_type": "code",
   "execution_count": 16,
   "id": "4a43db93-0cca-4824-b479-6fb29529a06e",
   "metadata": {},
   "outputs": [
    {
     "data": {
      "text/plain": [
       "[\"Arthur's Magazine\", 'Jonathan Stark', 'The Wolfhounds', 'no', 'no']"
      ]
     },
     "execution_count": 16,
     "metadata": {},
     "output_type": "execute_result"
    }
   ],
   "source": [
    "correct_answers[:5]"
   ]
  },
  {
   "cell_type": "markdown",
   "id": "e222ef24-3231-4ee1-ae92-4b1b67551500",
   "metadata": {},
   "source": [
    "# Antithesis"
   ]
  },
  {
   "cell_type": "code",
   "execution_count": 213,
   "id": "9e21293c-f26c-4c36-b5b0-dc3cffe4c666",
   "metadata": {},
   "outputs": [],
   "source": [
    "import transformers\n",
    "\n",
    "pipeline = transformers.pipeline(\n",
    "    model=model,\n",
    "    tokenizer=tokenizer,\n",
    "    task=\"text-generation\",\n",
    "    do_sample=False,\n",
    "    temperature=0.0,\n",
    "    repetition_penalty=1.5,\n",
    "    return_full_text=True,\n",
    "    max_new_tokens=400,\n",
    "    top_p=0.0\n",
    ")"
   ]
  },
  {
   "cell_type": "code",
   "execution_count": 214,
   "id": "33184819-91d2-42f0-97ab-44daab45f74b",
   "metadata": {},
   "outputs": [],
   "source": [
    "import torch\n",
    "import transformers\n",
    "from transformers import AutoTokenizer, AutoModelForCausalLM\n",
    "from IPython.display import display, Markdown\n",
    "\n",
    "def query_model(\n",
    "        system_message,\n",
    "        user_message,\n",
    "        temperature = 0.0,\n",
    "        max_length=1024\n",
    "        ):\n",
    "\n",
    "    user_message = \"Question: \" + user_message + \" Correct answer:\"\n",
    "    messages = [\n",
    "        {\"role\": \"System\", \"content\": system_message},\n",
    "        {\"role\": \"User\", \"content\": user_message},\n",
    "        ]\n",
    "    prompt = pipeline.tokenizer.apply_chat_template(\n",
    "        messages, \n",
    "        tokenize=False, \n",
    "        add_generation_prompt=True\n",
    "        )\n",
    "    terminators = [\n",
    "        pipeline.tokenizer.eos_token_id,\n",
    "        pipeline.tokenizer.convert_tokens_to_ids(\"<|eot_id|>\")\n",
    "    ]\n",
    "    sequences = pipeline(\n",
    "        prompt,\n",
    "        do_sample=False,\n",
    "        top_p=0.0,\n",
    "        temperature=temperature,\n",
    "        #num_return_sequences=1,\n",
    "        eos_token_id=terminators,\n",
    "        max_new_tokens=max_length,\n",
    "        return_full_text=False,\n",
    "        pad_token_id=pipeline.model.config.eos_token_id\n",
    "    )\n",
    "\n",
    "    answer = sequences[0]['generated_text']\n",
    "\n",
    "    return user_message + \" \" + answer  "
   ]
  },
  {
   "cell_type": "code",
   "execution_count": 215,
   "id": "c29e2fd3-113f-4780-8ccf-a8b9e82e850f",
   "metadata": {},
   "outputs": [],
   "source": [
    "system_message = \"\"\"\n",
    "    This is a chat between a user and an AI assistant.\n",
    "    The assistant is asked to answer a question given a certain number of candidate options, an attempt of answer\n",
    "    and the context: {context}\n",
    "    The assistant has to check which option is more grounded on the context given the question.\n",
    "\"\"\"\n",
    "\n",
    "\n",
    "user_message = \"\"\"\n",
    "    Question: {question}?\n",
    "    It also has an attempt of answer, that could be right or wrong: {candidate_answer}\n",
    "    Which of the candidate answers {options} is the most proper answer for the question? Why? \n",
    "    Think step by step but choose only one of the options: {options}. You are forbidden to say that it depends.\n",
    "\"\"\""
   ]
  },
  {
   "cell_type": "markdown",
   "id": "a643ed8f-0d35-44b4-84cd-293816c40ed4",
   "metadata": {},
   "source": [
    "## 🔸 Function to generate the antithesis given the question, the thesis, the context and the options"
   ]
  },
  {
   "cell_type": "code",
   "execution_count": 216,
   "id": "b5ffee32-0ea6-439d-9ec5-1440dd58b692",
   "metadata": {},
   "outputs": [],
   "source": [
    "def antithesisGeneration(query, prompt_template, merged, candidate_answer, sources):\n",
    "    merged = ast.literal_eval(merged)\n",
    "    second_answer = query_model(system_message.format(context = sources),\n",
    "    user_message.format(question=query, options = merged, candidate_answer = candidate_answer, context = sources,), max_length=400)\n",
    "    return second_answer"
   ]
  },
  {
   "cell_type": "code",
   "execution_count": 217,
   "id": "bdf63893-af51-4f42-8e8b-6de9403fd05f",
   "metadata": {},
   "outputs": [],
   "source": [
    "def extract_answer_ant(text):\n",
    "    # Trova l'indice in cui inizia il testo \"Why or why not the answer is correct:\"\n",
    "    start_index = text.find(\"Correct answer:\")\n",
    "\n",
    "    \n",
    "    # Se l'indice è stato trovato, estrai la risposta corretta\n",
    "    if start_index != -1:\n",
    "        start_index += len(\"Correct answer:\")\n",
    "        # Estrai il testo dopo \"Why or why not the answer is correct:\"\n",
    "        correct_answer_text = text[start_index:].strip()\n",
    "        return correct_answer_text\n",
    "    else:\n",
    "        return \"The correct answer could not be found.\""
   ]
  },
  {
   "cell_type": "code",
   "execution_count": 218,
   "id": "ec71c35b-0598-429f-a99d-df9e82da06b9",
   "metadata": {
    "scrolled": true
   },
   "outputs": [
    {
     "name": "stderr",
     "output_type": "stream",
     "text": [
      "/orfeo/cephfs/home/dssc/scandu00/nlp-env/lib64/python3.9/site-packages/transformers/generation/configuration_utils.py:492: UserWarning: `do_sample` is set to `False`. However, `temperature` is set to `0.0` -- this flag is only used in sample-based generation modes. You should set `do_sample=True` or unset `temperature`.\n",
      "  warnings.warn(\n",
      "/orfeo/cephfs/home/dssc/scandu00/nlp-env/lib64/python3.9/site-packages/transformers/generation/configuration_utils.py:497: UserWarning: `do_sample` is set to `False`. However, `top_p` is set to `0.0` -- this flag is only used in sample-based generation modes. You should set `do_sample=True` or unset `top_p`.\n",
      "  warnings.warn(\n",
      "/orfeo/cephfs/home/dssc/scandu00/nlp-env/lib64/python3.9/site-packages/transformers/pipelines/base.py:1167: UserWarning: You seem to be using the pipelines sequentially on GPU. In order to maximize efficiency please use a dataset\n",
      "  warnings.warn(\n"
     ]
    }
   ],
   "source": [
    "ant_answers = []\n",
    "for i in range(N_examples):\n",
    "    ant_answers.append(extract_answer_ant(antithesisGeneration(first_queries[i], prompt_template, possibilities[i], answers[i], sources[i])))"
   ]
  },
  {
   "cell_type": "code",
   "execution_count": 222,
   "id": "93695a06-214d-4bc0-9f41-219192027cac",
   "metadata": {
    "scrolled": true
   },
   "outputs": [
    {
     "data": {
      "text/plain": [
       "['[\"Which\" means compare]',\n",
       " \"'Jonathon stark'\\n\\nThe correct response can vary depending upon whether you consider all grand slam events including mixed double as well\",\n",
       " '\"The wolf hound\"',\n",
       " 'The correct response would have been \"Yes\", as both buildings mentioned - namely **\"the Empire State Bldg.\"** [sic] at *20 West Street*; Manhattan NY USA / NYC aka N.Y.C., U.S.A.; North America/USA/NY/City Island/Empire state bdlg./Emp.St.Bdg.-Esb-ESB-Esblngbldrgrd-Building-grdyrd-buldr-gryrdbuldrgyrbdlgybrlg-yrlbg-dlbyfjglk-jklhgfdsafghjk-lkjhgfdsa-fdsa-hfgjh-kjlhfdfsdasfsdhfkjsa-, ESB-NYC-Manhattan-Wall St-New Jersey-Central park-Times Square-Midtown South-West Side-East River-Hudson river-South Ferry-Chelsea-Greenwich Village-Lower East side-Uptown-AlphabetCity-RandomIsland-StatenIslnd-FiveBurroughs-TheBronx-Qnsboro-KingsCoBrooklynManhtnRichmondStgeNYC5Bs-islands-of-the-city-nyc-metro-area-new york metro area-east coast-us east-coast-easternecoaste-wind-sunrise-settlesunset-westwind-almanac-tides-seawaves-oceanic-atmosphere-astronomy-celestial-cosmic-stargazing-nighttime-daylight-hours-light-year-distance-universe-space-time-travel-extraterrestrial-life-form-ufo-visitors-intergalactic-interspace-intrauniversal-transwarp-drives-portholes-tearshadows-blackholes-whitehole-bigbang-expansion-contraction-relativity-speedoflightspeed-limit-breakthrough-science-fictional-genre-artistic-literary-poetic-imagination-inspiration-storyline-characterization-dialogue-setting-description-symbolism-theme-subtext-metafiction-autobiography-graphicalnovel-comics-cartoon-animated-liveaction-directors',\n",
       " \"'Alexsader ford'\\nThe correct birth date information can easily confirm this fact\",\n",
       " \"'director'\",\n",
       " '\"The Saima gesture\".',\n",
       " \"'David lee roth'.\",\n",
       " \"'Glen Huges'\\n\\nExplanation:\\nThe reference text states clearly their birth dates with Glen being born first so therefore would have been alive before any other person mentioned was even thought about let alone conceived!\",\n",
       " 'The correct response would depend upon whether you consider all three bands mentioned above - namely; St.Motel, curve & dream-pop- together under same umbrella term i.e., Indie Pop Band. If yes then your reply will go like this : “It’s obvious!”']"
      ]
     },
     "execution_count": 222,
     "metadata": {},
     "output_type": "execute_result"
    }
   ],
   "source": [
    "ant_answers[:10]"
   ]
  },
  {
   "cell_type": "code",
   "execution_count": 154,
   "id": "6b22ec6b-32a7-4c40-b6d7-518a7b99fde6",
   "metadata": {},
   "outputs": [
    {
     "data": {
      "text/plain": [
       "[\"Which magazine was started first Arthur's Magazine or First for Women?\",\n",
       " 'Which tennis player won more Grand Slam titles, Henri Leconte or Jonathan Stark?',\n",
       " 'Which band was founded first, Hole, the rock band that Courtney Love was a frontwoman of, or The Wolfhounds?',\n",
       " 'Were Pavel Urysohn and Leonid Levin known for the same type of work?',\n",
       " 'Are both The New Pornographers and Kings of Leon American rock bands?',\n",
       " '750 7th Avenue and 101 Park Avenue, are located in which city?',\n",
       " 'Who was born first, Pablo Trapero or Aleksander Ford?',\n",
       " \"Are Jane and First for Women both women's magazines?\",\n",
       " 'What profession does Nicholas Ray and Elia Kazan have in common?',\n",
       " 'Which documentary is about Finnish rock groups, Adam Clayton Powell or The Saimaa Gesture?']"
      ]
     },
     "execution_count": 154,
     "metadata": {},
     "output_type": "execute_result"
    }
   ],
   "source": [
    "first_queries[:10]"
   ]
  },
  {
   "cell_type": "code",
   "execution_count": 55,
   "id": "b286c56c-01be-49a2-b265-fedc34a0d8c2",
   "metadata": {},
   "outputs": [
    {
     "data": {
      "text/plain": [
       "[\"Arthur's Magazine\", 'Jonathan Stark', 'The Wolfhounds', 'no', 'no']"
      ]
     },
     "execution_count": 55,
     "metadata": {},
     "output_type": "execute_result"
    }
   ],
   "source": [
    "correct_answers[:5]"
   ]
  },
  {
   "cell_type": "markdown",
   "id": "f600cfb8-6a35-4baa-8236-c02c2909868c",
   "metadata": {},
   "source": [
    "# Synthesis"
   ]
  },
  {
   "cell_type": "markdown",
   "id": "2c1edb95-c057-4d4b-8a40-c24f578e6c6b",
   "metadata": {},
   "source": [
    "## 🔺 PromptTemplate definition and a LLMChain for the **synthesis** "
   ]
  },
  {
   "cell_type": "code",
   "execution_count": 219,
   "id": "50e0e37b-1b37-40a5-a9de-cf5a6a5dff62",
   "metadata": {},
   "outputs": [],
   "source": [
    "prompt_template = PromptTemplate.from_template(\n",
    "\"\"\"You are a multiple-choice question answering assistant.\n",
    "You have a suggestion on which answer is the most appropriate that you are strongly suggested to follow.\n",
    "Choose the most proper option between {options} that best matches with the suggestion. \n",
    "\n",
    "Question: {question}\n",
    "Context: {critique}\n",
    "Sources: {context}\n",
    "\n",
    "Assistant:\n",
    "\"\"\"\n",
    ")\n",
    "\n",
    "augmentation = {\"question\": itemgetter(\"question\"),\n",
    "                \"options\": itemgetter(\"options\"), \n",
    "                \"candidate_answer\": itemgetter(\"candidate_answer\"),\n",
    "                \"critique\": itemgetter(\"critique\"),\n",
    "                \"context\": itemgetter(\"context\"), }\n",
    "\n",
    "synthesis_chain = augmentation | prompt_template "
   ]
  },
  {
   "cell_type": "markdown",
   "id": "8170bc0d-1182-4c31-b33d-65fe64e1c385",
   "metadata": {},
   "source": [
    "## 🔺 Function to generate the synthesis given literally everything"
   ]
  },
  {
   "cell_type": "code",
   "execution_count": 220,
   "id": "38bef727-d240-4511-a556-0d2c19db4fa6",
   "metadata": {},
   "outputs": [],
   "source": [
    "def synthesisGeneration(query, prompt_template, merged, candidate_answer, critique, sources):\n",
    "    merged = ast.literal_eval(merged)\n",
    "    augmented_prompt = synthesis_chain.invoke({'question': query, \n",
    "                                            'options': merged,\n",
    "                                            'candidate_answer': candidate_answer,\n",
    "                                            'critique': critique,\n",
    "                                            'context': sources})\n",
    "\n",
    "    normal_string = clean_text(augmented_prompt.text)\n",
    "    ans = new_model + normal_string + select([clean_text(merged[0]), clean_text(merged[1])])\n",
    "    return str(ans)"
   ]
  },
  {
   "cell_type": "code",
   "execution_count": 21,
   "id": "538c897d-183c-40eb-a9e2-c05e53addd03",
   "metadata": {},
   "outputs": [],
   "source": [
    "def_answers = [\"the correct option is \" + clean_text(correct_answer)\n",
    "               + \"since the other options is not mentioned in the context\" for correct_answer in correct_answers]"
   ]
  },
  {
   "cell_type": "code",
   "execution_count": 221,
   "id": "5856d161-623d-4258-bd8c-fbe224f1b286",
   "metadata": {},
   "outputs": [
    {
     "data": {
      "text/html": [
       "<pre style='margin: 0px; padding: 0px; vertical-align: middle; padding-left: 8px; margin-left: -8px; border-radius: 0px; border-left: 1px solid rgba(127, 127, 127, 0.2); white-space: pre-wrap; font-family: ColfaxAI, Arial; font-size: 15px; line-height: 23px;'>You are a multiple-choice question answering assistant.\n",
       "You have a suggestion on which answer is the most appropriate that you are strongly suggested to follow.\n",
       "Choose the most proper option between Dragonslayer, Swiss Family Robinson that best matches with the suggestion. \n",
       "\n",
       "Question: Which American film, Dragonslayer or Swiss Family Robinson, was shot outside London?\n",
       "Context: Swiss Family Robinso\n",
       "Sources: Dragonslayer is a 1981 American fantasy film directed by Matthew Robbins, from a screenplay he co-wrote with Hal Barwood. It stars Peter MacNicol, Ralph Richardson, John Hallam and Caitlin Clarke. The story, set in a fictional medieval kingdom, follows a young wizard who experiences danger and opposition as he attempts to defeat a dragon. Swiss Family Robinson is a 1960 American Adventure film starring John Mills, Dorothy McGuire, James MacArthur, Janet Munro, Tommy Kirk and Kevin Corcoran in a tale of a shipwrecked family building an island home, loosely based on the 1812 novel Der Schweizerische Robinson (literally, The Swiss Robinson) by Johann David Wyss. The film was directed by Ken Annakin and shot in Tobago and Pinewood Studios outside London. It was the second feature film version of the story (the first film version was released by RKO in 1940) and was a commercial success.\n",
       "\n",
       "Assistant:\n",
       "<span style='background-color: rgba(0.0, 165.0, 0, 0.15); border-radius: 3px;' title='1.0'>Sw</span>iss Family Robinson</pre>"
      ],
      "text/plain": [
       "<IPython.core.display.HTML object>"
      ]
     },
     "metadata": {},
     "output_type": "display_data"
    }
   ],
   "source": [
    "syn_answers = []\n",
    "for i in range(N_examples):\n",
    "    syn_answers.append(extract_answer(\n",
    "        synthesisGeneration(\n",
    "            first_queries[i], prompt_template, possibilities[i], answers[i], \n",
    "            ant_answers[i], sources[i])))"
   ]
  },
  {
   "cell_type": "code",
   "execution_count": 192,
   "id": "04c195ce-2955-4454-af82-322872620217",
   "metadata": {},
   "outputs": [
    {
     "data": {
      "text/plain": [
       "['Arthurs Magazine',\n",
       " 'Jonathan Stark',\n",
       " 'The Wolfhounds',\n",
       " 'no',\n",
       " 'yes',\n",
       " 'New York City',\n",
       " 'Aleksander Ford',\n",
       " 'no',\n",
       " 'director',\n",
       " 'The Saimaa Gesture']"
      ]
     },
     "execution_count": 192,
     "metadata": {},
     "output_type": "execute_result"
    }
   ],
   "source": [
    "syn_answers[:10]"
   ]
  },
  {
   "cell_type": "code",
   "execution_count": 26,
   "id": "e925861d-ddb8-4b74-90a8-697d526b05b7",
   "metadata": {},
   "outputs": [
    {
     "data": {
      "text/plain": [
       "[\"Arthur's Magazine\",\n",
       " 'Jonathan Stark',\n",
       " 'The Wolfhounds',\n",
       " 'no',\n",
       " 'no',\n",
       " 'New York City',\n",
       " 'Aleksander Ford',\n",
       " 'yes',\n",
       " 'director',\n",
       " 'The Saimaa Gesture']"
      ]
     },
     "execution_count": 26,
     "metadata": {},
     "output_type": "execute_result"
    }
   ],
   "source": [
    "correct_answers[:10]"
   ]
  },
  {
   "cell_type": "code",
   "execution_count": 27,
   "id": "2e06ead4-64f6-4742-bb48-d7b201599aec",
   "metadata": {},
   "outputs": [
    {
     "data": {
      "text/plain": [
       "['First for Women',\n",
       " 'Jonathan Stark',\n",
       " 'The Wolfhounds',\n",
       " 'yes',\n",
       " 'yes',\n",
       " 'New York City',\n",
       " 'Aleksander Ford',\n",
       " 'yes',\n",
       " 'director',\n",
       " 'The Saimaa Gesture']"
      ]
     },
     "execution_count": 27,
     "metadata": {},
     "output_type": "execute_result"
    }
   ],
   "source": [
    "answers[:10]"
   ]
  },
  {
   "cell_type": "code",
   "execution_count": 223,
   "id": "cec0231d-9fec-429b-8d6d-b265dbae7af3",
   "metadata": {},
   "outputs": [],
   "source": [
    "df = {\n",
    "    'query': first_queries,\n",
    "    'correct': correct_answers,\n",
    "    'thesis': answers,\n",
    "    'antithesis': ant_answers,\n",
    "    'synthesis': syn_answers,\n",
    "    'context': sources\n",
    "} "
   ]
  },
  {
   "cell_type": "code",
   "execution_count": 224,
   "id": "e63baefa-86bc-41b3-a38a-807bc973b8f0",
   "metadata": {},
   "outputs": [
    {
     "data": {
      "text/html": [
       "<div>\n",
       "<style scoped>\n",
       "    .dataframe tbody tr th:only-of-type {\n",
       "        vertical-align: middle;\n",
       "    }\n",
       "\n",
       "    .dataframe tbody tr th {\n",
       "        vertical-align: top;\n",
       "    }\n",
       "\n",
       "    .dataframe thead th {\n",
       "        text-align: right;\n",
       "    }\n",
       "</style>\n",
       "<table border=\"1\" class=\"dataframe\">\n",
       "  <thead>\n",
       "    <tr style=\"text-align: right;\">\n",
       "      <th></th>\n",
       "      <th>query</th>\n",
       "      <th>correct</th>\n",
       "      <th>thesis</th>\n",
       "      <th>antithesis</th>\n",
       "      <th>synthesis</th>\n",
       "      <th>context</th>\n",
       "    </tr>\n",
       "  </thead>\n",
       "  <tbody>\n",
       "    <tr>\n",
       "      <th>0</th>\n",
       "      <td>Which magazine was started first Arthur's Maga...</td>\n",
       "      <td>Arthur's Magazine</td>\n",
       "      <td>First for Women</td>\n",
       "      <td>[\"Which\" means compare]</td>\n",
       "      <td>Arthurs Magazine</td>\n",
       "      <td>Arthur's Magazine (1844–1846) was an American ...</td>\n",
       "    </tr>\n",
       "    <tr>\n",
       "      <th>1</th>\n",
       "      <td>Which tennis player won more Grand Slam titles...</td>\n",
       "      <td>Jonathan Stark</td>\n",
       "      <td>Jonathan Stark</td>\n",
       "      <td>'Jonathon stark'\\n\\nThe correct response can v...</td>\n",
       "      <td>Jonathan Stark</td>\n",
       "      <td>Henri Leconte (born 4 July 1963) is a former F...</td>\n",
       "    </tr>\n",
       "    <tr>\n",
       "      <th>2</th>\n",
       "      <td>Which band was founded first, Hole, the rock b...</td>\n",
       "      <td>The Wolfhounds</td>\n",
       "      <td>The Wolfhounds</td>\n",
       "      <td>\"The wolf hound\"</td>\n",
       "      <td>The Wolfhounds</td>\n",
       "      <td>The Wolfhounds are an indie pop/noise pop band...</td>\n",
       "    </tr>\n",
       "    <tr>\n",
       "      <th>3</th>\n",
       "      <td>750 7th Avenue and 101 Park Avenue, are locate...</td>\n",
       "      <td>New York City</td>\n",
       "      <td>New York City</td>\n",
       "      <td>The correct response would have been \"Yes\", as...</td>\n",
       "      <td>New York City</td>\n",
       "      <td>101 Park Avenue is a 629 ft tall skyscraper in...</td>\n",
       "    </tr>\n",
       "    <tr>\n",
       "      <th>4</th>\n",
       "      <td>Who was born first, Pablo Trapero or Aleksande...</td>\n",
       "      <td>Aleksander Ford</td>\n",
       "      <td>Aleksander Ford</td>\n",
       "      <td>'Alexsader ford'\\nThe correct birth date infor...</td>\n",
       "      <td>Aleksander Ford</td>\n",
       "      <td>Pablo Trapero (Born 4 October 1971) is an Arge...</td>\n",
       "    </tr>\n",
       "  </tbody>\n",
       "</table>\n",
       "</div>"
      ],
      "text/plain": [
       "                                               query            correct  \\\n",
       "0  Which magazine was started first Arthur's Maga...  Arthur's Magazine   \n",
       "1  Which tennis player won more Grand Slam titles...     Jonathan Stark   \n",
       "2  Which band was founded first, Hole, the rock b...     The Wolfhounds   \n",
       "3  750 7th Avenue and 101 Park Avenue, are locate...      New York City   \n",
       "4  Who was born first, Pablo Trapero or Aleksande...    Aleksander Ford   \n",
       "\n",
       "            thesis                                         antithesis  \\\n",
       "0  First for Women                            [\"Which\" means compare]   \n",
       "1   Jonathan Stark  'Jonathon stark'\\n\\nThe correct response can v...   \n",
       "2   The Wolfhounds                                   \"The wolf hound\"   \n",
       "3    New York City  The correct response would have been \"Yes\", as...   \n",
       "4  Aleksander Ford  'Alexsader ford'\\nThe correct birth date infor...   \n",
       "\n",
       "          synthesis                                            context  \n",
       "0  Arthurs Magazine  Arthur's Magazine (1844–1846) was an American ...  \n",
       "1    Jonathan Stark  Henri Leconte (born 4 July 1963) is a former F...  \n",
       "2    The Wolfhounds  The Wolfhounds are an indie pop/noise pop band...  \n",
       "3     New York City  101 Park Avenue is a 629 ft tall skyscraper in...  \n",
       "4   Aleksander Ford  Pablo Trapero (Born 4 October 1971) is an Arge...  "
      ]
     },
     "execution_count": 224,
     "metadata": {},
     "output_type": "execute_result"
    }
   ],
   "source": [
    "import pandas as pd\n",
    "\n",
    "df = pd.DataFrame(df)\n",
    "df.head()"
   ]
  },
  {
   "cell_type": "code",
   "execution_count": 233,
   "id": "9fb65952-bf02-4bbb-9b00-2bd5348e6384",
   "metadata": {},
   "outputs": [
    {
     "data": {
      "text/plain": [
       "'750 7th Avenue and 101 Park Avenue, are located in which city?'"
      ]
     },
     "execution_count": 233,
     "metadata": {},
     "output_type": "execute_result"
    }
   ],
   "source": [
    "df['query'][3]"
   ]
  },
  {
   "cell_type": "code",
   "execution_count": 195,
   "id": "61349820-ad5d-4dff-a1d0-a08547f727d8",
   "metadata": {},
   "outputs": [],
   "source": [
    "df.to_csv('test-8.csv')"
   ]
  },
  {
   "cell_type": "code",
   "execution_count": 225,
   "id": "d280eeea-c69b-42d2-856b-1651fc77b083",
   "metadata": {},
   "outputs": [
    {
     "data": {
      "text/html": [
       "<div>\n",
       "<style scoped>\n",
       "    .dataframe tbody tr th:only-of-type {\n",
       "        vertical-align: middle;\n",
       "    }\n",
       "\n",
       "    .dataframe tbody tr th {\n",
       "        vertical-align: top;\n",
       "    }\n",
       "\n",
       "    .dataframe thead th {\n",
       "        text-align: right;\n",
       "    }\n",
       "</style>\n",
       "<table border=\"1\" class=\"dataframe\">\n",
       "  <thead>\n",
       "    <tr style=\"text-align: right;\">\n",
       "      <th></th>\n",
       "      <th>query</th>\n",
       "      <th>correct</th>\n",
       "      <th>thesis</th>\n",
       "      <th>antithesis</th>\n",
       "      <th>synthesis</th>\n",
       "      <th>context</th>\n",
       "    </tr>\n",
       "  </thead>\n",
       "  <tbody>\n",
       "    <tr>\n",
       "      <th>0</th>\n",
       "      <td>Which magazine was started first Arthur's Maga...</td>\n",
       "      <td>arthurs magazine</td>\n",
       "      <td>first for women</td>\n",
       "      <td>[\"Which\" means compare]</td>\n",
       "      <td>arthurs magazine</td>\n",
       "      <td>Arthur's Magazine (1844–1846) was an American ...</td>\n",
       "    </tr>\n",
       "    <tr>\n",
       "      <th>1</th>\n",
       "      <td>Which tennis player won more Grand Slam titles...</td>\n",
       "      <td>jonathan stark</td>\n",
       "      <td>jonathan stark</td>\n",
       "      <td>'Jonathon stark'\\n\\nThe correct response can v...</td>\n",
       "      <td>jonathan stark</td>\n",
       "      <td>Henri Leconte (born 4 July 1963) is a former F...</td>\n",
       "    </tr>\n",
       "    <tr>\n",
       "      <th>2</th>\n",
       "      <td>Which band was founded first, Hole, the rock b...</td>\n",
       "      <td>the wolfhounds</td>\n",
       "      <td>the wolfhounds</td>\n",
       "      <td>\"The wolf hound\"</td>\n",
       "      <td>the wolfhounds</td>\n",
       "      <td>The Wolfhounds are an indie pop/noise pop band...</td>\n",
       "    </tr>\n",
       "    <tr>\n",
       "      <th>3</th>\n",
       "      <td>750 7th Avenue and 101 Park Avenue, are locate...</td>\n",
       "      <td>new york city</td>\n",
       "      <td>new york city</td>\n",
       "      <td>The correct response would have been \"Yes\", as...</td>\n",
       "      <td>new york city</td>\n",
       "      <td>101 Park Avenue is a 629 ft tall skyscraper in...</td>\n",
       "    </tr>\n",
       "    <tr>\n",
       "      <th>4</th>\n",
       "      <td>Who was born first, Pablo Trapero or Aleksande...</td>\n",
       "      <td>aleksander ford</td>\n",
       "      <td>aleksander ford</td>\n",
       "      <td>'Alexsader ford'\\nThe correct birth date infor...</td>\n",
       "      <td>aleksander ford</td>\n",
       "      <td>Pablo Trapero (Born 4 October 1971) is an Arge...</td>\n",
       "    </tr>\n",
       "  </tbody>\n",
       "</table>\n",
       "</div>"
      ],
      "text/plain": [
       "                                               query           correct  \\\n",
       "0  Which magazine was started first Arthur's Maga...  arthurs magazine   \n",
       "1  Which tennis player won more Grand Slam titles...    jonathan stark   \n",
       "2  Which band was founded first, Hole, the rock b...    the wolfhounds   \n",
       "3  750 7th Avenue and 101 Park Avenue, are locate...     new york city   \n",
       "4  Who was born first, Pablo Trapero or Aleksande...   aleksander ford   \n",
       "\n",
       "            thesis                                         antithesis  \\\n",
       "0  first for women                            [\"Which\" means compare]   \n",
       "1   jonathan stark  'Jonathon stark'\\n\\nThe correct response can v...   \n",
       "2   the wolfhounds                                   \"The wolf hound\"   \n",
       "3    new york city  The correct response would have been \"Yes\", as...   \n",
       "4  aleksander ford  'Alexsader ford'\\nThe correct birth date infor...   \n",
       "\n",
       "          synthesis                                            context  \n",
       "0  arthurs magazine  Arthur's Magazine (1844–1846) was an American ...  \n",
       "1    jonathan stark  Henri Leconte (born 4 July 1963) is a former F...  \n",
       "2    the wolfhounds  The Wolfhounds are an indie pop/noise pop band...  \n",
       "3     new york city  101 Park Avenue is a 629 ft tall skyscraper in...  \n",
       "4   aleksander ford  Pablo Trapero (Born 4 October 1971) is an Arge...  "
      ]
     },
     "execution_count": 225,
     "metadata": {},
     "output_type": "execute_result"
    }
   ],
   "source": [
    "# Funzione per rimuovere le quadre e ottenere solo il contenuto\n",
    "def remove_brackets(s):\n",
    "    return s.strip(\"[] \")\n",
    "\n",
    "# Definisci una funzione di pulizia per rimuovere caratteri non validi\n",
    "def clean_text(text):\n",
    "    text = re.sub(r'[^\\w\\s.,!?\\'\"\\-:;()]+', '', text)  # Rimuove i caratteri speciali\n",
    "    text = re.sub(r\"['\\\"-]\", '', text)  # Rimuove apostrofi, virgolette e trattini\n",
    "    text = text.lower()  # Converte in minuscolo\n",
    "    return text\n",
    "\n",
    "# Applica la funzione alla colonna 'correct answer'\n",
    "df['correct'] = df['correct'].apply(clean_text)\n",
    "df['thesis'] = df['thesis'].apply(clean_text)\n",
    "df['synthesis'] = df['synthesis'].apply(clean_text)\n",
    "\n",
    "df.head()"
   ]
  },
  {
   "cell_type": "code",
   "execution_count": 226,
   "id": "38e03a0e-1c19-41e0-9ae3-d8348bcdc3ef",
   "metadata": {},
   "outputs": [
    {
     "name": "stdout",
     "output_type": "stream",
     "text": [
      "Number of matches: 180\n",
      "Number of non-matches: 57\n"
     ]
    }
   ],
   "source": [
    "# Conta quante righe combaciano e quante no\n",
    "matches = 0\n",
    "non_matches = 0\n",
    "\n",
    "for index, row in df.iterrows():\n",
    "    correct_answer = str(row['correct']).strip()\n",
    "    thesis = str(row['thesis']).strip()\n",
    "    \n",
    "    if correct_answer == thesis:\n",
    "        matches += 1\n",
    "    else:\n",
    "        non_matches += 1\n",
    "\n",
    "print(f\"Number of matches: {matches}\")\n",
    "print(f\"Number of non-matches: {non_matches}\")"
   ]
  },
  {
   "cell_type": "code",
   "execution_count": 228,
   "id": "2e0614ea-7259-4f87-943c-eaa830e211b6",
   "metadata": {},
   "outputs": [
    {
     "name": "stdout",
     "output_type": "stream",
     "text": [
      "Number of matches: 164\n",
      "Number of non-matches: 73\n"
     ]
    }
   ],
   "source": [
    "# Conta quante righe combaciano e quante no\n",
    "matches = 0\n",
    "non_matches = 0\n",
    "\n",
    "for index, row in df.iterrows():\n",
    "    correct_answer = str(row['correct']).strip()\n",
    "    thesis = str(row['synthesis']).strip()\n",
    "    \n",
    "    if correct_answer == thesis:\n",
    "        matches += 1\n",
    "    else:\n",
    "        # print(\"Synthesis: {}, Correct: {}\".format(thesis, correct_answer))\n",
    "        non_matches += 1\n",
    "\n",
    "print(f\"Number of matches: {matches}\")\n",
    "print(f\"Number of non-matches: {non_matches}\")"
   ]
  },
  {
   "cell_type": "code",
   "execution_count": null,
   "id": "1da947cd-e5d1-4ca8-9e42-22238c963e6a",
   "metadata": {},
   "outputs": [],
   "source": []
  }
 ],
 "metadata": {
  "kernelspec": {
   "display_name": "Python 3 (ipykernel)",
   "language": "python",
   "name": "python3"
  },
  "language_info": {
   "codemirror_mode": {
    "name": "ipython",
    "version": 3
   },
   "file_extension": ".py",
   "mimetype": "text/x-python",
   "name": "python",
   "nbconvert_exporter": "python",
   "pygments_lexer": "ipython3",
   "version": "3.9.18"
  }
 },
 "nbformat": 4,
 "nbformat_minor": 5
}
