{
 "cells": [
  {
   "cell_type": "code",
   "execution_count": 18,
   "id": "c3ed6246-e9aa-4fbc-a775-dc25888cdaee",
   "metadata": {},
   "outputs": [],
   "source": [
    "import pandas as pd\n",
    "import ast\n",
    "import re\n",
    "import datasets\n",
    "from datasets import load_dataset\n",
    "import transformers\n",
    "from transformers import (\n",
    "    AutoModelForCausalLM,\n",
    "    AutoTokenizer,\n",
    "    pipeline,\n",
    ")\n",
    "from guidance import models, select\n",
    "from langchain_core.prompts import PromptTemplate\n",
    "from operator import itemgetter\n",
    "\n",
    "\n",
    "import warnings\n",
    "warnings.filterwarnings(\"ignore\")"
   ]
  },
  {
   "cell_type": "code",
   "execution_count": 19,
   "id": "583be627-ea69-4520-ada3-67713ac6ef04",
   "metadata": {},
   "outputs": [],
   "source": [
    "# Definisci una funzione di pulizia per rimuovere caratteri non validi\n",
    "def clean_text(text):\n",
    "    return re.sub(r\"[^\\w\\s.,!?\\-:;()]+\", '', text)\n",
    "\n",
    "# Definisci una funzione di pulizia per rimuovere caratteri non validi\n",
    "def clean_text_final(text):\n",
    "    text = re.sub(r'[^\\w\\s.,!?\\'\"\\-:;()]+', '', text)  # Rimuove i caratteri speciali\n",
    "    text = re.sub(r\"['\\\"-]\", '', text)  # Rimuove apostrofi, virgolette e trattini\n",
    "    text = text.lower()  # Converte in minuscolo\n",
    "    return text"
   ]
  },
  {
   "cell_type": "code",
   "execution_count": 3,
   "id": "bd823455-1bb7-47e3-8c28-8632f236ff35",
   "metadata": {},
   "outputs": [],
   "source": [
    "# prompt augmentation for the (format of the) synthesis:\n",
    "prompt_template = PromptTemplate.from_template(\n",
    "\"\"\"You are a multiple-choice question answering assistant.\n",
    "Choose the most proper option between {options} that best matches with the suggestion. \n",
    "\n",
    "Question: {question}\n",
    "Context: {critique}\n",
    "Sources: {context}\n",
    "\n",
    "Assistant:\n",
    "\"\"\"\n",
    ")\n",
    "augmentation = {\"question\": itemgetter(\"question\"),\n",
    "                \"options\": itemgetter(\"options\"), \n",
    "                \"critique\": itemgetter(\"critique\"),\n",
    "                \"context\": itemgetter(\"context\"), }\n",
    "synthesis_chain = augmentation | prompt_template "
   ]
  },
  {
   "cell_type": "code",
   "execution_count": 4,
   "id": "c96c0705-1b51-45d0-8ba1-2a4cae245196",
   "metadata": {},
   "outputs": [],
   "source": [
    "def create_message_thesis(question, options, context):\n",
    "    options_str = '\", \"'.join(options)\n",
    "    content = f\"\"\"\n",
    "\n",
    "    Now do the same for this question: \"{question}\", where options: [\"{options_str}\"]. Assistant:\n",
    "    \"\"\"\n",
    "\n",
    "    user_content = \"Answer to the following question: \" + question + \" providing one of these options as answer: \" + str(options) + \"Assistant:\"\n",
    "\n",
    "    messages = [\n",
    "        {\"role\": \"system\", \"content\": \"\"\"\n",
    "        You are an helpful AI assistant. You have to provide helpful answers to the user’s questions based on the context: \n",
    "        \"\"\" + context},\n",
    "        {\"role\": \"user\", \"content\": user_content}\n",
    "    ]\n",
    "\n",
    "    return messages\n",
    "\n",
    "def extract_answer_thesis(text):\n",
    "    # Trova l'indice in cui inizia il testo \"Why or why not the answer is correct:\"\n",
    "    start_index = text.find(\"}]\")\n",
    "\n",
    "    \n",
    "    # Se l'indice è stato trovato, estrai la risposta corretta\n",
    "    if start_index != -1:\n",
    "        start_index += len(\"}]\")\n",
    "        # Estrai il testo dopo \"Why or why not the answer is correct:\"\n",
    "        correct_answer_text = text[start_index:].strip()\n",
    "        return correct_answer_text\n",
    "    else:\n",
    "        return \"The correct answer could not be found.\"\n",
    "\n",
    "def thesisGeneration(query, merged, sources):\n",
    "    merged = ast.literal_eval(merged)\n",
    "    augmented_prompt = create_message_thesis(query, merged, sources)\n",
    "    ans = new_model + str(augmented_prompt) + select(merged)\n",
    "    return str(ans)"
   ]
  },
  {
   "cell_type": "code",
   "execution_count": 5,
   "id": "3c0adcaf-24b7-46ba-9eed-021f0c4215c5",
   "metadata": {},
   "outputs": [],
   "source": [
    "def create_message_antithesis(question, candidate, options, context):\n",
    "    options_str = '\", \"'.join(options)\n",
    "    content = f\"\"\"\n",
    "\n",
    "    Now do the same for this question: \"{question}\", where options: [\"{options_str}\"]. Assistant:\n",
    "    \"\"\"\n",
    "\n",
    "    user_content = \"Question: \" + question + \"\\n Options: \" + str(options) + \"\\n Candidate answer: \" + candidate + \"\\n Context: \" + context + \"\\n Assistant: \\n\"\n",
    "\n",
    "    messages = [\n",
    "        {\"role\": \"system\", \"content\": \"\"\"\n",
    "        You are an helpful AI assistant. You are asked to determine the most correct answer for a given question, provided a set of possible options.\n",
    "        You also have at disposal a first tentative answer that you are required to check with respect to the question and the relevant context.\n",
    "        Your goal is to decree which is the most correct answer to the question between the available options.\n",
    "\n",
    "        Here's an example of how to do it:\n",
    "        \"\"\"},\n",
    "        {\"role\": \"user\", \"content\": \"\"\"\n",
    "        Question: What event did Juan Rossell participate in?\n",
    "        Options: ['1996 summer olympics', 'olympic games', 'sport']\n",
    "        Candidate answer: 1996 summer olympics\n",
    "        Context: The 2004 Summer Olympic Games, held in Athens, Greece, marked the return of the games to their birthplace. With a motto of \"Welcome Home,\" the event featured 10,625 athletes from 201 countries competing in 301 medal events across 28 sports. This edition of the Games was significant as it was the first time all countries with a National Olympic Committee participated.\\n\\nIn the realm of beach volleyball, a sport introduced to the Olympics in 1996, Juan Miguel Rossell Milanes from Cuba emerged as a notable figure. He won the gold medal in the men\\'s beach team competition at the 2003 Pan American Games in Santo Domingo, Dominican Republic, partnering Francisco Alvarez. Rossell Milanes also represented Cuba at the 1996 and 2004 Summer Olympics.\\n\\nThe Pan American Games, a major sporting event in the Americas, also featured beach volleyball as a competitive discipline. The 14th Pan American Games took place in Santo Domingo, Dominican Republic, in 2003. The successful bid for the games was made in the mid-1990s, when the Dominican Republic experienced one of the highest growth rates in Latin America.\\n\\nThe International Olympic Committee (IOC) voted in 1986 to separate the Summer and Winter Games, which had been held in the same year since 1924, and place them in alternating even-numbered years, beginning in 1994. The 1996 Summer Games were the first to be staged in a different year from the Winter Games. Atlanta, Georgia, United States, hosted the 1996 Summer Games, becoming the fifth American city to host the Olympic Games and the third to hold a Summer Olympic Games.\n",
    "\n",
    "        Assistant: Let's consider each option and check whether or not is the proper one with respect to the context.'sport' is an extremely generic answer, inappropriate for the question asked. 'olympic games' is not the most proper answer, since it is true that Juan Rossell introduced beach volleyball as an olympic sport, but he participated only at Summer Olympics, both in 1996 and in 2003. Therefore, the correct option is '1996 summer olympics'.\n",
    "\n",
    "        \"\"\"\n",
    "        },\n",
    "        {\"role\": \"system\", \"content\": \"Now do the same for the following question:\"},\n",
    "        {\"role\": \"user\", \"content\": user_content}\n",
    "    ]\n",
    "\n",
    "    return messages\n",
    "\n",
    "def antithesisGeneration(query, merged, candidate, sources):\n",
    "    merged = ast.literal_eval(merged)\n",
    "    prompt = create_message_antithesis(query, candidate, merged, sources)\n",
    "    output = pipe(prompt, **generation_args)\n",
    "    return output[0]['generated_text']"
   ]
  },
  {
   "cell_type": "code",
   "execution_count": 6,
   "id": "507e20fb-b0f7-47ab-92db-836c9a4d5e9d",
   "metadata": {},
   "outputs": [],
   "source": [
    "def create_message_presynthesis(question, candidate, suggestion, options, context):\n",
    "\n",
    "    user_content = \"Question: \" + question + \"\\n Options: \" + str(options) + \"\\n Candidate answer: \" + candidate + \"\\n Suggestion: \" + suggestion + \"\\n Context: \" + context + \"\\n Assistant: \\n\"\n",
    "\n",
    "    messages = [\n",
    "        {\"role\": \"system\", \"content\": \"\"\"\n",
    "        You are an helpful AI assistant. You are asked to determine the most correct answer for a given question, provided a set of possible options.\n",
    "        You also have at disposal a first tentative answer and a suggestion on which is the correct answer.\n",
    "        Your goal is to decree which is the most correct answer to the question between the available options according to the context.\n",
    "\n",
    "        Here's a few examples on how to do it:\n",
    "        \"\"\"},\n",
    "        {\"role\": \"user\", \"content\": \"\"\"\n",
    "        Question: What event did Juan Rossell participate in?\n",
    "        Options: ['1996 summer olympics', 'olympic games', 'sport']\n",
    "        Candidate answer: 1996 summer olympics\n",
    "        Suggestion: Let's consider each option and check whether or not is the proper one with respect to the context.'sport' is an extremely generic answer, inappropriate for the question asked. 'olympic games' is not the most proper answer, since it is true that Juan Rossell introduced beach volleyball as an olympic sport, but he participated only at Summer Olympics, both in 1996 and in 2003. Therefore, the correct option is '1996 summer olympics'.\n",
    "        Context: The 2004 Summer Olympic Games, held in Athens, Greece, marked the return of the games to their birthplace. With a motto of \"Welcome Home,\" the event featured 10,625 athletes from 201 countries competing in 301 medal events across 28 sports. This edition of the Games was significant as it was the first time all countries with a National Olympic Committee participated.\\n\\nIn the realm of beach volleyball, a sport introduced to the Olympics in 1996, Juan Miguel Rossell Milanes from Cuba emerged as a notable figure. He won the gold medal in the men\\'s beach team competition at the 2003 Pan American Games in Santo Domingo, Dominican Republic, partnering Francisco Alvarez. Rossell Milanes also represented Cuba at the 1996 and 2004 Summer Olympics.\\n\\nThe Pan American Games, a major sporting event in the Americas, also featured beach volleyball as a competitive discipline. The 14th Pan American Games took place in Santo Domingo, Dominican Republic, in 2003. The successful bid for the games was made in the mid-1990s, when the Dominican Republic experienced one of the highest growth rates in Latin America.\\n\\nThe International Olympic Committee (IOC) voted in 1986 to separate the Summer and Winter Games, which had been held in the same year since 1924, and place them in alternating even-numbered years, beginning in 1994. The 1996 Summer Games were the first to be staged in a different year from the Winter Games. Atlanta, Georgia, United States, hosted the 1996 Summer Games, becoming the fifth American city to host the Olympic Games and the third to hold a Summer Olympic Games.\n",
    "        \"\"\"\n",
    "        },\n",
    "        {\"role\": \"assistant\", \"content\": \"\"\"\n",
    "        Assistant: The correct option is '1996 summer olympics', both the candidate answer and the suggestion agree.\n",
    "        \"\"\"\n",
    "        },\n",
    "        \n",
    "\n",
    "        \n",
    "        {\"role\": \"system\", \"content\": \"Now do the same for the following question:\"},\n",
    "        {\"role\": \"user\", \"content\": user_content}\n",
    "    ]\n",
    "\n",
    "    return messages\n",
    "\n",
    "def preSynthGeneration(query, candidate_answer, critique, merged, sources):\n",
    "    prompt = create_message_presynthesis(query, merged, candidate_answer, critique, sources)\n",
    "    output = pipe(prompt, **generation_args)\n",
    "    return output[0]['generated_text']"
   ]
  },
  {
   "cell_type": "code",
   "execution_count": 7,
   "id": "abe2291b-5961-41dd-af73-1290d53da65a",
   "metadata": {},
   "outputs": [],
   "source": [
    "\n",
    "def synthesisGeneration(query, merged, pre_answer, sources):\n",
    "    merged = ast.literal_eval(merged)\n",
    "    augmented_prompt = synthesis_chain.invoke({'question': query, \n",
    "                                            'options': merged,\n",
    "                                            'critique': pre_answer,\n",
    "                                            'context': sources})\n",
    "\n",
    "    normal_string = clean_text(augmented_prompt.text)\n",
    "    ans = new_model + normal_string + select(merged)\n",
    "    return str(ans)\n",
    "\n",
    "def extract_answer_synthesis(text):\n",
    "    # Trova l'indice in cui inizia il testo \"Why or why not the answer is correct:\"\n",
    "    start_index = text.find(\"Assistant:\\n\")\n",
    "\n",
    "    \n",
    "    # Se l'indice è stato trovato, estrai la risposta corretta\n",
    "    if start_index != -1:\n",
    "        start_index += len(\"Assistant:\\n\")\n",
    "        # Estrai il testo dopo \"Why or why not the answer is correct:\"\n",
    "        correct_answer_text = text[start_index:].strip()\n",
    "        return correct_answer_text\n",
    "    else:\n",
    "        return \"The correct answer could not be found.\""
   ]
  },
  {
   "cell_type": "code",
   "execution_count": 8,
   "id": "5c1a1953-0234-4513-82bf-d7b24f3403dd",
   "metadata": {},
   "outputs": [
    {
     "name": "stderr",
     "output_type": "stream",
     "text": [
      "`flash-attention` package not found, consider installing for better performance: No module named 'flash_attn'.\n",
      "Current `flash-attention` does not support `window_size`. Either upgrade or use `attn_implementation='eager'`.\n"
     ]
    },
    {
     "data": {
      "application/vnd.jupyter.widget-view+json": {
       "model_id": "212c38a69a134f5599be4a9df909be9c",
       "version_major": 2,
       "version_minor": 0
      },
      "text/plain": [
       "Loading checkpoint shards:   0%|          | 0/2 [00:00<?, ?it/s]"
      ]
     },
     "metadata": {},
     "output_type": "display_data"
    }
   ],
   "source": [
    "model = AutoModelForCausalLM.from_pretrained(\n",
    "    \"microsoft/Phi-3-mini-4k-instruct\",\n",
    "    device_map=\"cuda\",\n",
    "    torch_dtype=\"auto\",\n",
    "    trust_remote_code=True,\n",
    ")\n",
    "tokenizer = AutoTokenizer.from_pretrained(\"microsoft/Phi-3-mini-4k-instruct\", use_fast=False)\n",
    "new_model = models.Transformers(model, tokenizer, temperature=0.0)"
   ]
  },
  {
   "cell_type": "code",
   "execution_count": 9,
   "id": "e679fc5c-4c26-418d-b891-f495e9b1b0b3",
   "metadata": {},
   "outputs": [],
   "source": [
    "pipe = pipeline(\n",
    "    \"text-generation\",\n",
    "    model=model,\n",
    "    tokenizer=tokenizer,\n",
    ")\n",
    "\n",
    "generation_args = {\n",
    "    \"max_new_tokens\": 500,\n",
    "    \"return_full_text\": False,\n",
    "    \"do_sample\": False,\n",
    "}"
   ]
  },
  {
   "cell_type": "code",
   "execution_count": 20,
   "id": "99d00b0b-9cab-455a-b075-4f5240044ec1",
   "metadata": {},
   "outputs": [],
   "source": [
    "df = pd.read_csv('../../../wikihop_dataset/wikihop-merged-summarized.csv')\n",
    "\n",
    "# select a subset of the queries, just for test:\n",
    "first_queries = df['query']\n",
    "\n",
    "# same for correct answers and distractors:\n",
    "correct_answers = df['answer']\n",
    "possibilities = df['options']\n",
    "\n",
    "# and for the sources:\n",
    "sources = df['sum_supports']\n",
    "\n",
    "N_rows = 5"
   ]
  },
  {
   "cell_type": "code",
   "execution_count": 25,
   "id": "19b88dd6-39e6-449f-a2da-979aede59652",
   "metadata": {},
   "outputs": [
    {
     "data": {
      "text/plain": [
       "\"['english', 'greek', 'koine greek', 'nahuatl', 'spanish']\""
      ]
     },
     "execution_count": 25,
     "metadata": {},
     "output_type": "execute_result"
    }
   ],
   "source": [
    "possibilities[1]"
   ]
  },
  {
   "cell_type": "code",
   "execution_count": 28,
   "id": "a4c9fe93-1fe2-4a2a-b063-5626d6146fce",
   "metadata": {},
   "outputs": [
    {
     "data": {
      "text/plain": [
       "' King Kobra, a hard rock band founded by drummer Carmine Appice, was active from 1983 to 1986. The band\\'s first two albums, \"Ready to Strike\" and \"Thrill of a Lifetime,\" were released in 1985 and 1986, respectively. The band\\'s third album, \"King Kobra III,\" was released in 1988. After the band\\'s dissolution, Appice joined guitarist John Sykes on his Blue Murder project in 1989.\\n\\nBernardo Chavez Rico, known as B.C., was an American luthier specializing in guitars. He was born in East Los Angeles, California, and began his career building Flamenco, Classical guitars, banjos, and ukuleles in the 1950s. Rico\\'s original instruments were acoustic guitars made under the name B.C. Rico. These acoustic guitars are very rare, with approximately 300 surviving.\\n\\nDokken is an American metal band formed in Los Angeles in 1979. The band split up in 1989 and reformed in 1993. They achieved moderate chart success in the late 1980s and early 1990s.\\n\\nVan Halen is an American hard rock band formed in Pasadena, California, in 1972. The band consisted of Eddie Van Halen, David Lee Roth, Alex Van Halen, and Michael Anthony from 1974 until 1985. The band has sold more than 100 million records worldwide, making them one of the world\\'s best-selling bands of all time.\\n\\nL.A. Guns is an American hard rock band from Los Angeles, California, formed in 1983. The band has experienced numerous lineup changes, with Steve Riley being the most consistent member.\\n\\nW.A.S.P. is an American heavy metal band formed in 1982 by Blackie Lawless. The band gained notoriety for their shock rock themes and live performances. They have sold over 12 million copies of their'"
      ]
     },
     "execution_count": 28,
     "metadata": {},
     "output_type": "execute_result"
    }
   ],
   "source": [
    "sources[5]"
   ]
  },
  {
   "cell_type": "code",
   "execution_count": 29,
   "id": "18a1b5a9-c8b4-406b-8404-917e469f8d23",
   "metadata": {},
   "outputs": [
    {
     "data": {
      "text/plain": [
       "'What was the occupation of Johnny Rod?'"
      ]
     },
     "execution_count": 29,
     "metadata": {},
     "output_type": "execute_result"
    }
   ],
   "source": [
    "first_queries[5]"
   ]
  },
  {
   "cell_type": "code",
   "execution_count": 14,
   "id": "93583acf-3392-4a3c-a93f-994361b43675",
   "metadata": {},
   "outputs": [
    {
     "data": {
      "text/html": [
       "<pre style='margin: 0px; padding: 0px; vertical-align: middle; padding-left: 8px; margin-left: -8px; border-radius: 0px; border-left: 1px solid rgba(127, 127, 127, 0.2); white-space: pre-wrap; font-family: ColfaxAI, Arial; font-size: 15px; line-height: 23px;'>You are a multiple-choice question answering assistant.\n",
       "Choose the most proper option between academic, builder, chancellor, classics, confucian scholar, designer, duke, emperor, engineer, engineering, father, founder, general, king, leader, major, mathematician, military, official, peasant, physicist, physics, politician, prior, rebel, research, ruler, science, script, social reformer, socialist, sovereign, taiwan that best matches with the suggestion. \n",
       "\n",
       "Question: What was the occupation of Cao Chong?\n",
       "Context:  The correct answer is chancellor. The context provided discusses the Three Kingdoms period in China and mentions Cao Cao, who was a warlord during the late Eastern Han dynasty and the founder of the state of Cao Wei. The term chancellor is often used to describe a high-ranking official in ancient Chinese dynasties, and Cao Cao held this position. The other options do not align with the context provided. end\n",
       "Sources:  The Three Kingdoms period (220280) in China was marked by the competition for supremacy among the states of Wei, Shu, and Wu. Wu, also known as Eastern Wu, was founded by Sun Quan in 222 and declared independence from the Cao Wei state in 229. Sun Quan ruled as King of Wu until 229 and as Emperor of Wu until 252. The states capital was initially Jianye (present-day Nanjing, Jiangsu) but later moved to Wuchang (present-day Ezhou, Hubei). The state of Cao Wei was established by Cao Pi in 220, with its capital at Luoyang. Cao Weis authority weakened after the death of Cao Rui, leading to the rise of Sima Yi and his family. The state of Shu Han was founded by Liu Bei in 221, with its capital at Chengdu. The Yellow Turban Rebellion (184-205) marked a significant event in Taoisms history due to its association with secret Taoist societies. Japan, located off the eastern coast of Asia, is an island nation in the Pacific Ocean. The Qin dynasty (221206 BC) was the first unified Chinese empire, founded by Qin Shi Huang after conquering the other states during the Warring States period. The Warring States period (481403 BC) was a time of conflict that ended with the Qin dynastys victory in 221 BC. Archimedes of Syracuse was a renowned mathematician and scientist. The concept of buoyancy, or Archimedes principle, states that the upward force exerted on a submerged object is equal to the weight of the fluid displaced by the object. The state of Cao Wei was founded by Cao Cao, a warlord who rose to power during the late Eastern Han dynasty. Cao Caos son, Cao Pi, forced Emperor Xian to abdicate in his favor, establishing the Cao Wei state. Liu Bei declared himself emperor of Shu Han, while Sun\n",
       "\n",
       "Assistant:\n",
       "<span style='background-color: rgba(0.0, 165.0, 0, 0.15); border-radius: 3px;' title='1.0'>chan</span>cellor</pre>"
      ],
      "text/plain": [
       "<IPython.core.display.HTML object>"
      ]
     },
     "metadata": {},
     "output_type": "display_data"
    }
   ],
   "source": [
    "# THESIS\n",
    "answers = []\n",
    "for i in range(N_rows):\n",
    "    answers.append(extract_answer_thesis(thesisGeneration(first_queries[i], possibilities[i], sources[i])))\n",
    "\n",
    "\n",
    "# ANTITHESIS\n",
    "ant_answers = []\n",
    "for i in range(N_rows):\n",
    "    ant_answers.append(antithesisGeneration(first_queries[i], possibilities[i], answers[i], sources[i]))\n",
    "\n",
    "# format antithesis\n",
    "format_answers = []\n",
    "for i in range(N_rows):\n",
    "    format_answers.append(extract_answer_synthesis(\n",
    "        synthesisGeneration(\n",
    "            first_queries[i], possibilities[i], \n",
    "            ant_answers[i], sources[i])))\n",
    "\n",
    "# SYNTHESIS\n",
    "pre_answers = []\n",
    "for i in range(N_rows):\n",
    "    pre_answers.append(preSynthGeneration(first_queries[i], possibilities[i], answers[i], ant_answers[i], sources[i]))\n",
    "\n",
    "\n",
    "# format synthesis\n",
    "syn_answers = []\n",
    "for i in range(N_rows):\n",
    "    syn_answers.append(extract_answer_synthesis(\n",
    "        synthesisGeneration(\n",
    "            first_queries[i], possibilities[i], \n",
    "            pre_answers[i], sources[i])))"
   ]
  },
  {
   "cell_type": "code",
   "execution_count": 15,
   "id": "6f43d422-3418-4354-9c30-139536a15c00",
   "metadata": {},
   "outputs": [
    {
     "data": {
      "text/plain": [
       "['1996 summer olympics', 'english', 'reptile', 'crocodilia', 'chancellor']"
      ]
     },
     "execution_count": 15,
     "metadata": {},
     "output_type": "execute_result"
    }
   ],
   "source": [
    "syn_answers"
   ]
  },
  {
   "cell_type": "code",
   "execution_count": null,
   "id": "83845efe-d115-4836-9e67-c936368b143d",
   "metadata": {},
   "outputs": [],
   "source": []
  }
 ],
 "metadata": {
  "kernelspec": {
   "display_name": "Python 3 (ipykernel)",
   "language": "python",
   "name": "python3"
  },
  "language_info": {
   "codemirror_mode": {
    "name": "ipython",
    "version": 3
   },
   "file_extension": ".py",
   "mimetype": "text/x-python",
   "name": "python",
   "nbconvert_exporter": "python",
   "pygments_lexer": "ipython3",
   "version": "3.9.18"
  }
 },
 "nbformat": 4,
 "nbformat_minor": 5
}
