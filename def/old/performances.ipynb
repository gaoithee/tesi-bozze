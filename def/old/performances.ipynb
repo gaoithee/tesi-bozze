{
 "cells": [
  {
   "cell_type": "code",
   "execution_count": 1,
   "id": "067cc306-7d41-4eb4-a88e-007a40c8a3af",
   "metadata": {},
   "outputs": [],
   "source": [
    "import pandas as pd"
   ]
  },
  {
   "cell_type": "code",
   "execution_count": 2,
   "id": "1c107c7a-efca-4837-9c5c-b08983531ddd",
   "metadata": {},
   "outputs": [],
   "source": [
    "def count_matches(df):\n",
    "    # Conta quante righe combaciano e quante no\n",
    "    matches_T = 0\n",
    "    non_matches_T = 0\n",
    "    matches_S = 0\n",
    "    non_matches_S = 0\n",
    "    \n",
    "    for index, row in df.iterrows():\n",
    "        correct_answer = str(row['correct']).strip()\n",
    "        thesis = str(row['thesis']).strip()\n",
    "        synthesis = str(row['synthesis']).strip()\n",
    "        \n",
    "        if correct_answer == thesis:\n",
    "            matches_T += 1\n",
    "        if correct_answer == synthesis:\n",
    "            matches_S += 1\n",
    "    \n",
    "    non_matches_T = len(df) - matches_T\n",
    "    non_matches_S = len(df) - matches_S\n",
    "    \n",
    "    \n",
    "    print(f\"Number of thesis matches: {matches_T}\")\n",
    "    print(f\"Number of synthesis matches: {matches_S}\")"
   ]
  },
  {
   "cell_type": "code",
   "execution_count": 7,
   "id": "50759467-e236-4907-878f-8ee6329dd9df",
   "metadata": {},
   "outputs": [],
   "source": [
    "# gghf_gemma1 = pd.read_csv('gemma-2b/gg-hf-gemma-2b-it-baseline.csv')\n",
    "gghf_gemma2 = pd.read_csv('gemma-2b/gg-hf-gemma-2b-it-baseline-2.csv')\n",
    "# google_gemma1 = pd.read_csv('gemma-2b/google-gemma-2b-it-baseline.csv')\n",
    "google_gemma2 = pd.read_csv('gemma-2b/google-gemma-2b-it-baseline-2.csv')"
   ]
  },
  {
   "cell_type": "code",
   "execution_count": 9,
   "id": "bbc7abe3-c37d-4594-b4ff-11941de2349e",
   "metadata": {},
   "outputs": [
    {
     "name": "stdout",
     "output_type": "stream",
     "text": [
      "Number of thesis matches: 194\n",
      "Number of synthesis matches: 188\n"
     ]
    }
   ],
   "source": [
    "count_matches(gghf_gemma2)"
   ]
  },
  {
   "cell_type": "code",
   "execution_count": 11,
   "id": "47bcca68-9ee2-40f9-ae41-51e38b9db037",
   "metadata": {},
   "outputs": [
    {
     "name": "stdout",
     "output_type": "stream",
     "text": [
      "Number of thesis matches: 175\n",
      "Number of synthesis matches: 190\n"
     ]
    }
   ],
   "source": [
    "count_matches(google_gemma2)"
   ]
  },
  {
   "cell_type": "code",
   "execution_count": 12,
   "id": "41872bf7-7cbf-4d4c-bec0-8fdeeb647945",
   "metadata": {},
   "outputs": [
    {
     "data": {
      "text/html": [
       "<div>\n",
       "<style scoped>\n",
       "    .dataframe tbody tr th:only-of-type {\n",
       "        vertical-align: middle;\n",
       "    }\n",
       "\n",
       "    .dataframe tbody tr th {\n",
       "        vertical-align: top;\n",
       "    }\n",
       "\n",
       "    .dataframe thead th {\n",
       "        text-align: right;\n",
       "    }\n",
       "</style>\n",
       "<table border=\"1\" class=\"dataframe\">\n",
       "  <thead>\n",
       "    <tr style=\"text-align: right;\">\n",
       "      <th></th>\n",
       "      <th>Unnamed: 0</th>\n",
       "      <th>query</th>\n",
       "      <th>correct</th>\n",
       "      <th>thesis</th>\n",
       "      <th>antithesis</th>\n",
       "      <th>pre-synthesis</th>\n",
       "      <th>synthesis</th>\n",
       "      <th>goat</th>\n",
       "      <th>context</th>\n",
       "    </tr>\n",
       "  </thead>\n",
       "  <tbody>\n",
       "    <tr>\n",
       "      <th>0</th>\n",
       "      <td>0</td>\n",
       "      <td>Which magazine was started first, Arthur's Mag...</td>\n",
       "      <td>arthurs magazine</td>\n",
       "      <td>arthurs magazine</td>\n",
       "      <td>The correct answer is 'First for Women' due to...</td>\n",
       "      <td>The correct answer is 'First for Women' since ...</td>\n",
       "      <td>first for women</td>\n",
       "      <td>arthurs magazine</td>\n",
       "      <td>Arthur's Magazine (1844–1846) was an American ...</td>\n",
       "    </tr>\n",
       "    <tr>\n",
       "      <th>1</th>\n",
       "      <td>1</td>\n",
       "      <td>Which tennis player won more Grand Slam titles...</td>\n",
       "      <td>jonathan stark</td>\n",
       "      <td>henri leconte</td>\n",
       "      <td>The correct answer is 'Jonathan Stark' due to ...</td>\n",
       "      <td>The correct answer is 'Jonathan Stark' since t...</td>\n",
       "      <td>jonathan stark</td>\n",
       "      <td>henri leconte</td>\n",
       "      <td>Henri Leconte (born 4 July 1963) is a former F...</td>\n",
       "    </tr>\n",
       "    <tr>\n",
       "      <th>2</th>\n",
       "      <td>2</td>\n",
       "      <td>Which band was founded first, Hole (the rock b...</td>\n",
       "      <td>the wolfhounds</td>\n",
       "      <td>the wolfhounds</td>\n",
       "      <td>The correct answer is 'The Wolfhounds'. The co...</td>\n",
       "      <td>The correct answer is 'The Wolfhounds'. The co...</td>\n",
       "      <td>the wolfhounds</td>\n",
       "      <td>the wolfhounds</td>\n",
       "      <td>The Wolfhounds are an indie pop/noise pop band...</td>\n",
       "    </tr>\n",
       "    <tr>\n",
       "      <th>3</th>\n",
       "      <td>3</td>\n",
       "      <td>Were Pavel Urysohn and Leonid Levin known for ...</td>\n",
       "      <td>no</td>\n",
       "      <td>yes</td>\n",
       "      <td>The correct answer is 'no' since the context d...</td>\n",
       "      <td>The correct answer is 'no'. The context does n...</td>\n",
       "      <td>yes</td>\n",
       "      <td>yes</td>\n",
       "      <td>Leonid Anatolievich Levin ( ; Russian: Леони́д...</td>\n",
       "    </tr>\n",
       "    <tr>\n",
       "      <th>4</th>\n",
       "      <td>4</td>\n",
       "      <td>Are both The New Pornographers and Kings of Le...</td>\n",
       "      <td>yes</td>\n",
       "      <td>yes</td>\n",
       "      <td>The correct answer is 'no' because the context...</td>\n",
       "      <td>The correct answer is 'no', since the context ...</td>\n",
       "      <td>yes</td>\n",
       "      <td>yes</td>\n",
       "      <td>Kings of Leon is an American rock band that fo...</td>\n",
       "    </tr>\n",
       "  </tbody>\n",
       "</table>\n",
       "</div>"
      ],
      "text/plain": [
       "   Unnamed: 0                                              query  \\\n",
       "0           0  Which magazine was started first, Arthur's Mag...   \n",
       "1           1  Which tennis player won more Grand Slam titles...   \n",
       "2           2  Which band was founded first, Hole (the rock b...   \n",
       "3           3  Were Pavel Urysohn and Leonid Levin known for ...   \n",
       "4           4  Are both The New Pornographers and Kings of Le...   \n",
       "\n",
       "            correct            thesis  \\\n",
       "0  arthurs magazine  arthurs magazine   \n",
       "1    jonathan stark     henri leconte   \n",
       "2    the wolfhounds    the wolfhounds   \n",
       "3                no               yes   \n",
       "4               yes               yes   \n",
       "\n",
       "                                          antithesis  \\\n",
       "0  The correct answer is 'First for Women' due to...   \n",
       "1  The correct answer is 'Jonathan Stark' due to ...   \n",
       "2  The correct answer is 'The Wolfhounds'. The co...   \n",
       "3  The correct answer is 'no' since the context d...   \n",
       "4  The correct answer is 'no' because the context...   \n",
       "\n",
       "                                       pre-synthesis        synthesis  \\\n",
       "0  The correct answer is 'First for Women' since ...  first for women   \n",
       "1  The correct answer is 'Jonathan Stark' since t...   jonathan stark   \n",
       "2  The correct answer is 'The Wolfhounds'. The co...   the wolfhounds   \n",
       "3  The correct answer is 'no'. The context does n...              yes   \n",
       "4  The correct answer is 'no', since the context ...              yes   \n",
       "\n",
       "               goat                                            context  \n",
       "0  arthurs magazine  Arthur's Magazine (1844–1846) was an American ...  \n",
       "1     henri leconte  Henri Leconte (born 4 July 1963) is a former F...  \n",
       "2    the wolfhounds  The Wolfhounds are an indie pop/noise pop band...  \n",
       "3               yes  Leonid Anatolievich Levin ( ; Russian: Леони́д...  \n",
       "4               yes  Kings of Leon is an American rock band that fo...  "
      ]
     },
     "execution_count": 12,
     "metadata": {},
     "output_type": "execute_result"
    }
   ],
   "source": [
    "google_gemma2.head()"
   ]
  },
  {
   "cell_type": "code",
   "execution_count": 3,
   "id": "f5f5f903-d914-4dbf-8410-7c4b0b955b55",
   "metadata": {},
   "outputs": [],
   "source": [
    "bart_1 = pd.read_csv('bart-nli-1.csv')\n",
    "bart_naive_1 = pd.read_csv('bart-nli-naive-1.csv')\n",
    "roberta_1 = pd.read_csv('roberta-nli-1.csv')\n",
    "roberta_naive_1 = pd.read_csv('roberta-nli-naive-1.csv')"
   ]
  },
  {
   "cell_type": "code",
   "execution_count": 4,
   "id": "7f1c9465-c950-42b7-a6e4-b8bbe40d0152",
   "metadata": {},
   "outputs": [
    {
     "name": "stdout",
     "output_type": "stream",
     "text": [
      "Number of thesis matches: 260\n",
      "Number of synthesis matches: 244\n"
     ]
    }
   ],
   "source": [
    "count_matches(bart_1)"
   ]
  },
  {
   "cell_type": "code",
   "execution_count": 5,
   "id": "a3054781-e0cd-428a-b0f5-9223ffb7930d",
   "metadata": {},
   "outputs": [
    {
     "name": "stdout",
     "output_type": "stream",
     "text": [
      "Number of thesis matches: 260\n",
      "Number of synthesis matches: 241\n"
     ]
    }
   ],
   "source": [
    "count_matches(bart_naive_1)"
   ]
  },
  {
   "cell_type": "code",
   "execution_count": 6,
   "id": "79eb5428-55a9-4150-acbb-f0318c53d201",
   "metadata": {},
   "outputs": [
    {
     "name": "stdout",
     "output_type": "stream",
     "text": [
      "Number of thesis matches: 260\n",
      "Number of synthesis matches: 236\n"
     ]
    }
   ],
   "source": [
    "count_matches(roberta_1)"
   ]
  },
  {
   "cell_type": "code",
   "execution_count": 7,
   "id": "a332a49c-ee72-4606-bcd2-b2bc8c0a01e9",
   "metadata": {},
   "outputs": [
    {
     "name": "stdout",
     "output_type": "stream",
     "text": [
      "Number of thesis matches: 260\n",
      "Number of synthesis matches: 233\n"
     ]
    }
   ],
   "source": [
    "count_matches(roberta_naive_1)"
   ]
  },
  {
   "cell_type": "code",
   "execution_count": 8,
   "id": "49180cf1-5156-4135-9579-d1e58baa4062",
   "metadata": {},
   "outputs": [],
   "source": [
    "baseline = pd.read_csv('baseline.csv')\n",
    "baseline2 = pd.read_csv('baseline-2.csv')\n",
    "baseline_true = pd.read_csv('baseline-true.csv')\n",
    "baseline_alt = pd.read_csv('baseline-alternative.csv')\n",
    "baseline_alt2 = pd.read_csv('baseline-alternative-2.csv')\n",
    "baseline_alt3 = pd.read_csv('baseline-alternative-3.csv')"
   ]
  },
  {
   "cell_type": "code",
   "execution_count": 9,
   "id": "c027e5ed-df58-4056-9e38-6e982297c445",
   "metadata": {},
   "outputs": [
    {
     "name": "stdout",
     "output_type": "stream",
     "text": [
      "Number of thesis matches: 218\n",
      "Number of synthesis matches: 220\n"
     ]
    }
   ],
   "source": [
    "count_matches(baseline)"
   ]
  },
  {
   "cell_type": "code",
   "execution_count": 10,
   "id": "dc776bf3-b452-4758-b760-9c76e14c5bc0",
   "metadata": {},
   "outputs": [
    {
     "name": "stdout",
     "output_type": "stream",
     "text": [
      "Number of thesis matches: 222\n",
      "Number of synthesis matches: 221\n"
     ]
    }
   ],
   "source": [
    "count_matches(baseline2)"
   ]
  },
  {
   "cell_type": "code",
   "execution_count": 11,
   "id": "7f7bc540-5a2f-43ac-8165-444224e1b35d",
   "metadata": {},
   "outputs": [
    {
     "name": "stdout",
     "output_type": "stream",
     "text": [
      "Number of thesis matches: 218\n",
      "Number of synthesis matches: 210\n"
     ]
    }
   ],
   "source": [
    "count_matches(baseline_true)"
   ]
  },
  {
   "cell_type": "code",
   "execution_count": 12,
   "id": "a72960eb-b283-4a64-9a2c-2e60b7ee37ac",
   "metadata": {},
   "outputs": [
    {
     "name": "stdout",
     "output_type": "stream",
     "text": [
      "Number of thesis matches: 150\n",
      "Number of synthesis matches: 150\n"
     ]
    }
   ],
   "source": [
    "count_matches(baseline_alt)"
   ]
  },
  {
   "cell_type": "code",
   "execution_count": 13,
   "id": "d35023a6-bdc9-4564-9385-0c87267b6478",
   "metadata": {},
   "outputs": [
    {
     "name": "stdout",
     "output_type": "stream",
     "text": [
      "Number of thesis matches: 206\n",
      "Number of synthesis matches: 211\n"
     ]
    }
   ],
   "source": [
    "count_matches(baseline_alt2)"
   ]
  },
  {
   "cell_type": "code",
   "execution_count": 14,
   "id": "6ceea26f-dc91-48f3-ab36-e9c5b2c24e3b",
   "metadata": {},
   "outputs": [
    {
     "name": "stdout",
     "output_type": "stream",
     "text": [
      "Number of thesis matches: 206\n",
      "Number of synthesis matches: 215\n"
     ]
    }
   ],
   "source": [
    "count_matches(baseline_alt3)"
   ]
  },
  {
   "cell_type": "code",
   "execution_count": null,
   "id": "6b23ccd0-185a-4ca4-85ab-61f8fbd665c7",
   "metadata": {},
   "outputs": [],
   "source": []
  }
 ],
 "metadata": {
  "kernelspec": {
   "display_name": "Python 3 (ipykernel)",
   "language": "python",
   "name": "python3"
  },
  "language_info": {
   "codemirror_mode": {
    "name": "ipython",
    "version": 3
   },
   "file_extension": ".py",
   "mimetype": "text/x-python",
   "name": "python",
   "nbconvert_exporter": "python",
   "pygments_lexer": "ipython3",
   "version": "3.9.18"
  }
 },
 "nbformat": 4,
 "nbformat_minor": 5
}
