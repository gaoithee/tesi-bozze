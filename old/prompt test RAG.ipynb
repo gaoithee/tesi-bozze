{
 "cells": [
  {
   "cell_type": "markdown",
   "id": "96db4863-a54b-4d3a-87e2-74c645fcc018",
   "metadata": {
    "jp-MarkdownHeadingCollapsed": true
   },
   "source": [
    "# 🔹 DOCUMENTS LOADING"
   ]
  },
  {
   "cell_type": "code",
   "execution_count": 1,
   "id": "094ab87a-0ba8-4878-991e-01515de302e1",
   "metadata": {},
   "outputs": [
    {
     "name": "stderr",
     "output_type": "stream",
     "text": [
      "100%|██████████████████████████████████████████████████████████████████████████████████████████████████████████████████████████████████████████████████████████| 3/3 [00:26<00:00,  9.00s/it]\n"
     ]
    }
   ],
   "source": [
    "from langchain.document_loaders import PyPDFLoader, DirectoryLoader\n",
    "from langchain.text_splitter import RecursiveCharacterTextSplitter, CharacterTextSplitter\n",
    "\n",
    "loader = DirectoryLoader('HP content/',\n",
    "                         glob=\"./*.pdf\",\n",
    "                         loader_cls=PyPDFLoader,\n",
    "                         show_progress=True,\n",
    "                         use_multithreading=True)\n",
    "\n",
    "documents = loader.load()"
   ]
  },
  {
   "cell_type": "code",
   "execution_count": 2,
   "id": "9b452d85-f719-4c80-b5c9-c9eb9036fffa",
   "metadata": {},
   "outputs": [
    {
     "data": {
      "text/plain": [
       "'186could feel it vibrating and let go; it hung in midair, unsupported, at exactly the right height for him to mount it. His eyes moved from thegolden registration number at the top of the handle, right down to theperfectly smooth, streamlined birch twigs that made up the tail. \"Who sent it to you?\" said Ron in a hushed voice.\"Look and see if there\\'s a card,\" said Harry.Ron ripped apart the Firebolt\\'s wrappings.\"Nothing! Blimey, who\\'d spend that much on you?\"\"Well,\" said Harry, feeling stunned, \"I\\'m betting it wasn\\'t the Dursleys.\" I bet it was Dumbledore,\" said Ron, now walking around and around the Firebolt, taking in every glorious inch. \"He sent you the InvisibilityCloak anonymously....\" \"That was my dad\\'s, though,\" said Harry. \"Dumbledore was just Passing it on to me. He wouldn\\'t spend hundreds of Galleons on me. He can\\'t gogiving students stuff like this --\" \"That\\'s why he wouldn\\'t say it was from him!\" said Ron. \"In case some git like Malfoy said it was favoritism. Hey, Harry\" -- Ron gave a greatwhoop of laughter -- \"Malfoy! Wait till he sees you on this! He\\'ll besick as a pig! This is an international standard broom, this is!\" \"I can\\'t believe this,\" Harry muttered, running a hand along the Firebolt, while Ron sank onto Harry\\'s bed, laughing his head off at thethought of Malfoy. \"Who -?\" \"I know,\" said Ron, controlling himself, \"I know who it could\\'ve been -- Lupin!\" \"What?\" said Harry, now starting to laugh himself \"Lupin? Listen, if he had this much gold, he\\'d be able to buy himself some new robes.\" \"Yeah, but he likes you,\" said Ron. \"And he was away when your Nimbus'"
      ]
     },
     "execution_count": 2,
     "metadata": {},
     "output_type": "execute_result"
    }
   ],
   "source": [
    "# Pulizia degli spazi, degli \"a capo\", ...\n",
    "for i in range(len(documents)):\n",
    "    documents[i].page_content = documents[i].page_content.replace('\\t', ' ')\\\n",
    "                                                         .replace('\\n', ' ')\\\n",
    "                                                         .replace('       ', ' ')\\\n",
    "                                                         .replace('      ', ' ')\\\n",
    "                                                         .replace('     ', ' ')\\\n",
    "                                                         .replace('    ', ' ')\\\n",
    "                                                         .replace('   ', ' ')\\\n",
    "                                                         .replace('  ', ' ')\n",
    "\n",
    "# Check:\n",
    "documents[186].page_content"
   ]
  },
  {
   "cell_type": "markdown",
   "id": "045746d4-d0d6-4cf1-b68e-63bebe72f990",
   "metadata": {
    "jp-MarkdownHeadingCollapsed": true
   },
   "source": [
    "## 🔹 Indexing process -> turning it into a vector database"
   ]
  },
  {
   "cell_type": "code",
   "execution_count": 5,
   "id": "10b152fa-57f8-4504-ba3c-0d38960c4764",
   "metadata": {},
   "outputs": [],
   "source": [
    "from langchain.vectorstores import FAISS\n",
    "from langchain.embeddings.huggingface import HuggingFaceEmbeddings\n",
    "\n",
    "text_splitter = RecursiveCharacterTextSplitter(chunk_size=1000, chunk_overlap=20)\n",
    "texts = text_splitter.split_documents(documents)\n",
    "\n",
    "db = FAISS.from_documents(texts,\n",
    "                          HuggingFaceEmbeddings(model_name='sentence-transformers/all-mpnet-base-v2'))"
   ]
  },
  {
   "cell_type": "code",
   "execution_count": 6,
   "id": "bc82aace-7a45-43c6-b899-7ac5e17bcb0f",
   "metadata": {},
   "outputs": [],
   "source": [
    "# Salva quanto indicizzato in modo da evitare di ri-indicizzare tutto ogni volta\n",
    "db.save_local(\"harrypotter_faiss_index\")"
   ]
  },
  {
   "cell_type": "code",
   "execution_count": 7,
   "id": "e800071b-4968-4c0a-818d-16534f44d153",
   "metadata": {},
   "outputs": [],
   "source": [
    "retriever = db.as_retriever(k = 3)"
   ]
  },
  {
   "cell_type": "markdown",
   "id": "b606120f-4535-459d-b955-f1f6598a32ac",
   "metadata": {
    "jp-MarkdownHeadingCollapsed": true
   },
   "source": [
    "## 🔹 Load the existing vector database & use it as a retriever"
   ]
  },
  {
   "cell_type": "code",
   "execution_count": 1,
   "id": "ab955e22-0234-45f1-8484-b90889805f09",
   "metadata": {},
   "outputs": [],
   "source": [
    "from langchain.vectorstores import FAISS\n",
    "from langchain.embeddings.huggingface import HuggingFaceEmbeddings\n",
    "\n",
    "new_db = FAISS.load_local(\"harrypotter_faiss_index\", \n",
    "                          HuggingFaceEmbeddings(model_name='sentence-transformers/all-mpnet-base-v2'),\n",
    "                          allow_dangerous_deserialization=True)"
   ]
  },
  {
   "cell_type": "code",
   "execution_count": 80,
   "id": "472b9263-b4ba-4702-80aa-688a57199a7b",
   "metadata": {},
   "outputs": [],
   "source": [
    "# top k=3 relevant documents are retrieved\n",
    "retriever = new_db.as_retriever(search_kwargs={'k': 3, })"
   ]
  },
  {
   "cell_type": "markdown",
   "id": "926bb532-fa37-4cfe-89fa-731ad140276d",
   "metadata": {},
   "source": [
    "# 🔹 LLAMA2 - chat"
   ]
  },
  {
   "cell_type": "markdown",
   "id": "86132ec0-f0d0-4316-b71e-92af9861cda2",
   "metadata": {
    "jp-MarkdownHeadingCollapsed": true
   },
   "source": [
    "## 🔹 Upload the model: "
   ]
  },
  {
   "cell_type": "code",
   "execution_count": 8,
   "id": "7ce89a37-b6e1-48ff-b8fb-621e456392c1",
   "metadata": {},
   "outputs": [
    {
     "data": {
      "application/vnd.jupyter.widget-view+json": {
       "model_id": "3dafe090de074d3da4aa70dfd43c4139",
       "version_major": 2,
       "version_minor": 0
      },
      "text/plain": [
       "VBox(children=(HTML(value='<center> <img\\nsrc=https://huggingface.co/front/assets/huggingface_logo-noborder.sv…"
      ]
     },
     "metadata": {},
     "output_type": "display_data"
    }
   ],
   "source": [
    "from huggingface_hub import login\n",
    "\n",
    "login()"
   ]
  },
  {
   "cell_type": "code",
   "execution_count": 3,
   "id": "cc6eb0bf-fb11-4952-b14e-809b77898a19",
   "metadata": {},
   "outputs": [
    {
     "name": "stderr",
     "output_type": "stream",
     "text": [
      "`low_cpu_mem_usage` was None, now set to True since model is quantized.\n"
     ]
    },
    {
     "data": {
      "application/vnd.jupyter.widget-view+json": {
       "model_id": "4f408fa608ce4d4d80b7d3f770976af0",
       "version_major": 2,
       "version_minor": 0
      },
      "text/plain": [
       "Loading checkpoint shards:   0%|          | 0/2 [00:00<?, ?it/s]"
      ]
     },
     "metadata": {},
     "output_type": "display_data"
    }
   ],
   "source": [
    "import torch\n",
    "from transformers import (\n",
    "    AutoModelForCausalLM,\n",
    "    AutoTokenizer,\n",
    "    BitsAndBytesConfig,\n",
    "    HfArgumentParser,\n",
    "    pipeline,\n",
    "    logging,\n",
    ")\n",
    "from peft import LoraConfig, PeftModel\n",
    "\n",
    "#################################################################\n",
    "# Tokenizer\n",
    "#################################################################\n",
    "\n",
    "model_name=\"meta-llama/Llama-2-7b-chat-hf\"\n",
    "\n",
    "tokenizer = AutoTokenizer.from_pretrained(model_name, trust_remote_code=True)\n",
    "tokenizer.pad_token = tokenizer.eos_token\n",
    "tokenizer.padding_side = \"right\"\n",
    "\n",
    "#################################################################\n",
    "# bitsandbytes parameters\n",
    "#################################################################\n",
    "\n",
    "# Activate 4-bit precision base model loading\n",
    "use_4bit = True\n",
    "\n",
    "# Compute dtype for 4-bit base models\n",
    "bnb_4bit_compute_dtype = \"float16\"\n",
    "\n",
    "# Quantization type (fp4 or nf4)\n",
    "bnb_4bit_quant_type = \"nf4\"\n",
    "\n",
    "# Activate nested quantization for 4-bit base models (double quantization)\n",
    "use_nested_quant = False\n",
    "\n",
    "#################################################################\n",
    "# Set up quantization config\n",
    "#################################################################\n",
    "compute_dtype = getattr(torch, bnb_4bit_compute_dtype)\n",
    "\n",
    "bnb_config = BitsAndBytesConfig(\n",
    "    load_in_4bit=use_4bit,\n",
    "    bnb_4bit_quant_type=bnb_4bit_quant_type,\n",
    "    bnb_4bit_compute_dtype=compute_dtype,\n",
    "    bnb_4bit_use_double_quant=use_nested_quant,\n",
    ")\n",
    "\n",
    "# Check GPU compatibility with bfloat16\n",
    "if compute_dtype == torch.float16 and use_4bit:\n",
    "    major, _ = torch.cuda.get_device_capability()\n",
    "    if major >= 8:\n",
    "        print(\"=\" * 80)\n",
    "        print(\"Your GPU supports bfloat16: accelerate training with bf16=True\")\n",
    "        print(\"=\" * 80)\n",
    "\n",
    "#################################################################\n",
    "# Load pre-trained config\n",
    "#################################################################\n",
    "model = AutoModelForCausalLM.from_pretrained(\n",
    "    model_name,\n",
    "    quantization_config=bnb_config,\n",
    ")"
   ]
  },
  {
   "cell_type": "markdown",
   "id": "c58bf643-6ff9-4759-96b3-adf1b9e447aa",
   "metadata": {
    "jp-MarkdownHeadingCollapsed": true
   },
   "source": [
    "## 🔹 Pipeline "
   ]
  },
  {
   "cell_type": "code",
   "execution_count": 4,
   "id": "06649d5c-6f76-426b-9edb-5fd535376e15",
   "metadata": {},
   "outputs": [],
   "source": [
    "from langchain.llms import HuggingFacePipeline\n",
    "\n",
    "response_generation_pipeline = pipeline(\n",
    "    model=model,\n",
    "    tokenizer=tokenizer,\n",
    "    task=\"text-generation\", # deve matchare la scheda del modello HF o dà errore\n",
    "    do_sample=False,\n",
    "    temperature=0.0,\n",
    "    repetition_penalty=1.5,\n",
    "    return_full_text=True,\n",
    "    max_new_tokens=400,\n",
    "    top_p=0.0\n",
    ")\n",
    "\n",
    "response_generation_llm = HuggingFacePipeline(pipeline=response_generation_pipeline)"
   ]
  },
  {
   "cell_type": "markdown",
   "id": "5e028a19-b475-4f44-a7c5-606000bc11ae",
   "metadata": {
    "jp-MarkdownHeadingCollapsed": true
   },
   "source": [
    "## OPT1: zero-shot prompt template  + context \n",
    "GitHub con Elia - non funziona perché non capisce cosa vuole"
   ]
  },
  {
   "cell_type": "code",
   "execution_count": 5,
   "id": "a4936d9b-a0f1-470c-8784-239cf46e819f",
   "metadata": {},
   "outputs": [],
   "source": [
    "from langchain import PromptTemplate\n",
    "prompt_template = PromptTemplate.from_template(\n",
    "\"\"\"\n",
    "    You're a helpful assistant and you are asked to answer a question correctly, given a certain number of options. \n",
    "    Answer with the correct option only and then stop.\n",
    "    Given this question: {question} \\n you must answer by choosing only one option above these: {options}. \\n\n",
    "    Here is context to help: {context} \\n\n",
    "    The correct answer is:\n",
    " \"\"\"\n",
    ")"
   ]
  },
  {
   "cell_type": "code",
   "execution_count": 6,
   "id": "87dbb3d3-bd5c-4a9d-8644-16844eee902d",
   "metadata": {},
   "outputs": [],
   "source": [
    "from langchain_core.runnables import RunnablePassthrough, RunnableParallel\n",
    "from operator import itemgetter\n",
    "\n",
    "augmentation = {\"options\": itemgetter(\"options\"), \"context\": itemgetter(\"question\") | retriever, \"question\": itemgetter(\"question\"),}\n",
    "llm_chain = augmentation | prompt_template | response_generation_llm"
   ]
  },
  {
   "cell_type": "code",
   "execution_count": 7,
   "id": "96b227e8-2b94-4ba6-bdc8-b0bffcd9a3fa",
   "metadata": {},
   "outputs": [
    {
     "name": "stderr",
     "output_type": "stream",
     "text": [
      "/orfeo/cephfs/home/dssc/scandu00/nlp-env/lib64/python3.9/site-packages/transformers/generation/configuration_utils.py:492: UserWarning: `do_sample` is set to `False`. However, `temperature` is set to `0.0` -- this flag is only used in sample-based generation modes. You should set `do_sample=True` or unset `temperature`.\n",
      "  warnings.warn(\n",
      "/orfeo/cephfs/home/dssc/scandu00/nlp-env/lib64/python3.9/site-packages/transformers/generation/configuration_utils.py:497: UserWarning: `do_sample` is set to `False`. However, `top_p` is set to `0.0` -- this flag is only used in sample-based generation modes. You should set `do_sample=True` or unset `top_p`.\n",
      "  warnings.warn(\n"
     ]
    },
    {
     "data": {
      "text/plain": [
       "\"\\n    You're a helpful assistant and you are asked to answer a question correctly, given a certain number of options. \\n    Answer with the correct option only and then stop.\\n    Given this question: What is the name of the family living in the Burrow? \\n you must answer by choosing only one option above these: A. Malfoy; B. Potter; C. Weasley. \\n\\n    Here is context to help: [Document(page_content='a straggling line, their little shoulders hunched. “They’ll be back,” said Ron as they watched the gnomes disappear into the hedge on the other side of the field. “They love it here. … Dad’s too soft with them; he thinks they’re funny. …” Just then, the front door slammed. “He’s back!” said George. “Dad’s home!”', metadata={'source': 'HP content/Harry Potter - Book 2 - The Chamber of Secrets.pdf', 'page': 42}), Document(page_content='moved into Dudley’s second bedroom. “Why?” said Harry. “Don’t ask questions!” snapped his uncle. “Take this stuff upstairs, now.” The Dursleys’ house had four bedrooms: one for Uncle Vernon and Aunt Petunia, one for visitors (usually Uncle Vernon’s sister, Marge), one where Dudley slept, and one where Dudley kept all the toys and things that wouldn’t fit into his first bedroom. It only took Harry one trip upstairs to move everything he owned from the cupboard to this room. He sat down on the bed and stared around him. Nearly everything in here was broken. The month-old video camera was lying on top of a small, working tank Dudley had once driven over the next door neighbor’s dog; in the corner was Dudley’s first-ever television set, which he’d put his foot through when his favorite program had been canceled; there was a large birdcage, which had once held a parrot that Dudley had swapped at school for a real air rifle, which was up on a shelf with the end all bent because Dudley had', metadata={'source': 'HP content/Harry Potter - Book 1 - The Sorcerers Stone.pdf', 'page': 29}), Document(page_content='CHAPTER ONE THE BOY WHO LIVED M r. and Mrs. Dursley, of number four, Privet Drive, were proud to say that they were perfectly normal, thank you very much. They were the last people you’d expect to be involved in anything strange or mysterious, because they just didn’t hold with such nonsense. Mr. Dursley was the director of a firm called Grunnings, which made drills. He was a big, beefy man with hardly any neck, although he did have a very large mustache. Mrs. Dursley was thin and blonde and had nearly twice the usual amount of neck, which came in very useful as she spent so much of her time craning over garden fences, spying on the neighbors. The Dursleys had a small son called Dudley and in their opinion there was no finer boy anywhere. The Dursleys had everything they wanted, but they also had a secret, and their greatest fear was that somebody would discover it. They didn’t think they could bear it if anyone found out about the Potters. Mrs. Potter was Mrs. Dursley’s sister, but', metadata={'source': 'HP content/Harry Potter - Book 1 - The Sorcerers Stone.pdf', 'page': 4}), Document(page_content='enjoyed his summer holidays. Uncle Vernon, Aunt Petunia, and', metadata={'source': 'HP content/Harry Potter - Book 3 - The Prisoner of Azkaban.pdf', 'page': 1})] \\n\\n    The correct answer is:\\n \""
      ]
     },
     "execution_count": 7,
     "metadata": {},
     "output_type": "execute_result"
    }
   ],
   "source": [
    "llm_chain.invoke({'question': \"What is the name of the family living in the Burrow?\", 'options': \"A. Malfoy; B. Potter; C. Weasley\"})"
   ]
  },
  {
   "cell_type": "markdown",
   "id": "3e8f3de6-d57c-4e0f-831f-cc3d0a00a744",
   "metadata": {
    "jp-MarkdownHeadingCollapsed": true
   },
   "source": [
    "## OPT2: zero-shot prompt template + context with `###`\n",
    "Non funziona uguale (se non peggio) ma può aiutare con la formattazione"
   ]
  },
  {
   "cell_type": "code",
   "execution_count": null,
   "id": "65fd62d4-0c8b-4030-a304-969dd6e58c15",
   "metadata": {},
   "outputs": [],
   "source": [
    "prompt_template = PromptTemplate.from_template(\n",
    "\"\"\"\n",
    "    You're a helpful assistant and you are asked to answer a QUESTION correctly, given a certain number of options. \n",
    "    You must answer providing only one of the possible OPTIONS. You are given CONTEXT to help.\n",
    "    ### QUESTION: {question}\n",
    "    ### OPTIONS: {options}. \n",
    "    Here is context to help: \n",
    "    ### CONTEXT: {context} \n",
    "    ### ANSWER:\n",
    " \"\"\"\n",
    ")"
   ]
  },
  {
   "cell_type": "code",
   "execution_count": null,
   "id": "cde68af5-a9c9-454b-98e9-31c2b4002dab",
   "metadata": {},
   "outputs": [],
   "source": [
    "augmentation = {\"options\": itemgetter(\"options\"), \"context\": itemgetter(\"question\") | retriever, \"question\": itemgetter(\"question\"),}\n",
    "llm_chain = augmentation | prompt_template | response_generation_llm"
   ]
  },
  {
   "cell_type": "code",
   "execution_count": null,
   "id": "b546e0a4-bb80-4f9a-8aec-0eb1b800b9ed",
   "metadata": {},
   "outputs": [],
   "source": [
    "llm_chain.invoke({'question': \"Who is Taylor Swift?\", 'options':\"A. a snowboard; B. a cat; C. a singer\"})"
   ]
  },
  {
   "cell_type": "markdown",
   "id": "52bd57ed-9906-4311-990b-86b4338d2e14",
   "metadata": {
    "jp-MarkdownHeadingCollapsed": true
   },
   "source": [
    "## OPT3: zero-shot no context\n",
    "Basarsi sulla conoscenza pregressa pare fornire la soluzione corretta..."
   ]
  },
  {
   "cell_type": "code",
   "execution_count": null,
   "id": "ad45e22a-9759-4a38-8df1-f71bb941c232",
   "metadata": {},
   "outputs": [],
   "source": [
    "from langchain_core.prompts import PromptTemplate\n",
    "\n",
    "prompt_template = PromptTemplate.from_template(\"\"\"\n",
    "You're a helpful assistant and you are asked to answer a question correctly, given a certain number of options. \n",
    "Answer with the correct option only and then stop.\\n \n",
    "\n",
    "Given this question: {question} \\n you must answer by choosing only one option above these: {options}. The correct answer is: \n",
    "\"\"\")\n",
    "\n",
    "response_generation_llm.invoke(prompt_template.format(question=\"What is the name of Ron's family?\", \n",
    "                                                      options=\"A. Malfoy; B. Potter; C. Weasley\"))"
   ]
  },
  {
   "cell_type": "markdown",
   "id": "eac5ac4e-c328-476c-b22e-f523ad950144",
   "metadata": {
    "jp-MarkdownHeadingCollapsed": true
   },
   "source": [
    "## OPT4: one-shot prompt template + context\n",
    "Anche qui nada"
   ]
  },
  {
   "cell_type": "code",
   "execution_count": null,
   "id": "5ae4bf03-b2f7-4cbc-8487-0ba8109b6944",
   "metadata": {},
   "outputs": [],
   "source": [
    "prompt_template = PromptTemplate.from_template(\"\"\"\n",
    "    You're a helpful assistant and you are asked to answer a question correctly, given a certain number of options. Answer with the correct option only and then stop.\\n \n",
    "    \n",
    "    Here is an example showing how I want the answer to be:\n",
    "    - Given this question: What is the sun? \\n just answer by choosing one options above these: A) a planet; B) a star; C) a galaxy. \n",
    "    The correct answer is: B) a star. \\n \n",
    "\n",
    "    Given this question: {question} \\n you must answer by choosing only one option above these: {options}. \\n\n",
    "    \n",
    "    Here is context to help: {context} \\n\n",
    "    \n",
    "    The correct answer is:\n",
    "\"\"\"\n",
    ")"
   ]
  },
  {
   "cell_type": "code",
   "execution_count": null,
   "id": "8f2afd53-d761-48ff-9ae7-3345ebef5335",
   "metadata": {},
   "outputs": [],
   "source": [
    "from langchain_core.runnables import RunnablePassthrough, RunnableParallel\n",
    "from operator import itemgetter\n",
    "\n",
    "augmentation = {\"options\": itemgetter(\"options\"), \"context\": itemgetter(\"question\") | retriever, \"question\": itemgetter(\"question\"),}\n",
    "llm_chain = augmentation | prompt_template | response_generation_llm"
   ]
  },
  {
   "cell_type": "code",
   "execution_count": null,
   "id": "a9bdf0cf-b2d0-484c-9dc5-38e0da6cd558",
   "metadata": {},
   "outputs": [],
   "source": [
    "llm_chain.invoke({'question': \"What is the name of the young Dursley?\", 'options': \"A. Malfoy; B. Potter; C. Dudley\"})"
   ]
  },
  {
   "cell_type": "markdown",
   "id": "6fcbda7e-4a01-46b3-9cb6-41393399b68f",
   "metadata": {
    "jp-MarkdownHeadingCollapsed": true
   },
   "source": [
    "## OPT5: one-shot prompt template no context\n",
    "Qui paradossalmente funziona! \n",
    "Sembra che sia il `context` a sminchiare la risposta..."
   ]
  },
  {
   "cell_type": "code",
   "execution_count": null,
   "id": "a6d1097c-2028-4249-b208-83f202006618",
   "metadata": {},
   "outputs": [],
   "source": [
    "prompt_template = PromptTemplate.from_template(\"\"\"\n",
    "    You're a helpful assistant and you are asked to answer a question correctly, given a certain number of options. \n",
    "    Answer with the correct option only and then stop.\\n \n",
    "    \n",
    "    Here is an example showing how I want the answer to be:\n",
    "    - Given this question: What is the sun? \\n just answer by choosing one options above these: A) a planet; B) a star; C) a galaxy. \n",
    "    The correct answer is: B) a star. \\n \n",
    "\n",
    "    Given this question: {question} \\n you must answer by choosing only one option above these: {options}. \\n\n",
    "    \n",
    "    The correct answer is:\n",
    "\"\"\"\n",
    ")"
   ]
  },
  {
   "cell_type": "code",
   "execution_count": null,
   "id": "8577cb39-a71a-4676-946f-9e961141f9e5",
   "metadata": {},
   "outputs": [],
   "source": [
    "response_generation_llm.invoke(prompt_template.format(question=\"What is the name of Ron's family?\", \n",
    "                                                      options=\"A. Malfoy; B. Potter; C. Weasley\"))"
   ]
  },
  {
   "cell_type": "code",
   "execution_count": null,
   "id": "8e85c957-4271-4b12-bec8-65aad1faa15a",
   "metadata": {},
   "outputs": [],
   "source": [
    "response_generation_llm.invoke(prompt_template.format(question=\"What is the name of the young Dursley?\", options=\"A. Malfoy; B. Potter; C. Dudley\"))"
   ]
  },
  {
   "cell_type": "markdown",
   "id": "00ca8736-7bd6-49e2-b2ea-a9d01d888c68",
   "metadata": {
    "jp-MarkdownHeadingCollapsed": true
   },
   "source": [
    "## OPT6: one-shot prompt template with options splitted into different objects + context\n",
    "Non va"
   ]
  },
  {
   "cell_type": "code",
   "execution_count": null,
   "id": "6aa6acfd-1f12-4c12-98a1-383461d210e5",
   "metadata": {},
   "outputs": [],
   "source": [
    "prompt_template = PromptTemplate.from_template(\"\"\"\n",
    "    You're a helpful assistant and you are asked to answer a question correctly, given a certain number of options. \n",
    "    Answer with the correct option only and then stop.\n",
    "    \n",
    "    Here is an example showing how I want the answer to be:\n",
    "    - Given this question: What is the sun? \\n just answer by choosing one options above these: A. a planet; B. a star; C. a galaxy. \n",
    "    The correct answer is: B. a star. \n",
    "    Here is context to help: The Sun is the star at the center of the Solar System. It is a massive, hot ball of plasma, inflated and heated by energy produced by nuclear fusion.\n",
    "\n",
    "    Given this question: {question} \\n you must answer by choosing only one option above these: {option_1}; {option_2}; {option_3}.\n",
    "    Here is context to help: {context} \\n\n",
    "    \n",
    "    The correct answer is:\n",
    "\"\"\"\n",
    ")"
   ]
  },
  {
   "cell_type": "code",
   "execution_count": null,
   "id": "c1cf4615-53cf-4dbb-a994-8b7947d0df80",
   "metadata": {},
   "outputs": [],
   "source": [
    "from langchain_core.runnables import RunnablePassthrough, RunnableParallel\n",
    "from operator import itemgetter\n",
    "\n",
    "augmentation = {\"option_1\": itemgetter(\"option_1\"), \"option_2\": itemgetter(\"option_2\"), \"option_3\": itemgetter(\"option_3\"), \n",
    "                \"context\": itemgetter(\"question\") | retriever, \"question\": itemgetter(\"question\"),}\n",
    "llm_chain = augmentation | prompt_template | response_generation_llm"
   ]
  },
  {
   "cell_type": "code",
   "execution_count": null,
   "id": "8f0711a8-da03-4839-b399-399ad8be4588",
   "metadata": {},
   "outputs": [],
   "source": [
    "llm_chain.invoke({'question': \"Who is Hermione?\", 'option_1': \"A. a Gryffindor\", \"option_2\": \"B. a Slytherin\", \"option_3\": \"C. a Muggle\"})"
   ]
  },
  {
   "cell_type": "markdown",
   "id": "31fedf20-6a2a-4a8b-9b6e-d2524be214e2",
   "metadata": {
    "jp-MarkdownHeadingCollapsed": true
   },
   "source": [
    "## OPT7: one-shot prompt template with options splitted into different objects no context"
   ]
  },
  {
   "cell_type": "code",
   "execution_count": null,
   "id": "8580e7b4-255c-4b99-a50f-e8128c09d182",
   "metadata": {},
   "outputs": [],
   "source": [
    "from langchain import PromptTemplate\n",
    "\n",
    "prompt_template = PromptTemplate.from_template(\"\"\"\n",
    "    You're a helpful assistant and you are asked to answer a question correctly, given a certain number of options. \n",
    "    Answer with the correct option only and then stop.\n",
    "    \n",
    "    Here is an example showing how I want the answer to be:\n",
    "    - Given this question: What is the sun? \\n just answer by choosing one options above these: A. a planet; B. a star; C. a galaxy. \n",
    "    The correct answer is: B. a star. \n",
    "    \n",
    "    Given this question: {question} \\n you must answer by choosing only one option above these: {option_1}; {option_2}; {option_3}.\n",
    "    The correct answer is:\n",
    "\"\"\"\n",
    ")"
   ]
  },
  {
   "cell_type": "code",
   "execution_count": null,
   "id": "4bd91cee-6212-4d97-b3cf-a8307c3bda8a",
   "metadata": {},
   "outputs": [],
   "source": [
    "response_generation_llm.invoke(prompt_template.format(question=\"What is the name of the young Dursley?\", option_1=\"A. Malfoy\",\n",
    "                                                      option_2= \"B. Potter\", option_3 = \"C. Dudley\"))"
   ]
  },
  {
   "cell_type": "code",
   "execution_count": null,
   "id": "2d03b795-df65-46ad-b192-c0ce41da1f7c",
   "metadata": {},
   "outputs": [],
   "source": []
  },
  {
   "cell_type": "markdown",
   "id": "32f4b46d-5ce7-471e-a38e-e9a7ab96aa45",
   "metadata": {
    "jp-MarkdownHeadingCollapsed": true
   },
   "source": [
    "## Other things"
   ]
  },
  {
   "cell_type": "markdown",
   "id": "c5d0fd7f-8113-4722-a19c-995b549249a7",
   "metadata": {},
   "source": [
    "### Response Schemas"
   ]
  },
  {
   "cell_type": "code",
   "execution_count": null,
   "id": "1232feaa-0524-4508-9998-3a4f9bf6480f",
   "metadata": {},
   "outputs": [],
   "source": [
    "from langchain.output_parsers import StructuredOutputParser, ResponseSchema\n",
    "\n",
    "response_schemas = [\n",
    "    ResponseSchema(name=\"question\", description=\"Question from input text data.\"),\n",
    "    ResponseSchema(name=\"choices\", description=\"Available options for a multiple-choice question in comma separated.\"),\n",
    "    ResponseSchema(name=\"answer\", description=\"Correct answer for the asked question.\")\n",
    "]\n",
    "\n",
    "output_parser = StructuredOutputParser.from_response_schemas(response_schemas)\n",
    "output_parser"
   ]
  },
  {
   "cell_type": "code",
   "execution_count": null,
   "id": "d85db111-e79c-4a5f-920d-d586f0da9fb4",
   "metadata": {},
   "outputs": [],
   "source": [
    "# This helps us fetch the instructions the langchain creates to fetch the response in desired format\n",
    "format_instructions = output_parser.get_format_instructions()\n",
    " \n",
    "print(format_instructions)"
   ]
  },
  {
   "cell_type": "code",
   "execution_count": null,
   "id": "d5095799-449b-4463-9ca8-f179533d13ae",
   "metadata": {},
   "outputs": [],
   "source": [
    "prompt_template = PromptTemplate.from_template(\n",
    "    \"\"\"\n",
    "    You're a helpful assistant and you are asked to answer a question correctly, given a certain number of options. \n",
    "    Answer with the correct option only and then stop.\n",
    "\n",
    "    Given this question: {question} \\n you must answer by choosing only one option above these: {option_1}; {option_2}; {option_3}.\n",
    "    The correct answer is:\n",
    "    \"\"\")  \n",
    "    ],\n",
    "    input_variables=[\"user_prompt\"],\n",
    "    partial_variables={\"format_instructions\": format_instructions}\n",
    ")\n",
    "final_query = prompt.format_prompt(user_prompt = answer)\n",
    "print(final_query)"
   ]
  },
  {
   "cell_type": "markdown",
   "id": "18d43a34-fc04-4043-afcb-c8271f6a4e3f",
   "metadata": {
    "jp-MarkdownHeadingCollapsed": true
   },
   "source": [
    "## 🔹 DIVIDE ET IMPERA: retrieve, format properly, append."
   ]
  },
  {
   "cell_type": "code",
   "execution_count": 92,
   "id": "ba927498-c727-49d7-8620-738ed80586d1",
   "metadata": {},
   "outputs": [
    {
     "data": {
      "text/plain": [
       "[Document(page_content='P a g e | 184 Harry Potter and the Chamber of Secrets – J. K. Rowling man who seemed to have been turned inside out and a witch sprouting several extra pairs of arms out of her head. “Here it is,” said Hermione excitedly as she found the page headed The Polyjuice Potion. It was decorated with drawings of people halfway through transforming into other people. Harry sincerely hoped the artist had imagined the looks of intense pain on their faces. “This is the most complicated potion I’ve ever seen,” said Hermione as they scanned the recipe. “Lacewing flies, leeches, fluxweed, and knotgrass,” she murmured, running her finger down the list of ingredients. “Well, they’re easy enough, they’re in the student store-cupboard, we can help ourselves. … Oooh, look, powdered horn of a bicorn — don’t know where we’re going to get that — shredded skin of a boomslang — that’ll be tricky, too — and of course a bit of whoever we want to change into.” “Excuse me?” said Ron sharply. “What d’you mean, a', metadata={'source': 'HP content/Harry Potter - Book 2 - The Chamber of Secrets.pdf', 'page': 183}),\n",
       " Document(page_content='P a g e | 240 Harry Potter and the Chamber of Secrets – J. K. Rowling Harry showed her Goyle’s hair. “Good. And I sneaked these spare robes out of the laundry,” Hermione said, holding up a small sack. “You’ll need bigger sizes once you’re Crabbe and Goyle.” The three of them stared into the cauldron. Close up, the potion looked like thick, dark mud, bubbling sluggishly. “I’m sure I’ve done everything right,” said Hermione, nervously rereading the splotched page of Moste Potente Potions. “It looks like the book says it should … once we’ve drunk it, we’ll have exactly an hour before we change back into ourselves.” “Now what?” Ron whispered. “We separate it into three glasses and add the hairs.” Hermione ladled large dollops of the potion into each of the glasses. Then, her hand trembling, she shook Millicent Bulstrode’s hair out of its bottle into the first glass. The potion hissed loudly like a boiling kettle and frothed madly. A second later, it had turned a sick sort of yellow. “Urgh', metadata={'source': 'HP content/Harry Potter - Book 2 - The Chamber of Secrets.pdf', 'page': 239}),\n",
       " Document(page_content='P a g e | 178 Harry Potter and the Chamber of Secrets – J. K. Rowling “There might be a way,” said Hermione slowly, dropping her voice still further with a quick glance across the room at Percy. “Of course, it would be difficult. And dangerous, very dangerous. We’d be breaking about fifty school rules, I expect —” “If, in a month or so, you feel like explaining, you wil l let us know, won’t you?” said Ron irritably. “All right,” said Hermione coldly. “What we’d need to do is to get inside the Slytherin common room and ask Malfoy a few questions without him realizing it’s us.” “But that’s impossible,” Harry said as Ron laughed. “No, it’s not,” said Hermione. “All we’d need would be some Polyjuice Potion.” “What’s that?” said Ron and Harry together. “Snape mentioned it in class a few weeks ago —” “D’you think we’ve got nothing better to do in Potions than listen to Snape?” muttered Ron. “It transforms you into somebody else. Think about it! We could change into three of the Slytherins.', metadata={'source': 'HP content/Harry Potter - Book 2 - The Chamber of Secrets.pdf', 'page': 177})]"
      ]
     },
     "execution_count": 92,
     "metadata": {},
     "output_type": "execute_result"
    }
   ],
   "source": [
    "documents = retriever.invoke(\"What is the name of the potion allowing to change appearance?\")\n",
    "documents"
   ]
  },
  {
   "cell_type": "code",
   "execution_count": 82,
   "id": "2a5095ae-2858-44be-b346-72357ef62c62",
   "metadata": {},
   "outputs": [],
   "source": [
    "def format_output(documents):\n",
    "    formatted_output = \"\"\n",
    "    for idx, document in enumerate(documents, start=1):\n",
    "        formatted_output += f\"[{idx}] {document.page_content}\\n\"\n",
    "    return formatted_output"
   ]
  },
  {
   "cell_type": "code",
   "execution_count": 93,
   "id": "7582c25c-4188-4687-b32c-1b8ca3b521b8",
   "metadata": {},
   "outputs": [
    {
     "data": {
      "text/plain": [
       "'[1] P a g e | 184 Harry Potter and the Chamber of Secrets – J. K. Rowling man who seemed to have been turned inside out and a witch sprouting several extra pairs of arms out of her head. “Here it is,” said Hermione excitedly as she found the page headed The Polyjuice Potion. It was decorated with drawings of people halfway through transforming into other people. Harry sincerely hoped the artist had imagined the looks of intense pain on their faces. “This is the most complicated potion I’ve ever seen,” said Hermione as they scanned the recipe. “Lacewing flies, leeches, fluxweed, and knotgrass,” she murmured, running her finger down the list of ingredients. “Well, they’re easy enough, they’re in the student store-cupboard, we can help ourselves. … Oooh, look, powdered horn of a bicorn — don’t know where we’re going to get that — shredded skin of a boomslang — that’ll be tricky, too — and of course a bit of whoever we want to change into.” “Excuse me?” said Ron sharply. “What d’you mean, a\\n[2] P a g e | 240 Harry Potter and the Chamber of Secrets – J. K. Rowling Harry showed her Goyle’s hair. “Good. And I sneaked these spare robes out of the laundry,” Hermione said, holding up a small sack. “You’ll need bigger sizes once you’re Crabbe and Goyle.” The three of them stared into the cauldron. Close up, the potion looked like thick, dark mud, bubbling sluggishly. “I’m sure I’ve done everything right,” said Hermione, nervously rereading the splotched page of Moste Potente Potions. “It looks like the book says it should … once we’ve drunk it, we’ll have exactly an hour before we change back into ourselves.” “Now what?” Ron whispered. “We separate it into three glasses and add the hairs.” Hermione ladled large dollops of the potion into each of the glasses. Then, her hand trembling, she shook Millicent Bulstrode’s hair out of its bottle into the first glass. The potion hissed loudly like a boiling kettle and frothed madly. A second later, it had turned a sick sort of yellow. “Urgh\\n[3] P a g e | 178 Harry Potter and the Chamber of Secrets – J. K. Rowling “There might be a way,” said Hermione slowly, dropping her voice still further with a quick glance across the room at Percy. “Of course, it would be difficult. And dangerous, very dangerous. We’d be breaking about fifty school rules, I expect —” “If, in a month or so, you feel like explaining, you wil l let us know, won’t you?” said Ron irritably. “All right,” said Hermione coldly. “What we’d need to do is to get inside the Slytherin common room and ask Malfoy a few questions without him realizing it’s us.” “But that’s impossible,” Harry said as Ron laughed. “No, it’s not,” said Hermione. “All we’d need would be some Polyjuice Potion.” “What’s that?” said Ron and Harry together. “Snape mentioned it in class a few weeks ago —” “D’you think we’ve got nothing better to do in Potions than listen to Snape?” muttered Ron. “It transforms you into somebody else. Think about it! We could change into three of the Slytherins.\\n'"
      ]
     },
     "execution_count": 93,
     "metadata": {},
     "output_type": "execute_result"
    }
   ],
   "source": [
    "formatted_context = format_output(documents)\n",
    "formatted_context"
   ]
  },
  {
   "cell_type": "code",
   "execution_count": 94,
   "id": "d7751aac-b970-455b-b2b4-4b8575aad07d",
   "metadata": {},
   "outputs": [],
   "source": [
    "from langchain import PromptTemplate\n",
    "prompt_template = PromptTemplate.from_template(\n",
    "\"\"\"\n",
    "    You're a helpful assistant and you are asked to answer a question correctly, given a certain number of options. \n",
    "    Answer with the correct option only and then stop.\n",
    "    Given this question: {question} \\n you must answer by choosing only one option above these: {options}. \\n\n",
    "    Here is context to help: {context} \\n\n",
    "    The correct answer is:\n",
    " \"\"\"\n",
    ")"
   ]
  },
  {
   "cell_type": "code",
   "execution_count": 95,
   "id": "49ad711e-db35-47d4-8949-ffedc071f272",
   "metadata": {},
   "outputs": [],
   "source": [
    "from langchain_core.runnables import RunnablePassthrough, RunnableParallel\n",
    "from operator import itemgetter\n",
    "\n",
    "augmentation = {\"options\": itemgetter(\"options\"), \"context\": itemgetter(\"context\"), \"question\": itemgetter(\"question\"),}\n",
    "llm_chain = augmentation | prompt_template | response_generation_llm"
   ]
  },
  {
   "cell_type": "code",
   "execution_count": 96,
   "id": "bfd92631-e5ac-4746-aedf-3bd0e51b7ecd",
   "metadata": {},
   "outputs": [
    {
     "name": "stderr",
     "output_type": "stream",
     "text": [
      "/orfeo/cephfs/home/dssc/scandu00/nlp-env/lib64/python3.9/site-packages/transformers/generation/configuration_utils.py:492: UserWarning: `do_sample` is set to `False`. However, `temperature` is set to `0.0` -- this flag is only used in sample-based generation modes. You should set `do_sample=True` or unset `temperature`.\n",
      "  warnings.warn(\n",
      "/orfeo/cephfs/home/dssc/scandu00/nlp-env/lib64/python3.9/site-packages/transformers/generation/configuration_utils.py:497: UserWarning: `do_sample` is set to `False`. However, `top_p` is set to `0.0` -- this flag is only used in sample-based generation modes. You should set `do_sample=True` or unset `top_p`.\n",
      "  warnings.warn(\n"
     ]
    }
   ],
   "source": [
    "given_answer = llm_chain.invoke({'question': \"What is the name of the potion allowing to change appearance?\", \n",
    "                                 'options': \"A. Felix Felicis; B. Polyjuice Potion; C. Amortentia\", 'context': formatted_context})"
   ]
  },
  {
   "cell_type": "code",
   "execution_count": 97,
   "id": "1ae52ef2-c257-4695-abdb-c6e3f3eae74b",
   "metadata": {},
   "outputs": [
    {
     "data": {
      "text/plain": [
       "\"\\n    You're a helpful assistant and you are asked to answer a question correctly, given a certain number of options. \\n    Answer with the correct option only and then stop.\\n    Given this question: What is the name of the potion allowing to change appearance? \\n you must answer by choosing only one option above these: A. Felix Felicis; B. Polyjuice Potion; C. Amortentia. \\n\\n    Here is context to help: [1] P a g e | 184 Harry Potter and the Chamber of Secrets – J. K. Rowling man who seemed to have been turned inside out and a witch sprouting several extra pairs of arms out of her head. “Here it is,” said Hermione excitedly as she found the page headed The Polyjuice Potion. It was decorated with drawings of people halfway through transforming into other people. Harry sincerely hoped the artist had imagined the looks of intense pain on their faces. “This is the most complicated potion I’ve ever seen,” said Hermione as they scanned the recipe. “Lacewing flies, leeches, fluxweed, and knotgrass,” she murmured, running her finger down the list of ingredients. “Well, they’re easy enough, they’re in the student store-cupboard, we can help ourselves. … Oooh, look, powdered horn of a bicorn — don’t know where we’re going to get that — shredded skin of a boomslang — that’ll be tricky, too — and of course a bit of whoever we want to change into.” “Excuse me?” said Ron sharply. “What d’you mean, a\\n[2] P a g e | 240 Harry Potter and the Chamber of Secrets – J. K. Rowling Harry showed her Goyle’s hair. “Good. And I sneaked these spare robes out of the laundry,” Hermione said, holding up a small sack. “You’ll need bigger sizes once you’re Crabbe and Goyle.” The three of them stared into the cauldron. Close up, the potion looked like thick, dark mud, bubbling sluggishly. “I’m sure I’ve done everything right,” said Hermione, nervously rereading the splotched page of Moste Potente Potions. “It looks like the book says it should … once we’ve drunk it, we’ll have exactly an hour before we change back into ourselves.” “Now what?” Ron whispered. “We separate it into three glasses and add the hairs.” Hermione ladled large dollops of the potion into each of the glasses. Then, her hand trembling, she shook Millicent Bulstrode’s hair out of its bottle into the first glass. The potion hissed loudly like a boiling kettle and frothed madly. A second later, it had turned a sick sort of yellow. “Urgh\\n[3] P a g e | 178 Harry Potter and the Chamber of Secrets – J. K. Rowling “There might be a way,” said Hermione slowly, dropping her voice still further with a quick glance across the room at Percy. “Of course, it would be difficult. And dangerous, very dangerous. We’d be breaking about fifty school rules, I expect —” “If, in a month or so, you feel like explaining, you wil l let us know, won’t you?” said Ron irritably. “All right,” said Hermione coldly. “What we’d need to do is to get inside the Slytherin common room and ask Malfoy a few questions without him realizing it’s us.” “But that’s impossible,” Harry said as Ron laughed. “No, it’s not,” said Hermione. “All we’d need would be some Polyjuice Potion.” “What’s that?” said Ron and Harry together. “Snape mentioned it in class a few weeks ago —” “D’you think we’ve got nothing better to do in Potions than listen to Snape?” muttered Ron. “It transforms you into somebody else. Think about it! We could change into three of the Slytherins.\\n \\n\\n    The correct answer is:\\n  *B* -Polyujuce Potion\""
      ]
     },
     "execution_count": 97,
     "metadata": {},
     "output_type": "execute_result"
    }
   ],
   "source": [
    "given_answer"
   ]
  },
  {
   "cell_type": "markdown",
   "id": "022cd3d5-2f62-4922-8a6d-39a99b567b3b",
   "metadata": {
    "jp-MarkdownHeadingCollapsed": true
   },
   "source": [
    "# 🔹 PRIMO TENTATIVO DI CHECK"
   ]
  },
  {
   "cell_type": "code",
   "execution_count": 98,
   "id": "2b29f6d5-a6bb-43e2-b45b-a02677767732",
   "metadata": {},
   "outputs": [],
   "source": [
    "response_check_pipeline = pipeline(\n",
    "    model=model,\n",
    "    tokenizer=tokenizer,\n",
    "    task=\"text-generation\", # deve matchare la scheda del modello HF o dà errore\n",
    "    do_sample=False,\n",
    "    temperature=0.0,\n",
    "    repetition_penalty=1.5,\n",
    "    return_full_text=True,\n",
    "    max_new_tokens=400,\n",
    "    top_p=0.0\n",
    ")\n",
    "\n",
    "response_check_llm = HuggingFacePipeline(pipeline=response_check_pipeline)"
   ]
  },
  {
   "cell_type": "code",
   "execution_count": 99,
   "id": "8451da76-fc21-44f2-81a5-64eabe0ade4a",
   "metadata": {},
   "outputs": [],
   "source": [
    "from langchain import PromptTemplate\n",
    "prompt_template = PromptTemplate.from_template(\n",
    "\"\"\"\n",
    "    You're a helpful assistant and you are asked to check whether or not a question was answered correctly, given a certain number of candidate options and the context. \n",
    "    Answer whether and why you think the answer is correct.\n",
    "    Given this question: {question} \\n these are the possible options: {options} and the answer to check is {candidate_answer}. \n",
    "    Here is context to help: {context} \\n\n",
    "    Is the answer correct? Why or why not?\n",
    " \"\"\"\n",
    ")"
   ]
  },
  {
   "cell_type": "code",
   "execution_count": 101,
   "id": "70e78a69-c4b4-42c3-996f-194957c66661",
   "metadata": {},
   "outputs": [
    {
     "name": "stdout",
     "output_type": "stream",
     "text": [
      "Correct answer not found.\n"
     ]
    }
   ],
   "source": [
    "import re\n",
    "\n",
    "# Use regular expression to extract the correct answer\n",
    "correct_answer_match = re.search(r\"The correct answer is:\\n\\s*\\([A-Z]\\)\", given_answer)\n",
    "\n",
    "if correct_answer_match:\n",
    "    correct_answer = correct_answer_match.group(1)\n",
    "    print(f\"The correct answer is: {correct_answer}\")\n",
    "else:\n",
    "    print(\"Correct answer not found.\")"
   ]
  },
  {
   "cell_type": "code",
   "execution_count": 103,
   "id": "b0adff7a-5aa1-447f-a969-ca5061f8125d",
   "metadata": {},
   "outputs": [],
   "source": [
    "from langchain_core.runnables import RunnablePassthrough, RunnableParallel\n",
    "from operator import itemgetter\n",
    "\n",
    "augmentation = {\"options\": itemgetter(\"options\"), \"context\": itemgetter(\"context\"), \n",
    "                \"question\": itemgetter(\"question\"), \"candidate_answer\": itemgetter(\"candidate_answer\")}\n",
    "llm_chain = augmentation | prompt_template | response_check_llm"
   ]
  },
  {
   "cell_type": "code",
   "execution_count": 104,
   "id": "05a40859-5dca-4f2e-b4e5-8f15fddc2dcb",
   "metadata": {},
   "outputs": [
    {
     "name": "stderr",
     "output_type": "stream",
     "text": [
      "/orfeo/cephfs/home/dssc/scandu00/nlp-env/lib64/python3.9/site-packages/transformers/generation/configuration_utils.py:492: UserWarning: `do_sample` is set to `False`. However, `temperature` is set to `0.0` -- this flag is only used in sample-based generation modes. You should set `do_sample=True` or unset `temperature`.\n",
      "  warnings.warn(\n",
      "/orfeo/cephfs/home/dssc/scandu00/nlp-env/lib64/python3.9/site-packages/transformers/generation/configuration_utils.py:497: UserWarning: `do_sample` is set to `False`. However, `top_p` is set to `0.0` -- this flag is only used in sample-based generation modes. You should set `do_sample=True` or unset `top_p`.\n",
      "  warnings.warn(\n"
     ]
    },
    {
     "data": {
      "text/plain": [
       "\"\\n    You're a helpful assistant and you are asked to check whether or not a question was answered correctly, given a certain number of candidate options and the context. \\n    Answer whether and why you think the answer is correct.\\n    Given this question: What is the name of the potion allowing to change appearance? \\n these are the possible options: A. Felix Felicis; B. Polyjuice Potion; C. Amortentia and the answer to check is B. \\n    Here is context to help: [1] P a g e | 184 Harry Potter and the Chamber of Secrets – J. K. Rowling man who seemed to have been turned inside out and a witch sprouting several extra pairs of arms out of her head. “Here it is,” said Hermione excitedly as she found the page headed The Polyjuice Potion. It was decorated with drawings of people halfway through transforming into other people. Harry sincerely hoped the artist had imagined the looks of intense pain on their faces. “This is the most complicated potion I’ve ever seen,” said Hermione as they scanned the recipe. “Lacewing flies, leeches, fluxweed, and knotgrass,” she murmured, running her finger down the list of ingredients. “Well, they’re easy enough, they’re in the student store-cupboard, we can help ourselves. … Oooh, look, powdered horn of a bicorn — don’t know where we’re going to get that — shredded skin of a boomslang — that’ll be tricky, too — and of course a bit of whoever we want to change into.” “Excuse me?” said Ron sharply. “What d’you mean, a\\n[2] P a g e | 240 Harry Potter and the Chamber of Secrets – J. K. Rowling Harry showed her Goyle’s hair. “Good. And I sneaked these spare robes out of the laundry,” Hermione said, holding up a small sack. “You’ll need bigger sizes once you’re Crabbe and Goyle.” The three of them stared into the cauldron. Close up, the potion looked like thick, dark mud, bubbling sluggishly. “I’m sure I’ve done everything right,” said Hermione, nervously rereading the splotched page of Moste Potente Potions. “It looks like the book says it should … once we’ve drunk it, we’ll have exactly an hour before we change back into ourselves.” “Now what?” Ron whispered. “We separate it into three glasses and add the hairs.” Hermione ladled large dollops of the potion into each of the glasses. Then, her hand trembling, she shook Millicent Bulstrode’s hair out of its bottle into the first glass. The potion hissed loudly like a boiling kettle and frothed madly. A second later, it had turned a sick sort of yellow. “Urgh\\n[3] P a g e | 178 Harry Potter and the Chamber of Secrets – J. K. Rowling “There might be a way,” said Hermione slowly, dropping her voice still further with a quick glance across the room at Percy. “Of course, it would be difficult. And dangerous, very dangerous. We’d be breaking about fifty school rules, I expect —” “If, in a month or so, you feel like explaining, you wil l let us know, won’t you?” said Ron irritably. “All right,” said Hermione coldly. “What we’d need to do is to get inside the Slytherin common room and ask Malfoy a few questions without him realizing it’s us.” “But that’s impossible,” Harry said as Ron laughed. “No, it’s not,” said Hermione. “All we’d need would be some Polyjuice Potion.” “What’s that?” said Ron and Harry together. “Snape mentioned it in class a few weeks ago —” “D’you think we’ve got nothing better to do in Potions than listen to Snape?” muttered Ron. “It transforms you into somebody else. Think about it! We could change into three of the Slytherins.\\n \\n\\n    Is the answer correct? Why or why not?\\n \""
      ]
     },
     "execution_count": 104,
     "metadata": {},
     "output_type": "execute_result"
    }
   ],
   "source": [
    "llm_chain.invoke({'question': \"What is the name of the potion allowing to change appearance?\", \n",
    "                  'options': \"A. Felix Felicis; B. Polyjuice Potion; C. Amortentia\", \n",
    "                  'context': formatted_context,'candidate_answer': 'B'})"
   ]
  },
  {
   "cell_type": "markdown",
   "id": "aed5e9d5-c7fa-42a2-8cb7-8d7c2dfe981f",
   "metadata": {
    "jp-MarkdownHeadingCollapsed": true
   },
   "source": [
    "# LLAMA3 - work in progress "
   ]
  },
  {
   "cell_type": "code",
   "execution_count": null,
   "id": "67911749-0c01-4745-bf15-2b7f5cd98139",
   "metadata": {},
   "outputs": [],
   "source": [
    "Il problema è che non hai ancora capito come formattare"
   ]
  },
  {
   "cell_type": "markdown",
   "id": "ba485875-13a8-42f0-81cc-63f0ffa17a47",
   "metadata": {},
   "source": [
    "##  Transformers pipeline (and zero-shot):"
   ]
  },
  {
   "cell_type": "code",
   "execution_count": null,
   "id": "c2c8766c-5898-45f8-8a7c-8a52a797435d",
   "metadata": {},
   "outputs": [],
   "source": [
    "import transformers\n",
    "import torch\n",
    "\n",
    "model_id = \"meta-llama/Meta-Llama-3-8B-Instruct\"\n",
    "\n",
    "pipeline = transformers.pipeline(\n",
    "    \"text-generation\",\n",
    "    model=model_id,\n",
    "    model_kwargs={\"torch_dtype\": torch.bfloat16},\n",
    "    device_map=\"auto\",\n",
    ")\n",
    "\n",
    "messages = [\n",
    "    {\"role\": \"system\", \"content\": \"You're a helpful assistant and you are asked to answer a question correctly, given a certain number of options. Answer with the correct option only and then stop.\"},\n",
    "    {\"role\": \"user\", \"content\": \"Given this question: Who is Taylor Swift? \\n you must answer by choosing only one option above these: A. a snowboard; B. a cat; C. a singer. The correct answer is:\"},\n",
    "]\n",
    "\n",
    "prompt = pipeline.tokenizer.apply_chat_template(\n",
    "        messages,\n",
    "        tokenize=False, \n",
    "        add_generation_prompt=True\n",
    ")\n",
    "\n",
    "terminators = [\n",
    "    pipeline.tokenizer.eos_token_id,\n",
    "    pipeline.tokenizer.convert_tokens_to_ids(\"<|eot_id|>\")\n",
    "]\n",
    "\n",
    "outputs = pipeline(\n",
    "    prompt,\n",
    "    max_new_tokens=256,\n",
    "    eos_token_id=terminators,\n",
    "    do_sample=True,\n",
    "    temperature=0.6,\n",
    "    top_p=0.9,\n",
    ")\n",
    "print(outputs[0][\"generated_text\"][len(prompt):])\n"
   ]
  },
  {
   "cell_type": "markdown",
   "id": "35f9acd8-20a9-4848-b7f5-2ee6f67ceb12",
   "metadata": {},
   "source": [
    "##  Transformers AutoModelForCausalLM  (and zero-shot)"
   ]
  },
  {
   "cell_type": "code",
   "execution_count": null,
   "id": "c9be92ef-df0c-43ac-aba8-b2da824f09fa",
   "metadata": {},
   "outputs": [],
   "source": [
    "from transformers import AutoTokenizer, AutoModelForCausalLM\n",
    "import torch\n",
    "\n",
    "model_id = \"meta-llama/Meta-Llama-3-8B-Instruct\"\n",
    "\n",
    "tokenizer = AutoTokenizer.from_pretrained(model_id)\n",
    "model = AutoModelForCausalLM.from_pretrained(\n",
    "    model_id,\n",
    "    torch_dtype=torch.bfloat16,\n",
    "    device_map=\"auto\",\n",
    ")\n",
    "\n",
    "messages = [\n",
    "    {\"role\": \"system\", \"content\": \"You're a helpful assistant and you are asked to answer a question correctly, given a certain number of options. Answer with the correct option only and then stop.\"},\n",
    "    {\"role\": \"user\", \"content\": \"Given this question: Who is Taylor Swift? \\n you must answer by choosing only one option above these: A. a snowboard; B. a cat; C. a singer. The correct answer is:\"},\n",
    "]\n",
    "\n",
    "input_ids = tokenizer.apply_chat_template(\n",
    "    messages,\n",
    "    add_generation_prompt=True,\n",
    "    return_tensors=\"pt\"\n",
    ").to(model.device)\n",
    "\n",
    "terminators = [\n",
    "    tokenizer.eos_token_id,\n",
    "    tokenizer.convert_tokens_to_ids(\"<|eot_id|>\")\n",
    "]\n",
    "\n",
    "outputs = model.generate(\n",
    "    input_ids,\n",
    "    max_new_tokens=256,\n",
    "    eos_token_id=terminators,\n",
    "    do_sample=True,\n",
    "    temperature=0.6,\n",
    "    top_p=0.9,\n",
    ")\n",
    "response = outputs[0][input_ids.shape[-1]:]\n",
    "print(tokenizer.decode(response, skip_special_tokens=True))"
   ]
  },
  {
   "cell_type": "code",
   "execution_count": null,
   "id": "6d2d27bf-884b-40f9-bcea-d9fe7464996a",
   "metadata": {},
   "outputs": [],
   "source": []
  }
 ],
 "metadata": {
  "kernelspec": {
   "display_name": "Python 3 (ipykernel)",
   "language": "python",
   "name": "python3"
  },
  "language_info": {
   "codemirror_mode": {
    "name": "ipython",
    "version": 3
   },
   "file_extension": ".py",
   "mimetype": "text/x-python",
   "name": "python",
   "nbconvert_exporter": "python",
   "pygments_lexer": "ipython3",
   "version": "3.9.18"
  }
 },
 "nbformat": 4,
 "nbformat_minor": 5
}
