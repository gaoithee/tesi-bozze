{
 "cells": [
  {
   "cell_type": "code",
   "execution_count": 1,
   "id": "46f2b6c7-3e0b-4420-84a7-d8ceae533dd9",
   "metadata": {},
   "outputs": [
    {
     "data": {
      "text/html": [
       "<div>\n",
       "<style scoped>\n",
       "    .dataframe tbody tr th:only-of-type {\n",
       "        vertical-align: middle;\n",
       "    }\n",
       "\n",
       "    .dataframe tbody tr th {\n",
       "        vertical-align: top;\n",
       "    }\n",
       "\n",
       "    .dataframe thead th {\n",
       "        text-align: right;\n",
       "    }\n",
       "</style>\n",
       "<table border=\"1\" class=\"dataframe\">\n",
       "  <thead>\n",
       "    <tr style=\"text-align: right;\">\n",
       "      <th></th>\n",
       "      <th>doc_id</th>\n",
       "      <th>contents</th>\n",
       "      <th>metadata</th>\n",
       "    </tr>\n",
       "  </thead>\n",
       "  <tbody>\n",
       "    <tr>\n",
       "      <th>0</th>\n",
       "      <td>tc_2_4</td>\n",
       "      <td>Alvin and the Chipmunks (2007) - IMDb\\nIMDb\\n1...</td>\n",
       "      <td>{'last_modified_datetime': 2024-02-04 17:15:47...</td>\n",
       "    </tr>\n",
       "    <tr>\n",
       "      <th>1</th>\n",
       "      <td>tc_2_6</td>\n",
       "      <td>The Chipmunks - Biography | Billboard\\nThe Chi...</td>\n",
       "      <td>{'last_modified_datetime': 2024-02-04 17:15:47...</td>\n",
       "    </tr>\n",
       "    <tr>\n",
       "      <th>2</th>\n",
       "      <td>tc_2_9</td>\n",
       "      <td>Alvin and the Chipmunks: The Squeakquel – EW.c...</td>\n",
       "      <td>{'last_modified_datetime': 2024-02-04 17:15:47...</td>\n",
       "    </tr>\n",
       "    <tr>\n",
       "      <th>3</th>\n",
       "      <td>tc_2_16</td>\n",
       "      <td>Alvin Seville | Alvin and the Chipmunks Wiki |...</td>\n",
       "      <td>{'last_modified_datetime': 2024-02-04 17:15:47...</td>\n",
       "    </tr>\n",
       "    <tr>\n",
       "      <th>4</th>\n",
       "      <td>tc_2_21</td>\n",
       "      <td>A Christmas Story | Christmas Specials Wiki | ...</td>\n",
       "      <td>{'last_modified_datetime': 2024-02-04 17:15:47...</td>\n",
       "    </tr>\n",
       "  </tbody>\n",
       "</table>\n",
       "</div>"
      ],
      "text/plain": [
       "    doc_id                                           contents  \\\n",
       "0   tc_2_4  Alvin and the Chipmunks (2007) - IMDb\\nIMDb\\n1...   \n",
       "1   tc_2_6  The Chipmunks - Biography | Billboard\\nThe Chi...   \n",
       "2   tc_2_9  Alvin and the Chipmunks: The Squeakquel – EW.c...   \n",
       "3  tc_2_16  Alvin Seville | Alvin and the Chipmunks Wiki |...   \n",
       "4  tc_2_21  A Christmas Story | Christmas Specials Wiki | ...   \n",
       "\n",
       "                                            metadata  \n",
       "0  {'last_modified_datetime': 2024-02-04 17:15:47...  \n",
       "1  {'last_modified_datetime': 2024-02-04 17:15:47...  \n",
       "2  {'last_modified_datetime': 2024-02-04 17:15:47...  \n",
       "3  {'last_modified_datetime': 2024-02-04 17:15:47...  \n",
       "4  {'last_modified_datetime': 2024-02-04 17:15:47...  "
      ]
     },
     "execution_count": 1,
     "metadata": {},
     "output_type": "execute_result"
    }
   ],
   "source": [
    "import pandas as pd\n",
    "\n",
    "corpus = pd.read_parquet(\"hf://datasets/MarkrAI/triviaqa_sample_autorag/corpus.parquet\")\n",
    "corpus.head()"
   ]
  },
  {
   "cell_type": "code",
   "execution_count": 2,
   "id": "1ba90f18-7c53-4f1f-832e-7a0e9cf82e40",
   "metadata": {},
   "outputs": [
    {
     "data": {
      "text/html": [
       "<div>\n",
       "<style scoped>\n",
       "    .dataframe tbody tr th:only-of-type {\n",
       "        vertical-align: middle;\n",
       "    }\n",
       "\n",
       "    .dataframe tbody tr th {\n",
       "        vertical-align: top;\n",
       "    }\n",
       "\n",
       "    .dataframe thead th {\n",
       "        text-align: right;\n",
       "    }\n",
       "</style>\n",
       "<table border=\"1\" class=\"dataframe\">\n",
       "  <thead>\n",
       "    <tr style=\"text-align: right;\">\n",
       "      <th></th>\n",
       "      <th>qid</th>\n",
       "      <th>query</th>\n",
       "      <th>generation_gt</th>\n",
       "      <th>retrieval_gt</th>\n",
       "    </tr>\n",
       "  </thead>\n",
       "  <tbody>\n",
       "    <tr>\n",
       "      <th>0</th>\n",
       "      <td>a5a9ca54-c0f6-45fa-8475-c33f3e351044</td>\n",
       "      <td>Who was the man behind The Chipmunks?</td>\n",
       "      <td>[david seville]</td>\n",
       "      <td>[tc_2_4, tc_2_6, tc_2_9, tc_2_16, tc_2_21, tc_...</td>\n",
       "    </tr>\n",
       "    <tr>\n",
       "      <th>1</th>\n",
       "      <td>78a98148-c4fc-4cde-933b-ddbfd8a4a8e0</td>\n",
       "      <td>What star sign is Jamie Lee Curtis?</td>\n",
       "      <td>[scorpio, scorpio disambiguation, skorpio]</td>\n",
       "      <td>[tc_13_0]</td>\n",
       "    </tr>\n",
       "    <tr>\n",
       "      <th>2</th>\n",
       "      <td>27229cd3-dd29-4c3e-b715-aa525e1dba86</td>\n",
       "      <td>Which Lloyd Webber musical premiered in the US...</td>\n",
       "      <td>[sunset bulevard, sunset blvd, sunset boulevar...</td>\n",
       "      <td>[tc_33_0, tc_33_1, tc_33_2, tc_33_3, tc_33_5, ...</td>\n",
       "    </tr>\n",
       "    <tr>\n",
       "      <th>3</th>\n",
       "      <td>43487767-a02e-42ea-a48b-c5c0a1c2983c</td>\n",
       "      <td>Who was the next British Prime Minister after ...</td>\n",
       "      <td>[henry campbell bannerman, campbell bannerman,...</td>\n",
       "      <td>[tc_40_0, tc_40_1, tc_40_2, tc_40_3, tc_40_4, ...</td>\n",
       "    </tr>\n",
       "    <tr>\n",
       "      <th>4</th>\n",
       "      <td>647f67ba-ea61-4023-973a-fed91f98def0</td>\n",
       "      <td>Who had a 70s No 1 hit with Kiss You All Over?</td>\n",
       "      <td>[transported for life, self exile, exile and b...</td>\n",
       "      <td>[tc_49_1, tc_49_6, tc_49_8, tc_49_20, tc_49_21...</td>\n",
       "    </tr>\n",
       "  </tbody>\n",
       "</table>\n",
       "</div>"
      ],
      "text/plain": [
       "                                    qid  \\\n",
       "0  a5a9ca54-c0f6-45fa-8475-c33f3e351044   \n",
       "1  78a98148-c4fc-4cde-933b-ddbfd8a4a8e0   \n",
       "2  27229cd3-dd29-4c3e-b715-aa525e1dba86   \n",
       "3  43487767-a02e-42ea-a48b-c5c0a1c2983c   \n",
       "4  647f67ba-ea61-4023-973a-fed91f98def0   \n",
       "\n",
       "                                               query  \\\n",
       "0              Who was the man behind The Chipmunks?   \n",
       "1                What star sign is Jamie Lee Curtis?   \n",
       "2  Which Lloyd Webber musical premiered in the US...   \n",
       "3  Who was the next British Prime Minister after ...   \n",
       "4     Who had a 70s No 1 hit with Kiss You All Over?   \n",
       "\n",
       "                                       generation_gt  \\\n",
       "0                                    [david seville]   \n",
       "1         [scorpio, scorpio disambiguation, skorpio]   \n",
       "2  [sunset bulevard, sunset blvd, sunset boulevar...   \n",
       "3  [henry campbell bannerman, campbell bannerman,...   \n",
       "4  [transported for life, self exile, exile and b...   \n",
       "\n",
       "                                        retrieval_gt  \n",
       "0  [tc_2_4, tc_2_6, tc_2_9, tc_2_16, tc_2_21, tc_...  \n",
       "1                                          [tc_13_0]  \n",
       "2  [tc_33_0, tc_33_1, tc_33_2, tc_33_3, tc_33_5, ...  \n",
       "3  [tc_40_0, tc_40_1, tc_40_2, tc_40_3, tc_40_4, ...  \n",
       "4  [tc_49_1, tc_49_6, tc_49_8, tc_49_20, tc_49_21...  "
      ]
     },
     "execution_count": 2,
     "metadata": {},
     "output_type": "execute_result"
    }
   ],
   "source": [
    "splits = {'train': 'qa_train.parquet', 'test': 'qa_test.parquet'}\n",
    "df = pd.read_parquet(\"hf://datasets/MarkrAI/triviaqa_sample_autorag/\" + splits[\"train\"])\n",
    "df.head()"
   ]
  },
  {
   "cell_type": "code",
   "execution_count": 3,
   "id": "2517e550-ff8a-4574-85d2-f588f0782d5f",
   "metadata": {},
   "outputs": [],
   "source": [
    "# Explode the `retrieval_gt` column\n",
    "df_exploded = df.explode('retrieval_gt')\n",
    "\n",
    "# Merge with `corpus` on document ID\n",
    "merged_df = pd.merge(df_exploded, corpus, left_on='retrieval_gt', right_on='doc_id', how='left')\n",
    "\n",
    "# Group by `qid` and aggregate the `contents`\n",
    "grouped_df = merged_df.groupby('qid')['contents'].apply(lambda x: ' '.join(x)).reset_index()\n",
    "\n",
    "# Merge back with the original `df` to get the final result\n",
    "final_df = pd.merge(df, grouped_df, on='qid', how='left')"
   ]
  },
  {
   "cell_type": "code",
   "execution_count": 4,
   "id": "277327bf-76a1-4766-a182-37f40260c78a",
   "metadata": {},
   "outputs": [],
   "source": [
    "final_df = final_df[['query', 'generation_gt', 'contents']]"
   ]
  },
  {
   "cell_type": "code",
   "execution_count": 5,
   "id": "cae3e6fd-ea8f-42fb-b519-eef2c1079957",
   "metadata": {},
   "outputs": [
    {
     "data": {
      "text/html": [
       "<div>\n",
       "<style scoped>\n",
       "    .dataframe tbody tr th:only-of-type {\n",
       "        vertical-align: middle;\n",
       "    }\n",
       "\n",
       "    .dataframe tbody tr th {\n",
       "        vertical-align: top;\n",
       "    }\n",
       "\n",
       "    .dataframe thead th {\n",
       "        text-align: right;\n",
       "    }\n",
       "</style>\n",
       "<table border=\"1\" class=\"dataframe\">\n",
       "  <thead>\n",
       "    <tr style=\"text-align: right;\">\n",
       "      <th></th>\n",
       "      <th>query</th>\n",
       "      <th>generation_gt</th>\n",
       "      <th>contents</th>\n",
       "    </tr>\n",
       "  </thead>\n",
       "  <tbody>\n",
       "    <tr>\n",
       "      <th>0</th>\n",
       "      <td>Who was the man behind The Chipmunks?</td>\n",
       "      <td>david seville</td>\n",
       "      <td>Alvin and the Chipmunks (2007) - IMDb\\nIMDb\\n1...</td>\n",
       "    </tr>\n",
       "    <tr>\n",
       "      <th>1</th>\n",
       "      <td>What star sign is Jamie Lee Curtis?</td>\n",
       "      <td>scorpio</td>\n",
       "      <td>Jamie Lee Curtis - IMDb\\nIMDb\\n17 January 2017...</td>\n",
       "    </tr>\n",
       "    <tr>\n",
       "      <th>2</th>\n",
       "      <td>Which Lloyd Webber musical premiered in the US...</td>\n",
       "      <td>sunset bulevard</td>\n",
       "      <td>Andrew Lloyd Webber | The official website for...</td>\n",
       "    </tr>\n",
       "    <tr>\n",
       "      <th>3</th>\n",
       "      <td>Who was the next British Prime Minister after ...</td>\n",
       "      <td>henry campbell bannerman</td>\n",
       "      <td>The Balfour Declaration, 1917 (History and Ful...</td>\n",
       "    </tr>\n",
       "    <tr>\n",
       "      <th>4</th>\n",
       "      <td>Who had a 70s No 1 hit with Kiss You All Over?</td>\n",
       "      <td>transported for life</td>\n",
       "      <td>Exile - I Wanna Kiss You All Over (1978) - You...</td>\n",
       "    </tr>\n",
       "  </tbody>\n",
       "</table>\n",
       "</div>"
      ],
      "text/plain": [
       "                                               query  \\\n",
       "0              Who was the man behind The Chipmunks?   \n",
       "1                What star sign is Jamie Lee Curtis?   \n",
       "2  Which Lloyd Webber musical premiered in the US...   \n",
       "3  Who was the next British Prime Minister after ...   \n",
       "4     Who had a 70s No 1 hit with Kiss You All Over?   \n",
       "\n",
       "              generation_gt                                           contents  \n",
       "0             david seville  Alvin and the Chipmunks (2007) - IMDb\\nIMDb\\n1...  \n",
       "1                   scorpio  Jamie Lee Curtis - IMDb\\nIMDb\\n17 January 2017...  \n",
       "2           sunset bulevard  Andrew Lloyd Webber | The official website for...  \n",
       "3  henry campbell bannerman  The Balfour Declaration, 1917 (History and Ful...  \n",
       "4      transported for life  Exile - I Wanna Kiss You All Over (1978) - You...  "
      ]
     },
     "execution_count": 5,
     "metadata": {},
     "output_type": "execute_result"
    }
   ],
   "source": [
    "for i in range(len(final_df)):\n",
    "    final_df.loc[i, \"generation_gt\"] = final_df.loc[i, 'generation_gt'][0]\n",
    "\n",
    "final_df.head()"
   ]
  },
  {
   "cell_type": "code",
   "execution_count": 6,
   "id": "6bea7c3d-3bea-455e-b10d-d62291a672e8",
   "metadata": {},
   "outputs": [],
   "source": [
    "import torch\n",
    "\n",
    "torch.cuda.empty_cache()"
   ]
  },
  {
   "cell_type": "code",
   "execution_count": 7,
   "id": "2f9c6d8f-abc3-4f4e-bbeb-4bdd3acf85ee",
   "metadata": {},
   "outputs": [
    {
     "data": {
      "application/vnd.jupyter.widget-view+json": {
       "model_id": "a6deeff0bc974aaa92fd9294954b4d19",
       "version_major": 2,
       "version_minor": 0
      },
      "text/plain": [
       "Loading checkpoint shards:   0%|          | 0/4 [00:00<?, ?it/s]"
      ]
     },
     "metadata": {},
     "output_type": "display_data"
    }
   ],
   "source": [
    "import transformers\n",
    "from transformers import AutoModelForCausalLM, AutoTokenizer, pipeline\n",
    "\n",
    "model = AutoModelForCausalLM.from_pretrained(\n",
    "    \"meta-llama/Meta-Llama-3.1-8B-Instruct\",\n",
    "    device_map=\"cuda\",\n",
    "    torch_dtype=\"auto\",\n",
    "    trust_remote_code=True,\n",
    ")\n",
    "tokenizer = AutoTokenizer.from_pretrained(\"meta-llama/Meta-Llama-3.1-8B-Instruct\", use_fast=False)\n",
    "\n",
    "pipe = pipeline(\n",
    "    \"text-generation\",\n",
    "    model=model,\n",
    "    tokenizer=tokenizer,\n",
    ")\n",
    "\n",
    "generation_args = {\n",
    "    \"max_new_tokens\": 10,\n",
    "    \"return_full_text\": False,\n",
    "    \"do_sample\": False,\n",
    "}"
   ]
  },
  {
   "cell_type": "code",
   "execution_count": 14,
   "id": "0189a105-2ecf-47d6-9a6a-a6c9e54711b0",
   "metadata": {},
   "outputs": [],
   "source": [
    "def produce_prompt(question, correct):\n",
    "\n",
    "    user_content = \"Question: \"+question+\"\\n Correct answer: \"+correct+\"\\n\\n Incorrect answer:\"\n",
    "    messages = [ \n",
    "        {\"role\": \"system\", \"content\": \"\"\"\n",
    "        You are a helpful AI assistant. You are given a question and the correct answer to it.\n",
    "        You have to provide me an alternative, wrong answer to it. \n",
    "        \"\"\"}, \n",
    "        {\"role\": \"user\", \"content\": user_content},\n",
    "    ] \n",
    "    return messages"
   ]
  },
  {
   "cell_type": "code",
   "execution_count": 17,
   "id": "d7515bc0-e547-41e9-a09a-3baf3a255a9f",
   "metadata": {},
   "outputs": [
    {
     "name": "stderr",
     "output_type": "stream",
     "text": [
      "Setting `pad_token_id` to `eos_token_id`:128001 for open-end generation.\n",
      "Setting `pad_token_id` to `eos_token_id`:128001 for open-end generation.\n"
     ]
    },
    {
     "name": "stdout",
     "output_type": "stream",
     "text": [
      "Ross Weathersby\n"
     ]
    },
    {
     "name": "stderr",
     "output_type": "stream",
     "text": [
      "Setting `pad_token_id` to `eos_token_id`:128001 for open-end generation.\n"
     ]
    },
    {
     "name": "stdout",
     "output_type": "stream",
     "text": [
      "Jamie Lee Curtis is a Gemini.\n"
     ]
    },
    {
     "name": "stderr",
     "output_type": "stream",
     "text": [
      "Setting `pad_token_id` to `eos_token_id`:128001 for open-end generation.\n"
     ]
    },
    {
     "name": "stdout",
     "output_type": "stream",
     "text": [
      "The incorrect answer is: Cats.\n"
     ]
    },
    {
     "name": "stderr",
     "output_type": "stream",
     "text": [
      "Setting `pad_token_id` to `eos_token_id`:128001 for open-end generation.\n"
     ]
    },
    {
     "name": "stdout",
     "output_type": "stream",
     "text": [
      "The incorrect answer is: Winston Churchill.\n"
     ]
    },
    {
     "name": "stderr",
     "output_type": "stream",
     "text": [
      "Setting `pad_token_id` to `eos_token_id`:128001 for open-end generation.\n"
     ]
    },
    {
     "name": "stdout",
     "output_type": "stream",
     "text": [
      "Exile\n"
     ]
    },
    {
     "name": "stderr",
     "output_type": "stream",
     "text": [
      "Setting `pad_token_id` to `eos_token_id`:128001 for open-end generation.\n"
     ]
    },
    {
     "name": "stdout",
     "output_type": "stream",
     "text": [
      "A heart attack caused by eating too much chocolate.\n"
     ]
    },
    {
     "name": "stderr",
     "output_type": "stream",
     "text": [
      "Setting `pad_token_id` to `eos_token_id`:128001 for open-end generation.\n"
     ]
    },
    {
     "name": "stdout",
     "output_type": "stream",
     "text": [
      "The incorrect answer is: Moonraker film.\n"
     ]
    },
    {
     "name": "stderr",
     "output_type": "stream",
     "text": [
      "Setting `pad_token_id` to `eos_token_id`:128001 for open-end generation.\n"
     ]
    },
    {
     "name": "stdout",
     "output_type": "stream",
     "text": [
      "Twenty million.\n"
     ]
    },
    {
     "name": "stderr",
     "output_type": "stream",
     "text": [
      "Setting `pad_token_id` to `eos_token_id`:128001 for open-end generation.\n"
     ]
    },
    {
     "name": "stdout",
     "output_type": "stream",
     "text": [
      "The incorrect answer is: The state of Hawaii.\n",
      "Marilyn Monroe.\n"
     ]
    }
   ],
   "source": [
    "for i in range(10):\n",
    "    output = pipe(produce_prompt(final_df['query'][i], final_df['generation_gt'][i]), **generation_args) \n",
    "    print(output[0]['generated_text']) "
   ]
  },
  {
   "cell_type": "code",
   "execution_count": null,
   "id": "a3bdcea9-33ea-463c-971b-fd12164c88b7",
   "metadata": {},
   "outputs": [],
   "source": []
  }
 ],
 "metadata": {
  "kernelspec": {
   "display_name": "Python 3 (ipykernel)",
   "language": "python",
   "name": "python3"
  },
  "language_info": {
   "codemirror_mode": {
    "name": "ipython",
    "version": 3
   },
   "file_extension": ".py",
   "mimetype": "text/x-python",
   "name": "python",
   "nbconvert_exporter": "python",
   "pygments_lexer": "ipython3",
   "version": "3.9.18"
  }
 },
 "nbformat": 4,
 "nbformat_minor": 5
}
