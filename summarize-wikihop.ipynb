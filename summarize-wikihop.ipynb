{
 "cells": [
  {
   "cell_type": "code",
   "execution_count": 1,
   "id": "3b495c49-d05a-43db-8e40-d3773e41e75b",
   "metadata": {},
   "outputs": [],
   "source": [
    "import pandas as pd\n",
    "import torch\n",
    "import re\n",
    "import ast\n",
    "import datasets\n",
    "from datasets import load_dataset\n",
    "from transformers import (\n",
    "    AutoModelForCausalLM,\n",
    "    AutoTokenizer,\n",
    "    BitsAndBytesConfig,\n",
    "    HfArgumentParser,\n",
    "    TrainingArguments,\n",
    "    pipeline,\n",
    "    logging,\n",
    ")\n",
    "\n",
    "import warnings\n",
    "warnings.filterwarnings(\"ignore\")"
   ]
  },
  {
   "cell_type": "code",
   "execution_count": 2,
   "id": "acf50f90-2191-4f01-9135-644ae0c78827",
   "metadata": {},
   "outputs": [],
   "source": [
    "dataset = load_dataset('saracandu/my_wikihop', split='train')\n",
    "sources = dataset['supports']"
   ]
  },
  {
   "cell_type": "code",
   "execution_count": 3,
   "id": "c1939571-4012-41b0-bc9a-b0131d4c7b4e",
   "metadata": {},
   "outputs": [
    {
     "data": {
      "application/vnd.jupyter.widget-view+json": {
       "model_id": "ef0e78038f1448e289213120778d6f88",
       "version_major": 2,
       "version_minor": 0
      },
      "text/plain": [
       "Loading checkpoint shards:   0%|          | 0/2 [00:00<?, ?it/s]"
      ]
     },
     "metadata": {},
     "output_type": "display_data"
    }
   ],
   "source": [
    "tokenizer = AutoTokenizer.from_pretrained(\"microsoft/Phi-3-mini-128k-instruct\", use_fast = False)\n",
    "model = AutoModelForCausalLM.from_pretrained(\n",
    "    \"microsoft/Phi-3-mini-128k-instruct\",\n",
    "    device_map=\"auto\",\n",
    "    torch_dtype=torch.bfloat16\n",
    ")"
   ]
  },
  {
   "cell_type": "code",
   "execution_count": 10,
   "id": "b9dbb716-4fb3-41e4-ac7a-9dbe1b09d903",
   "metadata": {},
   "outputs": [],
   "source": [
    "def produce_prompt(source):\n",
    "    messages = [ \n",
    "        {\"role\": \"system\", \"content\": \"\"\"\n",
    "        You are a helpful AI assistant. You are given a long document as context and you are asked to produce a meaningful summary of it.\n",
    "        Please summarize in less than 500 words.\n",
    "        \"\"\"}, \n",
    "        {\"role\": \"user\", \"content\": source},\n",
    "    ] \n",
    "    return messages\n",
    "\n",
    "pipe = pipeline( \n",
    "    \"text-generation\", \n",
    "    model=model, \n",
    "    tokenizer=tokenizer, \n",
    ") \n",
    "\n",
    "generation_args = { \n",
    "    \"max_new_tokens\": 750, \n",
    "    \"return_full_text\": False, \n",
    "    \"temperature\": 0.0, \n",
    "    \"do_sample\": False, \n",
    "} "
   ]
  },
  {
   "cell_type": "code",
   "execution_count": 11,
   "id": "5db686b6-f874-440d-8c45-09ae13139e26",
   "metadata": {},
   "outputs": [],
   "source": [
    "summ = []\n",
    "for i in range(10):\n",
    "    output = pipe(produce_prompt(sources[i]), **generation_args) \n",
    "    summ.append(output[0]['generated_text']) \n",
    "    torch.cuda.empty_cache()"
   ]
  },
  {
   "cell_type": "code",
   "execution_count": 12,
   "id": "8eb39396-b833-4d68-bcd4-60891da97e7c",
   "metadata": {},
   "outputs": [
    {
     "data": {
      "text/plain": [
       "\" Canada, the second-largest country by total area and the fourth-largest by land area, is located in the northern half of North America. It extends from the Atlantic to the Pacific and northward into the Arctic Ocean, covering a vast territory of over 9.98 million square kilometers. The country's diverse climate ranges from cold or severely cold winters in the majority of its land territory to warm summers in the southerly areas.\\n\\nCanada's population of 36 million is predominantly urbanized, with about four-fifths living near the southern border. The country's capital is Ottawa, and its largest city is Toronto. Other major urban areas include Montreal, Vancouver, Calgary, Edmonton, Quebec City, Winnipeg, and Hamilton.\\n\\nCanadian music has been influenced by various genres, including alternative country, indie pop, pop rock, folk, and indie rock. Justin Rutledge, Jill Barber, and Matthew Barber are notable Canadian singer-songwriters who have contributed to these genres.\\n\\nOutside Music, a Canadian record label founded in 1995, has expanded to include an artist management division. It manages artists such as Jill Barber, Matthew Barber, Aidan Knight, and Justin Rutledge. A record label is a brand or trademark associated with the marketing of music recordings and music videos, and it often functions as a publishing company that coordinates the production, manufacture, distribution, marketing, promotion, and enforcement of copyright for sound recordings and music videos.\\n\\nGuelph, a city in southwestern Ontario, is the seat of Wellington County and is politically independent of it. It is located east of Waterloo and west of Downtown Toronto, at the intersection of Highway 6 and Highway 7.\\n\\nOntario, one of Canada's 13 provinces and territories, is located in east-central Canada and is the most populous province, accounting for nearly 40 percent of all Canadians. It is also the second-largest province in total area. Ontario is home to the nation's capital city, Ottawa, and the nation's most populous city, Toronto.\\n\\nWill Kidman, a Canadian rock musician, is best known as the keyboard player for the Constantines, an indie rock band from Guelph, Ontario. He has also released two acoustic solo albums under the name Woolly Leaves. <|end|>\""
      ]
     },
     "execution_count": 12,
     "metadata": {},
     "output_type": "execute_result"
    }
   ],
   "source": [
    "summ[9]"
   ]
  },
  {
   "cell_type": "code",
   "execution_count": null,
   "id": "7340b0bf-5ee7-4dda-8f32-a7c5b90cfc17",
   "metadata": {},
   "outputs": [],
   "source": []
  }
 ],
 "metadata": {
  "kernelspec": {
   "display_name": "Python 3 (ipykernel)",
   "language": "python",
   "name": "python3"
  },
  "language_info": {
   "codemirror_mode": {
    "name": "ipython",
    "version": 3
   },
   "file_extension": ".py",
   "mimetype": "text/x-python",
   "name": "python",
   "nbconvert_exporter": "python",
   "pygments_lexer": "ipython3",
   "version": "3.9.18"
  }
 },
 "nbformat": 4,
 "nbformat_minor": 5
}
