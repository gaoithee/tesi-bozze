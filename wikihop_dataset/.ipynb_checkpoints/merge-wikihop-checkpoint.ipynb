{
 "cells": [
  {
   "cell_type": "code",
   "execution_count": 2,
   "id": "98139511-821e-49d0-b80c-d74829ca792e",
   "metadata": {},
   "outputs": [],
   "source": [
    "import pandas as pd"
   ]
  },
  {
   "cell_type": "code",
   "execution_count": 3,
   "id": "efe83f25-7830-4242-9097-f6ccd58b5797",
   "metadata": {},
   "outputs": [],
   "source": [
    "rows_0_100 = pd.read_csv('save-first100.csv')\n",
    "rows_101_200 = pd.read_csv('save-first101-200.csv')\n",
    "rows_201_400 = pd.read_csv('save-first201-400.csv')\n",
    "rows_401_600 = pd.read_csv('save-first401-600.csv')"
   ]
  },
  {
   "cell_type": "code",
   "execution_count": 5,
   "id": "9c4e3239-9ba1-40ed-911f-5edb33df85da",
   "metadata": {},
   "outputs": [
    {
     "data": {
      "text/html": [
       "<div>\n",
       "<style scoped>\n",
       "    .dataframe tbody tr th:only-of-type {\n",
       "        vertical-align: middle;\n",
       "    }\n",
       "\n",
       "    .dataframe tbody tr th {\n",
       "        vertical-align: top;\n",
       "    }\n",
       "\n",
       "    .dataframe thead th {\n",
       "        text-align: right;\n",
       "    }\n",
       "</style>\n",
       "<table border=\"1\" class=\"dataframe\">\n",
       "  <thead>\n",
       "    <tr style=\"text-align: right;\">\n",
       "      <th></th>\n",
       "      <th>Unnamed: 0</th>\n",
       "      <th>query</th>\n",
       "      <th>answer</th>\n",
       "      <th>options</th>\n",
       "      <th>sum_supports</th>\n",
       "    </tr>\n",
       "  </thead>\n",
       "  <tbody>\n",
       "    <tr>\n",
       "      <th>0</th>\n",
       "      <td>0</td>\n",
       "      <td>What event did Juan Rossell participate in?</td>\n",
       "      <td>1996 summer olympics</td>\n",
       "      <td>['1996 summer olympics', 'olympic games', 'spo...</td>\n",
       "      <td>The 2004 Summer Olympic Games, held in Athens...</td>\n",
       "    </tr>\n",
       "    <tr>\n",
       "      <th>1</th>\n",
       "      <td>1</td>\n",
       "      <td>What languages did John Osteen speak or write?</td>\n",
       "      <td>english</td>\n",
       "      <td>['english', 'greek', 'koine greek', 'nahuatl',...</td>\n",
       "      <td>Christianity is a monotheistic religion based...</td>\n",
       "    </tr>\n",
       "    <tr>\n",
       "      <th>2</th>\n",
       "      <td>2</td>\n",
       "      <td>What is the parent taxon of Proaigialosaurus?</td>\n",
       "      <td>lepidosauria</td>\n",
       "      <td>['alligatoridae', 'amphibia', 'amphisbaenia', ...</td>\n",
       "      <td>Herpetology is the branch of zoology that stu...</td>\n",
       "    </tr>\n",
       "    <tr>\n",
       "      <th>3</th>\n",
       "      <td>3</td>\n",
       "      <td>What is the parent taxon of Australosuchus?</td>\n",
       "      <td>crocodilia</td>\n",
       "      <td>['animal', 'area', 'crocodile', 'crocodilia', ...</td>\n",
       "      <td>Mekosuchinae was a subfamily of crocodiles th...</td>\n",
       "    </tr>\n",
       "    <tr>\n",
       "      <th>4</th>\n",
       "      <td>4</td>\n",
       "      <td>What was the occupation of Cao Chong?</td>\n",
       "      <td>physicist</td>\n",
       "      <td>['academic', 'builder', 'chancellor', 'classic...</td>\n",
       "      <td>The Three Kingdoms period (220280) in China w...</td>\n",
       "    </tr>\n",
       "  </tbody>\n",
       "</table>\n",
       "</div>"
      ],
      "text/plain": [
       "   Unnamed: 0                                           query  \\\n",
       "0           0     What event did Juan Rossell participate in?   \n",
       "1           1  What languages did John Osteen speak or write?   \n",
       "2           2   What is the parent taxon of Proaigialosaurus?   \n",
       "3           3     What is the parent taxon of Australosuchus?   \n",
       "4           4           What was the occupation of Cao Chong?   \n",
       "\n",
       "                 answer                                            options  \\\n",
       "0  1996 summer olympics  ['1996 summer olympics', 'olympic games', 'spo...   \n",
       "1               english  ['english', 'greek', 'koine greek', 'nahuatl',...   \n",
       "2          lepidosauria  ['alligatoridae', 'amphibia', 'amphisbaenia', ...   \n",
       "3            crocodilia  ['animal', 'area', 'crocodile', 'crocodilia', ...   \n",
       "4             physicist  ['academic', 'builder', 'chancellor', 'classic...   \n",
       "\n",
       "                                        sum_supports  \n",
       "0   The 2004 Summer Olympic Games, held in Athens...  \n",
       "1   Christianity is a monotheistic religion based...  \n",
       "2   Herpetology is the branch of zoology that stu...  \n",
       "3   Mekosuchinae was a subfamily of crocodiles th...  \n",
       "4   The Three Kingdoms period (220280) in China w...  "
      ]
     },
     "execution_count": 5,
     "metadata": {},
     "output_type": "execute_result"
    }
   ],
   "source": [
    "frames = [rows_0_100, rows_101_200, rows_201_400, rows_401_600]\n",
    "result = pd.concat(frames)\n",
    "result.head()"
   ]
  },
  {
   "cell_type": "code",
   "execution_count": 6,
   "id": "0cdf8a16-d469-4244-9f3c-ad6231644bd7",
   "metadata": {},
   "outputs": [],
   "source": [
    "result.to_csv('wikihop-merged-summarized.csv')"
   ]
  },
  {
   "cell_type": "code",
   "execution_count": null,
   "id": "a50491f2-e977-43ea-9801-60f4d05d3542",
   "metadata": {},
   "outputs": [],
   "source": []
  }
 ],
 "metadata": {
  "kernelspec": {
   "display_name": "Python 3 (ipykernel)",
   "language": "python",
   "name": "python3"
  },
  "language_info": {
   "codemirror_mode": {
    "name": "ipython",
    "version": 3
   },
   "file_extension": ".py",
   "mimetype": "text/x-python",
   "name": "python",
   "nbconvert_exporter": "python",
   "pygments_lexer": "ipython3",
   "version": "3.9.18"
  }
 },
 "nbformat": 4,
 "nbformat_minor": 5
}
