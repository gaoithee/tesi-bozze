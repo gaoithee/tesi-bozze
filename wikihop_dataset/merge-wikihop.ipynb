{
 "cells": [
  {
   "cell_type": "code",
   "execution_count": 2,
   "id": "98139511-821e-49d0-b80c-d74829ca792e",
   "metadata": {},
   "outputs": [],
   "source": [
    "import pandas as pd"
   ]
  },
  {
   "cell_type": "code",
   "execution_count": 3,
   "id": "efe83f25-7830-4242-9097-f6ccd58b5797",
   "metadata": {},
   "outputs": [],
   "source": [
    "rows_0_100 = pd.read_csv('save-first100.csv')\n",
    "rows_101_200 = pd.read_csv('save-first101-200.csv')\n",
    "rows_201_400 = pd.read_csv('save-first201-400.csv')\n",
    "rows_401_600 = pd.read_csv('save-first401-600.csv')"
   ]
  },
  {
   "cell_type": "code",
   "execution_count": 5,
   "id": "9c4e3239-9ba1-40ed-911f-5edb33df85da",
   "metadata": {},
   "outputs": [
    {
     "data": {
      "text/html": [
       "<div>\n",
       "<style scoped>\n",
       "    .dataframe tbody tr th:only-of-type {\n",
       "        vertical-align: middle;\n",
       "    }\n",
       "\n",
       "    .dataframe tbody tr th {\n",
       "        vertical-align: top;\n",
       "    }\n",
       "\n",
       "    .dataframe thead th {\n",
       "        text-align: right;\n",
       "    }\n",
       "</style>\n",
       "<table border=\"1\" class=\"dataframe\">\n",
       "  <thead>\n",
       "    <tr style=\"text-align: right;\">\n",
       "      <th></th>\n",
       "      <th>Unnamed: 0</th>\n",
       "      <th>query</th>\n",
       "      <th>answer</th>\n",
       "      <th>options</th>\n",
       "      <th>sum_supports</th>\n",
       "    </tr>\n",
       "  </thead>\n",
       "  <tbody>\n",
       "    <tr>\n",
       "      <th>0</th>\n",
       "      <td>0</td>\n",
       "      <td>What event did Juan Rossell participate in?</td>\n",
       "      <td>1996 summer olympics</td>\n",
       "      <td>['1996 summer olympics', 'olympic games', 'spo...</td>\n",
       "      <td>The 2004 Summer Olympic Games, held in Athens...</td>\n",
       "    </tr>\n",
       "    <tr>\n",
       "      <th>1</th>\n",
       "      <td>1</td>\n",
       "      <td>What languages did John Osteen speak or write?</td>\n",
       "      <td>english</td>\n",
       "      <td>['english', 'greek', 'koine greek', 'nahuatl',...</td>\n",
       "      <td>Christianity is a monotheistic religion based...</td>\n",
       "    </tr>\n",
       "    <tr>\n",
       "      <th>2</th>\n",
       "      <td>2</td>\n",
       "      <td>What is the parent taxon of Proaigialosaurus?</td>\n",
       "      <td>lepidosauria</td>\n",
       "      <td>['alligatoridae', 'amphibia', 'amphisbaenia', ...</td>\n",
       "      <td>Herpetology is the branch of zoology that stu...</td>\n",
       "    </tr>\n",
       "    <tr>\n",
       "      <th>3</th>\n",
       "      <td>3</td>\n",
       "      <td>What is the parent taxon of Australosuchus?</td>\n",
       "      <td>crocodilia</td>\n",
       "      <td>['animal', 'area', 'crocodile', 'crocodilia', ...</td>\n",
       "      <td>Mekosuchinae was a subfamily of crocodiles th...</td>\n",
       "    </tr>\n",
       "    <tr>\n",
       "      <th>4</th>\n",
       "      <td>4</td>\n",
       "      <td>What was the occupation of Cao Chong?</td>\n",
       "      <td>physicist</td>\n",
       "      <td>['academic', 'builder', 'chancellor', 'classic...</td>\n",
       "      <td>The Three Kingdoms period (220280) in China w...</td>\n",
       "    </tr>\n",
       "  </tbody>\n",
       "</table>\n",
       "</div>"
      ],
      "text/plain": [
       "   Unnamed: 0                                           query  \\\n",
       "0           0     What event did Juan Rossell participate in?   \n",
       "1           1  What languages did John Osteen speak or write?   \n",
       "2           2   What is the parent taxon of Proaigialosaurus?   \n",
       "3           3     What is the parent taxon of Australosuchus?   \n",
       "4           4           What was the occupation of Cao Chong?   \n",
       "\n",
       "                 answer                                            options  \\\n",
       "0  1996 summer olympics  ['1996 summer olympics', 'olympic games', 'spo...   \n",
       "1               english  ['english', 'greek', 'koine greek', 'nahuatl',...   \n",
       "2          lepidosauria  ['alligatoridae', 'amphibia', 'amphisbaenia', ...   \n",
       "3            crocodilia  ['animal', 'area', 'crocodile', 'crocodilia', ...   \n",
       "4             physicist  ['academic', 'builder', 'chancellor', 'classic...   \n",
       "\n",
       "                                        sum_supports  \n",
       "0   The 2004 Summer Olympic Games, held in Athens...  \n",
       "1   Christianity is a monotheistic religion based...  \n",
       "2   Herpetology is the branch of zoology that stu...  \n",
       "3   Mekosuchinae was a subfamily of crocodiles th...  \n",
       "4   The Three Kingdoms period (220280) in China w...  "
      ]
     },
     "execution_count": 5,
     "metadata": {},
     "output_type": "execute_result"
    }
   ],
   "source": [
    "frames = [rows_0_100, rows_101_200, rows_201_400, rows_401_600]\n",
    "result = pd.concat(frames)\n",
    "result.head()"
   ]
  },
  {
   "cell_type": "code",
   "execution_count": 6,
   "id": "0cdf8a16-d469-4244-9f3c-ad6231644bd7",
   "metadata": {},
   "outputs": [],
   "source": [
    "result.to_csv('wikihop-merged-summarized.csv')"
   ]
  },
  {
   "cell_type": "code",
   "execution_count": 3,
   "id": "a50491f2-e977-43ea-9801-60f4d05d3542",
   "metadata": {},
   "outputs": [
    {
     "data": {
      "text/html": [
       "<div>\n",
       "<style scoped>\n",
       "    .dataframe tbody tr th:only-of-type {\n",
       "        vertical-align: middle;\n",
       "    }\n",
       "\n",
       "    .dataframe tbody tr th {\n",
       "        vertical-align: top;\n",
       "    }\n",
       "\n",
       "    .dataframe thead th {\n",
       "        text-align: right;\n",
       "    }\n",
       "</style>\n",
       "<table border=\"1\" class=\"dataframe\">\n",
       "  <thead>\n",
       "    <tr style=\"text-align: right;\">\n",
       "      <th></th>\n",
       "      <th>Unnamed: 0.1</th>\n",
       "      <th>Unnamed: 0</th>\n",
       "      <th>query</th>\n",
       "      <th>answer</th>\n",
       "      <th>options</th>\n",
       "      <th>sum_supports</th>\n",
       "    </tr>\n",
       "  </thead>\n",
       "  <tbody>\n",
       "    <tr>\n",
       "      <th>0</th>\n",
       "      <td>0</td>\n",
       "      <td>0</td>\n",
       "      <td>What event did Juan Rossell participate in?</td>\n",
       "      <td>1996 summer olympics</td>\n",
       "      <td>['1996 summer olympics', 'olympic games', 'spo...</td>\n",
       "      <td>The 2004 Summer Olympic Games, held in Athens...</td>\n",
       "    </tr>\n",
       "    <tr>\n",
       "      <th>1</th>\n",
       "      <td>1</td>\n",
       "      <td>1</td>\n",
       "      <td>What languages did John Osteen speak or write?</td>\n",
       "      <td>english</td>\n",
       "      <td>['english', 'greek', 'koine greek', 'nahuatl',...</td>\n",
       "      <td>Christianity is a monotheistic religion based...</td>\n",
       "    </tr>\n",
       "    <tr>\n",
       "      <th>2</th>\n",
       "      <td>2</td>\n",
       "      <td>2</td>\n",
       "      <td>What is the parent taxon of Proaigialosaurus?</td>\n",
       "      <td>lepidosauria</td>\n",
       "      <td>['alligatoridae', 'amphibia', 'amphisbaenia', ...</td>\n",
       "      <td>Herpetology is the branch of zoology that stu...</td>\n",
       "    </tr>\n",
       "    <tr>\n",
       "      <th>3</th>\n",
       "      <td>3</td>\n",
       "      <td>3</td>\n",
       "      <td>What is the parent taxon of Australosuchus?</td>\n",
       "      <td>crocodilia</td>\n",
       "      <td>['animal', 'area', 'crocodile', 'crocodilia', ...</td>\n",
       "      <td>Mekosuchinae was a subfamily of crocodiles th...</td>\n",
       "    </tr>\n",
       "    <tr>\n",
       "      <th>4</th>\n",
       "      <td>4</td>\n",
       "      <td>4</td>\n",
       "      <td>What was the occupation of Cao Chong?</td>\n",
       "      <td>physicist</td>\n",
       "      <td>['academic', 'builder', 'chancellor', 'classic...</td>\n",
       "      <td>The Three Kingdoms period (220280) in China w...</td>\n",
       "    </tr>\n",
       "  </tbody>\n",
       "</table>\n",
       "</div>"
      ],
      "text/plain": [
       "   Unnamed: 0.1  Unnamed: 0                                           query  \\\n",
       "0             0           0     What event did Juan Rossell participate in?   \n",
       "1             1           1  What languages did John Osteen speak or write?   \n",
       "2             2           2   What is the parent taxon of Proaigialosaurus?   \n",
       "3             3           3     What is the parent taxon of Australosuchus?   \n",
       "4             4           4           What was the occupation of Cao Chong?   \n",
       "\n",
       "                 answer                                            options  \\\n",
       "0  1996 summer olympics  ['1996 summer olympics', 'olympic games', 'spo...   \n",
       "1               english  ['english', 'greek', 'koine greek', 'nahuatl',...   \n",
       "2          lepidosauria  ['alligatoridae', 'amphibia', 'amphisbaenia', ...   \n",
       "3            crocodilia  ['animal', 'area', 'crocodile', 'crocodilia', ...   \n",
       "4             physicist  ['academic', 'builder', 'chancellor', 'classic...   \n",
       "\n",
       "                                        sum_supports  \n",
       "0   The 2004 Summer Olympic Games, held in Athens...  \n",
       "1   Christianity is a monotheistic religion based...  \n",
       "2   Herpetology is the branch of zoology that stu...  \n",
       "3   Mekosuchinae was a subfamily of crocodiles th...  \n",
       "4   The Three Kingdoms period (220280) in China w...  "
      ]
     },
     "execution_count": 3,
     "metadata": {},
     "output_type": "execute_result"
    }
   ],
   "source": [
    "df = pd.read_csv('wikihop-merged-summarized.csv')\n",
    "df.head()"
   ]
  },
  {
   "cell_type": "code",
   "execution_count": 7,
   "id": "2815dfc5-204b-4fcd-9db5-704ab02d7e51",
   "metadata": {},
   "outputs": [
    {
     "data": {
      "text/plain": [
       "332"
      ]
     },
     "execution_count": 7,
     "metadata": {},
     "output_type": "execute_result"
    }
   ],
   "source": [
    "df_filtrato = df[df['sum_supports'].str.endswith('<|end|>')]\n",
    "len(df_filtrato)"
   ]
  },
  {
   "cell_type": "code",
   "execution_count": 8,
   "id": "6052b7ea-b085-40eb-a52e-766b35b2bb90",
   "metadata": {},
   "outputs": [
    {
     "name": "stderr",
     "output_type": "stream",
     "text": [
      "/tmp/ipykernel_2151601/3600082382.py:1: SettingWithCopyWarning: \n",
      "A value is trying to be set on a copy of a slice from a DataFrame.\n",
      "Try using .loc[row_indexer,col_indexer] = value instead\n",
      "\n",
      "See the caveats in the documentation: https://pandas.pydata.org/pandas-docs/stable/user_guide/indexing.html#returning-a-view-versus-a-copy\n",
      "  df_filtrato['sum_supports'] = df_filtrato['sum_supports'].str.replace('<|end|>', '', regex=False)\n"
     ]
    }
   ],
   "source": [
    "df_filtrato['sum_supports'] = df_filtrato['sum_supports'].str.replace('<|end|>', '', regex=False)"
   ]
  },
  {
   "cell_type": "code",
   "execution_count": 10,
   "id": "3682c6b1-7d95-4f00-ac3e-ae2d0420cb1b",
   "metadata": {},
   "outputs": [
    {
     "data": {
      "text/html": [
       "<div>\n",
       "<style scoped>\n",
       "    .dataframe tbody tr th:only-of-type {\n",
       "        vertical-align: middle;\n",
       "    }\n",
       "\n",
       "    .dataframe tbody tr th {\n",
       "        vertical-align: top;\n",
       "    }\n",
       "\n",
       "    .dataframe thead th {\n",
       "        text-align: right;\n",
       "    }\n",
       "</style>\n",
       "<table border=\"1\" class=\"dataframe\">\n",
       "  <thead>\n",
       "    <tr style=\"text-align: right;\">\n",
       "      <th></th>\n",
       "      <th>Unnamed: 0.1</th>\n",
       "      <th>Unnamed: 0</th>\n",
       "      <th>query</th>\n",
       "      <th>answer</th>\n",
       "      <th>options</th>\n",
       "      <th>sum_supports</th>\n",
       "    </tr>\n",
       "  </thead>\n",
       "  <tbody>\n",
       "    <tr>\n",
       "      <th>0</th>\n",
       "      <td>0</td>\n",
       "      <td>0</td>\n",
       "      <td>What event did Juan Rossell participate in?</td>\n",
       "      <td>1996 summer olympics</td>\n",
       "      <td>['1996 summer olympics', 'olympic games', 'spo...</td>\n",
       "      <td>The 2004 Summer Olympic Games, held in Athens...</td>\n",
       "    </tr>\n",
       "    <tr>\n",
       "      <th>1</th>\n",
       "      <td>1</td>\n",
       "      <td>1</td>\n",
       "      <td>What languages did John Osteen speak or write?</td>\n",
       "      <td>english</td>\n",
       "      <td>['english', 'greek', 'koine greek', 'nahuatl',...</td>\n",
       "      <td>Christianity is a monotheistic religion based...</td>\n",
       "    </tr>\n",
       "    <tr>\n",
       "      <th>3</th>\n",
       "      <td>3</td>\n",
       "      <td>3</td>\n",
       "      <td>What is the parent taxon of Australosuchus?</td>\n",
       "      <td>crocodilia</td>\n",
       "      <td>['animal', 'area', 'crocodile', 'crocodilia', ...</td>\n",
       "      <td>Mekosuchinae was a subfamily of crocodiles th...</td>\n",
       "    </tr>\n",
       "    <tr>\n",
       "      <th>6</th>\n",
       "      <td>6</td>\n",
       "      <td>6</td>\n",
       "      <td>What is the'record_label method man' associate...</td>\n",
       "      <td>loud records</td>\n",
       "      <td>['1995', '1996', 'album', 'english', 'epic', '...</td>\n",
       "      <td>Wu-Tang Clan's debut album, \"Enter the Wu-Tan...</td>\n",
       "    </tr>\n",
       "    <tr>\n",
       "      <th>7</th>\n",
       "      <td>7</td>\n",
       "      <td>7</td>\n",
       "      <td>In which administrative territorial entity is ...</td>\n",
       "      <td>raipur district</td>\n",
       "      <td>['bangladesh', 'bhopal', 'bhutan', 'canada', '...</td>\n",
       "      <td>Chhattisgarh, a state in central India, is ri...</td>\n",
       "    </tr>\n",
       "  </tbody>\n",
       "</table>\n",
       "</div>"
      ],
      "text/plain": [
       "   Unnamed: 0.1  Unnamed: 0  \\\n",
       "0             0           0   \n",
       "1             1           1   \n",
       "3             3           3   \n",
       "6             6           6   \n",
       "7             7           7   \n",
       "\n",
       "                                               query                answer  \\\n",
       "0        What event did Juan Rossell participate in?  1996 summer olympics   \n",
       "1     What languages did John Osteen speak or write?               english   \n",
       "3        What is the parent taxon of Australosuchus?            crocodilia   \n",
       "6  What is the'record_label method man' associate...          loud records   \n",
       "7  In which administrative territorial entity is ...       raipur district   \n",
       "\n",
       "                                             options  \\\n",
       "0  ['1996 summer olympics', 'olympic games', 'spo...   \n",
       "1  ['english', 'greek', 'koine greek', 'nahuatl',...   \n",
       "3  ['animal', 'area', 'crocodile', 'crocodilia', ...   \n",
       "6  ['1995', '1996', 'album', 'english', 'epic', '...   \n",
       "7  ['bangladesh', 'bhopal', 'bhutan', 'canada', '...   \n",
       "\n",
       "                                        sum_supports  \n",
       "0   The 2004 Summer Olympic Games, held in Athens...  \n",
       "1   Christianity is a monotheistic religion based...  \n",
       "3   Mekosuchinae was a subfamily of crocodiles th...  \n",
       "6   Wu-Tang Clan's debut album, \"Enter the Wu-Tan...  \n",
       "7   Chhattisgarh, a state in central India, is ri...  "
      ]
     },
     "execution_count": 10,
     "metadata": {},
     "output_type": "execute_result"
    }
   ],
   "source": [
    "df_filtrato.head()"
   ]
  },
  {
   "cell_type": "code",
   "execution_count": 11,
   "id": "cc6232aa-52af-4ac2-9b39-6a1cca05dfdc",
   "metadata": {},
   "outputs": [],
   "source": [
    "df_filtrato.to_csv('wikihop-merged-summarized-test.csv')"
   ]
  },
  {
   "cell_type": "code",
   "execution_count": null,
   "id": "3e0e3ce6-f9d9-4d27-9658-4cfcc9079ae6",
   "metadata": {},
   "outputs": [],
   "source": []
  }
 ],
 "metadata": {
  "kernelspec": {
   "display_name": "Python 3 (ipykernel)",
   "language": "python",
   "name": "python3"
  },
  "language_info": {
   "codemirror_mode": {
    "name": "ipython",
    "version": 3
   },
   "file_extension": ".py",
   "mimetype": "text/x-python",
   "name": "python",
   "nbconvert_exporter": "python",
   "pygments_lexer": "ipython3",
   "version": "3.9.18"
  }
 },
 "nbformat": 4,
 "nbformat_minor": 5
}
