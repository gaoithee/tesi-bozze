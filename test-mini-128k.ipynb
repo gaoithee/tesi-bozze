{
 "cells": [
  {
   "cell_type": "code",
   "execution_count": 1,
   "id": "071359f6-43f3-43c2-9626-3031e0c1ffa2",
   "metadata": {},
   "outputs": [
    {
     "name": "stderr",
     "output_type": "stream",
     "text": [
      "/orfeo/cephfs/home/dssc/scandu00/nlp-env/lib64/python3.9/site-packages/networkx/utils/backends.py:135: RuntimeWarning: networkx backend defined more than once: nx-loopback\n",
      "  backends.update(_get_backends(\"networkx.backends\"))\n"
     ]
    }
   ],
   "source": [
    "import pandas as pd\n",
    "import torch\n",
    "import re\n",
    "import ast\n",
    "import datasets\n",
    "from datasets import load_dataset\n",
    "from transformers import (\n",
    "    AutoModelForCausalLM,\n",
    "    AutoTokenizer,\n",
    "    BitsAndBytesConfig,\n",
    "    HfArgumentParser,\n",
    "    TrainingArguments,\n",
    "    pipeline,\n",
    "    logging,\n",
    ")\n",
    "\n",
    "from guidance import models, select\n",
    "from langchain_core.prompts import PromptTemplate\n",
    "from operator import itemgetter\n",
    "import warnings\n",
    "warnings.filterwarnings(\"ignore\")"
   ]
  },
  {
   "cell_type": "code",
   "execution_count": 2,
   "id": "44dd443a-477a-422f-8c29-84269d6f8b82",
   "metadata": {},
   "outputs": [
    {
     "data": {
      "text/html": [
       "<div>\n",
       "<style scoped>\n",
       "    .dataframe tbody tr th:only-of-type {\n",
       "        vertical-align: middle;\n",
       "    }\n",
       "\n",
       "    .dataframe tbody tr th {\n",
       "        vertical-align: top;\n",
       "    }\n",
       "\n",
       "    .dataframe thead th {\n",
       "        text-align: right;\n",
       "    }\n",
       "</style>\n",
       "<table border=\"1\" class=\"dataframe\">\n",
       "  <thead>\n",
       "    <tr style=\"text-align: right;\">\n",
       "      <th></th>\n",
       "      <th>question</th>\n",
       "      <th>answer</th>\n",
       "      <th>type</th>\n",
       "      <th>level</th>\n",
       "      <th>selected_passages</th>\n",
       "      <th>Unnamed: 5</th>\n",
       "      <th>Unnamed: 6</th>\n",
       "    </tr>\n",
       "  </thead>\n",
       "  <tbody>\n",
       "    <tr>\n",
       "      <th>0</th>\n",
       "      <td>The Oberoi family is part of a hotel company t...</td>\n",
       "      <td>Delhi</td>\n",
       "      <td>bridge</td>\n",
       "      <td>medium</td>\n",
       "      <td>The Oberoi family is an Indian family that is ...</td>\n",
       "      <td>NaN</td>\n",
       "      <td>NaN</td>\n",
       "    </tr>\n",
       "    <tr>\n",
       "      <th>1</th>\n",
       "      <td>Musician and satirist Allie Goertz wrote a son...</td>\n",
       "      <td>President Richard Nixon</td>\n",
       "      <td>bridge</td>\n",
       "      <td>hard</td>\n",
       "      <td>Allison Beth \"Allie\" Goertz (born March 2, 199...</td>\n",
       "      <td>NaN</td>\n",
       "      <td>NaN</td>\n",
       "    </tr>\n",
       "    <tr>\n",
       "      <th>2</th>\n",
       "      <td>What nationality was James Henry Miller's wife?</td>\n",
       "      <td>American</td>\n",
       "      <td>bridge</td>\n",
       "      <td>medium</td>\n",
       "      <td>James Henry Miller (25 January 1915 – 22 Octob...</td>\n",
       "      <td>NaN</td>\n",
       "      <td>NaN</td>\n",
       "    </tr>\n",
       "    <tr>\n",
       "      <th>3</th>\n",
       "      <td>Cadmium Chloride is slightly soluble in this c...</td>\n",
       "      <td>alcohol</td>\n",
       "      <td>bridge</td>\n",
       "      <td>medium</td>\n",
       "      <td>Cadmium chloride is a white crystalline compou...</td>\n",
       "      <td>NaN</td>\n",
       "      <td>NaN</td>\n",
       "    </tr>\n",
       "    <tr>\n",
       "      <th>4</th>\n",
       "      <td>Which genus of moth in the world's seventh-lar...</td>\n",
       "      <td>Crambidae</td>\n",
       "      <td>bridge</td>\n",
       "      <td>hard</td>\n",
       "      <td>India, officially the Republic of India (\"Bhār...</td>\n",
       "      <td>NaN</td>\n",
       "      <td>NaN</td>\n",
       "    </tr>\n",
       "  </tbody>\n",
       "</table>\n",
       "</div>"
      ],
      "text/plain": [
       "                                            question                   answer  \\\n",
       "0  The Oberoi family is part of a hotel company t...                    Delhi   \n",
       "1  Musician and satirist Allie Goertz wrote a son...  President Richard Nixon   \n",
       "2    What nationality was James Henry Miller's wife?                 American   \n",
       "3  Cadmium Chloride is slightly soluble in this c...                  alcohol   \n",
       "4  Which genus of moth in the world's seventh-lar...                Crambidae   \n",
       "\n",
       "     type   level                                  selected_passages  \\\n",
       "0  bridge  medium  The Oberoi family is an Indian family that is ...   \n",
       "1  bridge    hard  Allison Beth \"Allie\" Goertz (born March 2, 199...   \n",
       "2  bridge  medium  James Henry Miller (25 January 1915 – 22 Octob...   \n",
       "3  bridge  medium  Cadmium chloride is a white crystalline compou...   \n",
       "4  bridge    hard  India, officially the Republic of India (\"Bhār...   \n",
       "\n",
       "  Unnamed: 5 Unnamed: 6  \n",
       "0        NaN        NaN  \n",
       "1        NaN        NaN  \n",
       "2        NaN        NaN  \n",
       "3        NaN        NaN  \n",
       "4        NaN        NaN  "
      ]
     },
     "execution_count": 2,
     "metadata": {},
     "output_type": "execute_result"
    }
   ],
   "source": [
    "df = pd.read_csv('hotpot_bridge.csv')\n",
    "df.head()"
   ]
  },
  {
   "cell_type": "code",
   "execution_count": 7,
   "id": "771a66df-2833-448f-b87b-43a7621614d2",
   "metadata": {},
   "outputs": [
    {
     "data": {
      "text/plain": [
       "Dataset({\n",
       "    features: ['Unnamed: 0', 'query', 'answer', 'options', 'supports', 'cleaned_query'],\n",
       "    num_rows: 1000\n",
       "})"
      ]
     },
     "execution_count": 7,
     "metadata": {},
     "output_type": "execute_result"
    }
   ],
   "source": [
    "dataset = load_dataset('saracandu/my_wikihop', split='train')\n",
    "dataset"
   ]
  },
  {
   "cell_type": "code",
   "execution_count": 3,
   "id": "81f4e6cd-4fe0-4ed1-a14e-3e5c9e41be36",
   "metadata": {},
   "outputs": [
    {
     "data": {
      "application/vnd.jupyter.widget-view+json": {
       "model_id": "07c97e634850487e803ee60eec78e1e8",
       "version_major": 2,
       "version_minor": 0
      },
      "text/plain": [
       "Loading checkpoint shards:   0%|          | 0/4 [00:00<?, ?it/s]"
      ]
     },
     "metadata": {},
     "output_type": "display_data"
    }
   ],
   "source": [
    "model = AutoModelForCausalLM.from_pretrained(\n",
    "    \"meta-llama/Meta-Llama-3.1-8B-Instruct\",\n",
    "    device_map=\"cuda\",\n",
    "    torch_dtype=\"auto\",\n",
    "    trust_remote_code=True,\n",
    ")\n",
    "tokenizer = AutoTokenizer.from_pretrained(\"meta-llama/Meta-Llama-3.1-8B-Instruct\", use_fast=False)\n",
    "new_model = models.Transformers(model, tokenizer, temperature=0.0)\n",
    "\n",
    "pipe = pipeline(\n",
    "    \"text-generation\",\n",
    "    model=model,\n",
    "    tokenizer=tokenizer,\n",
    ")\n",
    "\n",
    "generation_args = {\n",
    "    \"max_new_tokens\": 10,\n",
    "    \"return_full_text\": False,\n",
    "    \"do_sample\": False,\n",
    "}"
   ]
  },
  {
   "cell_type": "code",
   "execution_count": 4,
   "id": "5a1ff525-fdd0-473f-88c3-e57bad4e19d3",
   "metadata": {},
   "outputs": [],
   "source": [
    "def produce_prompt(question, correct, context):\n",
    "\n",
    "    user_content = \"Question: \"+question+\"\\n Correct answer: \"+correct+\"\\n Context: \"+context+\"\\n\\n Incorrect answer:\"\n",
    "    messages = [ \n",
    "        {\"role\": \"system\", \"content\": \"\"\"\n",
    "        You are a helpful AI assistant. You are given a question and the correct answer to it and the context used to answer it.\n",
    "        You have to provide me an alternative, wrong answer to it. \n",
    "        \"\"\"}, \n",
    "        {\"role\": \"user\", \"content\": user_content},\n",
    "    ] \n",
    "    return messages"
   ]
  },
  {
   "cell_type": "code",
   "execution_count": 5,
   "id": "86b8d969-fb42-4b22-a16b-82eaa8f105b5",
   "metadata": {},
   "outputs": [
    {
     "name": "stderr",
     "output_type": "stream",
     "text": [
      "Setting `pad_token_id` to `eos_token_id`:128001 for open-end generation.\n",
      "Setting `pad_token_id` to `eos_token_id`:128001 for open-end generation.\n",
      "Setting `pad_token_id` to `eos_token_id`:128001 for open-end generation.\n",
      "Setting `pad_token_id` to `eos_token_id`:128001 for open-end generation.\n",
      "Setting `pad_token_id` to `eos_token_id`:128001 for open-end generation.\n",
      "Setting `pad_token_id` to `eos_token_id`:128001 for open-end generation.\n",
      "Setting `pad_token_id` to `eos_token_id`:128001 for open-end generation.\n",
      "Setting `pad_token_id` to `eos_token_id`:128001 for open-end generation.\n",
      "Setting `pad_token_id` to `eos_token_id`:128001 for open-end generation.\n",
      "Setting `pad_token_id` to `eos_token_id`:128001 for open-end generation.\n"
     ]
    }
   ],
   "source": [
    "ans = []\n",
    "for i in range(10):\n",
    "    output = pipe(produce_prompt(df['question'][i], df['answer'][i], df['selected_passages'][i]), **generation_args) \n",
    "    ans.append(output[0]['generated_text']) "
   ]
  },
  {
   "cell_type": "code",
   "execution_count": 6,
   "id": "c13a01f0-9eff-41b0-9378-f381d3a838fe",
   "metadata": {},
   "outputs": [
    {
     "data": {
      "text/plain": [
       "['Mumbai.',\n",
       " 'The incorrect answer is:  Albert Einstein',\n",
       " \"The nationality of James Henry Miller's wife, Margaret\",\n",
       " 'The incorrect answer is:  Mercury.\\n\\nReason:',\n",
       " \"The genus of moth in the world's seventh-largest\"]"
      ]
     },
     "execution_count": 6,
     "metadata": {},
     "output_type": "execute_result"
    }
   ],
   "source": [
    "ans[:5]"
   ]
  },
  {
   "cell_type": "code",
   "execution_count": 8,
   "id": "be764511-d421-483c-a775-bfd1b44c2ea0",
   "metadata": {},
   "outputs": [],
   "source": [
    "df = {\n",
    "    'question': df['question'][:1000],\n",
    "    'correct': df['answer'][:1000],\n",
    "    'alternative': ans,\n",
    "    'support': df['selected_passages'][:1000],\n",
    "    'level': df['level'][:1000]\n",
    "}"
   ]
  },
  {
   "cell_type": "code",
   "execution_count": 9,
   "id": "2f4ff1e4-2141-44f0-bcd8-f20a7d92bad5",
   "metadata": {},
   "outputs": [
    {
     "data": {
      "text/html": [
       "<div>\n",
       "<style scoped>\n",
       "    .dataframe tbody tr th:only-of-type {\n",
       "        vertical-align: middle;\n",
       "    }\n",
       "\n",
       "    .dataframe tbody tr th {\n",
       "        vertical-align: top;\n",
       "    }\n",
       "\n",
       "    .dataframe thead th {\n",
       "        text-align: right;\n",
       "    }\n",
       "</style>\n",
       "<table border=\"1\" class=\"dataframe\">\n",
       "  <thead>\n",
       "    <tr style=\"text-align: right;\">\n",
       "      <th></th>\n",
       "      <th>question</th>\n",
       "      <th>correct</th>\n",
       "      <th>alternative</th>\n",
       "      <th>support</th>\n",
       "      <th>level</th>\n",
       "    </tr>\n",
       "  </thead>\n",
       "  <tbody>\n",
       "    <tr>\n",
       "      <th>0</th>\n",
       "      <td>The Oberoi family is part of a hotel company t...</td>\n",
       "      <td>Delhi</td>\n",
       "      <td>Mumbai &lt;|end|&gt;</td>\n",
       "      <td>The Oberoi family is an Indian family that is ...</td>\n",
       "      <td>medium</td>\n",
       "    </tr>\n",
       "    <tr>\n",
       "      <th>1</th>\n",
       "      <td>Musician and satirist Allie Goertz wrote a son...</td>\n",
       "      <td>President Richard Nixon</td>\n",
       "      <td>President Abraham Lincoln &lt;|end|&gt;</td>\n",
       "      <td>Allison Beth \"Allie\" Goertz (born March 2, 199...</td>\n",
       "      <td>hard</td>\n",
       "    </tr>\n",
       "    <tr>\n",
       "      <th>2</th>\n",
       "      <td>What nationality was James Henry Miller's wife?</td>\n",
       "      <td>American</td>\n",
       "      <td>British &lt;|end|&gt;</td>\n",
       "      <td>James Henry Miller (25 January 1915 – 22 Octob...</td>\n",
       "      <td>medium</td>\n",
       "    </tr>\n",
       "    <tr>\n",
       "      <th>3</th>\n",
       "      <td>Cadmium Chloride is slightly soluble in this c...</td>\n",
       "      <td>alcohol</td>\n",
       "      <td>Sodium Chloride &lt;|end|&gt;</td>\n",
       "      <td>Cadmium chloride is a white crystalline compou...</td>\n",
       "      <td>medium</td>\n",
       "    </tr>\n",
       "    <tr>\n",
       "      <th>4</th>\n",
       "      <td>Which genus of moth in the world's seventh-lar...</td>\n",
       "      <td>Crambidae</td>\n",
       "      <td>Lepidoptera &lt;|end|&gt;</td>\n",
       "      <td>India, officially the Republic of India (\"Bhār...</td>\n",
       "      <td>hard</td>\n",
       "    </tr>\n",
       "  </tbody>\n",
       "</table>\n",
       "</div>"
      ],
      "text/plain": [
       "                                            question                  correct  \\\n",
       "0  The Oberoi family is part of a hotel company t...                    Delhi   \n",
       "1  Musician and satirist Allie Goertz wrote a son...  President Richard Nixon   \n",
       "2    What nationality was James Henry Miller's wife?                 American   \n",
       "3  Cadmium Chloride is slightly soluble in this c...                  alcohol   \n",
       "4  Which genus of moth in the world's seventh-lar...                Crambidae   \n",
       "\n",
       "                          alternative  \\\n",
       "0                      Mumbai <|end|>   \n",
       "1   President Abraham Lincoln <|end|>   \n",
       "2                     British <|end|>   \n",
       "3             Sodium Chloride <|end|>   \n",
       "4                 Lepidoptera <|end|>   \n",
       "\n",
       "                                             support   level  \n",
       "0  The Oberoi family is an Indian family that is ...  medium  \n",
       "1  Allison Beth \"Allie\" Goertz (born March 2, 199...    hard  \n",
       "2  James Henry Miller (25 January 1915 – 22 Octob...  medium  \n",
       "3  Cadmium chloride is a white crystalline compou...  medium  \n",
       "4  India, officially the Republic of India (\"Bhār...    hard  "
      ]
     },
     "execution_count": 9,
     "metadata": {},
     "output_type": "execute_result"
    }
   ],
   "source": [
    "df = pd.DataFrame.from_dict(df)\n",
    "df.head()"
   ]
  },
  {
   "cell_type": "code",
   "execution_count": 11,
   "id": "8c000102-8835-41c4-b406-6e9d91545a48",
   "metadata": {},
   "outputs": [],
   "source": [
    "def remove_spaces(df, column_name):\n",
    "    # Rimuove tutti gli spazi bianchi dal testo nella colonna specificata\n",
    "    df[column_name] = df[column_name].str.replace('<|end|>', '', regex=False)\n",
    "    return df"
   ]
  },
  {
   "cell_type": "code",
   "execution_count": 12,
   "id": "892973c4-869b-411a-b88e-25aad05383eb",
   "metadata": {},
   "outputs": [
    {
     "data": {
      "text/html": [
       "<div>\n",
       "<style scoped>\n",
       "    .dataframe tbody tr th:only-of-type {\n",
       "        vertical-align: middle;\n",
       "    }\n",
       "\n",
       "    .dataframe tbody tr th {\n",
       "        vertical-align: top;\n",
       "    }\n",
       "\n",
       "    .dataframe thead th {\n",
       "        text-align: right;\n",
       "    }\n",
       "</style>\n",
       "<table border=\"1\" class=\"dataframe\">\n",
       "  <thead>\n",
       "    <tr style=\"text-align: right;\">\n",
       "      <th></th>\n",
       "      <th>question</th>\n",
       "      <th>correct</th>\n",
       "      <th>alternative</th>\n",
       "      <th>support</th>\n",
       "      <th>level</th>\n",
       "    </tr>\n",
       "  </thead>\n",
       "  <tbody>\n",
       "    <tr>\n",
       "      <th>0</th>\n",
       "      <td>The Oberoi family is part of a hotel company t...</td>\n",
       "      <td>Delhi</td>\n",
       "      <td>Mumbai</td>\n",
       "      <td>The Oberoi family is an Indian family that is ...</td>\n",
       "      <td>medium</td>\n",
       "    </tr>\n",
       "    <tr>\n",
       "      <th>1</th>\n",
       "      <td>Musician and satirist Allie Goertz wrote a son...</td>\n",
       "      <td>President Richard Nixon</td>\n",
       "      <td>President Abraham Lincoln</td>\n",
       "      <td>Allison Beth \"Allie\" Goertz (born March 2, 199...</td>\n",
       "      <td>hard</td>\n",
       "    </tr>\n",
       "    <tr>\n",
       "      <th>2</th>\n",
       "      <td>What nationality was James Henry Miller's wife?</td>\n",
       "      <td>American</td>\n",
       "      <td>British</td>\n",
       "      <td>James Henry Miller (25 January 1915 – 22 Octob...</td>\n",
       "      <td>medium</td>\n",
       "    </tr>\n",
       "    <tr>\n",
       "      <th>3</th>\n",
       "      <td>Cadmium Chloride is slightly soluble in this c...</td>\n",
       "      <td>alcohol</td>\n",
       "      <td>Sodium Chloride</td>\n",
       "      <td>Cadmium chloride is a white crystalline compou...</td>\n",
       "      <td>medium</td>\n",
       "    </tr>\n",
       "    <tr>\n",
       "      <th>4</th>\n",
       "      <td>Which genus of moth in the world's seventh-lar...</td>\n",
       "      <td>Crambidae</td>\n",
       "      <td>Lepidoptera</td>\n",
       "      <td>India, officially the Republic of India (\"Bhār...</td>\n",
       "      <td>hard</td>\n",
       "    </tr>\n",
       "  </tbody>\n",
       "</table>\n",
       "</div>"
      ],
      "text/plain": [
       "                                            question                  correct  \\\n",
       "0  The Oberoi family is part of a hotel company t...                    Delhi   \n",
       "1  Musician and satirist Allie Goertz wrote a son...  President Richard Nixon   \n",
       "2    What nationality was James Henry Miller's wife?                 American   \n",
       "3  Cadmium Chloride is slightly soluble in this c...                  alcohol   \n",
       "4  Which genus of moth in the world's seventh-lar...                Crambidae   \n",
       "\n",
       "                   alternative  \\\n",
       "0                      Mumbai    \n",
       "1   President Abraham Lincoln    \n",
       "2                     British    \n",
       "3             Sodium Chloride    \n",
       "4                 Lepidoptera    \n",
       "\n",
       "                                             support   level  \n",
       "0  The Oberoi family is an Indian family that is ...  medium  \n",
       "1  Allison Beth \"Allie\" Goertz (born March 2, 199...    hard  \n",
       "2  James Henry Miller (25 January 1915 – 22 Octob...  medium  \n",
       "3  Cadmium chloride is a white crystalline compou...  medium  \n",
       "4  India, officially the Republic of India (\"Bhār...    hard  "
      ]
     },
     "execution_count": 12,
     "metadata": {},
     "output_type": "execute_result"
    }
   ],
   "source": [
    "df = remove_spaces(df, 'alternative')\n",
    "df.head()"
   ]
  },
  {
   "cell_type": "code",
   "execution_count": 13,
   "id": "4dee9218-b646-4201-8ce5-4209720d5fa7",
   "metadata": {},
   "outputs": [],
   "source": [
    "df.to_csv('hotpot-bridge-updated.csv')"
   ]
  },
  {
   "cell_type": "code",
   "execution_count": null,
   "id": "9499d5e0-9e87-4a99-9f7d-e2819284e825",
   "metadata": {},
   "outputs": [],
   "source": []
  }
 ],
 "metadata": {
  "kernelspec": {
   "display_name": "Python 3 (ipykernel)",
   "language": "python",
   "name": "python3"
  },
  "language_info": {
   "codemirror_mode": {
    "name": "ipython",
    "version": 3
   },
   "file_extension": ".py",
   "mimetype": "text/x-python",
   "name": "python",
   "nbconvert_exporter": "python",
   "pygments_lexer": "ipython3",
   "version": "3.9.18"
  }
 },
 "nbformat": 4,
 "nbformat_minor": 5
}
