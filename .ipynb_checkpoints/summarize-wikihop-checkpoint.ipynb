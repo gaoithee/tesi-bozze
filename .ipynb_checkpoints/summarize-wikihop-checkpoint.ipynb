{
 "cells": [
  {
   "cell_type": "code",
   "execution_count": 1,
   "id": "3b495c49-d05a-43db-8e40-d3773e41e75b",
   "metadata": {},
   "outputs": [],
   "source": [
    "import pandas as pd\n",
    "import torch\n",
    "import re\n",
    "import ast\n",
    "import datasets\n",
    "from datasets import load_dataset\n",
    "from transformers import (\n",
    "    AutoModelForCausalLM,\n",
    "    AutoTokenizer,\n",
    "    BitsAndBytesConfig,\n",
    "    HfArgumentParser,\n",
    "    TrainingArguments,\n",
    "    pipeline,\n",
    "    logging,\n",
    ")\n",
    "\n",
    "import warnings\n",
    "warnings.filterwarnings(\"ignore\")"
   ]
  },
  {
   "cell_type": "code",
   "execution_count": 2,
   "id": "acf50f90-2191-4f01-9135-644ae0c78827",
   "metadata": {},
   "outputs": [
    {
     "name": "stderr",
     "output_type": "stream",
     "text": [
      "Downloading data: 100%|█████████████████████████████████████████████████████████████████████████████████████████████████████████████████████████████████| 7.48M/7.48M [00:00<00:00, 8.56MB/s]\n"
     ]
    },
    {
     "data": {
      "application/vnd.jupyter.widget-view+json": {
       "model_id": "a67f1aacc8ac4829a9146fe1d8757120",
       "version_major": 2,
       "version_minor": 0
      },
      "text/plain": [
       "Generating train split: 0 examples [00:00, ? examples/s]"
      ]
     },
     "metadata": {},
     "output_type": "display_data"
    }
   ],
   "source": [
    "dataset = load_dataset('saracandu/my_wikihop', split='train')\n",
    "sources = dataset['supports']"
   ]
  },
  {
   "cell_type": "code",
   "execution_count": 3,
   "id": "96fa6c3b-e035-4e43-b395-6d42ad54f670",
   "metadata": {},
   "outputs": [
    {
     "data": {
      "text/plain": [
       "1000"
      ]
     },
     "execution_count": 3,
     "metadata": {},
     "output_type": "execute_result"
    }
   ],
   "source": [
    "len(sources)"
   ]
  },
  {
   "cell_type": "code",
   "execution_count": 4,
   "id": "c1939571-4012-41b0-bc9a-b0131d4c7b4e",
   "metadata": {},
   "outputs": [
    {
     "data": {
      "application/vnd.jupyter.widget-view+json": {
       "model_id": "641f87f469e64f35af7f8298a869be3d",
       "version_major": 2,
       "version_minor": 0
      },
      "text/plain": [
       "config.json:   0%|          | 0.00/1.58k [00:00<?, ?B/s]"
      ]
     },
     "metadata": {},
     "output_type": "display_data"
    },
    {
     "data": {
      "application/vnd.jupyter.widget-view+json": {
       "model_id": "3e2cb4d58da94c9ab1c61ebfb045fb48",
       "version_major": 2,
       "version_minor": 0
      },
      "text/plain": [
       "model.safetensors:   0%|          | 0.00/1.63G [00:00<?, ?B/s]"
      ]
     },
     "metadata": {},
     "output_type": "display_data"
    },
    {
     "data": {
      "application/vnd.jupyter.widget-view+json": {
       "model_id": "9df0ead77bcd4a258463e7650090b2df",
       "version_major": 2,
       "version_minor": 0
      },
      "text/plain": [
       "generation_config.json:   0%|          | 0.00/363 [00:00<?, ?B/s]"
      ]
     },
     "metadata": {},
     "output_type": "display_data"
    },
    {
     "data": {
      "application/vnd.jupyter.widget-view+json": {
       "model_id": "0465f9eaf28a4c5b864277b695843df4",
       "version_major": 2,
       "version_minor": 0
      },
      "text/plain": [
       "vocab.json:   0%|          | 0.00/899k [00:00<?, ?B/s]"
      ]
     },
     "metadata": {},
     "output_type": "display_data"
    },
    {
     "data": {
      "application/vnd.jupyter.widget-view+json": {
       "model_id": "74d95f1153e448e9926932440582ab31",
       "version_major": 2,
       "version_minor": 0
      },
      "text/plain": [
       "merges.txt:   0%|          | 0.00/456k [00:00<?, ?B/s]"
      ]
     },
     "metadata": {},
     "output_type": "display_data"
    },
    {
     "data": {
      "application/vnd.jupyter.widget-view+json": {
       "model_id": "b8f79993e6fb492782bfdefedcb2bb9f",
       "version_major": 2,
       "version_minor": 0
      },
      "text/plain": [
       "tokenizer.json:   0%|          | 0.00/1.36M [00:00<?, ?B/s]"
      ]
     },
     "metadata": {},
     "output_type": "display_data"
    },
    {
     "name": "stderr",
     "output_type": "stream",
     "text": [
      "Hardware accelerator e.g. GPU is available in the environment, but no `device` argument is passed to the `Pipeline` object. Model will be on CPU.\n"
     ]
    }
   ],
   "source": [
    "summarizer = pipeline(\"summarization\", model=\"facebook/bart-large-cnn\")"
   ]
  },
  {
   "cell_type": "code",
   "execution_count": null,
   "id": "55f8d455-035a-411d-a61a-9bde0647f25d",
   "metadata": {},
   "outputs": [
    {
     "name": "stderr",
     "output_type": "stream",
     "text": [
      "Your max_length is set to 300, but your input_length is only 255. Since this is a summarization task, where outputs shorter than the input are typically wanted, you might consider decreasing max_length manually, e.g. summarizer('...', max_length=127)\n",
      "Your max_length is set to 300, but your input_length is only 276. Since this is a summarization task, where outputs shorter than the input are typically wanted, you might consider decreasing max_length manually, e.g. summarizer('...', max_length=138)\n",
      "Your max_length is set to 300, but your input_length is only 225. Since this is a summarization task, where outputs shorter than the input are typically wanted, you might consider decreasing max_length manually, e.g. summarizer('...', max_length=112)\n",
      "Your max_length is set to 300, but your input_length is only 241. Since this is a summarization task, where outputs shorter than the input are typically wanted, you might consider decreasing max_length manually, e.g. summarizer('...', max_length=120)\n",
      "Your max_length is set to 300, but your input_length is only 253. Since this is a summarization task, where outputs shorter than the input are typically wanted, you might consider decreasing max_length manually, e.g. summarizer('...', max_length=126)\n"
     ]
    }
   ],
   "source": [
    "summ = []\n",
    "for i in range(len(dataset)):\n",
    "  if len(sources[i]) < 4000:\n",
    "    summ.append(summarizer(sources[i], max_length=300, min_length=10, do_sample=False))\n",
    "  else:\n",
    "    summ.append(\"[{}, {}]\".format(i, len(sources[i])))"
   ]
  },
  {
   "cell_type": "code",
   "execution_count": 21,
   "id": "f6777617-c0ff-48d0-94cb-092f0c30a1ff",
   "metadata": {},
   "outputs": [
    {
     "data": {
      "text/plain": [
       "[[{'summary_text': '10,625 athletes competed, some 600 more than expected, accompanied by 5,501 team officials from 201 countries. Athens 2004 marked the first time since the 1996 Summer Olympics that all countries with a National Olympic Committee were in attendance. The 14th Pan American Games were held in Santo Domingo, Dominican Republic, from August 1 until August 17, 2003.'}],\n",
       " [{'summary_text': 'Lakewood Church is a nondenominational charismatic Christian megachurch located in Houston, Texas. It is the largest congregation in the United States, averaging about 52,000 attendees per week. Joel Osteen is the senior pastor of Lakewood Church with his wife, Victoria, who serves as co-pastor.'}],\n",
       " '[2, 12045]',\n",
       " [{'summary_text': 'Mekosuchinae was a subfamily of crocodiles from Australia and the South Pacific that have now become extinct. They first appear in the fossil record in the Eocene in Australia, and survived until the Pleistocene. A genus (genera) is a taxonomic rank used in the biological classification of living and fossil organisms in biology. The genus name forms the first part of the binomial species name for each species within the genus.'}],\n",
       " '[4, 21739]',\n",
       " '[5, 11685]',\n",
       " '[6, 8494]',\n",
       " '[7, 10427]',\n",
       " [{'summary_text': 'BBC iPlayer is an internet streaming catchup television and radio service in the United Kingdom. BBC Choice was a BBC TV station which launched on 23 September 1998 and closed on 28 February 2003. BBC Three (stylised as BBC II!) is a British digital publisher and broadcaster operated by the BBC.'}],\n",
       " [{'summary_text': 'Canada is a country in the northern half of North America. Its ten provinces and three territories extend from the Atlantic to the Pacific and northward into the Arctic Ocean. The majority of the country has a cold or severely cold winter climate, but southerly areas are warm in summer. Canada is sparsely populated, the majority of its land territory being dominated by forest and tundra.'}]]"
      ]
     },
     "execution_count": 21,
     "metadata": {},
     "output_type": "execute_result"
    }
   ],
   "source": [
    "summ"
   ]
  },
  {
   "cell_type": "code",
   "execution_count": null,
   "id": "3ae6dbf7-45d6-4e8e-80b5-e1837de8cd45",
   "metadata": {},
   "outputs": [],
   "source": [
    "df.to_csv('salvami.csv')"
   ]
  },
  {
   "cell_type": "code",
   "execution_count": null,
   "id": "13caaef8-1178-4006-a413-497993ff80c8",
   "metadata": {},
   "outputs": [],
   "source": []
  }
 ],
 "metadata": {
  "kernelspec": {
   "display_name": "Python 3 (ipykernel)",
   "language": "python",
   "name": "python3"
  },
  "language_info": {
   "codemirror_mode": {
    "name": "ipython",
    "version": 3
   },
   "file_extension": ".py",
   "mimetype": "text/x-python",
   "name": "python",
   "nbconvert_exporter": "python",
   "pygments_lexer": "ipython3",
   "version": "3.9.18"
  }
 },
 "nbformat": 4,
 "nbformat_minor": 5
}
