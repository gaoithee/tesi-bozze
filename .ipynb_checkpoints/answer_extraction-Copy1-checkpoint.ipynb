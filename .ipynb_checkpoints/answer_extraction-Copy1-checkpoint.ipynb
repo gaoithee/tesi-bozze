{
 "cells": [
  {
   "cell_type": "code",
   "execution_count": 40,
   "id": "4aad120c-7468-45a3-943a-6a8a6504f978",
   "metadata": {},
   "outputs": [],
   "source": [
    "import pandas as pd\n",
    "\n",
    "mini = pd.read_csv('base-phimini-wikihop-ctx-v2.csv')\n",
    "# med = pd.read_csv('cot-phimedium-wikihop-v2.csv')\n",
    "# two = pd.read_csv('base-gemma-2b-wikihop.csv')\n",
    "# nine = pd.read_csv('base-gemma-9b-wikihop.csv')"
   ]
  },
  {
   "cell_type": "code",
   "execution_count": 2,
   "id": "0954dd0a-9610-45d0-94a3-8de4c9774a3f",
   "metadata": {},
   "outputs": [
    {
     "name": "stderr",
     "output_type": "stream",
     "text": [
      "/orfeo/cephfs/home/dssc/scandu00/nlp-env/lib64/python3.9/site-packages/networkx/utils/backends.py:135: RuntimeWarning: networkx backend defined more than once: nx-loopback\n",
      "  backends.update(_get_backends(\"networkx.backends\"))\n"
     ]
    }
   ],
   "source": [
    "import transformers\n",
    "from transformers import AutoModelForCausalLM, AutoTokenizer\n",
    "from guidance import models, select"
   ]
  },
  {
   "cell_type": "code",
   "execution_count": 3,
   "id": "24e3b677-a013-42f3-822e-cac3b3ca49a6",
   "metadata": {},
   "outputs": [
    {
     "data": {
      "text/html": [
       "<div>\n",
       "<style scoped>\n",
       "    .dataframe tbody tr th:only-of-type {\n",
       "        vertical-align: middle;\n",
       "    }\n",
       "\n",
       "    .dataframe tbody tr th {\n",
       "        vertical-align: top;\n",
       "    }\n",
       "\n",
       "    .dataframe thead th {\n",
       "        text-align: right;\n",
       "    }\n",
       "</style>\n",
       "<table border=\"1\" class=\"dataframe\">\n",
       "  <thead>\n",
       "    <tr style=\"text-align: right;\">\n",
       "      <th></th>\n",
       "      <th>Unnamed: 0</th>\n",
       "      <th>query</th>\n",
       "      <th>correct</th>\n",
       "      <th>thesis</th>\n",
       "      <th>antithesis</th>\n",
       "      <th>pre-synthesis</th>\n",
       "      <th>context</th>\n",
       "    </tr>\n",
       "  </thead>\n",
       "  <tbody>\n",
       "    <tr>\n",
       "      <th>0</th>\n",
       "      <td>0</td>\n",
       "      <td>What event did Juan Rossell participate in?</td>\n",
       "      <td>1996 summer olympics</td>\n",
       "      <td>1996 summer olympics</td>\n",
       "      <td>The correct answer should be '1996 summer oly...</td>\n",
       "      <td>The correct answer is '1996 summer olympics'....</td>\n",
       "      <td>The 2004 Summer Olympic Games, held in Athens...</td>\n",
       "    </tr>\n",
       "    <tr>\n",
       "      <th>1</th>\n",
       "      <td>1</td>\n",
       "      <td>What languages did John Osteen speak or write?</td>\n",
       "      <td>english</td>\n",
       "      <td>spanish</td>\n",
       "      <td>The correct answer should be 'english' as Joh...</td>\n",
       "      <td>The correct answer is 'english', as John Oste...</td>\n",
       "      <td>Christianity is a monotheistic religion based...</td>\n",
       "    </tr>\n",
       "    <tr>\n",
       "      <th>2</th>\n",
       "      <td>2</td>\n",
       "      <td>What is the parent taxon of Australosuchus?</td>\n",
       "      <td>crocodilia</td>\n",
       "      <td>plant</td>\n",
       "      <td>The correct answer should be 'crocodilia' as ...</td>\n",
       "      <td>The correct answer is 'crocodilia'. The conte...</td>\n",
       "      <td>Mekosuchinae was a subfamily of crocodiles th...</td>\n",
       "    </tr>\n",
       "    <tr>\n",
       "      <th>3</th>\n",
       "      <td>3</td>\n",
       "      <td>What is the'record_label method man' associate...</td>\n",
       "      <td>loud records</td>\n",
       "      <td>1996</td>\n",
       "      <td>The correct answer should be 'album' as the c...</td>\n",
       "      <td>The correct answer is 'album', as the context...</td>\n",
       "      <td>Wu-Tang Clan's debut album, \"Enter the Wu-Tan...</td>\n",
       "    </tr>\n",
       "    <tr>\n",
       "      <th>4</th>\n",
       "      <td>4</td>\n",
       "      <td>In which administrative territorial entity is ...</td>\n",
       "      <td>raipur district</td>\n",
       "      <td>thailand</td>\n",
       "      <td>The correct answer should be 'chhattisgarh' a...</td>\n",
       "      <td>The correct answer is 'chhattisgarh'. The con...</td>\n",
       "      <td>Chhattisgarh, a state in central India, is ri...</td>\n",
       "    </tr>\n",
       "  </tbody>\n",
       "</table>\n",
       "</div>"
      ],
      "text/plain": [
       "   Unnamed: 0                                              query  \\\n",
       "0           0        What event did Juan Rossell participate in?   \n",
       "1           1     What languages did John Osteen speak or write?   \n",
       "2           2        What is the parent taxon of Australosuchus?   \n",
       "3           3  What is the'record_label method man' associate...   \n",
       "4           4  In which administrative territorial entity is ...   \n",
       "\n",
       "                correct                thesis  \\\n",
       "0  1996 summer olympics  1996 summer olympics   \n",
       "1               english               spanish   \n",
       "2            crocodilia                 plant   \n",
       "3          loud records                  1996   \n",
       "4       raipur district              thailand   \n",
       "\n",
       "                                          antithesis  \\\n",
       "0   The correct answer should be '1996 summer oly...   \n",
       "1   The correct answer should be 'english' as Joh...   \n",
       "2   The correct answer should be 'crocodilia' as ...   \n",
       "3   The correct answer should be 'album' as the c...   \n",
       "4   The correct answer should be 'chhattisgarh' a...   \n",
       "\n",
       "                                       pre-synthesis  \\\n",
       "0   The correct answer is '1996 summer olympics'....   \n",
       "1   The correct answer is 'english', as John Oste...   \n",
       "2   The correct answer is 'crocodilia'. The conte...   \n",
       "3   The correct answer is 'album', as the context...   \n",
       "4   The correct answer is 'chhattisgarh'. The con...   \n",
       "\n",
       "                                             context  \n",
       "0   The 2004 Summer Olympic Games, held in Athens...  \n",
       "1   Christianity is a monotheistic religion based...  \n",
       "2   Mekosuchinae was a subfamily of crocodiles th...  \n",
       "3   Wu-Tang Clan's debut album, \"Enter the Wu-Tan...  \n",
       "4   Chhattisgarh, a state in central India, is ri...  "
      ]
     },
     "execution_count": 3,
     "metadata": {},
     "output_type": "execute_result"
    }
   ],
   "source": [
    "mini.head()"
   ]
  },
  {
   "cell_type": "code",
   "execution_count": 45,
   "id": "99c5a518-8bb8-4f27-bd57-8aee38c45579",
   "metadata": {},
   "outputs": [],
   "source": [
    "two = two.drop(['Unnamed: 0'], axis = 1)"
   ]
  },
  {
   "cell_type": "code",
   "execution_count": 4,
   "id": "9c01fc2d-2fd0-4f64-846c-32ce8c98e03c",
   "metadata": {},
   "outputs": [],
   "source": [
    "from langchain_core.prompts import PromptTemplate\n",
    "from operator import itemgetter\n",
    "\n",
    "# prompt augmentation for the (format of the) synthesis:\n",
    "prompt_template = PromptTemplate.from_template(\n",
    "\"\"\"You are a multiple-choice question answering assistant.\n",
    "Choose the most proper option between {options} that best matches with the suggestion. \n",
    "\n",
    "Question: {question}\n",
    "Context: {critique}\n",
    "Sources: {context}\n",
    "\n",
    "Assistant:\n",
    "\"\"\"\n",
    ")\n",
    "augmentation = {\"question\": itemgetter(\"question\"),\n",
    "                \"options\": itemgetter(\"options\"), \n",
    "                \"critique\": itemgetter(\"critique\"),\n",
    "                \"context\": itemgetter(\"context\"), }\n",
    "synthesis_chain = augmentation | prompt_template "
   ]
  },
  {
   "cell_type": "code",
   "execution_count": 5,
   "id": "a959a18b-7bcc-4dc7-9fec-f7cd6ce38ab4",
   "metadata": {},
   "outputs": [],
   "source": [
    "import ast\n",
    "import re\n",
    "\n",
    "# Definisci una funzione di pulizia per rimuovere caratteri non validi\n",
    "def clean_text(text):\n",
    "    return re.sub(r\"[^\\w\\s.,!?\\-:;()]+\", '', text)\n",
    "\n",
    "def synthesisGeneration(query, merged, pre_answer, sources):\n",
    "    merged = ast.literal_eval(merged)\n",
    "    merged.append('not clear given the context')\n",
    "    augmented_prompt = synthesis_chain.invoke({'question': query, \n",
    "                                            'options': merged,\n",
    "                                            'critique': pre_answer,\n",
    "                                            'context': sources})\n",
    "\n",
    "    normal_string = clean_text(augmented_prompt.text)\n",
    "    ans = new_model + normal_string + select(merged)\n",
    "    return str(ans)\n",
    "\n",
    "def extract_answer_synthesis(text):\n",
    "    # Trova l'indice in cui inizia il testo \"Why or why not the answer is correct:\"\n",
    "    start_index = text.find(\"\\n\\nAssistant:\\n\")\n",
    "\n",
    "    \n",
    "    # Se l'indice è stato trovato, estrai la risposta corretta\n",
    "    if start_index != -1:\n",
    "        start_index += len(\"\\n\\nAssistant:\\n\")\n",
    "        # Estrai il testo dopo \"Why or why not the answer is correct:\"\n",
    "        correct_answer_text = text[start_index:].strip()\n",
    "        return correct_answer_text\n",
    "    else:\n",
    "        return \"The correct answer could not be found.\""
   ]
  },
  {
   "cell_type": "code",
   "execution_count": 6,
   "id": "f57f8c7b-00dd-4cbb-bfac-af836cb11774",
   "metadata": {},
   "outputs": [
    {
     "name": "stderr",
     "output_type": "stream",
     "text": [
      "`flash-attention` package not found, consider installing for better performance: No module named 'flash_attn'.\n",
      "Current `flash-attention` does not support `window_size`. Either upgrade or use `attn_implementation='eager'`.\n"
     ]
    },
    {
     "data": {
      "application/vnd.jupyter.widget-view+json": {
       "model_id": "f47d729471ef4dec8cb895d3775e2be5",
       "version_major": 2,
       "version_minor": 0
      },
      "text/plain": [
       "Loading checkpoint shards:   0%|          | 0/2 [00:00<?, ?it/s]"
      ]
     },
     "metadata": {},
     "output_type": "display_data"
    },
    {
     "name": "stderr",
     "output_type": "stream",
     "text": [
      "/orfeo/cephfs/home/dssc/scandu00/nlp-env/lib64/python3.9/site-packages/guidance/chat.py:73: UserWarning: Chat template {% for message in messages %}{% if message['role'] == 'system' %}{{'<|system|>\n",
      "' + message['content'] + '<|end|>\n",
      "'}}{% elif message['role'] == 'user' %}{{'<|user|>\n",
      "' + message['content'] + '<|end|>\n",
      "'}}{% elif message['role'] == 'assistant' %}{{'<|assistant|>\n",
      "' + message['content'] + '<|end|>\n",
      "'}}{% endif %}{% endfor %}{% if add_generation_prompt %}{{ '<|assistant|>\n",
      "' }}{% else %}{{ eos_token }}{% endif %} was unable to be loaded directly into guidance.\n",
      "                        Defaulting to the ChatML format which may not be optimal for the selected model. \n",
      "                        For best results, create and pass in a `guidance.ChatTemplate` subclass for your model.\n",
      "  warnings.warn(f\"\"\"Chat template {chat_template} was unable to be loaded directly into guidance.\n"
     ]
    }
   ],
   "source": [
    "model = AutoModelForCausalLM.from_pretrained(\n",
    "    \"microsoft/Phi-3-mini-4k-instruct\",\n",
    "    device_map=\"cuda\",\n",
    "    torch_dtype=\"auto\",\n",
    "    trust_remote_code=True,\n",
    ")\n",
    "tokenizer = AutoTokenizer.from_pretrained(\"microsoft/Phi-3-mini-4k-instruct\", use_fast=False)\n",
    "new_model = models.Transformers(model, tokenizer, temperature=0.0)"
   ]
  },
  {
   "cell_type": "code",
   "execution_count": 10,
   "id": "1f9367f6-3ef3-4053-9f3c-7ed91530509d",
   "metadata": {},
   "outputs": [],
   "source": [
    "df = pd.read_csv('wikihop_dataset/wikihop-merged-summarized-test.csv')\n",
    "\n",
    "# select a subset of the queries, just for test:\n",
    "first_queries = df['query']\n",
    "\n",
    "# same for correct answers and distractors:\n",
    "correct_answers = df['answer']\n",
    "possibilities = df['options']\n",
    "\n",
    "# and for the sources:\n",
    "sources = df['sum_supports']"
   ]
  },
  {
   "cell_type": "code",
   "execution_count": null,
   "id": "c988b15f-4fc4-49f2-94bc-fdcacc81f5c4",
   "metadata": {},
   "outputs": [
    {
     "data": {
      "text/html": [
       "<pre style='margin: 0px; padding: 0px; vertical-align: middle; padding-left: 8px; margin-left: -8px; border-radius: 0px; border-left: 1px solid rgba(127, 127, 127, 0.2); white-space: pre-wrap; font-family: ColfaxAI, Arial; font-size: 15px; line-height: 23px;'>You are a multiple-choice question answering assistant.\n",
       "Choose the most proper option between american revolutionary war, cold war, first barbary war, philippines, second barbary war, vietnam, visayas, world war ii, not clear given the context that best matches with the suggestion. \n",
       "\n",
       "Question: In which conflict did Lloyd G. McCarter participate?\n",
       "Context:  The context provided does not mention any conflict or war that Lloyd G. McCarter participated in. The information given is about the state of Chhattisgarh in India, its geographical location, population, and resources. Therefore, it is impossible to determine from the given context which conflict Lloyd G. McCarter participated in. The candidate answer philippines is not supported by the context. end\n",
       "Sources:  Chhattisgarh, a state in central India, is rich in mineral resources, including tin. Tin, a chemical element with the symbol Sn and atomic number 50, is obtained chiefly from the mineral cassiterite, which contains tin dioxide, SnO. Tin shows a chemical similarity to both of its neighbors in group 14, germanium and lead, and has two main oxidation states, 2 and the slightly more stable 4.\n",
       "\n",
       "The state of Chhattisgarh, with a population of 28 million, is the seventh-largest country by area and the second-most populous country in the world. It is bounded by the Indian Ocean on the south, the Arabian Sea on the southwest, and the Bay of Bengal on the southeast. Chhattisgarh shares land borders with Pakistan to the west; China, Nepal, and Bhutan to the northeast; and Myanmar (Burma) and Bangladesh to the east.\n",
       "\n",
       "Chhattisgarhs capital city is Raipur, which is also the administrative headquarters of the district. The state is rich in mineral resources, and there are many wildlife sanctuaries and sightseeing places worth visiting. The district has a population of 30 lakhs.\n",
       "\n",
       "Chhattisgarh is one of the fastest-developing states in India, with provisions made for its expansion and to upgrade infrastructure in the future. The states jurisdiction is governed by the laws of India, which are enforced through social and governmental institutions.\n",
       "\n",
       "In summary, Chhattisgarh is a state in central India, rich in mineral resources, including tin. Its capital city is Raipur, and the state is known for its fast-developing infrastructure and various wildlife sanctuaries and sightseeing places. \n",
       "\n",
       "Assistant:\n",
       "</pre>"
      ],
      "text/plain": [
       "<IPython.core.display.HTML object>"
      ]
     },
     "metadata": {},
     "output_type": "display_data"
    }
   ],
   "source": [
    "syn_answers = []\n",
    "for i in range(len(df)):\n",
    "    syn_answers.append(extract_answer_synthesis(\n",
    "        synthesisGeneration(\n",
    "            first_queries[i], possibilities[i], \n",
    "            mini['pre-synthesis'][i], sources[i])))"
   ]
  },
  {
   "cell_type": "code",
   "execution_count": null,
   "id": "7dd352ea-dd9d-443f-a36a-141e1af3d52a",
   "metadata": {},
   "outputs": [],
   "source": [
    "ant_answers = []\n",
    "for i in range(len(df)):\n",
    "    ant_answers.append(extract_answer_synthesis(\n",
    "        synthesisGeneration(\n",
    "            first_queries[i], possibilities[i], \n",
    "            mini['antithesis'][i], sources[i])))"
   ]
  },
  {
   "cell_type": "code",
   "execution_count": null,
   "id": "a4dfb038-d112-40fc-9c7c-c1410952188e",
   "metadata": {},
   "outputs": [],
   "source": [
    "df = {\n",
    "    'query': first_queries,\n",
    "    'correct': correct_answers,\n",
    "    'thesis': mini['thesis'],\n",
    "    'pre-antithesis': mini['antithesis'],\n",
    "    'antithesis': ant_answers,\n",
    "    'pre-synthesis': mini['pre-synthesis'],\n",
    "    'synthesis': syn_answers,\n",
    "    'context': sources\n",
    "} \n",
    "\n",
    "df = pd.DataFrame(df)"
   ]
  },
  {
   "cell_type": "code",
   "execution_count": null,
   "id": "b72854d3-4e69-4a0b-a1b8-ad8e60cbf56f",
   "metadata": {},
   "outputs": [],
   "source": [
    "def clean_text_final(text):\n",
    "    text = re.sub(r'[^\\w\\s.,!?\\'\"\\-:;()]+', '', text)  # Rimuove i caratteri speciali\n",
    "    text = re.sub(r\"['\\\"-]\", '', text)  # Rimuove apostrofi, virgolette e trattini\n",
    "    text = text.lower()  # Converte in minuscolo\n",
    "    return text"
   ]
  },
  {
   "cell_type": "code",
   "execution_count": null,
   "id": "0c314bdb-36bd-44f4-91b6-d73d2f53eb3d",
   "metadata": {},
   "outputs": [],
   "source": [
    "# Applica la funzione alla colonna 'correct answer'\n",
    "df['correct'] = df['correct'].apply(clean_text_final)\n",
    "df['thesis'] = df['thesis'].apply(clean_text_final)\n",
    "df['antithesis'] = df['antithesis'].apply(clean_text_final)\n",
    "df['synthesis'] = df['synthesis'].apply(clean_text_final)"
   ]
  },
  {
   "cell_type": "code",
   "execution_count": null,
   "id": "d52b8113-0ae8-45a7-987e-e5237a2da836",
   "metadata": {},
   "outputs": [],
   "source": [
    "df.head()"
   ]
  },
  {
   "cell_type": "code",
   "execution_count": null,
   "id": "a7b01b28-d61d-471d-adbe-c2b91965c016",
   "metadata": {},
   "outputs": [],
   "source": [
    "df.to_csv('base-phimini-wikihop-ctx-v2.csv')"
   ]
  },
  {
   "cell_type": "code",
   "execution_count": null,
   "id": "8ad463d8-c0ce-4469-a052-c5f02e5506ef",
   "metadata": {},
   "outputs": [],
   "source": []
  }
 ],
 "metadata": {
  "kernelspec": {
   "display_name": "Python 3 (ipykernel)",
   "language": "python",
   "name": "python3"
  },
  "language_info": {
   "codemirror_mode": {
    "name": "ipython",
    "version": 3
   },
   "file_extension": ".py",
   "mimetype": "text/x-python",
   "name": "python",
   "nbconvert_exporter": "python",
   "pygments_lexer": "ipython3",
   "version": "3.9.18"
  }
 },
 "nbformat": 4,
 "nbformat_minor": 5
}
