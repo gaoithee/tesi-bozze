{
 "cells": [
  {
   "cell_type": "code",
   "execution_count": 1,
   "id": "c07e887f-b83a-4014-a9cd-ad95cefe1517",
   "metadata": {},
   "outputs": [],
   "source": [
    "import datasets\n",
    "from datasets import load_dataset\n",
    "from transformers import AutoTokenizer, AutoModelForCausalLM, BitsAndBytesConfig\n",
    "import json\n",
    "import numpy as np\n",
    "import pandas as pd\n",
    "import torch\n",
    "from transformers import BitsAndBytesConfig"
   ]
  },
  {
   "cell_type": "code",
   "execution_count": null,
   "id": "376dd61d-a8fb-472b-9ba8-5c446b464679",
   "metadata": {},
   "outputs": [],
   "source": [
    "model = AutoModelForCausalLM.from_pretrained(\n",
    "    \"meta-llama/Meta-Llama-3.1-8B-Instruct\",\n",
    "    device_map=\"cuda\",\n",
    "    torch_dtype=\"auto\",\n",
    "    trust_remote_code=True,\n",
    ")\n",
    "tokenizer = AutoTokenizer.from_pretrained(\"meta-llama/Meta-Llama-3.1-8B-Instruct\", use_fast=False)"
   ]
  },
  {
   "cell_type": "code",
   "execution_count": null,
   "id": "5d2c0100-6cc8-411e-ab19-cb7faa37e10f",
   "metadata": {},
   "outputs": [],
   "source": [
    "from transformers import pipeline\n",
    "\n",
    "def produce_prompt():\n",
    "    messages = [ \n",
    "        {\"role\": \"system\", \"content\": \"\"\"\n",
    "        You are a helpful AI assistant. \n",
    "        You are given a question and the relevant context to answer it. Answer briefly to the question with just one of the given options. \n",
    "        \"\"\"}, \n",
    "        {\"role\": \"user\", \"content\": \"\"\"\n",
    "        Question: Which year is Halley's Comet expected to return to the solar system?\n",
    "\n",
    "        Options: [2110, 2045, 2086, 2061]\n",
    "\n",
    "        Context: Astronomers have now linked the comet's appearances to observations dating back more than 2,000 years. Halley was last seen in Earth's skies in 1986 and was met in space by an international fleet of spacecraft. It performs a regular 76-year journey around the Sun.\n",
    "        \"\"\"},\n",
    "    ] \n",
    "    return messages\n",
    "\n",
    "pipe = pipeline( \n",
    "    \"text-generation\", \n",
    "    model=model, \n",
    "    tokenizer=tokenizer, \n",
    ") \n",
    "\n",
    "generation_args = { \n",
    "    \"max_new_tokens\": 50, \n",
    "    \"return_full_text\": False, \n",
    "    \"temperature\": 0.2, \n",
    "    \"do_sample\": False, \n",
    "} "
   ]
  },
  {
   "cell_type": "code",
   "execution_count": null,
   "id": "0951a26d-7b08-4119-a4c9-755a445b4743",
   "metadata": {},
   "outputs": [],
   "source": [
    "output = pipe(produce_prompt(), **generation_args) \n",
    "print(output[0]['generated_text']) "
   ]
  },
  {
   "cell_type": "code",
   "execution_count": 2,
   "id": "4743c123-4b67-4e8a-a897-5118f73c4874",
   "metadata": {},
   "outputs": [
    {
     "data": {
      "application/vnd.jupyter.widget-view+json": {
       "model_id": "43744448cfa84444b317e101eaf65ec8",
       "version_major": 2,
       "version_minor": 0
      },
      "text/plain": [
       "Loading checkpoint shards:   0%|          | 0/4 [00:00<?, ?it/s]"
      ]
     },
     "metadata": {},
     "output_type": "display_data"
    }
   ],
   "source": [
    "tokenizer = AutoTokenizer.from_pretrained(\"google/gemma-2-9b-it\")\n",
    "model = AutoModelForCausalLM.from_pretrained(\n",
    "    \"google/gemma-2-9b-it\",\n",
    "    device_map=\"auto\",\n",
    "    torch_dtype=torch.bfloat16,\n",
    ")"
   ]
  },
  {
   "cell_type": "code",
   "execution_count": 3,
   "id": "ac38086c-9500-4661-9414-936d25bd4bfd",
   "metadata": {},
   "outputs": [
    {
     "name": "stderr",
     "output_type": "stream",
     "text": [
      "/orfeo/cephfs/home/dssc/scandu00/nlp-env/lib64/python3.9/site-packages/transformers/generation/configuration_utils.py:567: UserWarning: `do_sample` is set to `False`. However, `temperature` is set to `0.2` -- this flag is only used in sample-based generation modes. You should set `do_sample=True` or unset `temperature`.\n",
      "  warnings.warn(\n"
     ]
    },
    {
     "name": "stdout",
     "output_type": "stream",
     "text": [
      "<bos>\n",
      "You are a helpful AI assistant. \n",
      "You are given a question and the relevant context to answer it. Answer briefly to the question with just one of the given options. \n",
      "\n",
      "Question: Which year is Halley's Comet expected to return to the solar system?\n",
      "\n",
      "Options: [2110, 2045, 2086, 2061]\n",
      "\n",
      "Context: Astronomers have now linked the comet's appearances to observations dating back more than 2,000 years. Halley was last seen in Earth's skies in 1986 and was met in space by an international fleet of spacecraft. It performs a regular 76-year journey around the Sun.\n",
      "\n",
      "Assistant:\n",
      "2061 \n",
      "<end_of_turn><eos>\n"
     ]
    }
   ],
   "source": [
    "input_text = \"\"\"\n",
    "You are a helpful AI assistant. \n",
    "You are given a question and the relevant context to answer it. Answer briefly to the question with just one of the given options. \n",
    "\n",
    "Question: Which year is Halley's Comet expected to return to the solar system?\n",
    "\n",
    "Options: [2110, 2045, 2086, 2061]\n",
    "\n",
    "Context: Astronomers have now linked the comet's appearances to observations dating back more than 2,000 years. Halley was last seen in Earth's skies in 1986 and was met in space by an international fleet of spacecraft. It performs a regular 76-year journey around the Sun.\n",
    "\n",
    "Assistant:\n",
    "\"\"\"\n",
    "input_ids = tokenizer(input_text, return_tensors=\"pt\").to(\"cuda\")\n",
    "\n",
    "outputs = model.generate(**input_ids, max_new_tokens=50, temperature=0.2)\n",
    "print(tokenizer.decode(outputs[0]))"
   ]
  },
  {
   "cell_type": "code",
   "execution_count": 1,
   "id": "6afbbdb4-1af3-4b8f-82d5-0c2d5ff9293b",
   "metadata": {},
   "outputs": [],
   "source": [
    "import pandas as pd"
   ]
  },
  {
   "cell_type": "code",
   "execution_count": 2,
   "id": "617f3280-c3a6-4648-9c9e-978104ee0ec3",
   "metadata": {},
   "outputs": [
    {
     "data": {
      "text/plain": [
       "'[\\' \"Christian\" derives from the Koine Greek word \"Christós\" (), a translation of the Biblical Hebrew term \"mashiach\"\\', \\' It is the largest congregation in the United States, averaging about 52,000 attendees per week\\', \\' The 16,800-seat Lakewood Church Central Campus, home to four English-language services and two Spanish-language services per week, is located at the former Compaq Center\\', \\' Other metropolises include Guadalajara, Monterrey, Puebla, Toluca, Tijuana and León\\']'"
      ]
     },
     "execution_count": 2,
     "metadata": {},
     "output_type": "execute_result"
    }
   ],
   "source": [
    "df = pd.read_csv('ultramega-test-wikihop-2308.csv')\n",
    "df['new'][0]"
   ]
  },
  {
   "cell_type": "code",
   "execution_count": 11,
   "id": "bef9a92b-ef09-4fd9-88dd-aa8657b4492d",
   "metadata": {},
   "outputs": [
    {
     "data": {
      "text/plain": [
       "'Christian\" derives from the Koine Greek word \"Christós\" (), a translation of the Biblical Hebrew term \"mashiach. It is the largest congregation in the United States, averaging about 52,000 attendees per week. The 16,800-seat Lakewood Church Central Campus, home to four English-language services and two Spanish-language services per week, is located at the former Compaq Center. Other metropolises include Guadalajara, Monterrey, Puebla, Toluca, Tijuana and León'"
      ]
     },
     "execution_count": 11,
     "metadata": {},
     "output_type": "execute_result"
    }
   ],
   "source": [
    "import ast \n",
    "\n",
    "test = ast.literal_eval(df['new'][0])\n",
    "\n",
    "clean_and_merge(test)"
   ]
  },
  {
   "cell_type": "code",
   "execution_count": 13,
   "id": "56633fc7-e119-4a2a-8731-e4fd51f2e7a9",
   "metadata": {},
   "outputs": [],
   "source": [
    "def clean_and_merge(dataset):\n",
    "\n",
    "    dataset = ast.literal_eval(dataset)\n",
    "    # Remove leading and trailing backslashes and quotes from each element\n",
    "    cleaned_elements = [element.strip(\"[]' \\\"\") for element in dataset]\n",
    "\n",
    "    # Join the elements with '. \\n ' as a separator\n",
    "    merged_string = '. '.join(cleaned_elements)\n",
    "    \n",
    "    return merged_string"
   ]
  },
  {
   "cell_type": "code",
   "execution_count": 14,
   "id": "9aec64f0-70f0-430d-8e71-ab09518ed0df",
   "metadata": {},
   "outputs": [],
   "source": [
    "df['pecore'] = df['new'].apply(clean_and_merge)"
   ]
  },
  {
   "cell_type": "code",
   "execution_count": 15,
   "id": "2ef88078-4e53-41e7-a89b-44eb843c8e35",
   "metadata": {},
   "outputs": [
    {
     "data": {
      "text/html": [
       "<div>\n",
       "<style scoped>\n",
       "    .dataframe tbody tr th:only-of-type {\n",
       "        vertical-align: middle;\n",
       "    }\n",
       "\n",
       "    .dataframe tbody tr th {\n",
       "        vertical-align: top;\n",
       "    }\n",
       "\n",
       "    .dataframe thead th {\n",
       "        text-align: right;\n",
       "    }\n",
       "</style>\n",
       "<table border=\"1\" class=\"dataframe\">\n",
       "  <thead>\n",
       "    <tr style=\"text-align: right;\">\n",
       "      <th></th>\n",
       "      <th>Unnamed: 0.1</th>\n",
       "      <th>Unnamed: 0</th>\n",
       "      <th>supports</th>\n",
       "      <th>query</th>\n",
       "      <th>answer_y</th>\n",
       "      <th>options_y</th>\n",
       "      <th>sum_supports</th>\n",
       "      <th>new</th>\n",
       "      <th>pecore</th>\n",
       "    </tr>\n",
       "  </thead>\n",
       "  <tbody>\n",
       "    <tr>\n",
       "      <th>0</th>\n",
       "      <td>0</td>\n",
       "      <td>0</td>\n",
       "      <td>A Christian (or ) is a person who follows or a...</td>\n",
       "      <td>What languages did John Osteen speak or write?</td>\n",
       "      <td>english</td>\n",
       "      <td>['english', 'greek', 'koine greek', 'nahuatl',...</td>\n",
       "      <td>Christianity is a monotheistic religion based...</td>\n",
       "      <td>[' \"Christian\" derives from the Koine Greek wo...</td>\n",
       "      <td>Christian\" derives from the Koine Greek word \"...</td>\n",
       "    </tr>\n",
       "    <tr>\n",
       "      <th>1</th>\n",
       "      <td>1</td>\n",
       "      <td>1</td>\n",
       "      <td>Anne Perry (born 28 October 1938 as Juliet Mar...</td>\n",
       "      <td>What was Thomas Pitt's role in the context of ...</td>\n",
       "      <td>fictional character</td>\n",
       "      <td>['character', 'crime', 'fiction', 'fictional c...</td>\n",
       "      <td>Anne Perry is an English author best known fo...</td>\n",
       "      <td>['Anne Perry (born 28 October 1938 as Juliet M...</td>\n",
       "      <td>Anne Perry (born 28 October 1938 as Juliet Mar...</td>\n",
       "    </tr>\n",
       "    <tr>\n",
       "      <th>2</th>\n",
       "      <td>2</td>\n",
       "      <td>2</td>\n",
       "      <td>Key Center North Tower is a high-rise located ...</td>\n",
       "      <td>In which administrative territorial entity is ...</td>\n",
       "      <td>new york</td>\n",
       "      <td>['buffalo', 'center', 'erie', 'erie county', '...</td>\n",
       "      <td>The Key Center North Tower and Key Center Sou...</td>\n",
       "      <td>['Key Center North Tower is a high-rise locate...</td>\n",
       "      <td>Key Center North Tower is a high-rise located ...</td>\n",
       "    </tr>\n",
       "    <tr>\n",
       "      <th>3</th>\n",
       "      <td>3</td>\n",
       "      <td>3</td>\n",
       "      <td>The National Football League (NFL) is a profes...</td>\n",
       "      <td>How did Joe Don Looney meet his demise?</td>\n",
       "      <td>accident</td>\n",
       "      <td>['accident', 'knockout']</td>\n",
       "      <td>The National Football League (NFL) is a profe...</td>\n",
       "      <td>['The National Football League (NFL) is a prof...</td>\n",
       "      <td>The National Football League (NFL) is a profes...</td>\n",
       "    </tr>\n",
       "    <tr>\n",
       "      <th>4</th>\n",
       "      <td>4</td>\n",
       "      <td>4</td>\n",
       "      <td>Professional ice hockey has existed since the ...</td>\n",
       "      <td>What sport did the Louisiana IceGators play?</td>\n",
       "      <td>ice hockey</td>\n",
       "      <td>['hockey', 'ice hockey']</td>\n",
       "      <td>Professional ice hockey originated in the Uni...</td>\n",
       "      <td>['Professional ice hockey has existed since th...</td>\n",
       "      <td>Professional ice hockey has existed since the ...</td>\n",
       "    </tr>\n",
       "  </tbody>\n",
       "</table>\n",
       "</div>"
      ],
      "text/plain": [
       "   Unnamed: 0.1  Unnamed: 0  \\\n",
       "0             0           0   \n",
       "1             1           1   \n",
       "2             2           2   \n",
       "3             3           3   \n",
       "4             4           4   \n",
       "\n",
       "                                            supports  \\\n",
       "0  A Christian (or ) is a person who follows or a...   \n",
       "1  Anne Perry (born 28 October 1938 as Juliet Mar...   \n",
       "2  Key Center North Tower is a high-rise located ...   \n",
       "3  The National Football League (NFL) is a profes...   \n",
       "4  Professional ice hockey has existed since the ...   \n",
       "\n",
       "                                               query             answer_y  \\\n",
       "0     What languages did John Osteen speak or write?              english   \n",
       "1  What was Thomas Pitt's role in the context of ...  fictional character   \n",
       "2  In which administrative territorial entity is ...             new york   \n",
       "3            How did Joe Don Looney meet his demise?             accident   \n",
       "4       What sport did the Louisiana IceGators play?           ice hockey   \n",
       "\n",
       "                                           options_y  \\\n",
       "0  ['english', 'greek', 'koine greek', 'nahuatl',...   \n",
       "1  ['character', 'crime', 'fiction', 'fictional c...   \n",
       "2  ['buffalo', 'center', 'erie', 'erie county', '...   \n",
       "3                           ['accident', 'knockout']   \n",
       "4                           ['hockey', 'ice hockey']   \n",
       "\n",
       "                                        sum_supports  \\\n",
       "0   Christianity is a monotheistic religion based...   \n",
       "1   Anne Perry is an English author best known fo...   \n",
       "2   The Key Center North Tower and Key Center Sou...   \n",
       "3   The National Football League (NFL) is a profe...   \n",
       "4   Professional ice hockey originated in the Uni...   \n",
       "\n",
       "                                                 new  \\\n",
       "0  [' \"Christian\" derives from the Koine Greek wo...   \n",
       "1  ['Anne Perry (born 28 October 1938 as Juliet M...   \n",
       "2  ['Key Center North Tower is a high-rise locate...   \n",
       "3  ['The National Football League (NFL) is a prof...   \n",
       "4  ['Professional ice hockey has existed since th...   \n",
       "\n",
       "                                              pecore  \n",
       "0  Christian\" derives from the Koine Greek word \"...  \n",
       "1  Anne Perry (born 28 October 1938 as Juliet Mar...  \n",
       "2  Key Center North Tower is a high-rise located ...  \n",
       "3  The National Football League (NFL) is a profes...  \n",
       "4  Professional ice hockey has existed since the ...  "
      ]
     },
     "execution_count": 15,
     "metadata": {},
     "output_type": "execute_result"
    }
   ],
   "source": [
    "df.head()"
   ]
  },
  {
   "cell_type": "code",
   "execution_count": 16,
   "id": "9facf294-5942-405d-a6a6-f230d58e5e38",
   "metadata": {},
   "outputs": [
    {
     "data": {
      "text/plain": [
       "'Christian\" derives from the Koine Greek word \"Christós\" (), a translation of the Biblical Hebrew term \"mashiach. It is the largest congregation in the United States, averaging about 52,000 attendees per week. The 16,800-seat Lakewood Church Central Campus, home to four English-language services and two Spanish-language services per week, is located at the former Compaq Center. Other metropolises include Guadalajara, Monterrey, Puebla, Toluca, Tijuana and León'"
      ]
     },
     "execution_count": 16,
     "metadata": {},
     "output_type": "execute_result"
    }
   ],
   "source": [
    "df['pecore'][0]"
   ]
  },
  {
   "cell_type": "code",
   "execution_count": 17,
   "id": "3e6470a0-c783-4260-9968-5c7cf1272c79",
   "metadata": {},
   "outputs": [],
   "source": [
    "df.to_csv('ultramega-test-wikihop-0109.csv')"
   ]
  },
  {
   "cell_type": "code",
   "execution_count": null,
   "id": "7139530e-ee10-42af-80a9-7fe9035cda8c",
   "metadata": {},
   "outputs": [],
   "source": []
  }
 ],
 "metadata": {
  "kernelspec": {
   "display_name": "Python 3 (ipykernel)",
   "language": "python",
   "name": "python3"
  },
  "language_info": {
   "codemirror_mode": {
    "name": "ipython",
    "version": 3
   },
   "file_extension": ".py",
   "mimetype": "text/x-python",
   "name": "python",
   "nbconvert_exporter": "python",
   "pygments_lexer": "ipython3",
   "version": "3.9.18"
  }
 },
 "nbformat": 4,
 "nbformat_minor": 5
}
