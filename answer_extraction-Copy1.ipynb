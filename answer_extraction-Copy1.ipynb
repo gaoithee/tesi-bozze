{
 "cells": [
  {
   "cell_type": "code",
   "execution_count": 42,
   "id": "4aad120c-7468-45a3-943a-6a8a6504f978",
   "metadata": {},
   "outputs": [],
   "source": [
    "import pandas as pd\n",
    "\n",
    "mini = pd.read_csv('purecot-gemma9b-wikihop.csv')\n",
    "# med = pd.read_csv('cot-phimedium-wikihop-v2.csv')\n",
    "# two = pd.read_csv('base-gemma-2b-wikihop.csv')\n",
    "# nine = pd.read_csv('base-gemma-9b-wikihop.csv')"
   ]
  },
  {
   "cell_type": "code",
   "execution_count": 2,
   "id": "0954dd0a-9610-45d0-94a3-8de4c9774a3f",
   "metadata": {},
   "outputs": [
    {
     "name": "stderr",
     "output_type": "stream",
     "text": [
      "/orfeo/cephfs/home/dssc/scandu00/nlp-env/lib64/python3.9/site-packages/networkx/utils/backends.py:135: RuntimeWarning: networkx backend defined more than once: nx-loopback\n",
      "  backends.update(_get_backends(\"networkx.backends\"))\n"
     ]
    }
   ],
   "source": [
    "import transformers\n",
    "from transformers import AutoModelForCausalLM, AutoTokenizer\n",
    "from guidance import models, select"
   ]
  },
  {
   "cell_type": "code",
   "execution_count": 3,
   "id": "24e3b677-a013-42f3-822e-cac3b3ca49a6",
   "metadata": {},
   "outputs": [
    {
     "data": {
      "text/html": [
       "<div>\n",
       "<style scoped>\n",
       "    .dataframe tbody tr th:only-of-type {\n",
       "        vertical-align: middle;\n",
       "    }\n",
       "\n",
       "    .dataframe tbody tr th {\n",
       "        vertical-align: top;\n",
       "    }\n",
       "\n",
       "    .dataframe thead th {\n",
       "        text-align: right;\n",
       "    }\n",
       "</style>\n",
       "<table border=\"1\" class=\"dataframe\">\n",
       "  <thead>\n",
       "    <tr style=\"text-align: right;\">\n",
       "      <th></th>\n",
       "      <th>Unnamed: 0</th>\n",
       "      <th>query</th>\n",
       "      <th>correct</th>\n",
       "      <th>thesis</th>\n",
       "      <th>antithesis</th>\n",
       "      <th>pre-synthesis</th>\n",
       "      <th>oracle</th>\n",
       "      <th>context</th>\n",
       "    </tr>\n",
       "  </thead>\n",
       "  <tbody>\n",
       "    <tr>\n",
       "      <th>0</th>\n",
       "      <td>0</td>\n",
       "      <td>What event did Juan Rossell participate in?</td>\n",
       "      <td>1996 summer olympics</td>\n",
       "      <td>1996 summer olympics</td>\n",
       "      <td>The most correct answer is **1996 summer olymp...</td>\n",
       "      <td>The most correct answer is **1996 summer olymp...</td>\n",
       "      <td>1996 summer olympics</td>\n",
       "      <td>The 2004 Summer Olympic Games, held in Athens...</td>\n",
       "    </tr>\n",
       "    <tr>\n",
       "      <th>1</th>\n",
       "      <td>1</td>\n",
       "      <td>What languages did John Osteen speak or write?</td>\n",
       "      <td>english</td>\n",
       "      <td>nahuatl</td>\n",
       "      <td>The most correct answer is **english**. \\n\\nWh...</td>\n",
       "      <td>The most correct answer is **english**. \\n\\nTh...</td>\n",
       "      <td>english</td>\n",
       "      <td>Christianity is a monotheistic religion based...</td>\n",
       "    </tr>\n",
       "    <tr>\n",
       "      <th>2</th>\n",
       "      <td>2</td>\n",
       "      <td>What is the parent taxon of Australosuchus?</td>\n",
       "      <td>crocodilia</td>\n",
       "      <td>animal</td>\n",
       "      <td>The most correct answer is **'crocodilia'**. \\...</td>\n",
       "      <td>You are absolutely correct! \\n\\nThe most corre...</td>\n",
       "      <td>crocodilia</td>\n",
       "      <td>Mekosuchinae was a subfamily of crocodiles th...</td>\n",
       "    </tr>\n",
       "    <tr>\n",
       "      <th>3</th>\n",
       "      <td>3</td>\n",
       "      <td>What is the'record_label method man' associate...</td>\n",
       "      <td>loud records</td>\n",
       "      <td>1995</td>\n",
       "      <td>The most correct answer is **'epic records'**....</td>\n",
       "      <td>You are absolutely correct! \\n\\nThe most corre...</td>\n",
       "      <td>loud records</td>\n",
       "      <td>Wu-Tang Clan's debut album, \"Enter the Wu-Tan...</td>\n",
       "    </tr>\n",
       "    <tr>\n",
       "      <th>4</th>\n",
       "      <td>4</td>\n",
       "      <td>In which administrative territorial entity is ...</td>\n",
       "      <td>raipur district</td>\n",
       "      <td>new delhi</td>\n",
       "      <td>The correct answer is **chhattisgarh**. \\n\\nTh...</td>\n",
       "      <td>The most correct answer is **chhattisgarh**. \\...</td>\n",
       "      <td>raipur district</td>\n",
       "      <td>Chhattisgarh, a state in central India, is ri...</td>\n",
       "    </tr>\n",
       "  </tbody>\n",
       "</table>\n",
       "</div>"
      ],
      "text/plain": [
       "   Unnamed: 0                                              query  \\\n",
       "0           0        What event did Juan Rossell participate in?   \n",
       "1           1     What languages did John Osteen speak or write?   \n",
       "2           2        What is the parent taxon of Australosuchus?   \n",
       "3           3  What is the'record_label method man' associate...   \n",
       "4           4  In which administrative territorial entity is ...   \n",
       "\n",
       "                correct                thesis  \\\n",
       "0  1996 summer olympics  1996 summer olympics   \n",
       "1               english               nahuatl   \n",
       "2            crocodilia                animal   \n",
       "3          loud records                  1995   \n",
       "4       raipur district             new delhi   \n",
       "\n",
       "                                          antithesis  \\\n",
       "0  The most correct answer is **1996 summer olymp...   \n",
       "1  The most correct answer is **english**. \\n\\nWh...   \n",
       "2  The most correct answer is **'crocodilia'**. \\...   \n",
       "3  The most correct answer is **'epic records'**....   \n",
       "4  The correct answer is **chhattisgarh**. \\n\\nTh...   \n",
       "\n",
       "                                       pre-synthesis                oracle  \\\n",
       "0  The most correct answer is **1996 summer olymp...  1996 summer olympics   \n",
       "1  The most correct answer is **english**. \\n\\nTh...               english   \n",
       "2  You are absolutely correct! \\n\\nThe most corre...            crocodilia   \n",
       "3  You are absolutely correct! \\n\\nThe most corre...          loud records   \n",
       "4  The most correct answer is **chhattisgarh**. \\...       raipur district   \n",
       "\n",
       "                                             context  \n",
       "0   The 2004 Summer Olympic Games, held in Athens...  \n",
       "1   Christianity is a monotheistic religion based...  \n",
       "2   Mekosuchinae was a subfamily of crocodiles th...  \n",
       "3   Wu-Tang Clan's debut album, \"Enter the Wu-Tan...  \n",
       "4   Chhattisgarh, a state in central India, is ri...  "
      ]
     },
     "execution_count": 3,
     "metadata": {},
     "output_type": "execute_result"
    }
   ],
   "source": [
    "mini.head()"
   ]
  },
  {
   "cell_type": "code",
   "execution_count": 45,
   "id": "99c5a518-8bb8-4f27-bd57-8aee38c45579",
   "metadata": {},
   "outputs": [],
   "source": [
    "two = two.drop(['Unnamed: 0'], axis = 1)"
   ]
  },
  {
   "cell_type": "code",
   "execution_count": 4,
   "id": "9c01fc2d-2fd0-4f64-846c-32ce8c98e03c",
   "metadata": {},
   "outputs": [],
   "source": [
    "from langchain_core.prompts import PromptTemplate\n",
    "from operator import itemgetter\n",
    "\n",
    "# prompt augmentation for the (format of the) synthesis:\n",
    "prompt_template = PromptTemplate.from_template(\n",
    "\"\"\"You are a multiple-choice question answering assistant.\n",
    "Choose the most proper option between {options} that best matches with the suggestion. \n",
    "\n",
    "Question: {question}\n",
    "Context: {critique}\n",
    "Sources: {context}\n",
    "\n",
    "Assistant:\n",
    "\"\"\"\n",
    ")\n",
    "augmentation = {\"question\": itemgetter(\"question\"),\n",
    "                \"options\": itemgetter(\"options\"), \n",
    "                \"critique\": itemgetter(\"critique\"),\n",
    "                \"context\": itemgetter(\"context\"), }\n",
    "synthesis_chain = augmentation | prompt_template "
   ]
  },
  {
   "cell_type": "code",
   "execution_count": 5,
   "id": "a959a18b-7bcc-4dc7-9fec-f7cd6ce38ab4",
   "metadata": {},
   "outputs": [],
   "source": [
    "import ast\n",
    "import re\n",
    "\n",
    "# Definisci una funzione di pulizia per rimuovere caratteri non validi\n",
    "def clean_text(text):\n",
    "    return re.sub(r\"[^\\w\\s.,!?\\-:;()]+\", '', text)\n",
    "\n",
    "def synthesisGeneration(query, merged, pre_answer, sources):\n",
    "    merged = ast.literal_eval(merged)\n",
    "    merged.append('not clear given the context')\n",
    "    augmented_prompt = synthesis_chain.invoke({'question': query, \n",
    "                                            'options': merged,\n",
    "                                            'critique': pre_answer,\n",
    "                                            'context': sources})\n",
    "\n",
    "    normal_string = clean_text(augmented_prompt.text)\n",
    "    ans = new_model + normal_string + select(merged)\n",
    "    return str(ans)\n",
    "\n",
    "def extract_answer_synthesis(text):\n",
    "    # Trova l'indice in cui inizia il testo \"Why or why not the answer is correct:\"\n",
    "    start_index = text.find(\"\\n\\nAssistant:\\n\")\n",
    "\n",
    "    \n",
    "    # Se l'indice è stato trovato, estrai la risposta corretta\n",
    "    if start_index != -1:\n",
    "        start_index += len(\"\\n\\nAssistant:\\n\")\n",
    "        # Estrai il testo dopo \"Why or why not the answer is correct:\"\n",
    "        correct_answer_text = text[start_index:].strip()\n",
    "        return correct_answer_text\n",
    "    else:\n",
    "        return \"The correct answer could not be found.\""
   ]
  },
  {
   "cell_type": "code",
   "execution_count": 6,
   "id": "f57f8c7b-00dd-4cbb-bfac-af836cb11774",
   "metadata": {},
   "outputs": [
    {
     "name": "stderr",
     "output_type": "stream",
     "text": [
      "`flash-attention` package not found, consider installing for better performance: No module named 'flash_attn'.\n",
      "Current `flash-attention` does not support `window_size`. Either upgrade or use `attn_implementation='eager'`.\n"
     ]
    },
    {
     "data": {
      "application/vnd.jupyter.widget-view+json": {
       "model_id": "1f56285ce78242eabafb4d983ec14aa3",
       "version_major": 2,
       "version_minor": 0
      },
      "text/plain": [
       "Loading checkpoint shards:   0%|          | 0/2 [00:00<?, ?it/s]"
      ]
     },
     "metadata": {},
     "output_type": "display_data"
    },
    {
     "name": "stderr",
     "output_type": "stream",
     "text": [
      "/orfeo/cephfs/home/dssc/scandu00/nlp-env/lib64/python3.9/site-packages/guidance/chat.py:73: UserWarning: Chat template {% for message in messages %}{% if message['role'] == 'system' %}{{'<|system|>\n",
      "' + message['content'] + '<|end|>\n",
      "'}}{% elif message['role'] == 'user' %}{{'<|user|>\n",
      "' + message['content'] + '<|end|>\n",
      "'}}{% elif message['role'] == 'assistant' %}{{'<|assistant|>\n",
      "' + message['content'] + '<|end|>\n",
      "'}}{% endif %}{% endfor %}{% if add_generation_prompt %}{{ '<|assistant|>\n",
      "' }}{% else %}{{ eos_token }}{% endif %} was unable to be loaded directly into guidance.\n",
      "                        Defaulting to the ChatML format which may not be optimal for the selected model. \n",
      "                        For best results, create and pass in a `guidance.ChatTemplate` subclass for your model.\n",
      "  warnings.warn(f\"\"\"Chat template {chat_template} was unable to be loaded directly into guidance.\n"
     ]
    }
   ],
   "source": [
    "model = AutoModelForCausalLM.from_pretrained(\n",
    "    \"microsoft/Phi-3-mini-4k-instruct\",\n",
    "    device_map=\"cuda\",\n",
    "    torch_dtype=\"auto\",\n",
    "    trust_remote_code=True,\n",
    ")\n",
    "tokenizer = AutoTokenizer.from_pretrained(\"microsoft/Phi-3-mini-4k-instruct\", use_fast=False)\n",
    "new_model = models.Transformers(model, tokenizer, temperature=0.0)"
   ]
  },
  {
   "cell_type": "code",
   "execution_count": 7,
   "id": "1f9367f6-3ef3-4053-9f3c-7ed91530509d",
   "metadata": {},
   "outputs": [],
   "source": [
    "df = pd.read_csv('wikihop_dataset/wikihop-merged-summarized-test.csv')\n",
    "\n",
    "# select a subset of the queries, just for test:\n",
    "first_queries = df['query']\n",
    "\n",
    "# same for correct answers and distractors:\n",
    "correct_answers = df['answer']\n",
    "possibilities = df['options']\n",
    "\n",
    "# and for the sources:\n",
    "sources = df['sum_supports']"
   ]
  },
  {
   "cell_type": "code",
   "execution_count": 43,
   "id": "c988b15f-4fc4-49f2-94bc-fdcacc81f5c4",
   "metadata": {},
   "outputs": [
    {
     "data": {
      "text/html": [
       "<pre style='margin: 0px; padding: 0px; vertical-align: middle; padding-left: 8px; margin-left: -8px; border-radius: 0px; border-left: 1px solid rgba(127, 127, 127, 0.2); white-space: pre-wrap; font-family: ColfaxAI, Arial; font-size: 15px; line-height: 23px;'>You are a multiple-choice question answering assistant.\n",
       "Choose the most proper option between antarctic, arequipa, argentina, atlantic ocean, bolivia, brazil, chile, colombia, ecuador, france, guadeloupe, haiti, martinique, peru, saint martin, world, not clear given the context that best matches with the suggestion. \n",
       "\n",
       "Question: Which country is Saramierza located in?\n",
       "Context: The provided context discusses the Ozarks region in the United States, specifically focusing on Missouri.There is no mention of Saramierza or any of the listed countries. \n",
       "\n",
       "Therefore, none of the provided options can be definitively determined as the correct location of Saramierza based on the given context.\n",
       "Sources:  The Ozarks, also known as the Ozark Mountains, is a physiographic and geologic highland region in the central United States, primarily in Arkansas, Missouri, and Oklahoma. The Ozarks cover a significant portion of southern Missouri, extending as far northeast as the southwestern suburbs of St. Louis. In Arkansas, a large portion is contained within the northwestern and northcentral region. The Ozarks are also home to the tallgrass prairie, an ecosystem native to central North America. The Mississippi River, the largest river in North America, flows through the state of Missouri, which achieved statehood in 1821. Missouri is the eighteenth most populous state in the U.S., with over six million residents. The state is geographically diverse, with the Northern Plains, the Ozarks, and the Mississippi River Delta. The states capital is Jefferson City, and its largest urban areas are St. Louis, Kansas City, Springfield, and Columbia. St. Louis is an independent city and major U.S. port, built along the western bank of the Mississippi River. Judith K. Moriarty, the first woman to serve as Missouri Secretary of State, was removed from office in 1994 following her impeachment by the Missouri House of Representatives. The Missouri Bootheel is the southeasternmost part of the state, extending south of 3630 north latitude. The largest city in the region is Kennett. \n",
       "\n",
       "Assistant:\n",
       "<span style='background-color: rgba(0.0, 165.0, 0, 0.15); border-radius: 3px;' title='1.0'>not</span> clear given the context</pre>"
      ],
      "text/plain": [
       "<IPython.core.display.HTML object>"
      ]
     },
     "metadata": {},
     "output_type": "display_data"
    }
   ],
   "source": [
    "syn_answers = []\n",
    "for i in range(len(df)):\n",
    "    syn_answers.append(extract_answer_synthesis(\n",
    "        synthesisGeneration(\n",
    "            first_queries[i], possibilities[i], \n",
    "            mini['cot'][i], sources[i])))"
   ]
  },
  {
   "cell_type": "code",
   "execution_count": null,
   "id": "7dd352ea-dd9d-443f-a36a-141e1af3d52a",
   "metadata": {},
   "outputs": [],
   "source": [
    "ant_answers = []\n",
    "for i in range(len(df)):\n",
    "    ant_answers.append(extract_answer_synthesis(\n",
    "        synthesisGeneration(\n",
    "            first_queries[i], possibilities[i], \n",
    "            mini['antithesis'][i], sources[i])))"
   ]
  },
  {
   "cell_type": "code",
   "execution_count": 38,
   "id": "a4dfb038-d112-40fc-9c7c-c1410952188e",
   "metadata": {},
   "outputs": [],
   "source": [
    "df = {\n",
    "    'query': first_queries,\n",
    "    'correct': correct_answers,\n",
    "#    'thesis': mini['thesis'],\n",
    "#    'pre-antithesis': mini['antithesis'],\n",
    "#    'antithesis': ant_answers,\n",
    "#    'pre-synthesis': mini['pre-synthesis'],\n",
    "    'cot': mini['cot'],\n",
    "    'synthesis': syn_answers,\n",
    "    'context': sources\n",
    "} \n",
    "\n",
    "df = pd.DataFrame(df)"
   ]
  },
  {
   "cell_type": "code",
   "execution_count": 27,
   "id": "b72854d3-4e69-4a0b-a1b8-ad8e60cbf56f",
   "metadata": {},
   "outputs": [],
   "source": [
    "def clean_text_final(text):\n",
    "    text = re.sub(r'[^\\w\\s.,!?\\'\"\\-:;()]+', '', text)  # Rimuove i caratteri speciali\n",
    "    text = re.sub(r\"['\\\"-]\", '', text)  # Rimuove apostrofi, virgolette e trattini\n",
    "    text = text.lower()  # Converte in minuscolo\n",
    "    return text"
   ]
  },
  {
   "cell_type": "code",
   "execution_count": 39,
   "id": "0c314bdb-36bd-44f4-91b6-d73d2f53eb3d",
   "metadata": {},
   "outputs": [],
   "source": [
    "# Applica la funzione alla colonna 'correct answer'\n",
    "df['correct'] = df['correct'].apply(clean_text_final)\n",
    "# df['thesis'] = df['thesis'].apply(clean_text_final)\n",
    "# df['antithesis'] = df['antithesis'].apply(clean_text_final)\n",
    "df['synthesis'] = df['synthesis'].apply(clean_text_final)"
   ]
  },
  {
   "cell_type": "code",
   "execution_count": 40,
   "id": "d52b8113-0ae8-45a7-987e-e5237a2da836",
   "metadata": {},
   "outputs": [
    {
     "data": {
      "text/html": [
       "<div>\n",
       "<style scoped>\n",
       "    .dataframe tbody tr th:only-of-type {\n",
       "        vertical-align: middle;\n",
       "    }\n",
       "\n",
       "    .dataframe tbody tr th {\n",
       "        vertical-align: top;\n",
       "    }\n",
       "\n",
       "    .dataframe thead th {\n",
       "        text-align: right;\n",
       "    }\n",
       "</style>\n",
       "<table border=\"1\" class=\"dataframe\">\n",
       "  <thead>\n",
       "    <tr style=\"text-align: right;\">\n",
       "      <th></th>\n",
       "      <th>query</th>\n",
       "      <th>correct</th>\n",
       "      <th>cot</th>\n",
       "      <th>synthesis</th>\n",
       "      <th>context</th>\n",
       "    </tr>\n",
       "  </thead>\n",
       "  <tbody>\n",
       "    <tr>\n",
       "      <th>0</th>\n",
       "      <td>What event did Juan Rossell participate in?</td>\n",
       "      <td>1996 summer olympics</td>\n",
       "      <td>Assistant:The context clearly states that Juan...</td>\n",
       "      <td>1996 summer olympics</td>\n",
       "      <td>The 2004 Summer Olympic Games, held in Athens...</td>\n",
       "    </tr>\n",
       "    <tr>\n",
       "      <th>1</th>\n",
       "      <td>What languages did John Osteen speak or write?</td>\n",
       "      <td>english</td>\n",
       "      <td>Assistant: The provided context focuses on the...</td>\n",
       "      <td>spanish</td>\n",
       "      <td>Christianity is a monotheistic religion based...</td>\n",
       "    </tr>\n",
       "    <tr>\n",
       "      <th>2</th>\n",
       "      <td>What is the parent taxon of Australosuchus?</td>\n",
       "      <td>crocodilia</td>\n",
       "      <td>Assistant:The context states that Australosuch...</td>\n",
       "      <td>crocodile</td>\n",
       "      <td>Mekosuchinae was a subfamily of crocodiles th...</td>\n",
       "    </tr>\n",
       "    <tr>\n",
       "      <th>3</th>\n",
       "      <td>What is the'record_label method man' associate...</td>\n",
       "      <td>loud records</td>\n",
       "      <td>Assistant:The context mentions Method Man's co...</td>\n",
       "      <td>1996</td>\n",
       "      <td>Wu-Tang Clan's debut album, \"Enter the Wu-Tan...</td>\n",
       "    </tr>\n",
       "    <tr>\n",
       "      <th>4</th>\n",
       "      <td>In which administrative territorial entity is ...</td>\n",
       "      <td>raipur district</td>\n",
       "      <td>Assistant:The context clearly states that the ...</td>\n",
       "      <td>raipur district</td>\n",
       "      <td>Chhattisgarh, a state in central India, is ri...</td>\n",
       "    </tr>\n",
       "  </tbody>\n",
       "</table>\n",
       "</div>"
      ],
      "text/plain": [
       "                                               query               correct  \\\n",
       "0        What event did Juan Rossell participate in?  1996 summer olympics   \n",
       "1     What languages did John Osteen speak or write?               english   \n",
       "2        What is the parent taxon of Australosuchus?            crocodilia   \n",
       "3  What is the'record_label method man' associate...          loud records   \n",
       "4  In which administrative territorial entity is ...       raipur district   \n",
       "\n",
       "                                                 cot             synthesis  \\\n",
       "0  Assistant:The context clearly states that Juan...  1996 summer olympics   \n",
       "1  Assistant: The provided context focuses on the...               spanish   \n",
       "2  Assistant:The context states that Australosuch...             crocodile   \n",
       "3  Assistant:The context mentions Method Man's co...                  1996   \n",
       "4  Assistant:The context clearly states that the ...       raipur district   \n",
       "\n",
       "                                             context  \n",
       "0   The 2004 Summer Olympic Games, held in Athens...  \n",
       "1   Christianity is a monotheistic religion based...  \n",
       "2   Mekosuchinae was a subfamily of crocodiles th...  \n",
       "3   Wu-Tang Clan's debut album, \"Enter the Wu-Tan...  \n",
       "4   Chhattisgarh, a state in central India, is ri...  "
      ]
     },
     "execution_count": 40,
     "metadata": {},
     "output_type": "execute_result"
    }
   ],
   "source": [
    "df.head()"
   ]
  },
  {
   "cell_type": "code",
   "execution_count": 41,
   "id": "a7b01b28-d61d-471d-adbe-c2b91965c016",
   "metadata": {},
   "outputs": [],
   "source": [
    "df.to_csv('purecot-gemma2b-wikihop.csv')"
   ]
  },
  {
   "cell_type": "code",
   "execution_count": null,
   "id": "8ad463d8-c0ce-4469-a052-c5f02e5506ef",
   "metadata": {},
   "outputs": [],
   "source": []
  }
 ],
 "metadata": {
  "kernelspec": {
   "display_name": "Python 3 (ipykernel)",
   "language": "python",
   "name": "python3"
  },
  "language_info": {
   "codemirror_mode": {
    "name": "ipython",
    "version": 3
   },
   "file_extension": ".py",
   "mimetype": "text/x-python",
   "name": "python",
   "nbconvert_exporter": "python",
   "pygments_lexer": "ipython3",
   "version": "3.9.18"
  }
 },
 "nbformat": 4,
 "nbformat_minor": 5
}
