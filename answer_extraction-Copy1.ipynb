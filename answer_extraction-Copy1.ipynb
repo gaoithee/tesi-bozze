{
 "cells": [
  {
   "cell_type": "code",
   "execution_count": 27,
   "id": "4aad120c-7468-45a3-943a-6a8a6504f978",
   "metadata": {},
   "outputs": [],
   "source": [
    "import pandas as pd\n",
    "\n",
    "mini = pd.read_csv('def/phi-mini/cot/phimini-cot-wikihop.csv')\n",
    "med = pd.read_csv('def/phi-medium/cot/phimedium-cot-wikihop.csv')\n",
    "# two = pd.read_csv('def/gemma-2-2b-it/cot/gemma-2-2b-it-cot.csv')\n",
    "# nine = pd.read_csv('def/gemma-2-9b-it/cot/gemma-2-9b-it-cot.csv')"
   ]
  },
  {
   "cell_type": "code",
   "execution_count": 28,
   "id": "0954dd0a-9610-45d0-94a3-8de4c9774a3f",
   "metadata": {},
   "outputs": [],
   "source": [
    "import transformers\n",
    "from transformers import AutoModelForCausalLM, AutoTokenizer\n",
    "from guidance import models, select"
   ]
  },
  {
   "cell_type": "code",
   "execution_count": 38,
   "id": "24e3b677-a013-42f3-822e-cac3b3ca49a6",
   "metadata": {},
   "outputs": [
    {
     "data": {
      "text/html": [
       "<div>\n",
       "<style scoped>\n",
       "    .dataframe tbody tr th:only-of-type {\n",
       "        vertical-align: middle;\n",
       "    }\n",
       "\n",
       "    .dataframe tbody tr th {\n",
       "        vertical-align: top;\n",
       "    }\n",
       "\n",
       "    .dataframe thead th {\n",
       "        text-align: right;\n",
       "    }\n",
       "</style>\n",
       "<table border=\"1\" class=\"dataframe\">\n",
       "  <thead>\n",
       "    <tr style=\"text-align: right;\">\n",
       "      <th></th>\n",
       "      <th>Unnamed: 0</th>\n",
       "      <th>query</th>\n",
       "      <th>correct</th>\n",
       "      <th>thesis</th>\n",
       "      <th>antithesis</th>\n",
       "      <th>pre-synthesis</th>\n",
       "      <th>synthesis</th>\n",
       "      <th>context</th>\n",
       "    </tr>\n",
       "  </thead>\n",
       "  <tbody>\n",
       "    <tr>\n",
       "      <th>0</th>\n",
       "      <td>0</td>\n",
       "      <td>What event did Juan Rossell participate in?</td>\n",
       "      <td>1996 summer olympics</td>\n",
       "      <td>1996 summer olympics</td>\n",
       "      <td>Let's analyze the options and the context pro...</td>\n",
       "      <td>The correct answer is '1996 summer olympics'....</td>\n",
       "      <td>1996 summer olympics</td>\n",
       "      <td>The 2004 Summer Olympic Games, held in Athens...</td>\n",
       "    </tr>\n",
       "    <tr>\n",
       "      <th>1</th>\n",
       "      <td>1</td>\n",
       "      <td>What languages did John Osteen speak or write?</td>\n",
       "      <td>english</td>\n",
       "      <td>koine greek</td>\n",
       "      <td>The context provided does not give any inform...</td>\n",
       "      <td>The correct option is 'english'. The context ...</td>\n",
       "      <td>english</td>\n",
       "      <td>Christianity is a monotheistic religion based...</td>\n",
       "    </tr>\n",
       "    <tr>\n",
       "      <th>2</th>\n",
       "      <td>2</td>\n",
       "      <td>What is the parent taxon of Proaigialosaurus?</td>\n",
       "      <td>lepidosauria</td>\n",
       "      <td>diapsid</td>\n",
       "      <td>To determine the parent taxon of Proaigialosa...</td>\n",
       "      <td>Based on the context provided, the parent tax...</td>\n",
       "      <td>reptile</td>\n",
       "      <td>Herpetology is the branch of zoology that stu...</td>\n",
       "    </tr>\n",
       "    <tr>\n",
       "      <th>3</th>\n",
       "      <td>3</td>\n",
       "      <td>What is the parent taxon of Australosuchus?</td>\n",
       "      <td>crocodilia</td>\n",
       "      <td>plant</td>\n",
       "      <td>Let's analyze the options given and compare t...</td>\n",
       "      <td>The correct answer is'mekosuchinae', as it is...</td>\n",
       "      <td>mekosuchinae</td>\n",
       "      <td>Mekosuchinae was a subfamily of crocodiles th...</td>\n",
       "    </tr>\n",
       "    <tr>\n",
       "      <th>4</th>\n",
       "      <td>4</td>\n",
       "      <td>What was the occupation of Cao Chong?</td>\n",
       "      <td>physicist</td>\n",
       "      <td>science</td>\n",
       "      <td>Let's analyze the options and the context pro...</td>\n",
       "      <td>Based on the context provided, Cao Chong was ...</td>\n",
       "      <td>general</td>\n",
       "      <td>The Three Kingdoms period (220280) in China w...</td>\n",
       "    </tr>\n",
       "  </tbody>\n",
       "</table>\n",
       "</div>"
      ],
      "text/plain": [
       "   Unnamed: 0                                           query  \\\n",
       "0           0     What event did Juan Rossell participate in?   \n",
       "1           1  What languages did John Osteen speak or write?   \n",
       "2           2   What is the parent taxon of Proaigialosaurus?   \n",
       "3           3     What is the parent taxon of Australosuchus?   \n",
       "4           4           What was the occupation of Cao Chong?   \n",
       "\n",
       "                correct                thesis  \\\n",
       "0  1996 summer olympics  1996 summer olympics   \n",
       "1               english           koine greek   \n",
       "2          lepidosauria               diapsid   \n",
       "3            crocodilia                 plant   \n",
       "4             physicist               science   \n",
       "\n",
       "                                          antithesis  \\\n",
       "0   Let's analyze the options and the context pro...   \n",
       "1   The context provided does not give any inform...   \n",
       "2   To determine the parent taxon of Proaigialosa...   \n",
       "3   Let's analyze the options given and compare t...   \n",
       "4   Let's analyze the options and the context pro...   \n",
       "\n",
       "                                       pre-synthesis             synthesis  \\\n",
       "0   The correct answer is '1996 summer olympics'....  1996 summer olympics   \n",
       "1   The correct option is 'english'. The context ...               english   \n",
       "2   Based on the context provided, the parent tax...               reptile   \n",
       "3   The correct answer is'mekosuchinae', as it is...          mekosuchinae   \n",
       "4   Based on the context provided, Cao Chong was ...               general   \n",
       "\n",
       "                                             context  \n",
       "0   The 2004 Summer Olympic Games, held in Athens...  \n",
       "1   Christianity is a monotheistic religion based...  \n",
       "2   Herpetology is the branch of zoology that stu...  \n",
       "3   Mekosuchinae was a subfamily of crocodiles th...  \n",
       "4   The Three Kingdoms period (220280) in China w...  "
      ]
     },
     "execution_count": 38,
     "metadata": {},
     "output_type": "execute_result"
    }
   ],
   "source": [
    "med.head()"
   ]
  },
  {
   "cell_type": "code",
   "execution_count": 39,
   "id": "99c5a518-8bb8-4f27-bd57-8aee38c45579",
   "metadata": {},
   "outputs": [],
   "source": [
    "med = med.drop(['Unnamed: 0'], axis = 1)"
   ]
  },
  {
   "cell_type": "code",
   "execution_count": 5,
   "id": "9c01fc2d-2fd0-4f64-846c-32ce8c98e03c",
   "metadata": {},
   "outputs": [],
   "source": [
    "from langchain_core.prompts import PromptTemplate\n",
    "from operator import itemgetter\n",
    "\n",
    "# prompt augmentation for the (format of the) synthesis:\n",
    "prompt_template = PromptTemplate.from_template(\n",
    "\"\"\"You are a multiple-choice question answering assistant.\n",
    "Choose the most proper option between {options} that best matches with the suggestion. \n",
    "\n",
    "Question: {question}\n",
    "Context: {critique}\n",
    "Sources: {context}\n",
    "\n",
    "Assistant:\n",
    "\"\"\"\n",
    ")\n",
    "augmentation = {\"question\": itemgetter(\"question\"),\n",
    "                \"options\": itemgetter(\"options\"), \n",
    "                \"critique\": itemgetter(\"critique\"),\n",
    "                \"context\": itemgetter(\"context\"), }\n",
    "synthesis_chain = augmentation | prompt_template "
   ]
  },
  {
   "cell_type": "code",
   "execution_count": 6,
   "id": "a959a18b-7bcc-4dc7-9fec-f7cd6ce38ab4",
   "metadata": {},
   "outputs": [],
   "source": [
    "import ast\n",
    "import re\n",
    "\n",
    "# Definisci una funzione di pulizia per rimuovere caratteri non validi\n",
    "def clean_text(text):\n",
    "    return re.sub(r\"[^\\w\\s.,!?\\-:;()]+\", '', text)\n",
    "\n",
    "def synthesisGeneration(query, merged, pre_answer, sources):\n",
    "    merged = ast.literal_eval(merged)\n",
    "    merged.append('not clear given the context')\n",
    "    augmented_prompt = synthesis_chain.invoke({'question': query, \n",
    "                                            'options': merged,\n",
    "                                            'critique': pre_answer,\n",
    "                                            'context': sources})\n",
    "\n",
    "    normal_string = clean_text(augmented_prompt.text)\n",
    "    ans = new_model + normal_string + select(merged)\n",
    "    return str(ans)\n",
    "\n",
    "def extract_answer_synthesis(text):\n",
    "    # Trova l'indice in cui inizia il testo \"Why or why not the answer is correct:\"\n",
    "    start_index = text.find(\"\\n\\nAssistant:\\n\")\n",
    "\n",
    "    \n",
    "    # Se l'indice è stato trovato, estrai la risposta corretta\n",
    "    if start_index != -1:\n",
    "        start_index += len(\"\\n\\nAssistant:\\n\")\n",
    "        # Estrai il testo dopo \"Why or why not the answer is correct:\"\n",
    "        correct_answer_text = text[start_index:].strip()\n",
    "        return correct_answer_text\n",
    "    else:\n",
    "        return \"The correct answer could not be found.\""
   ]
  },
  {
   "cell_type": "code",
   "execution_count": 7,
   "id": "f57f8c7b-00dd-4cbb-bfac-af836cb11774",
   "metadata": {},
   "outputs": [
    {
     "name": "stderr",
     "output_type": "stream",
     "text": [
      "`flash-attention` package not found, consider installing for better performance: No module named 'flash_attn'.\n",
      "Current `flash-attention` does not support `window_size`. Either upgrade or use `attn_implementation='eager'`.\n"
     ]
    },
    {
     "data": {
      "application/vnd.jupyter.widget-view+json": {
       "model_id": "f0d0d8c0f2f94837a66c4aa9ee3d64c9",
       "version_major": 2,
       "version_minor": 0
      },
      "text/plain": [
       "Loading checkpoint shards:   0%|          | 0/2 [00:00<?, ?it/s]"
      ]
     },
     "metadata": {},
     "output_type": "display_data"
    },
    {
     "name": "stderr",
     "output_type": "stream",
     "text": [
      "/orfeo/cephfs/home/dssc/scandu00/nlp-env/lib64/python3.9/site-packages/guidance/chat.py:73: UserWarning: Chat template {% for message in messages %}{% if message['role'] == 'system' %}{{'<|system|>\n",
      "' + message['content'] + '<|end|>\n",
      "'}}{% elif message['role'] == 'user' %}{{'<|user|>\n",
      "' + message['content'] + '<|end|>\n",
      "'}}{% elif message['role'] == 'assistant' %}{{'<|assistant|>\n",
      "' + message['content'] + '<|end|>\n",
      "'}}{% endif %}{% endfor %}{% if add_generation_prompt %}{{ '<|assistant|>\n",
      "' }}{% else %}{{ eos_token }}{% endif %} was unable to be loaded directly into guidance.\n",
      "                        Defaulting to the ChatML format which may not be optimal for the selected model. \n",
      "                        For best results, create and pass in a `guidance.ChatTemplate` subclass for your model.\n",
      "  warnings.warn(f\"\"\"Chat template {chat_template} was unable to be loaded directly into guidance.\n"
     ]
    }
   ],
   "source": [
    "model = AutoModelForCausalLM.from_pretrained(\n",
    "    \"microsoft/Phi-3-mini-4k-instruct\",\n",
    "    device_map=\"cuda\",\n",
    "    torch_dtype=\"auto\",\n",
    "    trust_remote_code=True,\n",
    ")\n",
    "tokenizer = AutoTokenizer.from_pretrained(\"microsoft/Phi-3-mini-4k-instruct\", use_fast=False)\n",
    "new_model = models.Transformers(model, tokenizer, temperature=0.0)"
   ]
  },
  {
   "cell_type": "code",
   "execution_count": 8,
   "id": "1f9367f6-3ef3-4053-9f3c-7ed91530509d",
   "metadata": {},
   "outputs": [],
   "source": [
    "df = pd.read_csv('wikihop_dataset/wikihop-merged-summarized.csv')\n",
    "\n",
    "# select a subset of the queries, just for test:\n",
    "first_queries = df['query']\n",
    "\n",
    "# same for correct answers and distractors:\n",
    "correct_answers = df['answer']\n",
    "possibilities = df['options']\n",
    "\n",
    "# and for the sources:\n",
    "sources = df['sum_supports']"
   ]
  },
  {
   "cell_type": "code",
   "execution_count": 40,
   "id": "c988b15f-4fc4-49f2-94bc-fdcacc81f5c4",
   "metadata": {},
   "outputs": [
    {
     "data": {
      "text/html": [
       "<pre style='margin: 0px; padding: 0px; vertical-align: middle; padding-left: 8px; margin-left: -8px; border-radius: 0px; border-left: 1px solid rgba(127, 127, 127, 0.2); white-space: pre-wrap; font-family: ColfaxAI, Arial; font-size: 15px; line-height: 23px;'>You are a multiple-choice question answering assistant.\n",
       "Choose the most proper option between 1982, album, english, record, riva records, rock music, not clear given the context that best matches with the suggestion. \n",
       "\n",
       "Question: What is the record label associated with the album Scarecrow?\n",
       "Context:  The correct option from the given list is Riva Records, as it is the only option that is a record label. The album Scarecrow is by the artist Garth Brooks and was released by the record label Liberty Records. end\n",
       "Sources:  Helsinki, the capital and largest city of Finland, is located in the region of Uusimaa in southern Finland. With a population of over 1.4 million, it is the most populous municipality and urban area in Finland. Helsinki is situated north of Tallinn, Estonia, east of Stockholm, Sweden, and west of Saint Petersburg, Russia, and has close historical connections with these cities.\n",
       "\n",
       "Finland, officially the Republic of Finland, is a Nordic country in Northern Europe. It is a peninsula with the Gulf of Finland to the south and the Gulf of Bothnia to the west. Finland shares land borders with Sweden to the northwest, Norway to the north, and Russia to the east. The countrys population is around 5.5 million, with the majority concentrated in the southern region. Finland is the eighth largest country in Europe and the most sparsely populated country in the European Union.\n",
       "\n",
       "Kauhava is a town and municipality in Finland, located in the province of Western Finland and part of the Southern Ostrobothnia region. It is northwest of Helsinki and by the main railway from Helsinki to Oulu. The town has a population of and covers an area of of which is water. The population density is.\n",
       "\n",
       "The Finnish Air Force (FAF) is one of the branches of the Finnish Defence Forces, responsible for airspace surveillance, identification flights, and production of readiness formations for wartime conditions. The FAF was founded on 4 May 1928, having existed officially since 6 March 1918 as the Army Corps of Aviation.\n",
       "\n",
       "Southern Ostrobothnia is one of the 19 regions of Finland. The Training Air Wing (Lentosotakoulu) is the Finnish Air Force pilot jet aircraft training school, located at Kauhava Airport in Kauhava. The unit trains pilots for the Finnish Defence Forces and the Finnish Border Guard.\n",
       "\n",
       "The Finnish Defence Forces are responsible for the defense of Finland. A universal male conscription is in place, under which all men above 18 years of age serve for 165, 255 or 347 days. Alternative non-military service and volunteer\n",
       "\n",
       "Assistant:\n",
       "<span style='background-color: rgba(0.0, 165.0, 0, 0.15); border-radius: 3px;' title='1.0'>1</span>982</pre>"
      ],
      "text/plain": [
       "<IPython.core.display.HTML object>"
      ]
     },
     "metadata": {},
     "output_type": "display_data"
    }
   ],
   "source": [
    "syn_answers = []\n",
    "for i in range(len(df)):\n",
    "    syn_answers.append(extract_answer_synthesis(\n",
    "        synthesisGeneration(\n",
    "            first_queries[i], possibilities[i], \n",
    "            med['pre-synthesis'][i], sources[i])))"
   ]
  },
  {
   "cell_type": "code",
   "execution_count": 41,
   "id": "7dd352ea-dd9d-443f-a36a-141e1af3d52a",
   "metadata": {},
   "outputs": [
    {
     "data": {
      "text/html": [
       "<pre style='margin: 0px; padding: 0px; vertical-align: middle; padding-left: 8px; margin-left: -8px; border-radius: 0px; border-left: 1px solid rgba(127, 127, 127, 0.2); white-space: pre-wrap; font-family: ColfaxAI, Arial; font-size: 15px; line-height: 23px;'>You are a multiple-choice question answering assistant.\n",
       "Choose the most proper option between 1982, album, english, record, riva records, rock music, not clear given the context that best matches with the suggestion. \n",
       "\n",
       "Question: What is the record label associated with the album Scarecrow?\n",
       "Context:  Assistant: The context provided does not contain any information about the record label associated with the album Scarecrow. However, based on general knowledge, the album Scarecrow is by the artist Garth Brooks and was released by the record label Liberty Records. Therefore, the correct option from the given list is Riva Records, as it is the only option that is a record label. end\n",
       "Sources:  Helsinki, the capital and largest city of Finland, is located in the region of Uusimaa in southern Finland. With a population of over 1.4 million, it is the most populous municipality and urban area in Finland. Helsinki is situated north of Tallinn, Estonia, east of Stockholm, Sweden, and west of Saint Petersburg, Russia, and has close historical connections with these cities.\n",
       "\n",
       "Finland, officially the Republic of Finland, is a Nordic country in Northern Europe. It is a peninsula with the Gulf of Finland to the south and the Gulf of Bothnia to the west. Finland shares land borders with Sweden to the northwest, Norway to the north, and Russia to the east. The countrys population is around 5.5 million, with the majority concentrated in the southern region. Finland is the eighth largest country in Europe and the most sparsely populated country in the European Union.\n",
       "\n",
       "Kauhava is a town and municipality in Finland, located in the province of Western Finland and part of the Southern Ostrobothnia region. It is northwest of Helsinki and by the main railway from Helsinki to Oulu. The town has a population of and covers an area of of which is water. The population density is.\n",
       "\n",
       "The Finnish Air Force (FAF) is one of the branches of the Finnish Defence Forces, responsible for airspace surveillance, identification flights, and production of readiness formations for wartime conditions. The FAF was founded on 4 May 1928, having existed officially since 6 March 1918 as the Army Corps of Aviation.\n",
       "\n",
       "Southern Ostrobothnia is one of the 19 regions of Finland. The Training Air Wing (Lentosotakoulu) is the Finnish Air Force pilot jet aircraft training school, located at Kauhava Airport in Kauhava. The unit trains pilots for the Finnish Defence Forces and the Finnish Border Guard.\n",
       "\n",
       "The Finnish Defence Forces are responsible for the defense of Finland. A universal male conscription is in place, under which all men above 18 years of age serve for 165, 255 or 347 days. Alternative non-military service and volunteer\n",
       "\n",
       "Assistant:\n",
       "<span style='background-color: rgba(0.0, 165.0, 0, 0.15); border-radius: 3px;' title='1.0'>1</span>982</pre>"
      ],
      "text/plain": [
       "<IPython.core.display.HTML object>"
      ]
     },
     "metadata": {},
     "output_type": "display_data"
    }
   ],
   "source": [
    "ant_answers = []\n",
    "for i in range(len(df)):\n",
    "    ant_answers.append(extract_answer_synthesis(\n",
    "        synthesisGeneration(\n",
    "            first_queries[i], possibilities[i], \n",
    "            med['antithesis'][i], sources[i])))"
   ]
  },
  {
   "cell_type": "code",
   "execution_count": 42,
   "id": "a4dfb038-d112-40fc-9c7c-c1410952188e",
   "metadata": {},
   "outputs": [],
   "source": [
    "df = {\n",
    "    'query': first_queries,\n",
    "    'correct': correct_answers,\n",
    "    'thesis': med['thesis'],\n",
    "    'pre-antithesis': med['antithesis'],\n",
    "    'antithesis': ant_answers,\n",
    "    'pre-synthesis': med['pre-synthesis'],\n",
    "    'synthesis': syn_answers,\n",
    "    'context': sources\n",
    "} \n",
    "\n",
    "df = pd.DataFrame(df)"
   ]
  },
  {
   "cell_type": "code",
   "execution_count": 43,
   "id": "b72854d3-4e69-4a0b-a1b8-ad8e60cbf56f",
   "metadata": {},
   "outputs": [],
   "source": [
    "def clean_text_final(text):\n",
    "    text = re.sub(r'[^\\w\\s.,!?\\'\"\\-:;()]+', '', text)  # Rimuove i caratteri speciali\n",
    "    text = re.sub(r\"['\\\"-]\", '', text)  # Rimuove apostrofi, virgolette e trattini\n",
    "    text = text.lower()  # Converte in minuscolo\n",
    "    return text"
   ]
  },
  {
   "cell_type": "code",
   "execution_count": 44,
   "id": "0c314bdb-36bd-44f4-91b6-d73d2f53eb3d",
   "metadata": {},
   "outputs": [],
   "source": [
    "# Applica la funzione alla colonna 'correct answer'\n",
    "df['correct'] = df['correct'].apply(clean_text_final)\n",
    "df['thesis'] = df['thesis'].apply(clean_text_final)\n",
    "df['antithesis'] = df['antithesis'].apply(clean_text_final)\n",
    "df['synthesis'] = df['synthesis'].apply(clean_text_final)"
   ]
  },
  {
   "cell_type": "code",
   "execution_count": 45,
   "id": "d52b8113-0ae8-45a7-987e-e5237a2da836",
   "metadata": {},
   "outputs": [
    {
     "data": {
      "text/html": [
       "<div>\n",
       "<style scoped>\n",
       "    .dataframe tbody tr th:only-of-type {\n",
       "        vertical-align: middle;\n",
       "    }\n",
       "\n",
       "    .dataframe tbody tr th {\n",
       "        vertical-align: top;\n",
       "    }\n",
       "\n",
       "    .dataframe thead th {\n",
       "        text-align: right;\n",
       "    }\n",
       "</style>\n",
       "<table border=\"1\" class=\"dataframe\">\n",
       "  <thead>\n",
       "    <tr style=\"text-align: right;\">\n",
       "      <th></th>\n",
       "      <th>query</th>\n",
       "      <th>correct</th>\n",
       "      <th>thesis</th>\n",
       "      <th>pre-antithesis</th>\n",
       "      <th>antithesis</th>\n",
       "      <th>pre-synthesis</th>\n",
       "      <th>synthesis</th>\n",
       "      <th>context</th>\n",
       "    </tr>\n",
       "  </thead>\n",
       "  <tbody>\n",
       "    <tr>\n",
       "      <th>0</th>\n",
       "      <td>What event did Juan Rossell participate in?</td>\n",
       "      <td>1996 summer olympics</td>\n",
       "      <td>1996 summer olympics</td>\n",
       "      <td>Let's analyze the options and the context pro...</td>\n",
       "      <td>1996 summer olympics</td>\n",
       "      <td>The correct answer is '1996 summer olympics'....</td>\n",
       "      <td>1996 summer olympics</td>\n",
       "      <td>The 2004 Summer Olympic Games, held in Athens...</td>\n",
       "    </tr>\n",
       "    <tr>\n",
       "      <th>1</th>\n",
       "      <td>What languages did John Osteen speak or write?</td>\n",
       "      <td>english</td>\n",
       "      <td>koine greek</td>\n",
       "      <td>The context provided does not give any inform...</td>\n",
       "      <td>english</td>\n",
       "      <td>The correct option is 'english'. The context ...</td>\n",
       "      <td>english</td>\n",
       "      <td>Christianity is a monotheistic religion based...</td>\n",
       "    </tr>\n",
       "    <tr>\n",
       "      <th>2</th>\n",
       "      <td>What is the parent taxon of Proaigialosaurus?</td>\n",
       "      <td>lepidosauria</td>\n",
       "      <td>diapsid</td>\n",
       "      <td>To determine the parent taxon of Proaigialosa...</td>\n",
       "      <td>reptile</td>\n",
       "      <td>Based on the context provided, the parent tax...</td>\n",
       "      <td>gymnophiona</td>\n",
       "      <td>Herpetology is the branch of zoology that stu...</td>\n",
       "    </tr>\n",
       "    <tr>\n",
       "      <th>3</th>\n",
       "      <td>What is the parent taxon of Australosuchus?</td>\n",
       "      <td>crocodilia</td>\n",
       "      <td>plant</td>\n",
       "      <td>Let's analyze the options given and compare t...</td>\n",
       "      <td>mekosuchinae</td>\n",
       "      <td>The correct answer is'mekosuchinae', as it is...</td>\n",
       "      <td>mekosuchinae</td>\n",
       "      <td>Mekosuchinae was a subfamily of crocodiles th...</td>\n",
       "    </tr>\n",
       "    <tr>\n",
       "      <th>4</th>\n",
       "      <td>What was the occupation of Cao Chong?</td>\n",
       "      <td>physicist</td>\n",
       "      <td>science</td>\n",
       "      <td>Let's analyze the options and the context pro...</td>\n",
       "      <td>mathematician</td>\n",
       "      <td>Based on the context provided, Cao Chong was ...</td>\n",
       "      <td>mathematician</td>\n",
       "      <td>The Three Kingdoms period (220280) in China w...</td>\n",
       "    </tr>\n",
       "  </tbody>\n",
       "</table>\n",
       "</div>"
      ],
      "text/plain": [
       "                                            query               correct  \\\n",
       "0     What event did Juan Rossell participate in?  1996 summer olympics   \n",
       "1  What languages did John Osteen speak or write?               english   \n",
       "2   What is the parent taxon of Proaigialosaurus?          lepidosauria   \n",
       "3     What is the parent taxon of Australosuchus?            crocodilia   \n",
       "4           What was the occupation of Cao Chong?             physicist   \n",
       "\n",
       "                 thesis                                     pre-antithesis  \\\n",
       "0  1996 summer olympics   Let's analyze the options and the context pro...   \n",
       "1           koine greek   The context provided does not give any inform...   \n",
       "2               diapsid   To determine the parent taxon of Proaigialosa...   \n",
       "3                 plant   Let's analyze the options given and compare t...   \n",
       "4               science   Let's analyze the options and the context pro...   \n",
       "\n",
       "             antithesis                                      pre-synthesis  \\\n",
       "0  1996 summer olympics   The correct answer is '1996 summer olympics'....   \n",
       "1               english   The correct option is 'english'. The context ...   \n",
       "2               reptile   Based on the context provided, the parent tax...   \n",
       "3          mekosuchinae   The correct answer is'mekosuchinae', as it is...   \n",
       "4         mathematician   Based on the context provided, Cao Chong was ...   \n",
       "\n",
       "              synthesis                                            context  \n",
       "0  1996 summer olympics   The 2004 Summer Olympic Games, held in Athens...  \n",
       "1               english   Christianity is a monotheistic religion based...  \n",
       "2           gymnophiona   Herpetology is the branch of zoology that stu...  \n",
       "3          mekosuchinae   Mekosuchinae was a subfamily of crocodiles th...  \n",
       "4         mathematician   The Three Kingdoms period (220280) in China w...  "
      ]
     },
     "execution_count": 45,
     "metadata": {},
     "output_type": "execute_result"
    }
   ],
   "source": [
    "df.head()"
   ]
  },
  {
   "cell_type": "code",
   "execution_count": 46,
   "id": "a7b01b28-d61d-471d-adbe-c2b91965c016",
   "metadata": {},
   "outputs": [],
   "source": [
    "df.to_csv('cot-phimedium-wikihop.csv')"
   ]
  },
  {
   "cell_type": "code",
   "execution_count": null,
   "id": "8ad463d8-c0ce-4469-a052-c5f02e5506ef",
   "metadata": {},
   "outputs": [],
   "source": []
  }
 ],
 "metadata": {
  "kernelspec": {
   "display_name": "Python 3 (ipykernel)",
   "language": "python",
   "name": "python3"
  },
  "language_info": {
   "codemirror_mode": {
    "name": "ipython",
    "version": 3
   },
   "file_extension": ".py",
   "mimetype": "text/x-python",
   "name": "python",
   "nbconvert_exporter": "python",
   "pygments_lexer": "ipython3",
   "version": "3.9.18"
  }
 },
 "nbformat": 4,
 "nbformat_minor": 5
}
