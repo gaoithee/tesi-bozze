{
 "cells": [
  {
   "cell_type": "code",
   "execution_count": 1,
   "id": "1b7053a0-232f-4f97-96bd-15e05a2de1ab",
   "metadata": {},
   "outputs": [
    {
     "data": {
      "application/vnd.jupyter.widget-view+json": {
       "model_id": "bbd7d8282e004d22bb26b6b6a5cdd742",
       "version_major": 2,
       "version_minor": 0
      },
      "text/plain": [
       "Resolving data files:   0%|          | 0/24 [00:00<?, ?it/s]"
      ]
     },
     "metadata": {},
     "output_type": "display_data"
    },
    {
     "data": {
      "application/vnd.jupyter.widget-view+json": {
       "model_id": "e48942419362416b89a38913770d7d21",
       "version_major": 2,
       "version_minor": 0
      },
      "text/plain": [
       "Resolving data files:   0%|          | 0/24 [00:00<?, ?it/s]"
      ]
     },
     "metadata": {},
     "output_type": "display_data"
    },
    {
     "data": {
      "text/plain": [
       "Dataset({\n",
       "    features: ['document', 'question', 'answers'],\n",
       "    num_rows: 3461\n",
       "})"
      ]
     },
     "execution_count": 1,
     "metadata": {},
     "output_type": "execute_result"
    }
   ],
   "source": [
    "import pandas as pd\n",
    "from datasets import load_dataset\n",
    "\n",
    "ds = load_dataset(\"deepmind/narrativeqa\", split = \"validation\")\n",
    "ds"
   ]
  },
  {
   "cell_type": "code",
   "execution_count": 2,
   "id": "8dd0206c-1d4a-4faf-ae29-771e9b282bf2",
   "metadata": {},
   "outputs": [],
   "source": [
    "sources = []\n",
    "questions = []\n",
    "answers = []\n",
    "\n",
    "for i in range(600):\n",
    "    sources.append(ds['document'][i]['summary']['text'])\n",
    "    questions.append(ds['question'][i]['text'])\n",
    "    answers.append(ds['answers'][i][0]['text'])"
   ]
  },
  {
   "cell_type": "code",
   "execution_count": 3,
   "id": "9b73a477-ce7f-4e7f-93b6-2ad36dd9fa87",
   "metadata": {},
   "outputs": [],
   "source": [
    "dati = {\n",
    "    'questions': questions,\n",
    "    'correct_answer': answers,\n",
    "    'sources': sources\n",
    "}"
   ]
  },
  {
   "cell_type": "code",
   "execution_count": 4,
   "id": "a8b2cc9d-dcc5-4510-bdac-281503221e49",
   "metadata": {},
   "outputs": [],
   "source": [
    "df = pd.DataFrame(dati)\n",
    "df.to_csv('init-narrativeqa.csv')"
   ]
  },
  {
   "cell_type": "code",
   "execution_count": null,
   "id": "4924c324-b1a4-4df0-9bbf-28eed25b74fc",
   "metadata": {},
   "outputs": [],
   "source": []
  }
 ],
 "metadata": {
  "kernelspec": {
   "display_name": "Python 3 (ipykernel)",
   "language": "python",
   "name": "python3"
  },
  "language_info": {
   "codemirror_mode": {
    "name": "ipython",
    "version": 3
   },
   "file_extension": ".py",
   "mimetype": "text/x-python",
   "name": "python",
   "nbconvert_exporter": "python",
   "pygments_lexer": "ipython3",
   "version": "3.9.18"
  }
 },
 "nbformat": 4,
 "nbformat_minor": 5
}
