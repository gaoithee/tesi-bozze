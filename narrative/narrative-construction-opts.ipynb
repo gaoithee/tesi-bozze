{
 "cells": [
  {
   "cell_type": "code",
   "execution_count": 1,
   "id": "1b7053a0-232f-4f97-96bd-15e05a2de1ab",
   "metadata": {},
   "outputs": [
    {
     "data": {
      "text/html": [
       "<div>\n",
       "<style scoped>\n",
       "    .dataframe tbody tr th:only-of-type {\n",
       "        vertical-align: middle;\n",
       "    }\n",
       "\n",
       "    .dataframe tbody tr th {\n",
       "        vertical-align: top;\n",
       "    }\n",
       "\n",
       "    .dataframe thead th {\n",
       "        text-align: right;\n",
       "    }\n",
       "</style>\n",
       "<table border=\"1\" class=\"dataframe\">\n",
       "  <thead>\n",
       "    <tr style=\"text-align: right;\">\n",
       "      <th></th>\n",
       "      <th>Unnamed: 0</th>\n",
       "      <th>questions</th>\n",
       "      <th>correct_answer</th>\n",
       "      <th>sources</th>\n",
       "    </tr>\n",
       "  </thead>\n",
       "  <tbody>\n",
       "    <tr>\n",
       "      <th>0</th>\n",
       "      <td>0</td>\n",
       "      <td>WHO NORMALLY DELIVERS THE OPENING PROLOGUE IN ...</td>\n",
       "      <td>THE ACTOR WEARING THE BLACK CLOAK</td>\n",
       "      <td>The play begins with three pages disputing ov...</td>\n",
       "    </tr>\n",
       "    <tr>\n",
       "      <th>1</th>\n",
       "      <td>1</td>\n",
       "      <td>WHAT NAME WAS CYNTHIA MORE FAMOUSLY KNOWN BY?</td>\n",
       "      <td>THE GODDESS DIANA</td>\n",
       "      <td>The play begins with three pages disputing ov...</td>\n",
       "    </tr>\n",
       "    <tr>\n",
       "      <th>2</th>\n",
       "      <td>2</td>\n",
       "      <td>WHO DOES ECHO WEEP FOR?</td>\n",
       "      <td>NARCISSUS</td>\n",
       "      <td>The play begins with three pages disputing ov...</td>\n",
       "    </tr>\n",
       "    <tr>\n",
       "      <th>3</th>\n",
       "      <td>3</td>\n",
       "      <td>WHAT DOES A DRINK FROM NARCISSUS'S SPRING CAUS...</td>\n",
       "      <td>FALL IN LOVE WITH THEMSELVES</td>\n",
       "      <td>The play begins with three pages disputing ov...</td>\n",
       "    </tr>\n",
       "    <tr>\n",
       "      <th>4</th>\n",
       "      <td>4</td>\n",
       "      <td>IN WHAT VALLEY DID THE SOLEMN REVELS OF CYNTHI...</td>\n",
       "      <td>GARGAPHIE IN GREECE</td>\n",
       "      <td>The play begins with three pages disputing ov...</td>\n",
       "    </tr>\n",
       "  </tbody>\n",
       "</table>\n",
       "</div>"
      ],
      "text/plain": [
       "   Unnamed: 0                                          questions  \\\n",
       "0           0  WHO NORMALLY DELIVERS THE OPENING PROLOGUE IN ...   \n",
       "1           1      WHAT NAME WAS CYNTHIA MORE FAMOUSLY KNOWN BY?   \n",
       "2           2                            WHO DOES ECHO WEEP FOR?   \n",
       "3           3  WHAT DOES A DRINK FROM NARCISSUS'S SPRING CAUS...   \n",
       "4           4  IN WHAT VALLEY DID THE SOLEMN REVELS OF CYNTHI...   \n",
       "\n",
       "                      correct_answer  \\\n",
       "0  THE ACTOR WEARING THE BLACK CLOAK   \n",
       "1                  THE GODDESS DIANA   \n",
       "2                          NARCISSUS   \n",
       "3       FALL IN LOVE WITH THEMSELVES   \n",
       "4                GARGAPHIE IN GREECE   \n",
       "\n",
       "                                             sources  \n",
       "0   The play begins with three pages disputing ov...  \n",
       "1   The play begins with three pages disputing ov...  \n",
       "2   The play begins with three pages disputing ov...  \n",
       "3   The play begins with three pages disputing ov...  \n",
       "4   The play begins with three pages disputing ov...  "
      ]
     },
     "execution_count": 1,
     "metadata": {},
     "output_type": "execute_result"
    }
   ],
   "source": [
    "import pandas as pd\n",
    "from datasets import load_dataset\n",
    "\n",
    "df = pd.read_csv('init-narrativeqa.csv')\n",
    "df.head()"
   ]
  },
  {
   "cell_type": "code",
   "execution_count": 2,
   "id": "4924c324-b1a4-4df0-9bbf-28eed25b74fc",
   "metadata": {},
   "outputs": [
    {
     "name": "stderr",
     "output_type": "stream",
     "text": [
      "`flash-attention` package not found, consider installing for better performance: No module named 'flash_attn'.\n",
      "Current `flash-attention` does not support `window_size`. Either upgrade or use `attn_implementation='eager'`.\n"
     ]
    },
    {
     "data": {
      "application/vnd.jupyter.widget-view+json": {
       "model_id": "66f598031ee54d38bef3a5a4c42e34d4",
       "version_major": 2,
       "version_minor": 0
      },
      "text/plain": [
       "Loading checkpoint shards:   0%|          | 0/2 [00:00<?, ?it/s]"
      ]
     },
     "metadata": {},
     "output_type": "display_data"
    }
   ],
   "source": [
    "import transformers\n",
    "from transformers import AutoModelForCausalLM, AutoTokenizer, pipeline\n",
    "\n",
    "model = AutoModelForCausalLM.from_pretrained(\n",
    "    \"microsoft/Phi-3-mini-4k-instruct\",\n",
    "    device_map=\"cuda\",\n",
    "    torch_dtype=\"auto\",\n",
    "    trust_remote_code=True,\n",
    ")\n",
    "tokenizer = AutoTokenizer.from_pretrained(\"microsoft/Phi-3-mini-4k-instruct\", use_fast=False)"
   ]
  },
  {
   "cell_type": "code",
   "execution_count": 25,
   "id": "75f9a788-df1a-4047-847c-ba4a43dcd396",
   "metadata": {},
   "outputs": [],
   "source": [
    "from transformers import pipeline \n",
    "\n",
    "def produce_prompt(question, correct, source):\n",
    "    \n",
    "    user_content = \"Question: \" + question + \"\\n Correct answer: \" +  correct + \"\\n Context: \" + source + \"\\n\\n Assistant:\"\n",
    "\n",
    "    messages = [ \n",
    "        {\"role\": \"system\", \"content\": \"\"\"\n",
    "        You are a helpful AI assistant. You are given a question and the correct answer to it. \n",
    "        Given the context, you have to provide a wrong, yet realistic, alternative answer to the same question given the context. \n",
    "        Output a synthetic answer in the same style as the correct answer. \n",
    "        \n",
    "        For example: \n",
    "\n",
    "        Question: what does a drink from narcissus's spring cause the drinker to do?\n",
    "        Correct answer: fall in love with themselves\n",
    "        Context: the play begins with three pages disputing over the black cloak usually worn by the actor who delivers the prologue. they draw lots for the cloak, and one of the losers, anaides, starts telling the audience what happens in the play to come; the others try to suppress him, interrupting him and putting their hands over his mouth. soon they are fighting over the cloak and criticizing the author and the spectators as well.\\nin the play proper, the goddess diana, also called cynthia, has ordained a \"solemn revels\" in the valley of gargaphie in greece. the gods cupid and mercury appear, and they too start to argue. mercury has awakened echo, who weeps for narcissus, and states that a drink from narcissus\\'s spring causes the drinkers to \"grow dotingly enamored of themselves.\" the courtiers and ladies assembled for the cynthia\\'s revels all drink from the spring.\\nasotus, a foolish spendthrift who longs to become a courtier and a master of fashion and manners, also drinks from the spring; emboldened by vanity and self-love, he challenges all comers to a competition of \"court compliment.\" the competition is held, in four phases, and the courtiers are beaten. two symbolic masques are performed within the play for the assembled revelers. at their conclusion, cynthia (representing queen elizabeth) has the dancers unmask and shows that vices have masqueraded as virtues. she sentences them to make reparation and to purify themselves by bathing in the spring at mount helicon.\\nthe figure of actaeon in the play may represent robert devereux, 2nd earl of essex, while cynthia\\'s lady in waiting arete may be lucy, countess of bedford, one of elizabeth\\'s ladies in waiting as well as jonson\\'s patroness.\\nthe play is notably rich in music, as is typical for the theatre of the boys\\' companies, which originated as church choirs.\n",
    "\n",
    "        Assistant: weep for narcissus.\n",
    "\n",
    "        \"\"\"}, \n",
    "        {\"role\": \"user\", \"content\": \"Now to the same for this problem: \" + user_content},\n",
    "    ] \n",
    "    return messages\n",
    "\n",
    "pipe = pipeline( \n",
    "    \"text-generation\", \n",
    "    model=model, \n",
    "    tokenizer=tokenizer, \n",
    ") \n",
    "\n",
    "generation_args = { \n",
    "    \"max_new_tokens\": 20, \n",
    "    \"return_full_text\": False, \n",
    "    \"temperature\": 0.0, \n",
    "    \"do_sample\": False, \n",
    "} "
   ]
  },
  {
   "cell_type": "code",
   "execution_count": 28,
   "id": "e9b854c7-26c5-484d-bc36-6fd0e6ccf2ad",
   "metadata": {},
   "outputs": [],
   "source": [
    "alternatives = []\n",
    "\n",
    "for i in range(len(df)):\n",
    "    output = pipe(produce_prompt(df['questions'][i], df['correct_answer'][i], df['sources'][i]), **generation_args) \n",
    "    alternatives.append(output[0]['generated_text']) "
   ]
  },
  {
   "cell_type": "code",
   "execution_count": 29,
   "id": "25499171-88cb-491d-8e63-a2f02f3b907e",
   "metadata": {},
   "outputs": [
    {
     "data": {
      "text/plain": [
       "[' The goddess Diana, also called Cynthia. <|end|>',\n",
       " ' The goddess Diana. <|end|>',\n",
       " ' Echo weeps for Narcissus. <|end|>',\n",
       " ' become obsessed with their own appearance. <|end|>',\n",
       " ' The solemn revels of Cynthia took place in the valley of Helicon in Greece.']"
      ]
     },
     "execution_count": 29,
     "metadata": {},
     "output_type": "execute_result"
    }
   ],
   "source": [
    "alternatives[:5]"
   ]
  },
  {
   "cell_type": "code",
   "execution_count": 30,
   "id": "4d8a43a9-dba5-445c-aab6-637b7b99e4ce",
   "metadata": {},
   "outputs": [],
   "source": [
    "df['alternative'] = alternatives"
   ]
  },
  {
   "cell_type": "code",
   "execution_count": 31,
   "id": "5fe169c3-b1b1-4878-a00b-efd796755c9b",
   "metadata": {},
   "outputs": [],
   "source": [
    "df['alternative'] = df['alternative'].str.replace('<|end|>', '', regex=False)"
   ]
  },
  {
   "cell_type": "code",
   "execution_count": 32,
   "id": "610dd31f-91cc-44de-afc7-0f64e8524f72",
   "metadata": {},
   "outputs": [],
   "source": [
    "# df['alternative'] = df['alternative'].apply(lambda x: \" \".join(x.split(':', 1)[-1].split()).strip().lower() if ':' in x else \" \".join(x.split()).lower())"
   ]
  },
  {
   "cell_type": "code",
   "execution_count": 33,
   "id": "22bba57e-fffd-4082-8201-bd8ba1326c53",
   "metadata": {},
   "outputs": [],
   "source": [
    "df['questions'] = df['questions'].str.lower()\n",
    "df['correct_answer'] = df['correct_answer'].str.lower()\n",
    "df['sources'] = df['sources'].str.lower()\n",
    "df['alternative'] = df['alternative'].str.lower()"
   ]
  },
  {
   "cell_type": "code",
   "execution_count": 34,
   "id": "6b3c5ee6-b7e4-4aa0-89b4-c8562e04a2ec",
   "metadata": {},
   "outputs": [
    {
     "data": {
      "text/html": [
       "<div>\n",
       "<style scoped>\n",
       "    .dataframe tbody tr th:only-of-type {\n",
       "        vertical-align: middle;\n",
       "    }\n",
       "\n",
       "    .dataframe tbody tr th {\n",
       "        vertical-align: top;\n",
       "    }\n",
       "\n",
       "    .dataframe thead th {\n",
       "        text-align: right;\n",
       "    }\n",
       "</style>\n",
       "<table border=\"1\" class=\"dataframe\">\n",
       "  <thead>\n",
       "    <tr style=\"text-align: right;\">\n",
       "      <th></th>\n",
       "      <th>Unnamed: 0</th>\n",
       "      <th>questions</th>\n",
       "      <th>correct_answer</th>\n",
       "      <th>sources</th>\n",
       "      <th>alternative</th>\n",
       "    </tr>\n",
       "  </thead>\n",
       "  <tbody>\n",
       "    <tr>\n",
       "      <th>0</th>\n",
       "      <td>0</td>\n",
       "      <td>who normally delivers the opening prologue in ...</td>\n",
       "      <td>the actor wearing the black cloak</td>\n",
       "      <td>the play begins with three pages disputing ov...</td>\n",
       "      <td>the goddess diana, also called cynthia.</td>\n",
       "    </tr>\n",
       "    <tr>\n",
       "      <th>1</th>\n",
       "      <td>1</td>\n",
       "      <td>what name was cynthia more famously known by?</td>\n",
       "      <td>the goddess diana</td>\n",
       "      <td>the play begins with three pages disputing ov...</td>\n",
       "      <td>the goddess diana.</td>\n",
       "    </tr>\n",
       "    <tr>\n",
       "      <th>2</th>\n",
       "      <td>2</td>\n",
       "      <td>who does echo weep for?</td>\n",
       "      <td>narcissus</td>\n",
       "      <td>the play begins with three pages disputing ov...</td>\n",
       "      <td>echo weeps for narcissus.</td>\n",
       "    </tr>\n",
       "    <tr>\n",
       "      <th>3</th>\n",
       "      <td>3</td>\n",
       "      <td>what does a drink from narcissus's spring caus...</td>\n",
       "      <td>fall in love with themselves</td>\n",
       "      <td>the play begins with three pages disputing ov...</td>\n",
       "      <td>become obsessed with their own appearance.</td>\n",
       "    </tr>\n",
       "    <tr>\n",
       "      <th>4</th>\n",
       "      <td>4</td>\n",
       "      <td>in what valley did the solemn revels of cynthi...</td>\n",
       "      <td>gargaphie in greece</td>\n",
       "      <td>the play begins with three pages disputing ov...</td>\n",
       "      <td>the solemn revels of cynthia took place in th...</td>\n",
       "    </tr>\n",
       "  </tbody>\n",
       "</table>\n",
       "</div>"
      ],
      "text/plain": [
       "   Unnamed: 0                                          questions  \\\n",
       "0           0  who normally delivers the opening prologue in ...   \n",
       "1           1      what name was cynthia more famously known by?   \n",
       "2           2                            who does echo weep for?   \n",
       "3           3  what does a drink from narcissus's spring caus...   \n",
       "4           4  in what valley did the solemn revels of cynthi...   \n",
       "\n",
       "                      correct_answer  \\\n",
       "0  the actor wearing the black cloak   \n",
       "1                  the goddess diana   \n",
       "2                          narcissus   \n",
       "3       fall in love with themselves   \n",
       "4                gargaphie in greece   \n",
       "\n",
       "                                             sources  \\\n",
       "0   the play begins with three pages disputing ov...   \n",
       "1   the play begins with three pages disputing ov...   \n",
       "2   the play begins with three pages disputing ov...   \n",
       "3   the play begins with three pages disputing ov...   \n",
       "4   the play begins with three pages disputing ov...   \n",
       "\n",
       "                                         alternative  \n",
       "0           the goddess diana, also called cynthia.   \n",
       "1                                the goddess diana.   \n",
       "2                         echo weeps for narcissus.   \n",
       "3        become obsessed with their own appearance.   \n",
       "4   the solemn revels of cynthia took place in th...  "
      ]
     },
     "execution_count": 34,
     "metadata": {},
     "output_type": "execute_result"
    }
   ],
   "source": [
    "df.head()"
   ]
  },
  {
   "cell_type": "code",
   "execution_count": 35,
   "id": "50ab480c-67a2-4d4a-be90-0572c5230a14",
   "metadata": {},
   "outputs": [],
   "source": [
    "df.to_csv('test-narrative.csv')"
   ]
  },
  {
   "cell_type": "code",
   "execution_count": null,
   "id": "02b217c3-9fd2-4b24-ab33-ab2db6f27bb0",
   "metadata": {},
   "outputs": [],
   "source": []
  }
 ],
 "metadata": {
  "kernelspec": {
   "display_name": "Python 3 (ipykernel)",
   "language": "python",
   "name": "python3"
  },
  "language_info": {
   "codemirror_mode": {
    "name": "ipython",
    "version": 3
   },
   "file_extension": ".py",
   "mimetype": "text/x-python",
   "name": "python",
   "nbconvert_exporter": "python",
   "pygments_lexer": "ipython3",
   "version": "3.9.18"
  }
 },
 "nbformat": 4,
 "nbformat_minor": 5
}
