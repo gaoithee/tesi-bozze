{
 "cells": [
  {
   "cell_type": "code",
   "execution_count": 11,
   "id": "1cf0f242-3ad4-4a48-9112-8b501b4d86fa",
   "metadata": {},
   "outputs": [],
   "source": [
    "import inseq\n",
    "from inseq.commands.attribute_context.attribute_context import attribute_context_with_model, AttributeContextArgs\n",
    "import datasets\n",
    "from datasets import load_dataset\n",
    "from transformers import AutoTokenizer, AutoModelForCausalLM, BitsAndBytesConfig\n",
    "import json\n",
    "import torch\n",
    "import numpy as np\n",
    "import pandas as pd"
   ]
  },
  {
   "cell_type": "code",
   "execution_count": 12,
   "id": "0f7c88f7-cc13-497b-a30a-175f2d09e7a6",
   "metadata": {},
   "outputs": [
    {
     "data": {
      "application/vnd.jupyter.widget-view+json": {
       "model_id": "6d419006490b4dcaa403179a76cefcb9",
       "version_major": 2,
       "version_minor": 0
      },
      "text/plain": [
       "Loading checkpoint shards:   0%|          | 0/2 [00:00<?, ?it/s]"
      ]
     },
     "metadata": {},
     "output_type": "display_data"
    }
   ],
   "source": [
    "double_quant_config = BitsAndBytesConfig(load_in_4bit=True, bnb_4bit_use_double_quant=True)\n",
    "model_double_quant = AutoModelForCausalLM.from_pretrained(\"microsoft/Phi-3.5-mini-instruct\", quantization_config=double_quant_config)"
   ]
  },
  {
   "cell_type": "code",
   "execution_count": 13,
   "id": "5b8c34ca-bc57-42f0-abfb-6a981fd7d2b7",
   "metadata": {},
   "outputs": [
    {
     "name": "stderr",
     "output_type": "stream",
     "text": [
      "The model is loaded in 4bit mode. The device cannot be changed after loading the model.\n"
     ]
    }
   ],
   "source": [
    "inseq_model = inseq.load_model(\n",
    "    model_double_quant,\n",
    "    \"saliency\",\n",
    ")\n",
    "\n",
    "tokenizer = AutoTokenizer.from_pretrained(\"microsoft/Phi-3.5-mini-instruct\") "
   ]
  },
  {
   "cell_type": "code",
   "execution_count": 19,
   "id": "5a45a55a-c9a4-408d-8ddf-5488f2c40656",
   "metadata": {},
   "outputs": [
    {
     "data": {
      "text/html": [
       "<div>\n",
       "<style scoped>\n",
       "    .dataframe tbody tr th:only-of-type {\n",
       "        vertical-align: middle;\n",
       "    }\n",
       "\n",
       "    .dataframe tbody tr th {\n",
       "        vertical-align: top;\n",
       "    }\n",
       "\n",
       "    .dataframe thead th {\n",
       "        text-align: right;\n",
       "    }\n",
       "</style>\n",
       "<table border=\"1\" class=\"dataframe\">\n",
       "  <thead>\n",
       "    <tr style=\"text-align: right;\">\n",
       "      <th></th>\n",
       "      <th>Unnamed: 0</th>\n",
       "      <th>query_x</th>\n",
       "      <th>answer_x</th>\n",
       "      <th>options_x</th>\n",
       "      <th>sum_supports</th>\n",
       "      <th>supports</th>\n",
       "    </tr>\n",
       "  </thead>\n",
       "  <tbody>\n",
       "    <tr>\n",
       "      <th>0</th>\n",
       "      <td>0</td>\n",
       "      <td>What event did Juan Rossell participate in?</td>\n",
       "      <td>1996 summer olympics</td>\n",
       "      <td>['1996 summer olympics', 'olympic games', 'spo...</td>\n",
       "      <td>The 2004 Summer Olympic Games, held in Athens...</td>\n",
       "      <td>The 2004 Summer Olympic Games, officially know...</td>\n",
       "    </tr>\n",
       "    <tr>\n",
       "      <th>1</th>\n",
       "      <td>1</td>\n",
       "      <td>What languages did John Osteen speak or write?</td>\n",
       "      <td>english</td>\n",
       "      <td>['english', 'greek', 'koine greek', 'nahuatl',...</td>\n",
       "      <td>Christianity is a monotheistic religion based...</td>\n",
       "      <td>A Christian (or ) is a person who follows or a...</td>\n",
       "    </tr>\n",
       "    <tr>\n",
       "      <th>2</th>\n",
       "      <td>2</td>\n",
       "      <td>What is the parent taxon of Australosuchus?</td>\n",
       "      <td>crocodilia</td>\n",
       "      <td>['animal', 'area', 'crocodile', 'crocodilia', ...</td>\n",
       "      <td>Mekosuchinae was a subfamily of crocodiles th...</td>\n",
       "      <td>Mekosuchinae was a subfamily of crocodiles fro...</td>\n",
       "    </tr>\n",
       "    <tr>\n",
       "      <th>3</th>\n",
       "      <td>3</td>\n",
       "      <td>What is the'record_label method man' associate...</td>\n",
       "      <td>loud records</td>\n",
       "      <td>['1995', '1996', 'album', 'english', 'epic', '...</td>\n",
       "      <td>Wu-Tang Clan's debut album, \"Enter the Wu-Tan...</td>\n",
       "      <td>Enter the Wu-Tang (36 Chambers) is the debut s...</td>\n",
       "    </tr>\n",
       "    <tr>\n",
       "      <th>4</th>\n",
       "      <td>4</td>\n",
       "      <td>In which administrative territorial entity is ...</td>\n",
       "      <td>raipur district</td>\n",
       "      <td>['bangladesh', 'bhopal', 'bhutan', 'canada', '...</td>\n",
       "      <td>Chhattisgarh, a state in central India, is ri...</td>\n",
       "      <td>A province is almost always an administrative ...</td>\n",
       "    </tr>\n",
       "  </tbody>\n",
       "</table>\n",
       "</div>"
      ],
      "text/plain": [
       "   Unnamed: 0                                            query_x  \\\n",
       "0           0        What event did Juan Rossell participate in?   \n",
       "1           1     What languages did John Osteen speak or write?   \n",
       "2           2        What is the parent taxon of Australosuchus?   \n",
       "3           3  What is the'record_label method man' associate...   \n",
       "4           4  In which administrative territorial entity is ...   \n",
       "\n",
       "               answer_x                                          options_x  \\\n",
       "0  1996 summer olympics  ['1996 summer olympics', 'olympic games', 'spo...   \n",
       "1               english  ['english', 'greek', 'koine greek', 'nahuatl',...   \n",
       "2            crocodilia  ['animal', 'area', 'crocodile', 'crocodilia', ...   \n",
       "3          loud records  ['1995', '1996', 'album', 'english', 'epic', '...   \n",
       "4       raipur district  ['bangladesh', 'bhopal', 'bhutan', 'canada', '...   \n",
       "\n",
       "                                        sum_supports  \\\n",
       "0   The 2004 Summer Olympic Games, held in Athens...   \n",
       "1   Christianity is a monotheistic religion based...   \n",
       "2   Mekosuchinae was a subfamily of crocodiles th...   \n",
       "3   Wu-Tang Clan's debut album, \"Enter the Wu-Tan...   \n",
       "4   Chhattisgarh, a state in central India, is ri...   \n",
       "\n",
       "                                            supports  \n",
       "0  The 2004 Summer Olympic Games, officially know...  \n",
       "1  A Christian (or ) is a person who follows or a...  \n",
       "2  Mekosuchinae was a subfamily of crocodiles fro...  \n",
       "3  Enter the Wu-Tang (36 Chambers) is the debut s...  \n",
       "4  A province is almost always an administrative ...  "
      ]
     },
     "execution_count": 19,
     "metadata": {},
     "output_type": "execute_result"
    }
   ],
   "source": [
    "df.head()"
   ]
  },
  {
   "cell_type": "code",
   "execution_count": 3,
   "id": "ec9814d4-dc22-4b63-a792-606890872b7c",
   "metadata": {},
   "outputs": [
    {
     "data": {
      "application/vnd.jupyter.widget-view+json": {
       "model_id": "e0327aff196e45d8b3cf9791755c8306",
       "version_major": 2,
       "version_minor": 0
      },
      "text/plain": [
       "Loading checkpoint shards:   0%|          | 0/2 [00:00<?, ?it/s]"
      ]
     },
     "metadata": {},
     "output_type": "display_data"
    }
   ],
   "source": [
    "inseq_model = inseq.load_model(\n",
    "    \"microsoft/Phi-3-mini-4k-instruct\",\n",
    "    \"saliency\",\n",
    ")\n",
    "\n",
    "ds = load_dataset('saracandu/hotpotQA_nli', split= \"train\")\n",
    "\n",
    "tokenizer = AutoTokenizer.from_pretrained(\"microsoft/Phi-3-mini-4k-instruct\") "
   ]
  },
  {
   "cell_type": "code",
   "execution_count": 60,
   "id": "54634b2a-184b-4f21-af54-b3ebf0493c9a",
   "metadata": {},
   "outputs": [],
   "source": [
    "ds = load_dataset('saracandu/hotpotQA_nli', split= \"train\")"
   ]
  },
  {
   "cell_type": "code",
   "execution_count": 90,
   "id": "aa20aca4-bed0-423d-bc76-d43b7f41ac58",
   "metadata": {},
   "outputs": [
    {
     "data": {
      "text/html": [
       "<div>\n",
       "<style scoped>\n",
       "    .dataframe tbody tr th:only-of-type {\n",
       "        vertical-align: middle;\n",
       "    }\n",
       "\n",
       "    .dataframe tbody tr th {\n",
       "        vertical-align: top;\n",
       "    }\n",
       "\n",
       "    .dataframe thead th {\n",
       "        text-align: right;\n",
       "    }\n",
       "</style>\n",
       "<table border=\"1\" class=\"dataframe\">\n",
       "  <thead>\n",
       "    <tr style=\"text-align: right;\">\n",
       "      <th></th>\n",
       "      <th>Unnamed: 0</th>\n",
       "      <th>question</th>\n",
       "      <th>correct</th>\n",
       "      <th>alternative</th>\n",
       "      <th>type</th>\n",
       "      <th>level_y</th>\n",
       "      <th>selected_passages</th>\n",
       "    </tr>\n",
       "  </thead>\n",
       "  <tbody>\n",
       "    <tr>\n",
       "      <th>0</th>\n",
       "      <td>0</td>\n",
       "      <td>The Oberoi family is part of a hotel company t...</td>\n",
       "      <td>Delhi</td>\n",
       "      <td>Mumbai</td>\n",
       "      <td>bridge</td>\n",
       "      <td>medium</td>\n",
       "      <td>The Oberoi family is an Indian family that is ...</td>\n",
       "    </tr>\n",
       "    <tr>\n",
       "      <th>1</th>\n",
       "      <td>1</td>\n",
       "      <td>Musician and satirist Allie Goertz wrote a son...</td>\n",
       "      <td>President Richard Nixon</td>\n",
       "      <td>President Abraham Lincoln</td>\n",
       "      <td>bridge</td>\n",
       "      <td>hard</td>\n",
       "      <td>Allison Beth \"Allie\" Goertz (born March 2, 199...</td>\n",
       "    </tr>\n",
       "    <tr>\n",
       "      <th>2</th>\n",
       "      <td>2</td>\n",
       "      <td>What nationality was James Henry Miller's wife?</td>\n",
       "      <td>American</td>\n",
       "      <td>British</td>\n",
       "      <td>bridge</td>\n",
       "      <td>medium</td>\n",
       "      <td>James Henry Miller (25 January 1915 – 22 Octob...</td>\n",
       "    </tr>\n",
       "    <tr>\n",
       "      <th>3</th>\n",
       "      <td>3</td>\n",
       "      <td>Cadmium Chloride is slightly soluble in this c...</td>\n",
       "      <td>alcohol</td>\n",
       "      <td>Sodium Chloride</td>\n",
       "      <td>bridge</td>\n",
       "      <td>medium</td>\n",
       "      <td>Cadmium chloride is a white crystalline compou...</td>\n",
       "    </tr>\n",
       "    <tr>\n",
       "      <th>4</th>\n",
       "      <td>4</td>\n",
       "      <td>Which genus of moth in the world's seventh-lar...</td>\n",
       "      <td>Crambidae</td>\n",
       "      <td>Lepidoptera</td>\n",
       "      <td>bridge</td>\n",
       "      <td>hard</td>\n",
       "      <td>India, officially the Republic of India (\"Bhār...</td>\n",
       "    </tr>\n",
       "  </tbody>\n",
       "</table>\n",
       "</div>"
      ],
      "text/plain": [
       "   Unnamed: 0                                           question  \\\n",
       "0           0  The Oberoi family is part of a hotel company t...   \n",
       "1           1  Musician and satirist Allie Goertz wrote a son...   \n",
       "2           2    What nationality was James Henry Miller's wife?   \n",
       "3           3  Cadmium Chloride is slightly soluble in this c...   \n",
       "4           4  Which genus of moth in the world's seventh-lar...   \n",
       "\n",
       "                   correct                  alternative    type level_y  \\\n",
       "0                    Delhi                      Mumbai   bridge  medium   \n",
       "1  President Richard Nixon   President Abraham Lincoln   bridge    hard   \n",
       "2                 American                     British   bridge  medium   \n",
       "3                  alcohol             Sodium Chloride   bridge  medium   \n",
       "4                Crambidae                 Lepidoptera   bridge    hard   \n",
       "\n",
       "                                   selected_passages  \n",
       "0  The Oberoi family is an Indian family that is ...  \n",
       "1  Allison Beth \"Allie\" Goertz (born March 2, 199...  \n",
       "2  James Henry Miller (25 January 1915 – 22 Octob...  \n",
       "3  Cadmium chloride is a white crystalline compou...  \n",
       "4  India, officially the Republic of India (\"Bhār...  "
      ]
     },
     "execution_count": 90,
     "metadata": {},
     "output_type": "execute_result"
    }
   ],
   "source": [
    "df = pd.read_csv('hotpot_bridge.csv')\n",
    "\n",
    "df.head()"
   ]
  },
  {
   "cell_type": "code",
   "execution_count": 77,
   "id": "1a8d211a-fdad-4495-9813-d7b6a6a2620a",
   "metadata": {},
   "outputs": [],
   "source": [
    "# FUNZIONI AUSILIARIE VARIE\n",
    "\n",
    "def top_k_positions(input_context_scores, k):\n",
    "    # Convert the input array to a numpy array if it's not already\n",
    "    input_context_scores = np.array(input_context_scores)\n",
    "    \n",
    "    # Use argsort to get the indices of the top 8 highest elements\n",
    "    top_k_indices = np.argsort(input_context_scores)[-k:]\n",
    "    \n",
    "    # Reverse to get the indices in descending order of their values\n",
    "    top_k_indices = top_k_indices[::-1]\n",
    "    \n",
    "    return top_k_indices.tolist()\n",
    "\n",
    "# -------------------------------------------------------------------------\n",
    "\n",
    "def estrai_frasi_con_token(frasipositioni, posizioni_token):\n",
    "    # Creiamo un set per le posizioni dei token per una ricerca più veloce\n",
    "    set_posizioni_token = set(posizioni_token)\n",
    "    \n",
    "    # Lista per memorizzare le frasi di contesto\n",
    "    frasi_contesto = []\n",
    "    \n",
    "    for frase, inizio, fine in frasipositioni:\n",
    "        # Verifica se c'è almeno un token rilevante nell'intervallo [inizio, fine]\n",
    "        if any(token in set_posizioni_token for token in range(inizio, fine + 1)):\n",
    "            frasi_contesto.append(frase)\n",
    "    \n",
    "    return frasi_contesto\n",
    "\n",
    "# -------------------------------------------------------------------------\n",
    "\n",
    "def find_positions(vector, target=\"<0x0A>\"):\n",
    "    positions = []\n",
    "    for i, element in enumerate(vector):\n",
    "        if element == target:\n",
    "            positions.append(i)   \n",
    "    return positions\n",
    "\n",
    "# -------------------------------------------------------------------------\n",
    "\n",
    "def map_relative_positions(abs_positions, text):\n",
    "    temp = []\n",
    "    start = 0\n",
    "    for i in range(len(abs_positions)):\n",
    "        if i != 0: \n",
    "            start = abs_positions[i-1] + 1\n",
    "        temp.append([split_text(text)[i], start, abs_positions[i]])\n",
    "\n",
    "    return temp\n",
    "\n",
    "# -------------------------------------------------------------------------\n",
    "\n",
    "def select_passages(text_passage, question, p, out, tokens):\n",
    "    \n",
    "    num_of_sets = len(out.cci_scores)\n",
    "    \n",
    "    top_scores = []\n",
    "    for i in range(num_of_sets):\n",
    "        top_scores.extend(top_k_positions(out.cci_scores[i].input_context_scores, p))\n",
    "    positions = list(set(top_scores))\n",
    "\n",
    "    return '\\n'.join(estrai_frasi_con_token(map_relative_positions(find_positions(tokens), text_passage), positions))\n",
    " \n",
    "# -------------------------------------------------------------------------\n",
    "\n",
    "def split_text(text):\n",
    "    # Split the text on \". \" and return the resulting list\n",
    "    return text.split(\"\\n \")\n",
    "\n",
    "# -------------------------------------------------------------------------\n",
    "\n",
    "def invoke_pecore(text_passage, question, p):\n",
    "    pecore_args = AttributeContextArgs(\n",
    "        model_name_or_path=\"microsoft/Phi-3-mini-4k-instruct\",\n",
    "        attribution_method=\"saliency\",\n",
    "        attributed_fn=\"contrast_prob_diff\",\n",
    "        context_sensitivity_metric=\"kl_divergence\",\n",
    "        context_sensitivity_std_threshold=1,\n",
    "        context_sensitivity_topk = find_top_p(text_passage, p),\n",
    "        attribution_std_threshold=None,\n",
    "        attribution_topk=None,\n",
    "        input_current_text=question, \n",
    "        input_context_text=text_passage,\n",
    "        contextless_input_current_text=\"\"\"<|system|>\n",
    "    You are a helpful assistant that provide concise and accurate answers.<|end|>\n",
    "    <|user|>\n",
    "    {current}<|end|>\n",
    "    <|assistant|>\"\"\",\n",
    "        input_template=\"\"\"<|system|>\n",
    "    You are a helpful assistant that provide concise and accurate answers.<|end|>\n",
    "    <|user|>\n",
    "    {context}\n",
    "    \n",
    "    {current}<|end|>\n",
    "    <|assistant|>\"\"\",\n",
    "        contextless_output_current_text=\"\"\"{current}\"\"\",\n",
    "        output_template=\"{current}\",\n",
    "        special_tokens_to_keep=['<|system|>', '<|end|>', '<|assistant|>', '<|user|>'],\n",
    "        decoder_input_output_separator=\"\"\"\n",
    "    \"\"\",\n",
    "        save_path=None,\n",
    "        viz_path=None,\n",
    "        show_viz=False,\n",
    "        generation_kwargs={'max_new_tokens': 50},\n",
    "    )\n",
    "\n",
    "    out = attribute_context_with_model(pecore_args, inseq_model) \n",
    "    return out\n",
    "\n",
    "# -------------------------------------------------------------------------\n",
    "\n",
    "def find_top_p(text_passage, p):\n",
    "    \n",
    "    tokens = tokenizer.tokenize(text_passage)\n",
    "    num_topk_tokens = int(p/100 * len(tokens)) \n",
    "\n",
    "    return num_topk_tokens"
   ]
  },
  {
   "cell_type": "code",
   "execution_count": 88,
   "id": "bc8f7cff-b58f-457c-9f1c-b4d4bc4319c0",
   "metadata": {},
   "outputs": [],
   "source": [
    "def run(question, passage, p):\n",
    "    \n",
    "    tokens = tokenizer.tokenize(passage)\n",
    "    out = invoke_pecore(passage, question, p)\n",
    "    return select_passages(passage, question, p, out, tokens)"
   ]
  },
  {
   "cell_type": "code",
   "execution_count": 62,
   "id": "7a6cf0c2-99bb-49dc-ac90-af2d6bbb6022",
   "metadata": {},
   "outputs": [],
   "source": [
    "test = invoke_pecore(ds['question'][1], ds['passages'][1], 5, )"
   ]
  },
  {
   "cell_type": "code",
   "execution_count": 63,
   "id": "2787f07d-8992-4c6b-a417-da30872a6141",
   "metadata": {},
   "outputs": [
    {
     "name": "stdout",
     "output_type": "stream",
     "text": [
      "[0.07125589996576309, 0.0755460113286972, 0.053215391933918, 0.08854875713586807, 0.08749596029520035, 0.03789963945746422, 0.031167736276984215, 0.08002915978431702, 0.06544961780309677, 0.0791502371430397, 0.03600878641009331, 0.0393093079328537, 0.05297643691301346, 0.09505551308393478, 0.036038074642419815, 0.04878504201769829, 0.029188279062509537, 0.07565844058990479, 0.04307213053107262]\n"
     ]
    }
   ],
   "source": [
    "print(test.cci_scores[0].input_context_scores)"
   ]
  },
  {
   "cell_type": "code",
   "execution_count": 89,
   "id": "73c0a2af-230a-4816-bff5-efec8df2e831",
   "metadata": {},
   "outputs": [
    {
     "data": {
      "text/plain": [
       "'Allison Beth \"Allie\" Goertz (born March 2, 1991) is an American musician.\\nGoertz is known for her satirical songs based on various pop culture topics.\\nSubjects of her songs have included the film \"The Room\", the character Milhouse from the television show \"The Simpsons\", and the game Dungeons & Dragons.\\nHer style has been compared to that of Bo Burnham.\\nIn December 2015, Goertz released a concept album based on the Adult Swim series \"Rick and Morty\", \"Sad Dance Songs\", with the album\\'s cover emulating the animation and logo of the series.\\nShe is co-host of Everything\\'s Coming Up Podcast, a Simpsons-focused podcast along with Julia Prescott. Milhouse Mussolini van Houten is a fictional character featured in the animated television series \"The Simpsons\", voiced by Pamela Hayden, and created by Matt Groening who named the character after President Richard Nixon\\'s middle name.'"
      ]
     },
     "execution_count": 89,
     "metadata": {},
     "output_type": "execute_result"
    }
   ],
   "source": [
    "run(df['question'][1], df['selected_passages'][1], 5)"
   ]
  },
  {
   "cell_type": "code",
   "execution_count": 84,
   "id": "3107ac96-683c-412d-b29b-fd73d9b5f308",
   "metadata": {},
   "outputs": [
    {
     "name": "stdout",
     "output_type": "stream",
     "text": [
      "[]\n"
     ]
    }
   ],
   "source": [
    "num_of_sets = len(test.cci_scores)\n",
    "    \n",
    "top_scores = []\n",
    "for i in range(num_of_sets):\n",
    "    top_scores.extend(top_k_positions(test.cci_scores[i].input_context_scores, 5))\n",
    "positions = list(set(top_scores))\n",
    "\n",
    "tokens = tokenizer.tokenize(df['support'][1])\n",
    "print(find_positions(tokens))\n",
    "# estrai_frasi_con_token(map_relative_positions(find_positions(tokens), df['support'][1]), positions)"
   ]
  },
  {
   "cell_type": "code",
   "execution_count": 93,
   "id": "32bf00f2-ea72-4797-94d2-7dedd016c470",
   "metadata": {},
   "outputs": [
    {
     "data": {
      "text/plain": [
       "['Allison Beth \"Allie\" Goertz (born March 2, 1991) is an American musician.',\n",
       " 'Goertz is known for her satirical songs based on various pop culture topics.']"
      ]
     },
     "execution_count": 93,
     "metadata": {},
     "output_type": "execute_result"
    }
   ],
   "source": [
    "tokens = tokenizer.tokenize(df['selected_passages'][1])\n",
    "select_passages2(df['selected_passages'][1], df['question'][1], 5, test, tokens)"
   ]
  },
  {
   "cell_type": "code",
   "execution_count": 94,
   "id": "4d32b2c8-16c0-44bc-9348-49b5e04dd692",
   "metadata": {},
   "outputs": [
    {
     "data": {
      "text/plain": [
       "'Allison Beth \"Allie\" Goertz (born March 2, 1991) is an American musician.\\nGoertz is known for her satirical songs based on various pop culture topics.\\nSubjects of her songs have included the film \"The Room\", the character Milhouse from the television show \"The Simpsons\", and the game Dungeons & Dragons.\\nHer style has been compared to that of Bo Burnham.\\nIn December 2015, Goertz released a concept album based on the Adult Swim series \"Rick and Morty\", \"Sad Dance Songs\", with the album\\'s cover emulating the animation and logo of the series.\\nShe is co-host of Everything\\'s Coming Up Podcast, a Simpsons-focused podcast along with Julia Prescott. Milhouse Mussolini van Houten is a fictional character featured in the animated television series \"The Simpsons\", voiced by Pamela Hayden, and created by Matt Groening who named the character after President Richard Nixon\\'s middle name.'"
      ]
     },
     "execution_count": 94,
     "metadata": {},
     "output_type": "execute_result"
    }
   ],
   "source": [
    "run(df['question'][1], df['selected_passages'][1], 5)"
   ]
  },
  {
   "cell_type": "code",
   "execution_count": 85,
   "id": "eab1cc8a-51c7-43f5-a4d0-fa4b9b3655c4",
   "metadata": {},
   "outputs": [
    {
     "data": {
      "text/plain": [
       "['Allison Beth \"Allie\" Goertz (born March 2, 1991) is an American musician.  Goertz is known for her satirical songs based on various pop culture topics.  Her videos are posted on YouTube under the name of Cossbysweater.  Subjects of her songs have included the film \"The Room\", the character Milhouse from the television show \"The Simpsons\", and the game Dungeons & Dragons.  Her style has been compared to that of Bo Burnham.  In December 2015, Goertz released a concept album based on the Adult Swim series \"Rick and Morty\", \"Sad Dance Songs\", with the album\\'s cover emulating the animation and logo of the series.  The album was made possible through Kickstarter.  She is co-host of Everything\\'s Coming Up Podcast, a Simpsons-focused podcast along with Julia Prescott. Milhouse Mussolini van Houten is a fictional character featured in the animated television series \"The Simpsons\", voiced by Pamela Hayden, and created by Matt Groening who named the character after President Richard Nixon\\'s middle name.  Later in the series, it is revealed that Milhouse\\'s middle name is \"Mussolini.\"']"
      ]
     },
     "execution_count": 85,
     "metadata": {},
     "output_type": "execute_result"
    }
   ],
   "source": [
    "split_text(df['support'][1])"
   ]
  },
  {
   "cell_type": "code",
   "execution_count": 23,
   "id": "c7cd8a7c-80fc-47e1-b329-9da06b073f48",
   "metadata": {},
   "outputs": [],
   "source": [
    "df = {\n",
    "    'question': ds['question'][:5],\n",
    "    'answer': ds['answer'][:5],\n",
    "    'options': ds['options'][:5],\n",
    "    'original_passages': ds['passages'][:5],\n",
    "    'new_passages': selected_passages\n",
    "}"
   ]
  },
  {
   "cell_type": "code",
   "execution_count": 27,
   "id": "1423e55e-a806-4f42-aba8-a8a178a13b04",
   "metadata": {},
   "outputs": [
    {
     "data": {
      "text/html": [
       "<div>\n",
       "<style scoped>\n",
       "    .dataframe tbody tr th:only-of-type {\n",
       "        vertical-align: middle;\n",
       "    }\n",
       "\n",
       "    .dataframe tbody tr th {\n",
       "        vertical-align: top;\n",
       "    }\n",
       "\n",
       "    .dataframe thead th {\n",
       "        text-align: right;\n",
       "    }\n",
       "</style>\n",
       "<table border=\"1\" class=\"dataframe\">\n",
       "  <thead>\n",
       "    <tr style=\"text-align: right;\">\n",
       "      <th></th>\n",
       "      <th>question</th>\n",
       "      <th>answer</th>\n",
       "      <th>options</th>\n",
       "      <th>original_passages</th>\n",
       "      <th>new_passages</th>\n",
       "    </tr>\n",
       "  </thead>\n",
       "  <tbody>\n",
       "    <tr>\n",
       "      <th>0</th>\n",
       "      <td>Which magazine was started first, Arthur's Mag...</td>\n",
       "      <td>Arthur's Magazine</td>\n",
       "      <td>[\"Arthur's Magazine\", 'First for Women']</td>\n",
       "      <td>Arthur's Magazine (1844–1846) was an American ...</td>\n",
       "      <td>Arthur's Magazine (1844–1846) was an American ...</td>\n",
       "    </tr>\n",
       "    <tr>\n",
       "      <th>1</th>\n",
       "      <td>Which tennis player won more Grand Slam titles...</td>\n",
       "      <td>Jonathan Stark</td>\n",
       "      <td>['Henri Leconte', 'Jonathan Stark']</td>\n",
       "      <td>Henri Leconte (born 4 July 1963) is a former F...</td>\n",
       "      <td>Henri Leconte (born 4 July 1963) is a former F...</td>\n",
       "    </tr>\n",
       "    <tr>\n",
       "      <th>2</th>\n",
       "      <td>Which band was founded first, Hole (the rock b...</td>\n",
       "      <td>The Wolfhounds</td>\n",
       "      <td>['The Wolfhounds', 'Courtney Love']</td>\n",
       "      <td>The Wolfhounds are an indie pop/noise pop band...</td>\n",
       "      <td>The Wolfhounds are an indie pop/noise pop band...</td>\n",
       "    </tr>\n",
       "    <tr>\n",
       "      <th>3</th>\n",
       "      <td>Were Pavel Urysohn and Leonid Levin known for ...</td>\n",
       "      <td>no</td>\n",
       "      <td>['yes', 'no']</td>\n",
       "      <td>Leonid Anatolievich Levin ( ; Russian: Леони́д...</td>\n",
       "      <td>Leonid Anatolievich Levin ( ; Russian: Леони́д...</td>\n",
       "    </tr>\n",
       "    <tr>\n",
       "      <th>4</th>\n",
       "      <td>Are both The New Pornographers and Kings of Le...</td>\n",
       "      <td>yes</td>\n",
       "      <td>['yes', 'no']</td>\n",
       "      <td>Kings of Leon is an American rock band that fo...</td>\n",
       "      <td>Kings of Leon is an American rock band that fo...</td>\n",
       "    </tr>\n",
       "  </tbody>\n",
       "</table>\n",
       "</div>"
      ],
      "text/plain": [
       "                                            question             answer  \\\n",
       "0  Which magazine was started first, Arthur's Mag...  Arthur's Magazine   \n",
       "1  Which tennis player won more Grand Slam titles...     Jonathan Stark   \n",
       "2  Which band was founded first, Hole (the rock b...     The Wolfhounds   \n",
       "3  Were Pavel Urysohn and Leonid Levin known for ...                 no   \n",
       "4  Are both The New Pornographers and Kings of Le...                yes   \n",
       "\n",
       "                                    options  \\\n",
       "0  [\"Arthur's Magazine\", 'First for Women']   \n",
       "1       ['Henri Leconte', 'Jonathan Stark']   \n",
       "2       ['The Wolfhounds', 'Courtney Love']   \n",
       "3                             ['yes', 'no']   \n",
       "4                             ['yes', 'no']   \n",
       "\n",
       "                                   original_passages  \\\n",
       "0  Arthur's Magazine (1844–1846) was an American ...   \n",
       "1  Henri Leconte (born 4 July 1963) is a former F...   \n",
       "2  The Wolfhounds are an indie pop/noise pop band...   \n",
       "3  Leonid Anatolievich Levin ( ; Russian: Леони́д...   \n",
       "4  Kings of Leon is an American rock band that fo...   \n",
       "\n",
       "                                        new_passages  \n",
       "0  Arthur's Magazine (1844–1846) was an American ...  \n",
       "1  Henri Leconte (born 4 July 1963) is a former F...  \n",
       "2  The Wolfhounds are an indie pop/noise pop band...  \n",
       "3  Leonid Anatolievich Levin ( ; Russian: Леони́д...  \n",
       "4  Kings of Leon is an American rock band that fo...  "
      ]
     },
     "execution_count": 27,
     "metadata": {},
     "output_type": "execute_result"
    }
   ],
   "source": [
    "df = pd.DataFrame(df)\n",
    "df.head()"
   ]
  },
  {
   "cell_type": "code",
   "execution_count": null,
   "id": "00f8e7ec-fa93-4af3-96b8-0b3815e21eb5",
   "metadata": {},
   "outputs": [],
   "source": []
  }
 ],
 "metadata": {
  "kernelspec": {
   "display_name": "Python 3 (ipykernel)",
   "language": "python",
   "name": "python3"
  },
  "language_info": {
   "codemirror_mode": {
    "name": "ipython",
    "version": 3
   },
   "file_extension": ".py",
   "mimetype": "text/x-python",
   "name": "python",
   "nbconvert_exporter": "python",
   "pygments_lexer": "ipython3",
   "version": "3.9.18"
  }
 },
 "nbformat": 4,
 "nbformat_minor": 5
}
